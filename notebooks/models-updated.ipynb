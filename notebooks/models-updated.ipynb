{
 "cells": [
  {
   "cell_type": "markdown",
   "id": "6cbb558c-2900-4a40-a2ad-544fd1271265",
   "metadata": {},
   "source": [
    "## Importing Libraries"
   ]
  },
  {
   "cell_type": "code",
   "execution_count": 4,
   "id": "a6bf1b4c-7e9e-48c1-9abe-9659dff39f5f",
   "metadata": {},
   "outputs": [],
   "source": [
    "import warnings\n",
    "warnings.simplefilter(action='ignore', category=FutureWarning)"
   ]
  },
  {
   "cell_type": "code",
   "execution_count": 6,
   "id": "7c6280d0-9e4f-4271-a977-28f25eff60ed",
   "metadata": {},
   "outputs": [],
   "source": [
    "import pandas as pd\n",
    "import numpy as np\n",
    "from sklearn.model_selection import train_test_split\n",
    "import seaborn as sns\n",
    "from imblearn.over_sampling import SMOTE, ADASYN\n",
    "import matplotlib.pyplot as plt"
   ]
  },
  {
   "cell_type": "markdown",
   "id": "6fe36c23-4168-4eb1-a914-ebfa773d4652",
   "metadata": {},
   "source": [
    "## Loading the Data"
   ]
  },
  {
   "cell_type": "code",
   "execution_count": 7,
   "id": "800c9f84-1bf7-469a-a199-69a404f43056",
   "metadata": {},
   "outputs": [],
   "source": [
    "data = pd.read_csv('../data/Cleaned_data.csv', index_col=0)"
   ]
  },
  {
   "cell_type": "code",
   "execution_count": 9,
   "id": "36ce91fd-111f-4aaf-bd75-50fe6d6c9600",
   "metadata": {},
   "outputs": [
    {
     "data": {
      "text/html": [
       "<div>\n",
       "<style scoped>\n",
       "    .dataframe tbody tr th:only-of-type {\n",
       "        vertical-align: middle;\n",
       "    }\n",
       "\n",
       "    .dataframe tbody tr th {\n",
       "        vertical-align: top;\n",
       "    }\n",
       "\n",
       "    .dataframe thead th {\n",
       "        text-align: right;\n",
       "    }\n",
       "</style>\n",
       "<table border=\"1\" class=\"dataframe\">\n",
       "  <thead>\n",
       "    <tr style=\"text-align: right;\">\n",
       "      <th></th>\n",
       "      <th>Time</th>\n",
       "      <th>V1</th>\n",
       "      <th>V2</th>\n",
       "      <th>V3</th>\n",
       "      <th>V4</th>\n",
       "      <th>V5</th>\n",
       "      <th>V6</th>\n",
       "      <th>V7</th>\n",
       "      <th>V8</th>\n",
       "      <th>V9</th>\n",
       "      <th>...</th>\n",
       "      <th>V21</th>\n",
       "      <th>V22</th>\n",
       "      <th>V23</th>\n",
       "      <th>V24</th>\n",
       "      <th>V25</th>\n",
       "      <th>V26</th>\n",
       "      <th>V27</th>\n",
       "      <th>V28</th>\n",
       "      <th>Amount</th>\n",
       "      <th>Class</th>\n",
       "    </tr>\n",
       "  </thead>\n",
       "  <tbody>\n",
       "    <tr>\n",
       "      <th>0</th>\n",
       "      <td>0.0</td>\n",
       "      <td>-1.359807</td>\n",
       "      <td>-0.072781</td>\n",
       "      <td>2.536347</td>\n",
       "      <td>1.378155</td>\n",
       "      <td>-0.338321</td>\n",
       "      <td>0.462388</td>\n",
       "      <td>0.239599</td>\n",
       "      <td>0.098698</td>\n",
       "      <td>0.363787</td>\n",
       "      <td>...</td>\n",
       "      <td>-0.018307</td>\n",
       "      <td>0.277838</td>\n",
       "      <td>-0.110474</td>\n",
       "      <td>0.066928</td>\n",
       "      <td>0.128539</td>\n",
       "      <td>-0.189115</td>\n",
       "      <td>0.133558</td>\n",
       "      <td>-0.021053</td>\n",
       "      <td>149.62</td>\n",
       "      <td>0</td>\n",
       "    </tr>\n",
       "    <tr>\n",
       "      <th>1</th>\n",
       "      <td>0.0</td>\n",
       "      <td>1.191857</td>\n",
       "      <td>0.266151</td>\n",
       "      <td>0.166480</td>\n",
       "      <td>0.448154</td>\n",
       "      <td>0.060018</td>\n",
       "      <td>-0.082361</td>\n",
       "      <td>-0.078803</td>\n",
       "      <td>0.085102</td>\n",
       "      <td>-0.255425</td>\n",
       "      <td>...</td>\n",
       "      <td>-0.225775</td>\n",
       "      <td>-0.638672</td>\n",
       "      <td>0.101288</td>\n",
       "      <td>-0.339846</td>\n",
       "      <td>0.167170</td>\n",
       "      <td>0.125895</td>\n",
       "      <td>-0.008983</td>\n",
       "      <td>0.014724</td>\n",
       "      <td>2.69</td>\n",
       "      <td>0</td>\n",
       "    </tr>\n",
       "    <tr>\n",
       "      <th>2</th>\n",
       "      <td>1.0</td>\n",
       "      <td>-1.358354</td>\n",
       "      <td>-1.340163</td>\n",
       "      <td>1.773209</td>\n",
       "      <td>0.379780</td>\n",
       "      <td>-0.503198</td>\n",
       "      <td>1.800499</td>\n",
       "      <td>0.791461</td>\n",
       "      <td>0.247676</td>\n",
       "      <td>-1.514654</td>\n",
       "      <td>...</td>\n",
       "      <td>0.247998</td>\n",
       "      <td>0.771679</td>\n",
       "      <td>0.909412</td>\n",
       "      <td>-0.689281</td>\n",
       "      <td>-0.327642</td>\n",
       "      <td>-0.139097</td>\n",
       "      <td>-0.055353</td>\n",
       "      <td>-0.059752</td>\n",
       "      <td>378.66</td>\n",
       "      <td>0</td>\n",
       "    </tr>\n",
       "    <tr>\n",
       "      <th>3</th>\n",
       "      <td>1.0</td>\n",
       "      <td>-0.966272</td>\n",
       "      <td>-0.185226</td>\n",
       "      <td>1.792993</td>\n",
       "      <td>-0.863291</td>\n",
       "      <td>-0.010309</td>\n",
       "      <td>1.247203</td>\n",
       "      <td>0.237609</td>\n",
       "      <td>0.377436</td>\n",
       "      <td>-1.387024</td>\n",
       "      <td>...</td>\n",
       "      <td>-0.108300</td>\n",
       "      <td>0.005274</td>\n",
       "      <td>-0.190321</td>\n",
       "      <td>-1.175575</td>\n",
       "      <td>0.647376</td>\n",
       "      <td>-0.221929</td>\n",
       "      <td>0.062723</td>\n",
       "      <td>0.061458</td>\n",
       "      <td>123.50</td>\n",
       "      <td>0</td>\n",
       "    </tr>\n",
       "    <tr>\n",
       "      <th>4</th>\n",
       "      <td>2.0</td>\n",
       "      <td>-1.158233</td>\n",
       "      <td>0.877737</td>\n",
       "      <td>1.548718</td>\n",
       "      <td>0.403034</td>\n",
       "      <td>-0.407193</td>\n",
       "      <td>0.095921</td>\n",
       "      <td>0.592941</td>\n",
       "      <td>-0.270533</td>\n",
       "      <td>0.817739</td>\n",
       "      <td>...</td>\n",
       "      <td>-0.009431</td>\n",
       "      <td>0.798278</td>\n",
       "      <td>-0.137458</td>\n",
       "      <td>0.141267</td>\n",
       "      <td>-0.206010</td>\n",
       "      <td>0.502292</td>\n",
       "      <td>0.219422</td>\n",
       "      <td>0.215153</td>\n",
       "      <td>69.99</td>\n",
       "      <td>0</td>\n",
       "    </tr>\n",
       "  </tbody>\n",
       "</table>\n",
       "<p>5 rows × 31 columns</p>\n",
       "</div>"
      ],
      "text/plain": [
       "   Time        V1        V2        V3        V4        V5        V6        V7  \\\n",
       "0   0.0 -1.359807 -0.072781  2.536347  1.378155 -0.338321  0.462388  0.239599   \n",
       "1   0.0  1.191857  0.266151  0.166480  0.448154  0.060018 -0.082361 -0.078803   \n",
       "2   1.0 -1.358354 -1.340163  1.773209  0.379780 -0.503198  1.800499  0.791461   \n",
       "3   1.0 -0.966272 -0.185226  1.792993 -0.863291 -0.010309  1.247203  0.237609   \n",
       "4   2.0 -1.158233  0.877737  1.548718  0.403034 -0.407193  0.095921  0.592941   \n",
       "\n",
       "         V8        V9  ...       V21       V22       V23       V24       V25  \\\n",
       "0  0.098698  0.363787  ... -0.018307  0.277838 -0.110474  0.066928  0.128539   \n",
       "1  0.085102 -0.255425  ... -0.225775 -0.638672  0.101288 -0.339846  0.167170   \n",
       "2  0.247676 -1.514654  ...  0.247998  0.771679  0.909412 -0.689281 -0.327642   \n",
       "3  0.377436 -1.387024  ... -0.108300  0.005274 -0.190321 -1.175575  0.647376   \n",
       "4 -0.270533  0.817739  ... -0.009431  0.798278 -0.137458  0.141267 -0.206010   \n",
       "\n",
       "        V26       V27       V28  Amount  Class  \n",
       "0 -0.189115  0.133558 -0.021053  149.62      0  \n",
       "1  0.125895 -0.008983  0.014724    2.69      0  \n",
       "2 -0.139097 -0.055353 -0.059752  378.66      0  \n",
       "3 -0.221929  0.062723  0.061458  123.50      0  \n",
       "4  0.502292  0.219422  0.215153   69.99      0  \n",
       "\n",
       "[5 rows x 31 columns]"
      ]
     },
     "execution_count": 9,
     "metadata": {},
     "output_type": "execute_result"
    }
   ],
   "source": [
    "data.head()"
   ]
  },
  {
   "cell_type": "code",
   "execution_count": 12,
   "id": "d2463ffd-8100-4c5f-bb48-2a100f6207dd",
   "metadata": {},
   "outputs": [
    {
     "name": "stdout",
     "output_type": "stream",
     "text": [
      "<class 'pandas.core.frame.DataFrame'>\n",
      "Index: 283726 entries, 0 to 284806\n",
      "Data columns (total 31 columns):\n",
      " #   Column  Non-Null Count   Dtype  \n",
      "---  ------  --------------   -----  \n",
      " 0   Time    283726 non-null  float64\n",
      " 1   V1      283726 non-null  float64\n",
      " 2   V2      283726 non-null  float64\n",
      " 3   V3      283726 non-null  float64\n",
      " 4   V4      283726 non-null  float64\n",
      " 5   V5      283726 non-null  float64\n",
      " 6   V6      283726 non-null  float64\n",
      " 7   V7      283726 non-null  float64\n",
      " 8   V8      283726 non-null  float64\n",
      " 9   V9      283726 non-null  float64\n",
      " 10  V10     283726 non-null  float64\n",
      " 11  V11     283726 non-null  float64\n",
      " 12  V12     283726 non-null  float64\n",
      " 13  V13     283726 non-null  float64\n",
      " 14  V14     283726 non-null  float64\n",
      " 15  V15     283726 non-null  float64\n",
      " 16  V16     283726 non-null  float64\n",
      " 17  V17     283726 non-null  float64\n",
      " 18  V18     283726 non-null  float64\n",
      " 19  V19     283726 non-null  float64\n",
      " 20  V20     283726 non-null  float64\n",
      " 21  V21     283726 non-null  float64\n",
      " 22  V22     283726 non-null  float64\n",
      " 23  V23     283726 non-null  float64\n",
      " 24  V24     283726 non-null  float64\n",
      " 25  V25     283726 non-null  float64\n",
      " 26  V26     283726 non-null  float64\n",
      " 27  V27     283726 non-null  float64\n",
      " 28  V28     283726 non-null  float64\n",
      " 29  Amount  283726 non-null  float64\n",
      " 30  Class   283726 non-null  int64  \n",
      "dtypes: float64(30), int64(1)\n",
      "memory usage: 69.3 MB\n"
     ]
    }
   ],
   "source": [
    "data.info()"
   ]
  },
  {
   "cell_type": "markdown",
   "id": "1c8250df-8cc9-48c7-a6fb-7e4dda8e3945",
   "metadata": {},
   "source": [
    "## Fitting the Data\n",
    "In this section the data will be fitted to three types of models:\n",
    "1. Logistic Regression\n",
    "2. Decision Trees\n",
    "3. Neural Network\n",
    "\n",
    "Based on the findings from the data analysis that the classes are imbalanced, each technique will be fitted to three data samples:\n",
    "1. The original data\n",
    "2. Resampling using Synthetic Minority Oversampling Technique (SMOTE)\n",
    "3. Resampling using Adaptive Synthetic (ADASYN)\n",
    "\n",
    "Both the SMOTE and the ADASYN oversampling methods are used to address the problem of imbalanced class - where the one class significantly outnumbers the other. These oversampling methods aim to balance the class distribution."
   ]
  },
  {
   "cell_type": "markdown",
   "id": "83ddd5ca-a8ff-4660-91b6-3459d4d1a07c",
   "metadata": {},
   "source": [
    "#### Creating the Samples"
   ]
  },
  {
   "cell_type": "code",
   "execution_count": 15,
   "id": "c43b12e2-e46d-4bd4-93d9-5377a69e6aa9",
   "metadata": {},
   "outputs": [],
   "source": [
    "X = data.drop('Class',axis=1)\n",
    "y = data['Class']"
   ]
  },
  {
   "cell_type": "markdown",
   "id": "8c0fd67e-0850-4f99-9d0c-4f81ea98b282",
   "metadata": {},
   "source": [
    "##### 1) Original Data"
   ]
  },
  {
   "cell_type": "code",
   "execution_count": 18,
   "id": "a21f35f8-f43b-461c-a02e-50892e974a88",
   "metadata": {},
   "outputs": [],
   "source": [
    "X_train, X_valtest, y_train, y_valtest = train_test_split(X, y,\n",
    "                                                    test_size=0.30, \n",
    "                                                    random_state=46)"
   ]
  },
  {
   "cell_type": "code",
   "execution_count": 20,
   "id": "6ecbd697-d65f-42e3-8814-1dc0564192f0",
   "metadata": {},
   "outputs": [],
   "source": [
    "X_val, X_test, y_val, y_test = train_test_split(X_valtest, y_valtest,\n",
    "                                                    test_size=0.50, \n",
    "                                                    random_state=46)"
   ]
  },
  {
   "cell_type": "code",
   "execution_count": 22,
   "id": "60bc5ad7-d6e3-46cd-bfdb-26c9315feab6",
   "metadata": {},
   "outputs": [
    {
     "name": "stdout",
     "output_type": "stream",
     "text": [
      "Train: 198608, should be 198608.20. Which is 70.00% of the dataset\n",
      "Val: 198608, should be 42558.90.  Which is 15.00% of the dataset\n",
      "Test: 42559, should be 42558.90.  Which is 15.00% of the dataset\n"
     ]
    }
   ],
   "source": [
    "len = X.shape[0]\n",
    "print(f\"Train: {X_train.shape[0]}, should be {len*0.7:.2f}. Which is {X_train.shape[0]/len*100:.2f}% of the dataset\")\n",
    "print(f\"Val: {X_train.shape[0]}, should be {len*0.15:.2f}.  Which is {X_val.shape[0]/len*100:.2f}% of the dataset\")\n",
    "print(f\"Test: {X_test.shape[0]}, should be {len*0.15:.2f}.  Which is {X_test.shape[0]/len*100:.2f}% of the dataset\")"
   ]
  },
  {
   "cell_type": "markdown",
   "id": "89c3ffd9-ba32-4455-adcc-65e475da79d5",
   "metadata": {},
   "source": [
    "##### 2) Resampling using SMOTE"
   ]
  },
  {
   "cell_type": "code",
   "execution_count": 24,
   "id": "2584c0a5-94f2-4b06-b519-cd19ce7ad4c5",
   "metadata": {},
   "outputs": [],
   "source": [
    "X_val2, X_test2, y_val2, y_test2 = X_val, X_test, y_val, y_test"
   ]
  },
  {
   "cell_type": "code",
   "execution_count": 26,
   "id": "8f7890a6-18ac-49f7-a13b-3bee5a1ae889",
   "metadata": {},
   "outputs": [],
   "source": [
    "X_train2, y_train2 = SMOTE(random_state=46).fit_resample(X_train, y_train)"
   ]
  },
  {
   "cell_type": "code",
   "execution_count": 28,
   "id": "584a80ff-f64f-4742-bc9f-6d07c4c7d593",
   "metadata": {},
   "outputs": [],
   "source": [
    "sns.set_style('whitegrid')\n",
    "sns.set_palette('RdBu_r')\n",
    "custom_palette = sns.color_palette('RdBu_r', n_colors=10)\n",
    "colour1, colour2 = custom_palette[2], custom_palette[8]"
   ]
  },
  {
   "cell_type": "code",
   "execution_count": 30,
   "id": "aa4f8223-0a55-4527-a8f7-060398158594",
   "metadata": {},
   "outputs": [
    {
     "data": {
      "image/png": "[encoded data removed]",
      "text/plain": [
       "<Figure size 640x480 with 1 Axes>"
      ]
     },
     "metadata": {},
     "output_type": "display_data"
    }
   ],
   "source": [
    "g = sns.countplot(data=pd.DataFrame(y_train2), x='Class', palette=[colour1, colour2])\n",
    "g.set_ylabel('Count')\n",
    "g.set_xlabel('Transactions')\n",
    "g.set_xticklabels(['Non-Fraudulent','Fraudulent'], fontsize=10);"
   ]
  },
  {
   "cell_type": "code",
   "execution_count": 32,
   "id": "27b3d677-313b-4d32-8719-5e5e770c6899",
   "metadata": {},
   "outputs": [],
   "source": [
    "g.figure.savefig('../assets/cnt_plt_classes_SMOTE', dpi=300, bbox_inches='tight')"
   ]
  },
  {
   "cell_type": "code",
   "execution_count": 34,
   "id": "dfb53292-6d30-4b65-a53a-1dad13fd5d15",
   "metadata": {},
   "outputs": [
    {
     "data": {
      "text/plain": [
       "Class\n",
       "0        198271\n",
       "1        198271\n",
       "Name: count, dtype: int64"
      ]
     },
     "execution_count": 34,
     "metadata": {},
     "output_type": "execute_result"
    }
   ],
   "source": [
    "pd.DataFrame(y_train2).value_counts()"
   ]
  },
  {
   "cell_type": "markdown",
   "id": "9d107e92-3766-41de-a8d8-aeec2a044428",
   "metadata": {},
   "source": [
    "##### 3) Resampling using ADASYN"
   ]
  },
  {
   "cell_type": "code",
   "execution_count": 36,
   "id": "d3f1117c-5200-4125-83ce-e9ec49e0f47b",
   "metadata": {},
   "outputs": [],
   "source": [
    "X_val3, X_test3, y_val3, y_test3 = X_val, X_test, y_val, y_test"
   ]
  },
  {
   "cell_type": "code",
   "execution_count": 38,
   "id": "d62afa24-ea36-49a4-8609-da5029f7692f",
   "metadata": {},
   "outputs": [],
   "source": [
    "X_train3, y_train3 = ADASYN(random_state=46).fit_resample(X_train, y_train)"
   ]
  },
  {
   "cell_type": "code",
   "execution_count": 40,
   "id": "98638a5d-4de7-4766-97f0-104caacc80bb",
   "metadata": {},
   "outputs": [
    {
     "data": {
      "image/png": "[encoded data removed]",
      "text/plain": [
       "<Figure size 640x480 with 1 Axes>"
      ]
     },
     "metadata": {},
     "output_type": "display_data"
    }
   ],
   "source": [
    "f = sns.countplot(data=pd.DataFrame(y_train3), x='Class', palette=[colour1, colour2])\n",
    "f.set_ylabel('Count')\n",
    "f.set_xlabel('Transactions')\n",
    "f.set_xticklabels(['Non-Fraudulent','Fraudulent'], fontsize=10);"
   ]
  },
  {
   "cell_type": "code",
   "execution_count": 42,
   "id": "09d439b6-0019-4d21-8191-10c580bae697",
   "metadata": {},
   "outputs": [],
   "source": [
    "f.figure.savefig('../assets/cnt_plt_classes_ADASYN', dpi=300, bbox_inches='tight')"
   ]
  },
  {
   "cell_type": "code",
   "execution_count": 44,
   "id": "4d4e5c89-0165-4cc1-b745-8dd28729f70d",
   "metadata": {},
   "outputs": [
    {
     "data": {
      "text/plain": [
       "Class\n",
       "1        198367\n",
       "0        198271\n",
       "Name: count, dtype: int64"
      ]
     },
     "execution_count": 44,
     "metadata": {},
     "output_type": "execute_result"
    }
   ],
   "source": [
    "pd.DataFrame(y_train3).value_counts()"
   ]
  },
  {
   "cell_type": "markdown",
   "id": "e8230ec9-7985-4868-b41d-3e9c226aaa26",
   "metadata": {},
   "source": [
    "<br/><br/><br/><br/>\n",
    "### Logistic Regression"
   ]
  },
  {
   "cell_type": "code",
   "execution_count": 61,
   "id": "85c2d43f-375e-4bc6-a4e8-5122aa6a0565",
   "metadata": {},
   "outputs": [],
   "source": [
    "from sklearn.linear_model import LogisticRegression\n",
    "from sklearn.metrics import classification_report, confusion_matrix, roc_auc_score, roc_curve, f1_score\n",
    "from sklearn.feature_selection import RFE, SelectFromModel\n",
    "import statsmodels.api as sm"
   ]
  },
  {
   "cell_type": "markdown",
   "id": "1f5b7cf1-90c0-4cdb-a645-e2420b04a3d3",
   "metadata": {},
   "source": [
    "#### Functions"
   ]
  },
  {
   "cell_type": "code",
   "execution_count": 303,
   "id": "c4e90010-df54-4ad6-bc14-0800866d5110",
   "metadata": {},
   "outputs": [],
   "source": [
    "def optimum_threshold(predicted_proba, y_val, step_factor = 0.05, threshold_value = 0.1, f1=0, thrsh_score=0):\n",
    "    ''' Returns the optimum threshold value and the F1 score for the threshold value '''\n",
    "    while threshold_value <=1:\n",
    "        temp_thresh = threshold_value\n",
    "        predicted = (predicted_proba >= temp_thresh).astype('int')\n",
    "        if f1<f1_score(y_val, predicted):\n",
    "            f1 = f1_score(y_val, predicted)\n",
    "            thrsh_score = threshold_value\n",
    "        threshold_value = threshold_value + step_factor\n",
    "    return thrsh_score,f1        "
   ]
  },
  {
   "cell_type": "code",
   "execution_count": 469,
   "id": "52c6d9ce-289c-48fc-b9b2-5593550be968",
   "metadata": {},
   "outputs": [],
   "source": [
    "def feature_selection(x_train, y_train, x_val, y_val, features):\n",
    "    ''' Determines the AUC and Optimum F1 score for a logistic regression model for each number of features '''\n",
    "    lg = LogisticRegression(max_iter=10000).fit(x_train, y_train)\n",
    "    roc = []\n",
    "    f1 = []\n",
    "    \n",
    "    for parm in range(1,features+1):\n",
    "        smf = SelectFromModel(lg, threshold=-np.inf, max_features=parm)\n",
    "        smf.fit(x_train, y_train)\n",
    "        feature_idx =smf.get_support()\n",
    "        feature_name = x_train.columns[feature_idx]\n",
    "        \n",
    "        logreg = LogisticRegression(max_iter=10000)\n",
    "        logreg.fit(x_train[feature_name], y_train)\n",
    "        \n",
    "        y_pred_proba = logreg.predict_proba(x_val[feature_name])[::,1]\n",
    "        auc = roc_auc_score(y_val, y_pred_proba)\n",
    "        roc.append(auc)\n",
    "    \n",
    "        thres, f1score = optimum_threshold(y_pred_proba, y_val)\n",
    "        f1.append(f1score)\n",
    "        print(f\"Number of Features: {parm}, AUC: {auc}, F1 Score: {f1score}, Optimum Threshold: {thres}\")\n",
    "\n",
    "    return (roc, f1)\n"
   ]
  },
  {
   "cell_type": "code",
   "execution_count": 67,
   "id": "8943c450-5f58-4b3a-8558-62c584ba8cbd",
   "metadata": {},
   "outputs": [],
   "source": [
    "def new_predict(function, x, thres):\n",
    "    pred = function.predict_proba(x)[::,1]\n",
    "    predictions = (pred > thres).astype('int32')\n",
    "    return predictions"
   ]
  },
  {
   "cell_type": "markdown",
   "id": "2d43ba9b-1325-411d-b359-63dddb279c3f",
   "metadata": {},
   "source": [
    "#### Logistic Regression Without Resampling"
   ]
  },
  {
   "cell_type": "code",
   "execution_count": 134,
   "id": "4ca28e08-70d7-4e10-acf3-80a97249d06d",
   "metadata": {},
   "outputs": [
    {
     "name": "stdout",
     "output_type": "stream",
     "text": [
      "Number of Features: 1, AUC: 0.8950525163114127, F1 Score: 0.27522935779816515, Optimum Threshold: 0.1\n",
      "Number of Features: 2, AUC: 0.8907221875359073, F1 Score: 0.29473684210526313, Optimum Threshold: 0.39999999999999997\n",
      "Number of Features: 3, AUC: 0.8889709516340485, F1 Score: 0.2978723404255319, Optimum Threshold: 0.44999999999999996\n",
      "Number of Features: 4, AUC: 0.8845499462169844, F1 Score: 0.29473684210526313, Optimum Threshold: 0.39999999999999997\n",
      "Number of Features: 5, AUC: 0.9508819860814817, F1 Score: 0.6825396825396826, Optimum Threshold: 0.15000000000000002\n",
      "Number of Features: 6, AUC: 0.9548627598647187, F1 Score: 0.6976744186046512, Optimum Threshold: 0.1\n",
      "Number of Features: 7, AUC: 0.9574498129015556, F1 Score: 0.7401574803149606, Optimum Threshold: 0.1\n",
      "Number of Features: 8, AUC: 0.9592771894947997, F1 Score: 0.7301587301587301, Optimum Threshold: 0.1\n",
      "Number of Features: 9, AUC: 0.9595938655521514, F1 Score: 0.7500000000000001, Optimum Threshold: 0.1\n",
      "Number of Features: 10, AUC: 0.9619535347969883, F1 Score: 0.7751937984496124, Optimum Threshold: 0.1\n",
      "Number of Features: 11, AUC: 0.9615264547371278, F1 Score: 0.7751937984496124, Optimum Threshold: 0.1\n",
      "Number of Features: 12, AUC: 0.9661578853376562, F1 Score: 0.7559055118110236, Optimum Threshold: 0.1\n",
      "Number of Features: 13, AUC: 0.9659675336091934, F1 Score: 0.7559055118110236, Optimum Threshold: 0.1\n",
      "Number of Features: 14, AUC: 0.9679849158368485, F1 Score: 0.7751937984496124, Optimum Threshold: 0.1\n",
      "Number of Features: 15, AUC: 0.9695987524001622, F1 Score: 0.7846153846153845, Optimum Threshold: 0.1\n",
      "Number of Features: 16, AUC: 0.970612807971792, F1 Score: 0.7786259541984734, Optimum Threshold: 0.1\n",
      "Number of Features: 17, AUC: 0.9807118324018789, F1 Score: 0.7751937984496124, Optimum Threshold: 0.1\n",
      "Number of Features: 18, AUC: 0.979046773918906, F1 Score: 0.7751937984496124, Optimum Threshold: 0.1\n",
      "Number of Features: 19, AUC: 0.9790817294181329, F1 Score: 0.7692307692307693, Optimum Threshold: 0.1\n",
      "Number of Features: 20, AUC: 0.978812122151819, F1 Score: 0.7692307692307693, Optimum Threshold: 0.1\n",
      "Number of Features: 21, AUC: 0.9790779223835636, F1 Score: 0.7692307692307693, Optimum Threshold: 0.1\n",
      "Number of Features: 22, AUC: 0.9786999876790518, F1 Score: 0.7692307692307693, Optimum Threshold: 0.1\n",
      "Number of Features: 23, AUC: 0.979311881962547, F1 Score: 0.7692307692307693, Optimum Threshold: 0.1\n",
      "Number of Features: 24, AUC: 0.9795385735664438, F1 Score: 0.7656250000000001, Optimum Threshold: 0.15000000000000002\n",
      "Number of Features: 25, AUC: 0.9765282475043158, F1 Score: 0.7786259541984734, Optimum Threshold: 0.1\n",
      "Number of Features: 26, AUC: 0.9736902762799597, F1 Score: 0.7846153846153845, Optimum Threshold: 0.1\n",
      "Number of Features: 27, AUC: 0.9741083578944745, F1 Score: 0.7786259541984734, Optimum Threshold: 0.1\n",
      "Number of Features: 28, AUC: 0.9738944717704925, F1 Score: 0.7786259541984734, Optimum Threshold: 0.1\n",
      "Number of Features: 29, AUC: 0.9729960116121477, F1 Score: 0.7786259541984734, Optimum Threshold: 0.1\n",
      "Number of Features: 30, AUC: 0.9431069832089009, F1 Score: 0.7049180327868853, Optimum Threshold: 0.3\n"
     ]
    }
   ],
   "source": [
    "roc, f1 = feature_selection(X_train, y_train, X_val, y_val, X_train.shape[1])"
   ]
  },
  {
   "cell_type": "code",
   "execution_count": 135,
   "id": "c4019d47-1039-44a5-a74c-66b30e68696c",
   "metadata": {},
   "outputs": [
    {
     "data": {
      "image/png": "[encoded data removed]",
      "text/plain": [
       "<Figure size 640x480 with 1 Axes>"
      ]
     },
     "metadata": {},
     "output_type": "display_data"
    }
   ],
   "source": [
    "scores = pd.DataFrame({'AUC':roc,'F1 Score':f1},index=range(1,31))\n",
    "scores.plot();"
   ]
  },
  {
   "cell_type": "code",
   "execution_count": 136,
   "id": "2fa809eb-c971-48c6-8af8-0c8110b73b88",
   "metadata": {},
   "outputs": [
    {
     "name": "stdout",
     "output_type": "stream",
     "text": [
      "Max AUC: 0.9807118324018789 with 17 features\n",
      "Max F1 Acore: 0.7846153846153845 with 15 features\n"
     ]
    }
   ],
   "source": [
    "print(f\"Max AUC: {scores['AUC'].max()} with {scores['AUC'].idxmax()} features\")\n",
    "print(f\"Max F1 Score: {scores['F1 Score'].max()} with {scores['F1 Score'].idxmax()} features\")"
   ]
  },
  {
   "cell_type": "code",
   "execution_count": 140,
   "id": "dc814221-5f32-4b90-a179-d2bbfcc3e5b2",
   "metadata": {},
   "outputs": [
    {
     "data": {
      "text/html": [
       "<style>#sk-container-id-1 {color: black;background-color: white;}#sk-container-id-1 pre{padding: 0;}#sk-container-id-1 div.sk-toggleable {background-color: white;}#sk-container-id-1 label.sk-toggleable__label {cursor: pointer;display: block;width: 100%;margin-bottom: 0;padding: 0.3em;box-sizing: border-box;text-align: center;}#sk-container-id-1 label.sk-toggleable__label-arrow:before {content: \"▸\";float: left;margin-right: 0.25em;color: #696969;}#sk-container-id-1 label.sk-toggleable__label-arrow:hover:before {color: black;}#sk-container-id-1 div.sk-estimator:hover label.sk-toggleable__label-arrow:before {color: black;}#sk-container-id-1 div.sk-toggleable__content {max-height: 0;max-width: 0;overflow: hidden;text-align: left;background-color: #f0f8ff;}#sk-container-id-1 div.sk-toggleable__content pre {margin: 0.2em;color: black;border-radius: 0.25em;background-color: #f0f8ff;}#sk-container-id-1 input.sk-toggleable__control:checked~div.sk-toggleable__content {max-height: 200px;max-width: 100%;overflow: auto;}#sk-container-id-1 input.sk-toggleable__control:checked~label.sk-toggleable__label-arrow:before {content: \"▾\";}#sk-container-id-1 div.sk-estimator input.sk-toggleable__control:checked~label.sk-toggleable__label {background-color: #d4ebff;}#sk-container-id-1 div.sk-label input.sk-toggleable__control:checked~label.sk-toggleable__label {background-color: #d4ebff;}#sk-container-id-1 input.sk-hidden--visually {border: 0;clip: rect(1px 1px 1px 1px);clip: rect(1px, 1px, 1px, 1px);height: 1px;margin: -1px;overflow: hidden;padding: 0;position: absolute;width: 1px;}#sk-container-id-1 div.sk-estimator {font-family: monospace;background-color: #f0f8ff;border: 1px dotted black;border-radius: 0.25em;box-sizing: border-box;margin-bottom: 0.5em;}#sk-container-id-1 div.sk-estimator:hover {background-color: #d4ebff;}#sk-container-id-1 div.sk-parallel-item::after {content: \"\";width: 100%;border-bottom: 1px solid gray;flex-grow: 1;}#sk-container-id-1 div.sk-label:hover label.sk-toggleable__label {background-color: #d4ebff;}#sk-container-id-1 div.sk-serial::before {content: \"\";position: absolute;border-left: 1px solid gray;box-sizing: border-box;top: 0;bottom: 0;left: 50%;z-index: 0;}#sk-container-id-1 div.sk-serial {display: flex;flex-direction: column;align-items: center;background-color: white;padding-right: 0.2em;padding-left: 0.2em;position: relative;}#sk-container-id-1 div.sk-item {position: relative;z-index: 1;}#sk-container-id-1 div.sk-parallel {display: flex;align-items: stretch;justify-content: center;background-color: white;position: relative;}#sk-container-id-1 div.sk-item::before, #sk-container-id-1 div.sk-parallel-item::before {content: \"\";position: absolute;border-left: 1px solid gray;box-sizing: border-box;top: 0;bottom: 0;left: 50%;z-index: -1;}#sk-container-id-1 div.sk-parallel-item {display: flex;flex-direction: column;z-index: 1;position: relative;background-color: white;}#sk-container-id-1 div.sk-parallel-item:first-child::after {align-self: flex-end;width: 50%;}#sk-container-id-1 div.sk-parallel-item:last-child::after {align-self: flex-start;width: 50%;}#sk-container-id-1 div.sk-parallel-item:only-child::after {width: 0;}#sk-container-id-1 div.sk-dashed-wrapped {border: 1px dashed gray;margin: 0 0.4em 0.5em 0.4em;box-sizing: border-box;padding-bottom: 0.4em;background-color: white;}#sk-container-id-1 div.sk-label label {font-family: monospace;font-weight: bold;display: inline-block;line-height: 1.2em;}#sk-container-id-1 div.sk-label-container {text-align: center;}#sk-container-id-1 div.sk-container {/* jupyter's `normalize.less` sets `[hidden] { display: none; }` but bootstrap.min.css set `[hidden] { display: none !important; }` so we also need the `!important` here to be able to override the default hidden behavior on the sphinx rendered scikit-learn.org. See: https://github.com/scikit-learn/scikit-learn/issues/21755 */display: inline-block !important;position: relative;}#sk-container-id-1 div.sk-text-repr-fallback {display: none;}</style><div id=\"sk-container-id-1\" class=\"sk-top-container\"><div class=\"sk-text-repr-fallback\"><pre>LogisticRegression(max_iter=10000)</pre><b>In a Jupyter environment, please rerun this cell to show the HTML representation or trust the notebook. <br />On GitHub, the HTML representation is unable to render, please try loading this page with nbviewer.org.</b></div><div class=\"sk-container\" hidden><div class=\"sk-item\"><div class=\"sk-estimator sk-toggleable\"><input class=\"sk-toggleable__control sk-hidden--visually\" id=\"sk-estimator-id-1\" type=\"checkbox\" checked><label for=\"sk-estimator-id-1\" class=\"sk-toggleable__label sk-toggleable__label-arrow\">LogisticRegression</label><div class=\"sk-toggleable__content\"><pre>LogisticRegression(max_iter=10000)</pre></div></div></div></div></div>"
      ],
      "text/plain": [
       "LogisticRegression(max_iter=10000)"
      ]
     },
     "execution_count": 140,
     "metadata": {},
     "output_type": "execute_result"
    }
   ],
   "source": [
    "logmod1 = LogisticRegression(max_iter=10000)\n",
    "smf = SelectFromModel(logmod1, threshold=-np.inf, max_features=15)\n",
    "smf.fit(X_train, y_train)\n",
    "feature_idx =smf.get_support()\n",
    "feature_name = X_train.columns[feature_idx]\n",
    "logmod1.fit(X_train[feature_name], y_train)"
   ]
  },
  {
   "cell_type": "code",
   "execution_count": 240,
   "id": "8b36093e-2d0c-49de-a1e9-b62272ffd5f0",
   "metadata": {},
   "outputs": [],
   "source": [
    "predictions_lgtest1 = new_predict(logmod1, X_test[feature_name], 0.1)\n",
    "f1_logmod1 = f1_score(y_test, predictions_lgtest1)"
   ]
  },
  {
   "cell_type": "code",
   "execution_count": 250,
   "id": "61b11222-19e8-47db-9ff0-4cb91dbef4dd",
   "metadata": {},
   "outputs": [
    {
     "name": "stdout",
     "output_type": "stream",
     "text": [
      "Logistic Regression \n",
      "\n",
      "F1 Score: 0.79104\n",
      "\n",
      "Confusion Matrix:\n",
      "[[42478    13]\n",
      " [   15    53]]\n",
      "\n",
      "\n",
      "              precision    recall  f1-score   support\n",
      "\n",
      "           0       1.00      1.00      1.00     42491\n",
      "           1       0.80      0.78      0.79        68\n",
      "\n",
      "    accuracy                           1.00     42559\n",
      "   macro avg       0.90      0.89      0.90     42559\n",
      "weighted avg       1.00      1.00      1.00     42559\n",
      "\n"
     ]
    }
   ],
   "source": [
    "print('Logistic Regression \\n')\n",
    "print(f\"F1 Score: {f1_logmod1:.5f}\")\n",
    "print('\\nConfusion Matrix:')\n",
    "print(confusion_matrix(y_test, predictions_lgtest1))\n",
    "print('\\n')\n",
    "print(classification_report(y_test, predictions_lgtest1))"
   ]
  },
  {
   "cell_type": "code",
   "execution_count": 260,
   "id": "79809d3c-ba95-4a1d-a824-ff29266b9b06",
   "metadata": {},
   "outputs": [
    {
     "data": {
      "image/png": "[encoded data removed]",
      "text/plain": [
       "<Figure size 640x480 with 1 Axes>"
      ]
     },
     "metadata": {},
     "output_type": "display_data"
    }
   ],
   "source": [
    "y_pred_proba = logmod1.predict_proba(X_test[feature_name])[::,1]\n",
    "fpr, tpr, _ = roc_curve(y_test,  y_pred_proba)\n",
    "auc = roc_auc_score(y_test, y_pred_proba)\n",
    "plt.plot(fpr,tpr,label=f\"Logistic Regression on \\nOriginal Data: \\nAUC={auc:.5f},\\nF1 Score {f1_logmod1:.5f}\")\n",
    "plt.xlabel('False Positive Rate')\n",
    "plt.ylabel('True Positive Rate')\n",
    "plt.legend(loc=4)\n",
    "plt.savefig('../assets/ROC_CURVE_logmod1.png')\n",
    "plt.show()"
   ]
  },
  {
   "cell_type": "markdown",
   "id": "e10ecfb3-cc35-475e-8387-a944ac2c0f58",
   "metadata": {},
   "source": [
    "#### Logistic Regression with SMOTE Resampling"
   ]
  },
  {
   "cell_type": "code",
   "execution_count": 266,
   "id": "538a3992-127d-4921-8f51-fa6f4feb6dd2",
   "metadata": {},
   "outputs": [
    {
     "name": "stdout",
     "output_type": "stream",
     "text": [
      "Number of Features: 1, AUC: 0.9499046164793375, F1 Score: 0.48, Optimum Threshold: 0.9500000000000003\n",
      "Number of Features: 2, AUC: 0.9640193701918884, F1 Score: 0.509090909090909, Optimum Threshold: 0.9500000000000003\n",
      "Number of Features: 3, AUC: 0.9640626319483572, F1 Score: 0.5549738219895288, Optimum Threshold: 0.9500000000000003\n",
      "Number of Features: 4, AUC: 0.9645800425557246, F1 Score: 0.5463917525773196, Optimum Threshold: 0.9500000000000003\n",
      "Number of Features: 5, AUC: 0.966469369984232, F1 Score: 0.6751592356687898, Optimum Threshold: 0.9500000000000003\n",
      "Number of Features: 6, AUC: 0.9593304879787692, F1 Score: 0.7260273972602739, Optimum Threshold: 0.9500000000000003\n",
      "Number of Features: 7, AUC: 0.9722546781532975, F1 Score: 0.6790123456790124, Optimum Threshold: 0.9500000000000003\n",
      "Number of Features: 8, AUC: 0.9728807622929145, F1 Score: 0.6626506024096385, Optimum Threshold: 0.9500000000000003\n",
      "Number of Features: 9, AUC: 0.9750142590749322, F1 Score: 0.6962025316455697, Optimum Threshold: 0.9500000000000003\n",
      "Number of Features: 10, AUC: 0.9811307792515231, F1 Score: 0.6666666666666667, Optimum Threshold: 0.9500000000000003\n",
      "Number of Features: 11, AUC: 0.9785828348425343, F1 Score: 0.7019867549668874, Optimum Threshold: 0.9500000000000003\n",
      "Number of Features: 12, AUC: 0.978577297337706, F1 Score: 0.7019867549668874, Optimum Threshold: 0.9500000000000003\n",
      "Number of Features: 13, AUC: 0.976087842823463, F1 Score: 0.69281045751634, Optimum Threshold: 0.9500000000000003\n",
      "Number of Features: 14, AUC: 0.9705299184463976, F1 Score: 0.6973684210526316, Optimum Threshold: 0.9500000000000003\n",
      "Number of Features: 15, AUC: 0.9709346754399201, F1 Score: 0.7019867549668874, Optimum Threshold: 0.9500000000000003\n",
      "Number of Features: 16, AUC: 0.9748685534791451, F1 Score: 0.6790123456790124, Optimum Threshold: 0.9500000000000003\n",
      "Number of Features: 17, AUC: 0.9758637469249544, F1 Score: 0.6790123456790124, Optimum Threshold: 0.9500000000000003\n",
      "Number of Features: 18, AUC: 0.9762492956986047, F1 Score: 0.6832298136645962, Optimum Threshold: 0.9500000000000003\n",
      "Number of Features: 19, AUC: 0.9731055503795267, F1 Score: 0.6547619047619048, Optimum Threshold: 0.9500000000000003\n",
      "Number of Features: 20, AUC: 0.9718814157184843, F1 Score: 0.650887573964497, Optimum Threshold: 0.9500000000000003\n",
      "Number of Features: 21, AUC: 0.9719063344902104, F1 Score: 0.6547619047619048, Optimum Threshold: 0.9500000000000003\n",
      "Number of Features: 22, AUC: 0.9720271213142713, F1 Score: 0.650887573964497, Optimum Threshold: 0.9500000000000003\n",
      "Number of Features: 23, AUC: 0.9724772166285733, F1 Score: 0.6470588235294117, Optimum Threshold: 0.9500000000000003\n",
      "Number of Features: 24, AUC: 0.9740820547465414, F1 Score: 0.6358381502890174, Optimum Threshold: 0.9500000000000003\n",
      "Number of Features: 25, AUC: 0.9720612115783688, F1 Score: 0.6395348837209303, Optimum Threshold: 0.9500000000000003\n",
      "Number of Features: 26, AUC: 0.9719490771056016, F1 Score: 0.6432748538011697, Optimum Threshold: 0.9500000000000003\n",
      "Number of Features: 27, AUC: 0.9725280924541806, F1 Score: 0.6586826347305389, Optimum Threshold: 0.9500000000000003\n",
      "Number of Features: 28, AUC: 0.9761229713697157, F1 Score: 0.6626506024096385, Optimum Threshold: 0.9500000000000003\n",
      "Number of Features: 29, AUC: 0.9708857031315974, F1 Score: 0.6285714285714286, Optimum Threshold: 0.9500000000000003\n",
      "Number of Features: 30, AUC: 0.9513450599227241, F1 Score: 0.3183183183183183, Optimum Threshold: 0.9500000000000003\n"
     ]
    }
   ],
   "source": [
    "roc2, f12 = feature_selection(X_train2, y_train2, X_val2, y_val2, X_train2.shape[1])"
   ]
  },
  {
   "cell_type": "code",
   "execution_count": 267,
   "id": "dc7cae7c-0288-456f-8a1d-cb2af8a9726d",
   "metadata": {},
   "outputs": [
    {
     "data": {
      "image/png": "[encoded data removed]",
      "text/plain": [
       "<Figure size 640x480 with 1 Axes>"
      ]
     },
     "metadata": {},
     "output_type": "display_data"
    }
   ],
   "source": [
    "scores_smote = pd.DataFrame({'AUC':roc2,'F1 Score':f12},index=range(1,31))\n",
    "scores_smote.plot();"
   ]
  },
  {
   "cell_type": "code",
   "execution_count": 268,
   "id": "e2127227-c1e8-48c0-a9ae-7f259314511e",
   "metadata": {},
   "outputs": [
    {
     "name": "stdout",
     "output_type": "stream",
     "text": [
      "Max AUC: 0.9811307792515231 with 10 features\n",
      "Max F1 Acore: 0.7260273972602739 with 6 features\n"
     ]
    }
   ],
   "source": [
    "print(f\"Max AUC: {scores_smote['AUC'].max()} with {scores_smote['AUC'].idxmax()} features\")\n",
    "print(f\"Max F1 Acore: {scores_smote['F1 Score'].max()} with {scores_smote['F1 Score'].idxmax()} features\")"
   ]
  },
  {
   "cell_type": "code",
   "execution_count": 280,
   "id": "3bd90b12-1547-4976-8ccb-723d13c9e3ad",
   "metadata": {},
   "outputs": [
    {
     "data": {
      "text/html": [
       "<style>#sk-container-id-3 {color: black;background-color: white;}#sk-container-id-3 pre{padding: 0;}#sk-container-id-3 div.sk-toggleable {background-color: white;}#sk-container-id-3 label.sk-toggleable__label {cursor: pointer;display: block;width: 100%;margin-bottom: 0;padding: 0.3em;box-sizing: border-box;text-align: center;}#sk-container-id-3 label.sk-toggleable__label-arrow:before {content: \"▸\";float: left;margin-right: 0.25em;color: #696969;}#sk-container-id-3 label.sk-toggleable__label-arrow:hover:before {color: black;}#sk-container-id-3 div.sk-estimator:hover label.sk-toggleable__label-arrow:before {color: black;}#sk-container-id-3 div.sk-toggleable__content {max-height: 0;max-width: 0;overflow: hidden;text-align: left;background-color: #f0f8ff;}#sk-container-id-3 div.sk-toggleable__content pre {margin: 0.2em;color: black;border-radius: 0.25em;background-color: #f0f8ff;}#sk-container-id-3 input.sk-toggleable__control:checked~div.sk-toggleable__content {max-height: 200px;max-width: 100%;overflow: auto;}#sk-container-id-3 input.sk-toggleable__control:checked~label.sk-toggleable__label-arrow:before {content: \"▾\";}#sk-container-id-3 div.sk-estimator input.sk-toggleable__control:checked~label.sk-toggleable__label {background-color: #d4ebff;}#sk-container-id-3 div.sk-label input.sk-toggleable__control:checked~label.sk-toggleable__label {background-color: #d4ebff;}#sk-container-id-3 input.sk-hidden--visually {border: 0;clip: rect(1px 1px 1px 1px);clip: rect(1px, 1px, 1px, 1px);height: 1px;margin: -1px;overflow: hidden;padding: 0;position: absolute;width: 1px;}#sk-container-id-3 div.sk-estimator {font-family: monospace;background-color: #f0f8ff;border: 1px dotted black;border-radius: 0.25em;box-sizing: border-box;margin-bottom: 0.5em;}#sk-container-id-3 div.sk-estimator:hover {background-color: #d4ebff;}#sk-container-id-3 div.sk-parallel-item::after {content: \"\";width: 100%;border-bottom: 1px solid gray;flex-grow: 1;}#sk-container-id-3 div.sk-label:hover label.sk-toggleable__label {background-color: #d4ebff;}#sk-container-id-3 div.sk-serial::before {content: \"\";position: absolute;border-left: 1px solid gray;box-sizing: border-box;top: 0;bottom: 0;left: 50%;z-index: 0;}#sk-container-id-3 div.sk-serial {display: flex;flex-direction: column;align-items: center;background-color: white;padding-right: 0.2em;padding-left: 0.2em;position: relative;}#sk-container-id-3 div.sk-item {position: relative;z-index: 1;}#sk-container-id-3 div.sk-parallel {display: flex;align-items: stretch;justify-content: center;background-color: white;position: relative;}#sk-container-id-3 div.sk-item::before, #sk-container-id-3 div.sk-parallel-item::before {content: \"\";position: absolute;border-left: 1px solid gray;box-sizing: border-box;top: 0;bottom: 0;left: 50%;z-index: -1;}#sk-container-id-3 div.sk-parallel-item {display: flex;flex-direction: column;z-index: 1;position: relative;background-color: white;}#sk-container-id-3 div.sk-parallel-item:first-child::after {align-self: flex-end;width: 50%;}#sk-container-id-3 div.sk-parallel-item:last-child::after {align-self: flex-start;width: 50%;}#sk-container-id-3 div.sk-parallel-item:only-child::after {width: 0;}#sk-container-id-3 div.sk-dashed-wrapped {border: 1px dashed gray;margin: 0 0.4em 0.5em 0.4em;box-sizing: border-box;padding-bottom: 0.4em;background-color: white;}#sk-container-id-3 div.sk-label label {font-family: monospace;font-weight: bold;display: inline-block;line-height: 1.2em;}#sk-container-id-3 div.sk-label-container {text-align: center;}#sk-container-id-3 div.sk-container {/* jupyter's `normalize.less` sets `[hidden] { display: none; }` but bootstrap.min.css set `[hidden] { display: none !important; }` so we also need the `!important` here to be able to override the default hidden behavior on the sphinx rendered scikit-learn.org. See: https://github.com/scikit-learn/scikit-learn/issues/21755 */display: inline-block !important;position: relative;}#sk-container-id-3 div.sk-text-repr-fallback {display: none;}</style><div id=\"sk-container-id-3\" class=\"sk-top-container\"><div class=\"sk-text-repr-fallback\"><pre>LogisticRegression(max_iter=10000)</pre><b>In a Jupyter environment, please rerun this cell to show the HTML representation or trust the notebook. <br />On GitHub, the HTML representation is unable to render, please try loading this page with nbviewer.org.</b></div><div class=\"sk-container\" hidden><div class=\"sk-item\"><div class=\"sk-estimator sk-toggleable\"><input class=\"sk-toggleable__control sk-hidden--visually\" id=\"sk-estimator-id-3\" type=\"checkbox\" checked><label for=\"sk-estimator-id-3\" class=\"sk-toggleable__label sk-toggleable__label-arrow\">LogisticRegression</label><div class=\"sk-toggleable__content\"><pre>LogisticRegression(max_iter=10000)</pre></div></div></div></div></div>"
      ],
      "text/plain": [
       "LogisticRegression(max_iter=10000)"
      ]
     },
     "execution_count": 280,
     "metadata": {},
     "output_type": "execute_result"
    }
   ],
   "source": [
    "logmod2 = LogisticRegression(max_iter=10000)\n",
    "smf2 = SelectFromModel(logmod2, threshold=-np.inf, max_features=6)\n",
    "smf2.fit(X_train2, y_train2)\n",
    "feature_idx2 =smf2.get_support()\n",
    "feature_name2 = X_train2.columns[feature_idx2]\n",
    "logmod2.fit(X_train2[feature_name2], y_train2)"
   ]
  },
  {
   "cell_type": "code",
   "execution_count": 282,
   "id": "2f923f60-a682-407a-80c0-4d5b6b8022d6",
   "metadata": {},
   "outputs": [],
   "source": [
    "predictions_lgtest2 = new_predict(logmod2, X_test2[feature_name2], 0.9500000000000003)\n",
    "f1_logmod2 = f1_score(y_test2, predictions_lgtest2)"
   ]
  },
  {
   "cell_type": "code",
   "execution_count": 284,
   "id": "ede37558-d2b4-45f9-b42e-98f195ae0ebb",
   "metadata": {},
   "outputs": [
    {
     "name": "stdout",
     "output_type": "stream",
     "text": [
      "Logistic Regression with SMOTE Resampling \n",
      "\n",
      "F1 Score: 0.73548\n",
      "\n",
      "Confusion Matrix:\n",
      "[[42461    30]\n",
      " [   11    57]]\n",
      "\n",
      "\n",
      "              precision    recall  f1-score   support\n",
      "\n",
      "           0       1.00      1.00      1.00     42491\n",
      "           1       0.66      0.84      0.74        68\n",
      "\n",
      "    accuracy                           1.00     42559\n",
      "   macro avg       0.83      0.92      0.87     42559\n",
      "weighted avg       1.00      1.00      1.00     42559\n",
      "\n"
     ]
    }
   ],
   "source": [
    "print('Logistic Regression with SMOTE Resampling \\n')\n",
    "print(f\"F1 Score: {f1_logmod2:.5f}\")\n",
    "print('\\nConfusion Matrix:')\n",
    "print(confusion_matrix(y_test2, predictions_lgtest2))\n",
    "print('\\n')\n",
    "print(classification_report(y_test2, predictions_lgtest2))"
   ]
  },
  {
   "cell_type": "code",
   "execution_count": 289,
   "id": "fc2c0da1-be94-46ec-97c3-536fe135521d",
   "metadata": {},
   "outputs": [
    {
     "data": {
      "image/png": "[encoded data removed]",
      "text/plain": [
       "<Figure size 640x480 with 1 Axes>"
      ]
     },
     "metadata": {},
     "output_type": "display_data"
    }
   ],
   "source": [
    "y_pred_proba2 = logmod2.predict_proba(X_test2[feature_name2])[::,1]\n",
    "fpr2, tpr2, _ = roc_curve(y_test2,  y_pred_proba2)\n",
    "auc2 = roc_auc_score(y_test2, y_pred_proba2)\n",
    "plt.plot(fpr2,tpr2,label=f\"Logistic Regression with \\nSMOTE Resampling: \\nAUC={auc2:.5f},\\nF1 Score {f1_logmod2:.5f}\")\n",
    "plt.xlabel('False Positive Rate')\n",
    "plt.ylabel('True Positive Rate')\n",
    "plt.legend(loc=4)\n",
    "plt.savefig('../assets/ROC_CURVE_logmod2.png')\n",
    "plt.show()"
   ]
  },
  {
   "cell_type": "markdown",
   "id": "51e2afe4-0d5d-4715-8e5f-fa0d48211fcc",
   "metadata": {},
   "source": [
    "#### Logistics Regression with ADASYN Resampling"
   ]
  },
  {
   "cell_type": "code",
   "execution_count": 288,
   "id": "ff4034b2-33ba-4103-ab00-6ab870cda96c",
   "metadata": {},
   "outputs": [
    {
     "name": "stdout",
     "output_type": "stream",
     "text": [
      "Number of Features: 1, AUC: 0.9499046164793375, F1 Score: 0.46956521739130425, Optimum Threshold: 0.9500000000000003\n",
      "Number of Features: 2, AUC: 0.9634379321849472, F1 Score: 0.5380710659898478, Optimum Threshold: 0.9500000000000003\n",
      "Number of Features: 3, AUC: 0.9640501725624941, F1 Score: 0.5380710659898478, Optimum Threshold: 0.9500000000000003\n",
      "Number of Features: 4, AUC: 0.9747458631377994, F1 Score: 0.5326633165829145, Optimum Threshold: 0.9500000000000003\n",
      "Number of Features: 5, AUC: 0.9716760088987703, F1 Score: 0.522167487684729, Optimum Threshold: 0.9500000000000003\n",
      "Number of Features: 6, AUC: 0.9701592517169726, F1 Score: 0.5326633165829145, Optimum Threshold: 0.9500000000000003\n",
      "Number of Features: 7, AUC: 0.977848423264719, F1 Score: 0.6586826347305389, Optimum Threshold: 0.9500000000000003\n",
      "Number of Features: 8, AUC: 0.9750570016903234, F1 Score: 0.6470588235294117, Optimum Threshold: 0.9500000000000003\n",
      "Number of Features: 9, AUC: 0.9751566767772275, F1 Score: 0.6206896551724137, Optimum Threshold: 0.9500000000000003\n",
      "Number of Features: 10, AUC: 0.9751677517868835, F1 Score: 0.6127167630057804, Optimum Threshold: 0.9500000000000003\n",
      "Number of Features: 11, AUC: 0.975642246731834, F1 Score: 0.6162790697674418, Optimum Threshold: 0.9500000000000003\n",
      "Number of Features: 12, AUC: 0.9783391846301017, F1 Score: 0.6242774566473989, Optimum Threshold: 0.9500000000000003\n",
      "Number of Features: 13, AUC: 0.9785369773806771, F1 Score: 0.6206896551724137, Optimum Threshold: 0.9500000000000003\n",
      "Number of Features: 14, AUC: 0.9781100703678427, F1 Score: 0.6708074534161491, Optimum Threshold: 0.9500000000000003\n",
      "Number of Features: 15, AUC: 0.9780007046474894, F1 Score: 0.6708074534161491, Optimum Threshold: 0.9500000000000003\n",
      "Number of Features: 16, AUC: 0.9756901807580014, F1 Score: 0.6748466257668712, Optimum Threshold: 0.9500000000000003\n",
      "Number of Features: 17, AUC: 0.9734149584617919, F1 Score: 0.6918238993710693, Optimum Threshold: 0.9500000000000003\n",
      "Number of Features: 18, AUC: 0.9736506485110341, F1 Score: 0.6918238993710693, Optimum Threshold: 0.9500000000000003\n",
      "Number of Features: 19, AUC: 0.9737067157474177, F1 Score: 0.6918238993710693, Optimum Threshold: 0.9500000000000003\n",
      "Number of Features: 20, AUC: 0.975203399474214, F1 Score: 0.6832298136645962, Optimum Threshold: 0.9500000000000003\n",
      "Number of Features: 21, AUC: 0.9799929950563926, F1 Score: 0.6875, Optimum Threshold: 0.9500000000000003\n",
      "Number of Features: 22, AUC: 0.9804263048091845, F1 Score: 0.6832298136645962, Optimum Threshold: 0.9500000000000003\n",
      "Number of Features: 23, AUC: 0.9807118324018789, F1 Score: 0.6707317073170731, Optimum Threshold: 0.9500000000000003\n",
      "Number of Features: 24, AUC: 0.9776385172223322, F1 Score: 0.6586826347305389, Optimum Threshold: 0.9500000000000003\n",
      "Number of Features: 25, AUC: 0.9783597772261807, F1 Score: 0.650887573964497, Optimum Threshold: 0.9500000000000003\n",
      "Number of Features: 26, AUC: 0.9770498112403042, F1 Score: 0.6586826347305389, Optimum Threshold: 0.9500000000000003\n",
      "Number of Features: 27, AUC: 0.9764306489817222, F1 Score: 0.6586826347305389, Optimum Threshold: 0.9500000000000003\n",
      "Number of Features: 28, AUC: 0.9765182107768151, F1 Score: 0.6586826347305389, Optimum Threshold: 0.9500000000000003\n",
      "Number of Features: 29, AUC: 0.9709943766638471, F1 Score: 0.625, Optimum Threshold: 0.9500000000000003\n",
      "Number of Features: 30, AUC: 0.9644262037497213, F1 Score: 0.48068669527896996, Optimum Threshold: 0.9500000000000003\n"
     ]
    }
   ],
   "source": [
    "roc3, f13 = feature_selection(X_train3, y_train3, X_val3, y_val3, X_train3.shape[1])"
   ]
  },
  {
   "cell_type": "code",
   "execution_count": 292,
   "id": "65139875-2aa1-4c4f-b1df-62e1af6832c8",
   "metadata": {},
   "outputs": [
    {
     "data": {
      "image/png": "[encoded data removed]",
      "text/plain": [
       "<Figure size 640x480 with 1 Axes>"
      ]
     },
     "metadata": {},
     "output_type": "display_data"
    }
   ],
   "source": [
    "scores_ada = pd.DataFrame({'AUC':roc3,'F1 Score':f13},index=range(1,31))\n",
    "scores_ada.plot();"
   ]
  },
  {
   "cell_type": "code",
   "execution_count": 294,
   "id": "c035646a-13bf-4219-9a7d-c2352e95e1b5",
   "metadata": {},
   "outputs": [
    {
     "name": "stdout",
     "output_type": "stream",
     "text": [
      "Max AUC: 0.9807118324018789 with 23 features\n",
      "Max F1 Acore: 0.6918238993710693 with 17 features\n"
     ]
    }
   ],
   "source": [
    "print(f\"Max AUC: {scores_ada['AUC'].max()} with {scores_ada['AUC'].idxmax()} features\")\n",
    "print(f\"Max F1 Acore: {scores_ada['F1 Score'].max()} with {scores_ada['F1 Score'].idxmax()} features\")"
   ]
  },
  {
   "cell_type": "code",
   "execution_count": 296,
   "id": "c80ab10e-ff96-43c4-98f8-e6ae74bfed07",
   "metadata": {},
   "outputs": [
    {
     "data": {
      "text/html": [
       "<style>#sk-container-id-4 {color: black;background-color: white;}#sk-container-id-4 pre{padding: 0;}#sk-container-id-4 div.sk-toggleable {background-color: white;}#sk-container-id-4 label.sk-toggleable__label {cursor: pointer;display: block;width: 100%;margin-bottom: 0;padding: 0.3em;box-sizing: border-box;text-align: center;}#sk-container-id-4 label.sk-toggleable__label-arrow:before {content: \"▸\";float: left;margin-right: 0.25em;color: #696969;}#sk-container-id-4 label.sk-toggleable__label-arrow:hover:before {color: black;}#sk-container-id-4 div.sk-estimator:hover label.sk-toggleable__label-arrow:before {color: black;}#sk-container-id-4 div.sk-toggleable__content {max-height: 0;max-width: 0;overflow: hidden;text-align: left;background-color: #f0f8ff;}#sk-container-id-4 div.sk-toggleable__content pre {margin: 0.2em;color: black;border-radius: 0.25em;background-color: #f0f8ff;}#sk-container-id-4 input.sk-toggleable__control:checked~div.sk-toggleable__content {max-height: 200px;max-width: 100%;overflow: auto;}#sk-container-id-4 input.sk-toggleable__control:checked~label.sk-toggleable__label-arrow:before {content: \"▾\";}#sk-container-id-4 div.sk-estimator input.sk-toggleable__control:checked~label.sk-toggleable__label {background-color: #d4ebff;}#sk-container-id-4 div.sk-label input.sk-toggleable__control:checked~label.sk-toggleable__label {background-color: #d4ebff;}#sk-container-id-4 input.sk-hidden--visually {border: 0;clip: rect(1px 1px 1px 1px);clip: rect(1px, 1px, 1px, 1px);height: 1px;margin: -1px;overflow: hidden;padding: 0;position: absolute;width: 1px;}#sk-container-id-4 div.sk-estimator {font-family: monospace;background-color: #f0f8ff;border: 1px dotted black;border-radius: 0.25em;box-sizing: border-box;margin-bottom: 0.5em;}#sk-container-id-4 div.sk-estimator:hover {background-color: #d4ebff;}#sk-container-id-4 div.sk-parallel-item::after {content: \"\";width: 100%;border-bottom: 1px solid gray;flex-grow: 1;}#sk-container-id-4 div.sk-label:hover label.sk-toggleable__label {background-color: #d4ebff;}#sk-container-id-4 div.sk-serial::before {content: \"\";position: absolute;border-left: 1px solid gray;box-sizing: border-box;top: 0;bottom: 0;left: 50%;z-index: 0;}#sk-container-id-4 div.sk-serial {display: flex;flex-direction: column;align-items: center;background-color: white;padding-right: 0.2em;padding-left: 0.2em;position: relative;}#sk-container-id-4 div.sk-item {position: relative;z-index: 1;}#sk-container-id-4 div.sk-parallel {display: flex;align-items: stretch;justify-content: center;background-color: white;position: relative;}#sk-container-id-4 div.sk-item::before, #sk-container-id-4 div.sk-parallel-item::before {content: \"\";position: absolute;border-left: 1px solid gray;box-sizing: border-box;top: 0;bottom: 0;left: 50%;z-index: -1;}#sk-container-id-4 div.sk-parallel-item {display: flex;flex-direction: column;z-index: 1;position: relative;background-color: white;}#sk-container-id-4 div.sk-parallel-item:first-child::after {align-self: flex-end;width: 50%;}#sk-container-id-4 div.sk-parallel-item:last-child::after {align-self: flex-start;width: 50%;}#sk-container-id-4 div.sk-parallel-item:only-child::after {width: 0;}#sk-container-id-4 div.sk-dashed-wrapped {border: 1px dashed gray;margin: 0 0.4em 0.5em 0.4em;box-sizing: border-box;padding-bottom: 0.4em;background-color: white;}#sk-container-id-4 div.sk-label label {font-family: monospace;font-weight: bold;display: inline-block;line-height: 1.2em;}#sk-container-id-4 div.sk-label-container {text-align: center;}#sk-container-id-4 div.sk-container {/* jupyter's `normalize.less` sets `[hidden] { display: none; }` but bootstrap.min.css set `[hidden] { display: none !important; }` so we also need the `!important` here to be able to override the default hidden behavior on the sphinx rendered scikit-learn.org. See: https://github.com/scikit-learn/scikit-learn/issues/21755 */display: inline-block !important;position: relative;}#sk-container-id-4 div.sk-text-repr-fallback {display: none;}</style><div id=\"sk-container-id-4\" class=\"sk-top-container\"><div class=\"sk-text-repr-fallback\"><pre>LogisticRegression(max_iter=10000)</pre><b>In a Jupyter environment, please rerun this cell to show the HTML representation or trust the notebook. <br />On GitHub, the HTML representation is unable to render, please try loading this page with nbviewer.org.</b></div><div class=\"sk-container\" hidden><div class=\"sk-item\"><div class=\"sk-estimator sk-toggleable\"><input class=\"sk-toggleable__control sk-hidden--visually\" id=\"sk-estimator-id-4\" type=\"checkbox\" checked><label for=\"sk-estimator-id-4\" class=\"sk-toggleable__label sk-toggleable__label-arrow\">LogisticRegression</label><div class=\"sk-toggleable__content\"><pre>LogisticRegression(max_iter=10000)</pre></div></div></div></div></div>"
      ],
      "text/plain": [
       "LogisticRegression(max_iter=10000)"
      ]
     },
     "execution_count": 296,
     "metadata": {},
     "output_type": "execute_result"
    }
   ],
   "source": [
    "logmod3 = LogisticRegression(max_iter=10000)\n",
    "smf3 = SelectFromModel(logmod3, threshold=-np.inf, max_features= 19)\n",
    "smf3.fit(X_train3, y_train3)\n",
    "feature_idx3 =smf3.get_support()\n",
    "feature_name3 = X_train3.columns[feature_idx3]\n",
    "logmod3.fit(X_train3[feature_name3], y_train3)"
   ]
  },
  {
   "cell_type": "code",
   "execution_count": 298,
   "id": "7522c3bf-2afb-4456-b2fc-80d602ffe97f",
   "metadata": {},
   "outputs": [],
   "source": [
    "predictions_lgtest3 = new_predict(logmod3, X_test3[feature_name3], 0.9500000000000003)\n",
    "f1_logmod3 = f1_score(y_test3, predictions_lgtest3)"
   ]
  },
  {
   "cell_type": "code",
   "execution_count": 300,
   "id": "d38437d5-30aa-41d7-b041-3d8994c5bd1b",
   "metadata": {},
   "outputs": [
    {
     "name": "stdout",
     "output_type": "stream",
     "text": [
      "Logistic Regression with ADASYN Resampling \n",
      "\n",
      "F1 Score: 0.67836\n",
      "\n",
      "Confusion Matrix:\n",
      "[[42446    45]\n",
      " [   10    58]]\n",
      "\n",
      "\n",
      "              precision    recall  f1-score   support\n",
      "\n",
      "           0       1.00      1.00      1.00     42491\n",
      "           1       0.56      0.85      0.68        68\n",
      "\n",
      "    accuracy                           1.00     42559\n",
      "   macro avg       0.78      0.93      0.84     42559\n",
      "weighted avg       1.00      1.00      1.00     42559\n",
      "\n"
     ]
    }
   ],
   "source": [
    "print('Logistic Regression with ADASYN Resampling \\n')\n",
    "print(f\"F1 Score: {f1_logmod3:.5f}\")\n",
    "print('\\nConfusion Matrix:')\n",
    "print(confusion_matrix(y_test3, predictions_lgtest3))\n",
    "print('\\n')\n",
    "print(classification_report(y_test3, predictions_lgtest3))"
   ]
  },
  {
   "cell_type": "code",
   "execution_count": 302,
   "id": "eb460113-04ed-4587-b113-cc62c4b4eb3b",
   "metadata": {},
   "outputs": [
    {
     "data": {
      "image/png": "[encoded data removed]",
      "text/plain": [
       "<Figure size 640x480 with 1 Axes>"
      ]
     },
     "metadata": {},
     "output_type": "display_data"
    }
   ],
   "source": [
    "y_pred_proba3 = logmod3.predict_proba(X_test3[feature_name3])[::,1]\n",
    "fpr3, tpr3, _ = roc_curve(y_test3,  y_pred_proba3)\n",
    "auc3 = roc_auc_score(y_test3, y_pred_proba3)\n",
    "plt.plot(fpr3,tpr3,label=f\"Logistic Regression with \\nADASYN Resampling: \\nAUC={auc3:.5f},\\nF1 Score {f1_logmod3:.5f}\")\n",
    "plt.xlabel('False Positive Rate')\n",
    "plt.ylabel('True Positive Rate')\n",
    "plt.legend(loc=4)\n",
    "plt.savefig('../assets/ROC_CURVE_logmod3.png')\n",
    "plt.show()"
   ]
  },
  {
   "cell_type": "markdown",
   "id": "a9ed34b6-98f4-472c-bf95-15e068fcd8b0",
   "metadata": {},
   "source": [
    "<br/><br/><br/><br/>\n",
    "### Decision Trees\n",
    "Decision trees that use boosting algorithms were used when fitting the data as they deal with bias variance trade-off, unliking bagging/ensembling algorithms which controls high variance in a model. However, a disadvantage of boosting algorithms is that they are prone to overfitting.\n",
    "\n",
    "When fitting the data a grid search was performed to prevent overfitting by controlling model complexity."
   ]
  },
  {
   "cell_type": "code",
   "execution_count": 48,
   "id": "33f4a60b-b255-47a4-ace0-8d195c39ec2e",
   "metadata": {},
   "outputs": [],
   "source": [
    "from xgboost import XGBClassifier\n",
    "from sklearn.model_selection import GridSearchCV\n",
    "from sklearn.metrics import accuracy_score"
   ]
  },
  {
   "cell_type": "code",
   "execution_count": 53,
   "id": "8f6162a2-3e47-4885-83c3-38ab55ba8ccc",
   "metadata": {},
   "outputs": [
    {
     "name": "stdout",
     "output_type": "stream",
     "text": [
      "Fitting 5 folds for each of 81 candidates, totalling 405 fits\n"
     ]
    },
    {
     "data": {
      "text/html": [
       "<style>#sk-container-id-1 {color: black;background-color: white;}#sk-container-id-1 pre{padding: 0;}#sk-container-id-1 div.sk-toggleable {background-color: white;}#sk-container-id-1 label.sk-toggleable__label {cursor: pointer;display: block;width: 100%;margin-bottom: 0;padding: 0.3em;box-sizing: border-box;text-align: center;}#sk-container-id-1 label.sk-toggleable__label-arrow:before {content: \"▸\";float: left;margin-right: 0.25em;color: #696969;}#sk-container-id-1 label.sk-toggleable__label-arrow:hover:before {color: black;}#sk-container-id-1 div.sk-estimator:hover label.sk-toggleable__label-arrow:before {color: black;}#sk-container-id-1 div.sk-toggleable__content {max-height: 0;max-width: 0;overflow: hidden;text-align: left;background-color: #f0f8ff;}#sk-container-id-1 div.sk-toggleable__content pre {margin: 0.2em;color: black;border-radius: 0.25em;background-color: #f0f8ff;}#sk-container-id-1 input.sk-toggleable__control:checked~div.sk-toggleable__content {max-height: 200px;max-width: 100%;overflow: auto;}#sk-container-id-1 input.sk-toggleable__control:checked~label.sk-toggleable__label-arrow:before {content: \"▾\";}#sk-container-id-1 div.sk-estimator input.sk-toggleable__control:checked~label.sk-toggleable__label {background-color: #d4ebff;}#sk-container-id-1 div.sk-label input.sk-toggleable__control:checked~label.sk-toggleable__label {background-color: #d4ebff;}#sk-container-id-1 input.sk-hidden--visually {border: 0;clip: rect(1px 1px 1px 1px);clip: rect(1px, 1px, 1px, 1px);height: 1px;margin: -1px;overflow: hidden;padding: 0;position: absolute;width: 1px;}#sk-container-id-1 div.sk-estimator {font-family: monospace;background-color: #f0f8ff;border: 1px dotted black;border-radius: 0.25em;box-sizing: border-box;margin-bottom: 0.5em;}#sk-container-id-1 div.sk-estimator:hover {background-color: #d4ebff;}#sk-container-id-1 div.sk-parallel-item::after {content: \"\";width: 100%;border-bottom: 1px solid gray;flex-grow: 1;}#sk-container-id-1 div.sk-label:hover label.sk-toggleable__label {background-color: #d4ebff;}#sk-container-id-1 div.sk-serial::before {content: \"\";position: absolute;border-left: 1px solid gray;box-sizing: border-box;top: 0;bottom: 0;left: 50%;z-index: 0;}#sk-container-id-1 div.sk-serial {display: flex;flex-direction: column;align-items: center;background-color: white;padding-right: 0.2em;padding-left: 0.2em;position: relative;}#sk-container-id-1 div.sk-item {position: relative;z-index: 1;}#sk-container-id-1 div.sk-parallel {display: flex;align-items: stretch;justify-content: center;background-color: white;position: relative;}#sk-container-id-1 div.sk-item::before, #sk-container-id-1 div.sk-parallel-item::before {content: \"\";position: absolute;border-left: 1px solid gray;box-sizing: border-box;top: 0;bottom: 0;left: 50%;z-index: -1;}#sk-container-id-1 div.sk-parallel-item {display: flex;flex-direction: column;z-index: 1;position: relative;background-color: white;}#sk-container-id-1 div.sk-parallel-item:first-child::after {align-self: flex-end;width: 50%;}#sk-container-id-1 div.sk-parallel-item:last-child::after {align-self: flex-start;width: 50%;}#sk-container-id-1 div.sk-parallel-item:only-child::after {width: 0;}#sk-container-id-1 div.sk-dashed-wrapped {border: 1px dashed gray;margin: 0 0.4em 0.5em 0.4em;box-sizing: border-box;padding-bottom: 0.4em;background-color: white;}#sk-container-id-1 div.sk-label label {font-family: monospace;font-weight: bold;display: inline-block;line-height: 1.2em;}#sk-container-id-1 div.sk-label-container {text-align: center;}#sk-container-id-1 div.sk-container {/* jupyter's `normalize.less` sets `[hidden] { display: none; }` but bootstrap.min.css set `[hidden] { display: none !important; }` so we also need the `!important` here to be able to override the default hidden behavior on the sphinx rendered scikit-learn.org. See: https://github.com/scikit-learn/scikit-learn/issues/21755 */display: inline-block !important;position: relative;}#sk-container-id-1 div.sk-text-repr-fallback {display: none;}</style><div id=\"sk-container-id-1\" class=\"sk-top-container\"><div class=\"sk-text-repr-fallback\"><pre>GridSearchCV(cv=5,\n",
       "             estimator=XGBClassifier(base_score=None, booster=None,\n",
       "                                     callbacks=None, colsample_bylevel=None,\n",
       "                                     colsample_bynode=None,\n",
       "                                     colsample_bytree=None, device=None,\n",
       "                                     early_stopping_rounds=None,\n",
       "                                     enable_categorical=False,\n",
       "                                     eval_metric=&#x27;logloss&#x27;, feature_types=None,\n",
       "                                     gamma=None, grow_policy=None,\n",
       "                                     importance_type=None,\n",
       "                                     interaction_constraints=None,\n",
       "                                     learning_rate=...\n",
       "                                     max_delta_step=None, max_depth=None,\n",
       "                                     max_leaves=None, min_child_weight=None,\n",
       "                                     missing=nan, monotone_constraints=None,\n",
       "                                     multi_strategy=None, n_estimators=None,\n",
       "                                     n_jobs=None, num_parallel_tree=None,\n",
       "                                     random_state=46, ...),\n",
       "             n_jobs=-1,\n",
       "             param_grid={&#x27;learning_rate&#x27;: [0.1, 0.2, 0.3],\n",
       "                         &#x27;max_depth&#x27;: [3, 5, 10],\n",
       "                         &#x27;n_estimators&#x27;: [100, 200, 300],\n",
       "                         &#x27;subsample&#x27;: [0.5, 0.75, 1]},\n",
       "             scoring=&#x27;accuracy&#x27;, verbose=1)</pre><b>In a Jupyter environment, please rerun this cell to show the HTML representation or trust the notebook. <br />On GitHub, the HTML representation is unable to render, please try loading this page with nbviewer.org.</b></div><div class=\"sk-container\" hidden><div class=\"sk-item sk-dashed-wrapped\"><div class=\"sk-label-container\"><div class=\"sk-label sk-toggleable\"><input class=\"sk-toggleable__control sk-hidden--visually\" id=\"sk-estimator-id-1\" type=\"checkbox\" ><label for=\"sk-estimator-id-1\" class=\"sk-toggleable__label sk-toggleable__label-arrow\">GridSearchCV</label><div class=\"sk-toggleable__content\"><pre>GridSearchCV(cv=5,\n",
       "             estimator=XGBClassifier(base_score=None, booster=None,\n",
       "                                     callbacks=None, colsample_bylevel=None,\n",
       "                                     colsample_bynode=None,\n",
       "                                     colsample_bytree=None, device=None,\n",
       "                                     early_stopping_rounds=None,\n",
       "                                     enable_categorical=False,\n",
       "                                     eval_metric=&#x27;logloss&#x27;, feature_types=None,\n",
       "                                     gamma=None, grow_policy=None,\n",
       "                                     importance_type=None,\n",
       "                                     interaction_constraints=None,\n",
       "                                     learning_rate=...\n",
       "                                     max_delta_step=None, max_depth=None,\n",
       "                                     max_leaves=None, min_child_weight=None,\n",
       "                                     missing=nan, monotone_constraints=None,\n",
       "                                     multi_strategy=None, n_estimators=None,\n",
       "                                     n_jobs=None, num_parallel_tree=None,\n",
       "                                     random_state=46, ...),\n",
       "             n_jobs=-1,\n",
       "             param_grid={&#x27;learning_rate&#x27;: [0.1, 0.2, 0.3],\n",
       "                         &#x27;max_depth&#x27;: [3, 5, 10],\n",
       "                         &#x27;n_estimators&#x27;: [100, 200, 300],\n",
       "                         &#x27;subsample&#x27;: [0.5, 0.75, 1]},\n",
       "             scoring=&#x27;accuracy&#x27;, verbose=1)</pre></div></div></div><div class=\"sk-parallel\"><div class=\"sk-parallel-item\"><div class=\"sk-item\"><div class=\"sk-label-container\"><div class=\"sk-label sk-toggleable\"><input class=\"sk-toggleable__control sk-hidden--visually\" id=\"sk-estimator-id-2\" type=\"checkbox\" ><label for=\"sk-estimator-id-2\" class=\"sk-toggleable__label sk-toggleable__label-arrow\">estimator: XGBClassifier</label><div class=\"sk-toggleable__content\"><pre>XGBClassifier(base_score=None, booster=None, callbacks=None,\n",
       "              colsample_bylevel=None, colsample_bynode=None,\n",
       "              colsample_bytree=None, device=None, early_stopping_rounds=None,\n",
       "              enable_categorical=False, eval_metric=&#x27;logloss&#x27;,\n",
       "              feature_types=None, gamma=None, grow_policy=None,\n",
       "              importance_type=None, interaction_constraints=None,\n",
       "              learning_rate=None, max_bin=None, max_cat_threshold=None,\n",
       "              max_cat_to_onehot=None, max_delta_step=None, max_depth=None,\n",
       "              max_leaves=None, min_child_weight=None, missing=nan,\n",
       "              monotone_constraints=None, multi_strategy=None, n_estimators=None,\n",
       "              n_jobs=None, num_parallel_tree=None, random_state=46, ...)</pre></div></div></div><div class=\"sk-serial\"><div class=\"sk-item\"><div class=\"sk-estimator sk-toggleable\"><input class=\"sk-toggleable__control sk-hidden--visually\" id=\"sk-estimator-id-3\" type=\"checkbox\" ><label for=\"sk-estimator-id-3\" class=\"sk-toggleable__label sk-toggleable__label-arrow\">XGBClassifier</label><div class=\"sk-toggleable__content\"><pre>XGBClassifier(base_score=None, booster=None, callbacks=None,\n",
       "              colsample_bylevel=None, colsample_bynode=None,\n",
       "              colsample_bytree=None, device=None, early_stopping_rounds=None,\n",
       "              enable_categorical=False, eval_metric=&#x27;logloss&#x27;,\n",
       "              feature_types=None, gamma=None, grow_policy=None,\n",
       "              importance_type=None, interaction_constraints=None,\n",
       "              learning_rate=None, max_bin=None, max_cat_threshold=None,\n",
       "              max_cat_to_onehot=None, max_delta_step=None, max_depth=None,\n",
       "              max_leaves=None, min_child_weight=None, missing=nan,\n",
       "              monotone_constraints=None, multi_strategy=None, n_estimators=None,\n",
       "              n_jobs=None, num_parallel_tree=None, random_state=46, ...)</pre></div></div></div></div></div></div></div></div></div></div>"
      ],
      "text/plain": [
       "GridSearchCV(cv=5,\n",
       "             estimator=XGBClassifier(base_score=None, booster=None,\n",
       "                                     callbacks=None, colsample_bylevel=None,\n",
       "                                     colsample_bynode=None,\n",
       "                                     colsample_bytree=None, device=None,\n",
       "                                     early_stopping_rounds=None,\n",
       "                                     enable_categorical=False,\n",
       "                                     eval_metric='logloss', feature_types=None,\n",
       "                                     gamma=None, grow_policy=None,\n",
       "                                     importance_type=None,\n",
       "                                     interaction_constraints=None,\n",
       "                                     learning_rate=...\n",
       "                                     max_delta_step=None, max_depth=None,\n",
       "                                     max_leaves=None, min_child_weight=None,\n",
       "                                     missing=nan, monotone_constraints=None,\n",
       "                                     multi_strategy=None, n_estimators=None,\n",
       "                                     n_jobs=None, num_parallel_tree=None,\n",
       "                                     random_state=46, ...),\n",
       "             n_jobs=-1,\n",
       "             param_grid={'learning_rate': [0.1, 0.2, 0.3],\n",
       "                         'max_depth': [3, 5, 10],\n",
       "                         'n_estimators': [100, 200, 300],\n",
       "                         'subsample': [0.5, 0.75, 1]},\n",
       "             scoring='accuracy', verbose=1)"
      ]
     },
     "execution_count": 53,
     "metadata": {},
     "output_type": "execute_result"
    }
   ],
   "source": [
    "tree = XGBClassifier(eval_metric='logloss', random_state=46)\n",
    "\n",
    "param_grid = { # This will be used for all samples\n",
    "    'n_estimators': [100,200,300], # number of sequential trees to be modeled\n",
    "    'learning_rate': [0.1, 0.2, 0.3],\n",
    "    'max_depth': [3, 5, 10], # maximum depth of the individual regression estimators\n",
    "    'subsample': [0.5, 0.75, 1]\n",
    "}\n",
    "\n",
    "grid_search_tree = GridSearchCV(\n",
    "    estimator=tree,\n",
    "    param_grid=param_grid,\n",
    "    cv=5,  # 5-fold cross-validation\n",
    "    scoring='accuracy',  # Metric to optimize\n",
    "    n_jobs=-1,  # Use all processors\n",
    "    verbose=1\n",
    ")\n",
    "\n",
    "grid_search_tree.fit(X_train, y_train)"
   ]
  },
  {
   "cell_type": "code",
   "execution_count": 54,
   "id": "f4bc9b27-f02d-47fa-a8e9-674a990c1f4f",
   "metadata": {},
   "outputs": [
    {
     "name": "stdout",
     "output_type": "stream",
     "text": [
      "Best Hyperparameters: {'learning_rate': 0.2, 'max_depth': 5, 'n_estimators': 200, 'subsample': 0.75}\n"
     ]
    }
   ],
   "source": [
    "print(\"Best Hyperparameters:\", grid_search_tree.best_params_)\n",
    "best_tree = grid_search_tree.best_estimator_"
   ]
  },
  {
   "cell_type": "code",
   "execution_count": 69,
   "id": "87007eb6-c77d-47a5-900a-756252337e8b",
   "metadata": {},
   "outputs": [
    {
     "name": "stdout",
     "output_type": "stream",
     "text": [
      "Optimal Threshold: 0.1, F1 Score: 0.8571428571428571\n"
     ]
    }
   ],
   "source": [
    "y_pred_proba_val_tree = best_tree.predict_proba(X_val)[::,1]\n",
    "thres_tree, f1_tree_val = optimum_threshold(y_pred_proba_val_tree, y_val)\n",
    "print(f\"Optimal Threshold: {thres_tree}, F1 Score: {f1_tree_val}\")"
   ]
  },
  {
   "cell_type": "code",
   "execution_count": 71,
   "id": "4aac9069-89f2-4c25-8778-cbef4dd47235",
   "metadata": {},
   "outputs": [],
   "source": [
    "predictions_tree_test = new_predict(best_tree, X_test, thres_tree)"
   ]
  },
  {
   "cell_type": "code",
   "execution_count": 73,
   "id": "d368f06e-e85b-44fb-9b04-ef545e6224a7",
   "metadata": {},
   "outputs": [
    {
     "name": "stdout",
     "output_type": "stream",
     "text": [
      "AUC: 0.9834362847772607, F1 Score: 0.8615384615384616\n"
     ]
    }
   ],
   "source": [
    "y_pred_proba_tree = best_tree.predict_proba(X_test)[::,1]\n",
    "auc_tree = roc_auc_score(y_test, y_pred_proba_tree)\n",
    "\n",
    "f1score_tree = f1_score(y_test, predictions_tree_test)\n",
    "print(f\"AUC: {auc_tree}, F1 Score: {f1score_tree}\")"
   ]
  },
  {
   "cell_type": "code",
   "execution_count": 79,
   "id": "a79e3f10-02c7-4bc7-b19d-dd00d21b6356",
   "metadata": {},
   "outputs": [
    {
     "name": "stdout",
     "output_type": "stream",
     "text": [
      "Gradient Boosting without Resampling\n",
      "\n",
      "Test Accuracy: 0.9995770577316196\n",
      "\n",
      "AUC: 0.9834362847772607\n",
      "F1 Score: 0.8615384615384616\n",
      "\n",
      "Confusion Matrix\n",
      "[[42485     6]\n",
      " [   12    56]]\n",
      "\n",
      "\n",
      "              precision    recall  f1-score   support\n",
      "\n",
      "           0       1.00      1.00      1.00     42491\n",
      "           1       0.90      0.82      0.86        68\n",
      "\n",
      "    accuracy                           1.00     42559\n",
      "   macro avg       0.95      0.91      0.93     42559\n",
      "weighted avg       1.00      1.00      1.00     42559\n",
      "\n"
     ]
    }
   ],
   "source": [
    "print('Gradient Boosting without Resampling')\n",
    "print('\\nTest Accuracy:', accuracy_score(y_test, predictions_tree_test))\n",
    "print(f\"\\nAUC: {auc_tree}\\nF1 Score: {f1score_tree}\")\n",
    "print('\\nConfusion Matrix')\n",
    "print(confusion_matrix(y_test, predictions_tree_test))\n",
    "print('\\n')\n",
    "print(classification_report(y_test, predictions_tree_test))"
   ]
  },
  {
   "cell_type": "code",
   "execution_count": 495,
   "id": "94fec89d-6add-4b95-bb4a-0103e62d8c5d",
   "metadata": {},
   "outputs": [],
   "source": [
    "confus = confusion_matrix(y_test, predictions_tree_test)"
   ]
  },
  {
   "cell_type": "code",
   "execution_count": 491,
   "id": "de8723f0-e247-4b04-b25f-139f73a5506a",
   "metadata": {},
   "outputs": [
    {
     "data": {
      "text/plain": [
       "(42485, 6, 12, 56)"
      ]
     },
     "execution_count": 491,
     "metadata": {},
     "output_type": "execute_result"
    }
   ],
   "source": [
    "tn, fp, fn, tp = confus.ravel()\n",
    "(tn, fp, fn, tp)"
   ]
  },
  {
   "cell_type": "code",
   "execution_count": 497,
   "id": "88b88a9f-c227-4693-8cc8-59dacb0cafab",
   "metadata": {},
   "outputs": [
    {
     "name": "stdout",
     "output_type": "stream",
     "text": [
      "0.01412%\n"
     ]
    }
   ],
   "source": [
    "false_positive = fp/(fp+tn)*100\n",
    "print(f\"{false_positive:.5f}%\")"
   ]
  },
  {
   "cell_type": "code",
   "execution_count": 499,
   "id": "3bb2c765-75e3-457a-9c0f-9da43242e5cf",
   "metadata": {},
   "outputs": [
    {
     "name": "stdout",
     "output_type": "stream",
     "text": [
      "90.32258%\n"
     ]
    }
   ],
   "source": [
    "precision = tp/(tp+fp)*100\n",
    "print(f\"{precision:.5f}%\")"
   ]
  },
  {
   "cell_type": "code",
   "execution_count": 501,
   "id": "69342cf6-5c52-49d1-9f1d-c5c99aa3169a",
   "metadata": {},
   "outputs": [
    {
     "name": "stdout",
     "output_type": "stream",
     "text": [
      "82.35294%\n"
     ]
    }
   ],
   "source": [
    "recall = tp/(tp+fn)*100\n",
    "print(f\"{recall:.5f}%\")"
   ]
  },
  {
   "cell_type": "code",
   "execution_count": 503,
   "id": "c3611ef3-e789-42d4-a63e-fa4ad47a00b5",
   "metadata": {},
   "outputs": [
    {
     "name": "stdout",
     "output_type": "stream",
     "text": [
      "0.86154\n"
     ]
    }
   ],
   "source": [
    "F1_Score = 2*((precision/100)*(recall/100))/((precision/100)+(recall/100))\n",
    "print(f\"{F1_Score:.5f}\")"
   ]
  },
  {
   "cell_type": "code",
   "execution_count": 81,
   "id": "4a9755b8-b11b-4376-82ac-728b8574f6a0",
   "metadata": {},
   "outputs": [
    {
     "data": {
      "image/png": "[encoded data removed]",
      "text/plain": [
       "<Figure size 640x480 with 1 Axes>"
      ]
     },
     "metadata": {},
     "output_type": "display_data"
    }
   ],
   "source": [
    "fpr_tree, tpr_tree, _ = roc_curve(y_test, y_pred_proba_tree)\n",
    "plt.plot(fpr_tree,tpr_tree,label=\"Decision Tree on \\nOriginal Data, auc=\"+str(auc_tree))\n",
    "plt.xlabel('False Positive Rate')\n",
    "plt.ylabel('True Positive Rate')\n",
    "plt.legend(loc=4)\n",
    "plt.savefig('../assets/ROC_CURVE_tree.png')\n",
    "plt.show()"
   ]
  },
  {
   "cell_type": "code",
   "execution_count": 133,
   "id": "b3725b18-c666-4fc4-91ab-966720c7714e",
   "metadata": {},
   "outputs": [],
   "source": [
    "best_tree.save_model(\"../assets/best_tree.json\")"
   ]
  },
  {
   "cell_type": "markdown",
   "id": "370888f4-f55a-4724-93e0-7e401c0e2a08",
   "metadata": {},
   "source": [
    "##### With SMOTE Resampling"
   ]
  },
  {
   "cell_type": "code",
   "execution_count": 83,
   "id": "2ebe0c61-2dd3-4a29-898f-33a52abe9916",
   "metadata": {},
   "outputs": [
    {
     "name": "stdout",
     "output_type": "stream",
     "text": [
      "Fitting 5 folds for each of 81 candidates, totalling 405 fits\n"
     ]
    },
    {
     "data": {
      "text/html": [
       "<style>#sk-container-id-2 {color: black;background-color: white;}#sk-container-id-2 pre{padding: 0;}#sk-container-id-2 div.sk-toggleable {background-color: white;}#sk-container-id-2 label.sk-toggleable__label {cursor: pointer;display: block;width: 100%;margin-bottom: 0;padding: 0.3em;box-sizing: border-box;text-align: center;}#sk-container-id-2 label.sk-toggleable__label-arrow:before {content: \"▸\";float: left;margin-right: 0.25em;color: #696969;}#sk-container-id-2 label.sk-toggleable__label-arrow:hover:before {color: black;}#sk-container-id-2 div.sk-estimator:hover label.sk-toggleable__label-arrow:before {color: black;}#sk-container-id-2 div.sk-toggleable__content {max-height: 0;max-width: 0;overflow: hidden;text-align: left;background-color: #f0f8ff;}#sk-container-id-2 div.sk-toggleable__content pre {margin: 0.2em;color: black;border-radius: 0.25em;background-color: #f0f8ff;}#sk-container-id-2 input.sk-toggleable__control:checked~div.sk-toggleable__content {max-height: 200px;max-width: 100%;overflow: auto;}#sk-container-id-2 input.sk-toggleable__control:checked~label.sk-toggleable__label-arrow:before {content: \"▾\";}#sk-container-id-2 div.sk-estimator input.sk-toggleable__control:checked~label.sk-toggleable__label {background-color: #d4ebff;}#sk-container-id-2 div.sk-label input.sk-toggleable__control:checked~label.sk-toggleable__label {background-color: #d4ebff;}#sk-container-id-2 input.sk-hidden--visually {border: 0;clip: rect(1px 1px 1px 1px);clip: rect(1px, 1px, 1px, 1px);height: 1px;margin: -1px;overflow: hidden;padding: 0;position: absolute;width: 1px;}#sk-container-id-2 div.sk-estimator {font-family: monospace;background-color: #f0f8ff;border: 1px dotted black;border-radius: 0.25em;box-sizing: border-box;margin-bottom: 0.5em;}#sk-container-id-2 div.sk-estimator:hover {background-color: #d4ebff;}#sk-container-id-2 div.sk-parallel-item::after {content: \"\";width: 100%;border-bottom: 1px solid gray;flex-grow: 1;}#sk-container-id-2 div.sk-label:hover label.sk-toggleable__label {background-color: #d4ebff;}#sk-container-id-2 div.sk-serial::before {content: \"\";position: absolute;border-left: 1px solid gray;box-sizing: border-box;top: 0;bottom: 0;left: 50%;z-index: 0;}#sk-container-id-2 div.sk-serial {display: flex;flex-direction: column;align-items: center;background-color: white;padding-right: 0.2em;padding-left: 0.2em;position: relative;}#sk-container-id-2 div.sk-item {position: relative;z-index: 1;}#sk-container-id-2 div.sk-parallel {display: flex;align-items: stretch;justify-content: center;background-color: white;position: relative;}#sk-container-id-2 div.sk-item::before, #sk-container-id-2 div.sk-parallel-item::before {content: \"\";position: absolute;border-left: 1px solid gray;box-sizing: border-box;top: 0;bottom: 0;left: 50%;z-index: -1;}#sk-container-id-2 div.sk-parallel-item {display: flex;flex-direction: column;z-index: 1;position: relative;background-color: white;}#sk-container-id-2 div.sk-parallel-item:first-child::after {align-self: flex-end;width: 50%;}#sk-container-id-2 div.sk-parallel-item:last-child::after {align-self: flex-start;width: 50%;}#sk-container-id-2 div.sk-parallel-item:only-child::after {width: 0;}#sk-container-id-2 div.sk-dashed-wrapped {border: 1px dashed gray;margin: 0 0.4em 0.5em 0.4em;box-sizing: border-box;padding-bottom: 0.4em;background-color: white;}#sk-container-id-2 div.sk-label label {font-family: monospace;font-weight: bold;display: inline-block;line-height: 1.2em;}#sk-container-id-2 div.sk-label-container {text-align: center;}#sk-container-id-2 div.sk-container {/* jupyter's `normalize.less` sets `[hidden] { display: none; }` but bootstrap.min.css set `[hidden] { display: none !important; }` so we also need the `!important` here to be able to override the default hidden behavior on the sphinx rendered scikit-learn.org. See: https://github.com/scikit-learn/scikit-learn/issues/21755 */display: inline-block !important;position: relative;}#sk-container-id-2 div.sk-text-repr-fallback {display: none;}</style><div id=\"sk-container-id-2\" class=\"sk-top-container\"><div class=\"sk-text-repr-fallback\"><pre>GridSearchCV(cv=5,\n",
       "             estimator=XGBClassifier(base_score=None, booster=None,\n",
       "                                     callbacks=None, colsample_bylevel=None,\n",
       "                                     colsample_bynode=None,\n",
       "                                     colsample_bytree=None, device=None,\n",
       "                                     early_stopping_rounds=None,\n",
       "                                     enable_categorical=False,\n",
       "                                     eval_metric=&#x27;logloss&#x27;, feature_types=None,\n",
       "                                     gamma=None, grow_policy=None,\n",
       "                                     importance_type=None,\n",
       "                                     interaction_constraints=None,\n",
       "                                     learning_rate=...\n",
       "                                     max_delta_step=None, max_depth=None,\n",
       "                                     max_leaves=None, min_child_weight=None,\n",
       "                                     missing=nan, monotone_constraints=None,\n",
       "                                     multi_strategy=None, n_estimators=None,\n",
       "                                     n_jobs=None, num_parallel_tree=None,\n",
       "                                     random_state=46, ...),\n",
       "             n_jobs=-1,\n",
       "             param_grid={&#x27;learning_rate&#x27;: [0.1, 0.2, 0.3],\n",
       "                         &#x27;max_depth&#x27;: [3, 5, 10],\n",
       "                         &#x27;n_estimators&#x27;: [100, 200, 300],\n",
       "                         &#x27;subsample&#x27;: [0.5, 0.75, 1]},\n",
       "             scoring=&#x27;accuracy&#x27;, verbose=1)</pre><b>In a Jupyter environment, please rerun this cell to show the HTML representation or trust the notebook. <br />On GitHub, the HTML representation is unable to render, please try loading this page with nbviewer.org.</b></div><div class=\"sk-container\" hidden><div class=\"sk-item sk-dashed-wrapped\"><div class=\"sk-label-container\"><div class=\"sk-label sk-toggleable\"><input class=\"sk-toggleable__control sk-hidden--visually\" id=\"sk-estimator-id-4\" type=\"checkbox\" ><label for=\"sk-estimator-id-4\" class=\"sk-toggleable__label sk-toggleable__label-arrow\">GridSearchCV</label><div class=\"sk-toggleable__content\"><pre>GridSearchCV(cv=5,\n",
       "             estimator=XGBClassifier(base_score=None, booster=None,\n",
       "                                     callbacks=None, colsample_bylevel=None,\n",
       "                                     colsample_bynode=None,\n",
       "                                     colsample_bytree=None, device=None,\n",
       "                                     early_stopping_rounds=None,\n",
       "                                     enable_categorical=False,\n",
       "                                     eval_metric=&#x27;logloss&#x27;, feature_types=None,\n",
       "                                     gamma=None, grow_policy=None,\n",
       "                                     importance_type=None,\n",
       "                                     interaction_constraints=None,\n",
       "                                     learning_rate=...\n",
       "                                     max_delta_step=None, max_depth=None,\n",
       "                                     max_leaves=None, min_child_weight=None,\n",
       "                                     missing=nan, monotone_constraints=None,\n",
       "                                     multi_strategy=None, n_estimators=None,\n",
       "                                     n_jobs=None, num_parallel_tree=None,\n",
       "                                     random_state=46, ...),\n",
       "             n_jobs=-1,\n",
       "             param_grid={&#x27;learning_rate&#x27;: [0.1, 0.2, 0.3],\n",
       "                         &#x27;max_depth&#x27;: [3, 5, 10],\n",
       "                         &#x27;n_estimators&#x27;: [100, 200, 300],\n",
       "                         &#x27;subsample&#x27;: [0.5, 0.75, 1]},\n",
       "             scoring=&#x27;accuracy&#x27;, verbose=1)</pre></div></div></div><div class=\"sk-parallel\"><div class=\"sk-parallel-item\"><div class=\"sk-item\"><div class=\"sk-label-container\"><div class=\"sk-label sk-toggleable\"><input class=\"sk-toggleable__control sk-hidden--visually\" id=\"sk-estimator-id-5\" type=\"checkbox\" ><label for=\"sk-estimator-id-5\" class=\"sk-toggleable__label sk-toggleable__label-arrow\">estimator: XGBClassifier</label><div class=\"sk-toggleable__content\"><pre>XGBClassifier(base_score=None, booster=None, callbacks=None,\n",
       "              colsample_bylevel=None, colsample_bynode=None,\n",
       "              colsample_bytree=None, device=None, early_stopping_rounds=None,\n",
       "              enable_categorical=False, eval_metric=&#x27;logloss&#x27;,\n",
       "              feature_types=None, gamma=None, grow_policy=None,\n",
       "              importance_type=None, interaction_constraints=None,\n",
       "              learning_rate=None, max_bin=None, max_cat_threshold=None,\n",
       "              max_cat_to_onehot=None, max_delta_step=None, max_depth=None,\n",
       "              max_leaves=None, min_child_weight=None, missing=nan,\n",
       "              monotone_constraints=None, multi_strategy=None, n_estimators=None,\n",
       "              n_jobs=None, num_parallel_tree=None, random_state=46, ...)</pre></div></div></div><div class=\"sk-serial\"><div class=\"sk-item\"><div class=\"sk-estimator sk-toggleable\"><input class=\"sk-toggleable__control sk-hidden--visually\" id=\"sk-estimator-id-6\" type=\"checkbox\" ><label for=\"sk-estimator-id-6\" class=\"sk-toggleable__label sk-toggleable__label-arrow\">XGBClassifier</label><div class=\"sk-toggleable__content\"><pre>XGBClassifier(base_score=None, booster=None, callbacks=None,\n",
       "              colsample_bylevel=None, colsample_bynode=None,\n",
       "              colsample_bytree=None, device=None, early_stopping_rounds=None,\n",
       "              enable_categorical=False, eval_metric=&#x27;logloss&#x27;,\n",
       "              feature_types=None, gamma=None, grow_policy=None,\n",
       "              importance_type=None, interaction_constraints=None,\n",
       "              learning_rate=None, max_bin=None, max_cat_threshold=None,\n",
       "              max_cat_to_onehot=None, max_delta_step=None, max_depth=None,\n",
       "              max_leaves=None, min_child_weight=None, missing=nan,\n",
       "              monotone_constraints=None, multi_strategy=None, n_estimators=None,\n",
       "              n_jobs=None, num_parallel_tree=None, random_state=46, ...)</pre></div></div></div></div></div></div></div></div></div></div>"
      ],
      "text/plain": [
       "GridSearchCV(cv=5,\n",
       "             estimator=XGBClassifier(base_score=None, booster=None,\n",
       "                                     callbacks=None, colsample_bylevel=None,\n",
       "                                     colsample_bynode=None,\n",
       "                                     colsample_bytree=None, device=None,\n",
       "                                     early_stopping_rounds=None,\n",
       "                                     enable_categorical=False,\n",
       "                                     eval_metric='logloss', feature_types=None,\n",
       "                                     gamma=None, grow_policy=None,\n",
       "                                     importance_type=None,\n",
       "                                     interaction_constraints=None,\n",
       "                                     learning_rate=...\n",
       "                                     max_delta_step=None, max_depth=None,\n",
       "                                     max_leaves=None, min_child_weight=None,\n",
       "                                     missing=nan, monotone_constraints=None,\n",
       "                                     multi_strategy=None, n_estimators=None,\n",
       "                                     n_jobs=None, num_parallel_tree=None,\n",
       "                                     random_state=46, ...),\n",
       "             n_jobs=-1,\n",
       "             param_grid={'learning_rate': [0.1, 0.2, 0.3],\n",
       "                         'max_depth': [3, 5, 10],\n",
       "                         'n_estimators': [100, 200, 300],\n",
       "                         'subsample': [0.5, 0.75, 1]},\n",
       "             scoring='accuracy', verbose=1)"
      ]
     },
     "execution_count": 83,
     "metadata": {},
     "output_type": "execute_result"
    }
   ],
   "source": [
    "tree_smote = XGBClassifier(eval_metric='logloss', random_state=46)\n",
    "\n",
    "grid_search_tree_smote = GridSearchCV(\n",
    "    estimator=tree_smote,\n",
    "    param_grid=param_grid,\n",
    "    cv=5,  # 5-fold cross-validation\n",
    "    scoring='accuracy',  # Metric to optimize\n",
    "    n_jobs=-1,  # Use all processors\n",
    "    verbose=1\n",
    ")\n",
    "\n",
    "grid_search_tree_smote.fit(X_train2, y_train2)"
   ]
  },
  {
   "cell_type": "code",
   "execution_count": 87,
   "id": "b552d1de-4533-4943-9503-4d69d417b84b",
   "metadata": {},
   "outputs": [
    {
     "name": "stdout",
     "output_type": "stream",
     "text": [
      "Best Hyperparameters: {'learning_rate': 0.3, 'max_depth': 5, 'n_estimators': 200, 'subsample': 0.75}\n"
     ]
    }
   ],
   "source": [
    "print(\"Best Hyperparameters:\", grid_search_tree_smote.best_params_)\n",
    "best_tree_smote = grid_search_tree_smote.best_estimator_"
   ]
  },
  {
   "cell_type": "code",
   "execution_count": 89,
   "id": "c351ead2-0eef-418e-a503-4cc0bd8a0a02",
   "metadata": {},
   "outputs": [
    {
     "name": "stdout",
     "output_type": "stream",
     "text": [
      "Optimal Threshold: 0.7500000000000001, F1 Score: 0.8345323741007195\n"
     ]
    }
   ],
   "source": [
    "y_pred_proba_val_tree_SMOTE = best_tree_smote.predict_proba(X_val2)[::,1]\n",
    "thres_tree_smote, f1_tree_val_smote = optimum_threshold(y_pred_proba_val_tree_SMOTE, y_val2)\n",
    "print(f\"Optimal Threshold: {thres_tree_smote}, F1 Score: {f1_tree_val_smote}\")"
   ]
  },
  {
   "cell_type": "code",
   "execution_count": 95,
   "id": "98344aab-6f71-4563-a16b-b48e7103aa47",
   "metadata": {},
   "outputs": [],
   "source": [
    "predictions_tree_smote_test = new_predict(best_tree_smote, X_test2, thres_tree_smote)"
   ]
  },
  {
   "cell_type": "code",
   "execution_count": 97,
   "id": "1f1dd1d7-6add-4216-b0a6-deb055445b02",
   "metadata": {},
   "outputs": [
    {
     "name": "stdout",
     "output_type": "stream",
     "text": [
      "AUC: 0.9780784027621073, F1 Score: 0.8484848484848485\n"
     ]
    }
   ],
   "source": [
    "y_pred_proba_tree_SMOTE = best_tree_smote.predict_proba(X_test2)[::,1]\n",
    "auc_tree_smote = roc_auc_score(y_test2, y_pred_proba_tree_SMOTE)\n",
    "\n",
    "f1score_tree_s = f1_score(y_test2, predictions_tree_smote_test)\n",
    "print(f\"AUC: {auc_tree_smote}, F1 Score: {f1score_tree_s}\")"
   ]
  },
  {
   "cell_type": "code",
   "execution_count": 99,
   "id": "ece71e27-5f33-4320-aa21-7d8f79bdaef8",
   "metadata": {},
   "outputs": [
    {
     "name": "stdout",
     "output_type": "stream",
     "text": [
      "Gradient Boosting with SMOTE Resampling\n",
      "\n",
      "Test Accuracy: 0.999530064146244\n",
      "\n",
      "AUC: 0.9780784027621073\n",
      "F1 Score: 0.8484848484848485\n",
      "\n",
      "Confusion Matrix\n",
      "[[42483     8]\n",
      " [   12    56]]\n",
      "\n",
      "\n",
      "              precision    recall  f1-score   support\n",
      "\n",
      "           0       1.00      1.00      1.00     42491\n",
      "           1       0.88      0.82      0.85        68\n",
      "\n",
      "    accuracy                           1.00     42559\n",
      "   macro avg       0.94      0.91      0.92     42559\n",
      "weighted avg       1.00      1.00      1.00     42559\n",
      "\n"
     ]
    }
   ],
   "source": [
    "print('Gradient Boosting with SMOTE Resampling')\n",
    "print('\\nTest Accuracy:', accuracy_score(y_test2, predictions_tree_smote_test))\n",
    "print(f\"\\nAUC: {auc_tree_smote}\\nF1 Score: {f1score_tree_s}\")\n",
    "print('\\nConfusion Matrix')\n",
    "print(confusion_matrix(y_test2, predictions_tree_smote_test))\n",
    "print('\\n')\n",
    "print(classification_report(y_test2, predictions_tree_smote_test))"
   ]
  },
  {
   "cell_type": "code",
   "execution_count": 101,
   "id": "a9fc8b44-e1ab-48da-a29c-372b6aee902a",
   "metadata": {},
   "outputs": [
    {
     "data": {
      "image/png": "[encoded data removed]",
      "text/plain": [
       "<Figure size 640x480 with 1 Axes>"
      ]
     },
     "metadata": {},
     "output_type": "display_data"
    }
   ],
   "source": [
    "fpr_tree_s, tpr_tree_s, _ = roc_curve(y_test2,  y_pred_proba_tree_SMOTE)\n",
    "plt.plot(fpr_tree_s,tpr_tree_s,label=\"Decision Tree on \\nSMOTE Oversampled Data, auc=\"+str(auc_tree_smote))\n",
    "plt.xlabel('False Positive Rate')\n",
    "plt.ylabel('True Positive Rate')\n",
    "plt.legend(loc=4)\n",
    "plt.savefig('../assets/ROC_CURVE_tree_smote.png')\n",
    "plt.show()"
   ]
  },
  {
   "cell_type": "code",
   "execution_count": 129,
   "id": "b7f13463-658f-46e7-9e37-3f35cef6d897",
   "metadata": {},
   "outputs": [],
   "source": [
    "best_tree_smote.save_model(\"../assets/best_tree_smote.json\")"
   ]
  },
  {
   "cell_type": "markdown",
   "id": "3a81cc12-7524-4b44-beef-a5940fbfd4ae",
   "metadata": {},
   "source": [
    "##### With ADASYN Resampling"
   ]
  },
  {
   "cell_type": "code",
   "execution_count": 103,
   "id": "004e3fa8-56ff-4b10-8c00-528111c054f3",
   "metadata": {},
   "outputs": [
    {
     "name": "stdout",
     "output_type": "stream",
     "text": [
      "Fitting 5 folds for each of 81 candidates, totalling 405 fits\n"
     ]
    },
    {
     "data": {
      "text/html": [
       "<style>#sk-container-id-3 {color: black;background-color: white;}#sk-container-id-3 pre{padding: 0;}#sk-container-id-3 div.sk-toggleable {background-color: white;}#sk-container-id-3 label.sk-toggleable__label {cursor: pointer;display: block;width: 100%;margin-bottom: 0;padding: 0.3em;box-sizing: border-box;text-align: center;}#sk-container-id-3 label.sk-toggleable__label-arrow:before {content: \"▸\";float: left;margin-right: 0.25em;color: #696969;}#sk-container-id-3 label.sk-toggleable__label-arrow:hover:before {color: black;}#sk-container-id-3 div.sk-estimator:hover label.sk-toggleable__label-arrow:before {color: black;}#sk-container-id-3 div.sk-toggleable__content {max-height: 0;max-width: 0;overflow: hidden;text-align: left;background-color: #f0f8ff;}#sk-container-id-3 div.sk-toggleable__content pre {margin: 0.2em;color: black;border-radius: 0.25em;background-color: #f0f8ff;}#sk-container-id-3 input.sk-toggleable__control:checked~div.sk-toggleable__content {max-height: 200px;max-width: 100%;overflow: auto;}#sk-container-id-3 input.sk-toggleable__control:checked~label.sk-toggleable__label-arrow:before {content: \"▾\";}#sk-container-id-3 div.sk-estimator input.sk-toggleable__control:checked~label.sk-toggleable__label {background-color: #d4ebff;}#sk-container-id-3 div.sk-label input.sk-toggleable__control:checked~label.sk-toggleable__label {background-color: #d4ebff;}#sk-container-id-3 input.sk-hidden--visually {border: 0;clip: rect(1px 1px 1px 1px);clip: rect(1px, 1px, 1px, 1px);height: 1px;margin: -1px;overflow: hidden;padding: 0;position: absolute;width: 1px;}#sk-container-id-3 div.sk-estimator {font-family: monospace;background-color: #f0f8ff;border: 1px dotted black;border-radius: 0.25em;box-sizing: border-box;margin-bottom: 0.5em;}#sk-container-id-3 div.sk-estimator:hover {background-color: #d4ebff;}#sk-container-id-3 div.sk-parallel-item::after {content: \"\";width: 100%;border-bottom: 1px solid gray;flex-grow: 1;}#sk-container-id-3 div.sk-label:hover label.sk-toggleable__label {background-color: #d4ebff;}#sk-container-id-3 div.sk-serial::before {content: \"\";position: absolute;border-left: 1px solid gray;box-sizing: border-box;top: 0;bottom: 0;left: 50%;z-index: 0;}#sk-container-id-3 div.sk-serial {display: flex;flex-direction: column;align-items: center;background-color: white;padding-right: 0.2em;padding-left: 0.2em;position: relative;}#sk-container-id-3 div.sk-item {position: relative;z-index: 1;}#sk-container-id-3 div.sk-parallel {display: flex;align-items: stretch;justify-content: center;background-color: white;position: relative;}#sk-container-id-3 div.sk-item::before, #sk-container-id-3 div.sk-parallel-item::before {content: \"\";position: absolute;border-left: 1px solid gray;box-sizing: border-box;top: 0;bottom: 0;left: 50%;z-index: -1;}#sk-container-id-3 div.sk-parallel-item {display: flex;flex-direction: column;z-index: 1;position: relative;background-color: white;}#sk-container-id-3 div.sk-parallel-item:first-child::after {align-self: flex-end;width: 50%;}#sk-container-id-3 div.sk-parallel-item:last-child::after {align-self: flex-start;width: 50%;}#sk-container-id-3 div.sk-parallel-item:only-child::after {width: 0;}#sk-container-id-3 div.sk-dashed-wrapped {border: 1px dashed gray;margin: 0 0.4em 0.5em 0.4em;box-sizing: border-box;padding-bottom: 0.4em;background-color: white;}#sk-container-id-3 div.sk-label label {font-family: monospace;font-weight: bold;display: inline-block;line-height: 1.2em;}#sk-container-id-3 div.sk-label-container {text-align: center;}#sk-container-id-3 div.sk-container {/* jupyter's `normalize.less` sets `[hidden] { display: none; }` but bootstrap.min.css set `[hidden] { display: none !important; }` so we also need the `!important` here to be able to override the default hidden behavior on the sphinx rendered scikit-learn.org. See: https://github.com/scikit-learn/scikit-learn/issues/21755 */display: inline-block !important;position: relative;}#sk-container-id-3 div.sk-text-repr-fallback {display: none;}</style><div id=\"sk-container-id-3\" class=\"sk-top-container\"><div class=\"sk-text-repr-fallback\"><pre>GridSearchCV(cv=5,\n",
       "             estimator=XGBClassifier(base_score=None, booster=None,\n",
       "                                     callbacks=None, colsample_bylevel=None,\n",
       "                                     colsample_bynode=None,\n",
       "                                     colsample_bytree=None, device=None,\n",
       "                                     early_stopping_rounds=None,\n",
       "                                     enable_categorical=False,\n",
       "                                     eval_metric=&#x27;logloss&#x27;, feature_types=None,\n",
       "                                     gamma=None, grow_policy=None,\n",
       "                                     importance_type=None,\n",
       "                                     interaction_constraints=None,\n",
       "                                     learning_rate=...\n",
       "                                     max_delta_step=None, max_depth=None,\n",
       "                                     max_leaves=None, min_child_weight=None,\n",
       "                                     missing=nan, monotone_constraints=None,\n",
       "                                     multi_strategy=None, n_estimators=None,\n",
       "                                     n_jobs=None, num_parallel_tree=None,\n",
       "                                     random_state=46, ...),\n",
       "             n_jobs=-1,\n",
       "             param_grid={&#x27;learning_rate&#x27;: [0.1, 0.2, 0.3],\n",
       "                         &#x27;max_depth&#x27;: [3, 5, 10],\n",
       "                         &#x27;n_estimators&#x27;: [100, 200, 300],\n",
       "                         &#x27;subsample&#x27;: [0.5, 0.75, 1]},\n",
       "             scoring=&#x27;accuracy&#x27;, verbose=1)</pre><b>In a Jupyter environment, please rerun this cell to show the HTML representation or trust the notebook. <br />On GitHub, the HTML representation is unable to render, please try loading this page with nbviewer.org.</b></div><div class=\"sk-container\" hidden><div class=\"sk-item sk-dashed-wrapped\"><div class=\"sk-label-container\"><div class=\"sk-label sk-toggleable\"><input class=\"sk-toggleable__control sk-hidden--visually\" id=\"sk-estimator-id-7\" type=\"checkbox\" ><label for=\"sk-estimator-id-7\" class=\"sk-toggleable__label sk-toggleable__label-arrow\">GridSearchCV</label><div class=\"sk-toggleable__content\"><pre>GridSearchCV(cv=5,\n",
       "             estimator=XGBClassifier(base_score=None, booster=None,\n",
       "                                     callbacks=None, colsample_bylevel=None,\n",
       "                                     colsample_bynode=None,\n",
       "                                     colsample_bytree=None, device=None,\n",
       "                                     early_stopping_rounds=None,\n",
       "                                     enable_categorical=False,\n",
       "                                     eval_metric=&#x27;logloss&#x27;, feature_types=None,\n",
       "                                     gamma=None, grow_policy=None,\n",
       "                                     importance_type=None,\n",
       "                                     interaction_constraints=None,\n",
       "                                     learning_rate=...\n",
       "                                     max_delta_step=None, max_depth=None,\n",
       "                                     max_leaves=None, min_child_weight=None,\n",
       "                                     missing=nan, monotone_constraints=None,\n",
       "                                     multi_strategy=None, n_estimators=None,\n",
       "                                     n_jobs=None, num_parallel_tree=None,\n",
       "                                     random_state=46, ...),\n",
       "             n_jobs=-1,\n",
       "             param_grid={&#x27;learning_rate&#x27;: [0.1, 0.2, 0.3],\n",
       "                         &#x27;max_depth&#x27;: [3, 5, 10],\n",
       "                         &#x27;n_estimators&#x27;: [100, 200, 300],\n",
       "                         &#x27;subsample&#x27;: [0.5, 0.75, 1]},\n",
       "             scoring=&#x27;accuracy&#x27;, verbose=1)</pre></div></div></div><div class=\"sk-parallel\"><div class=\"sk-parallel-item\"><div class=\"sk-item\"><div class=\"sk-label-container\"><div class=\"sk-label sk-toggleable\"><input class=\"sk-toggleable__control sk-hidden--visually\" id=\"sk-estimator-id-8\" type=\"checkbox\" ><label for=\"sk-estimator-id-8\" class=\"sk-toggleable__label sk-toggleable__label-arrow\">estimator: XGBClassifier</label><div class=\"sk-toggleable__content\"><pre>XGBClassifier(base_score=None, booster=None, callbacks=None,\n",
       "              colsample_bylevel=None, colsample_bynode=None,\n",
       "              colsample_bytree=None, device=None, early_stopping_rounds=None,\n",
       "              enable_categorical=False, eval_metric=&#x27;logloss&#x27;,\n",
       "              feature_types=None, gamma=None, grow_policy=None,\n",
       "              importance_type=None, interaction_constraints=None,\n",
       "              learning_rate=None, max_bin=None, max_cat_threshold=None,\n",
       "              max_cat_to_onehot=None, max_delta_step=None, max_depth=None,\n",
       "              max_leaves=None, min_child_weight=None, missing=nan,\n",
       "              monotone_constraints=None, multi_strategy=None, n_estimators=None,\n",
       "              n_jobs=None, num_parallel_tree=None, random_state=46, ...)</pre></div></div></div><div class=\"sk-serial\"><div class=\"sk-item\"><div class=\"sk-estimator sk-toggleable\"><input class=\"sk-toggleable__control sk-hidden--visually\" id=\"sk-estimator-id-9\" type=\"checkbox\" ><label for=\"sk-estimator-id-9\" class=\"sk-toggleable__label sk-toggleable__label-arrow\">XGBClassifier</label><div class=\"sk-toggleable__content\"><pre>XGBClassifier(base_score=None, booster=None, callbacks=None,\n",
       "              colsample_bylevel=None, colsample_bynode=None,\n",
       "              colsample_bytree=None, device=None, early_stopping_rounds=None,\n",
       "              enable_categorical=False, eval_metric=&#x27;logloss&#x27;,\n",
       "              feature_types=None, gamma=None, grow_policy=None,\n",
       "              importance_type=None, interaction_constraints=None,\n",
       "              learning_rate=None, max_bin=None, max_cat_threshold=None,\n",
       "              max_cat_to_onehot=None, max_delta_step=None, max_depth=None,\n",
       "              max_leaves=None, min_child_weight=None, missing=nan,\n",
       "              monotone_constraints=None, multi_strategy=None, n_estimators=None,\n",
       "              n_jobs=None, num_parallel_tree=None, random_state=46, ...)</pre></div></div></div></div></div></div></div></div></div></div>"
      ],
      "text/plain": [
       "GridSearchCV(cv=5,\n",
       "             estimator=XGBClassifier(base_score=None, booster=None,\n",
       "                                     callbacks=None, colsample_bylevel=None,\n",
       "                                     colsample_bynode=None,\n",
       "                                     colsample_bytree=None, device=None,\n",
       "                                     early_stopping_rounds=None,\n",
       "                                     enable_categorical=False,\n",
       "                                     eval_metric='logloss', feature_types=None,\n",
       "                                     gamma=None, grow_policy=None,\n",
       "                                     importance_type=None,\n",
       "                                     interaction_constraints=None,\n",
       "                                     learning_rate=...\n",
       "                                     max_delta_step=None, max_depth=None,\n",
       "                                     max_leaves=None, min_child_weight=None,\n",
       "                                     missing=nan, monotone_constraints=None,\n",
       "                                     multi_strategy=None, n_estimators=None,\n",
       "                                     n_jobs=None, num_parallel_tree=None,\n",
       "                                     random_state=46, ...),\n",
       "             n_jobs=-1,\n",
       "             param_grid={'learning_rate': [0.1, 0.2, 0.3],\n",
       "                         'max_depth': [3, 5, 10],\n",
       "                         'n_estimators': [100, 200, 300],\n",
       "                         'subsample': [0.5, 0.75, 1]},\n",
       "             scoring='accuracy', verbose=1)"
      ]
     },
     "execution_count": 103,
     "metadata": {},
     "output_type": "execute_result"
    }
   ],
   "source": [
    "tree_asa = XGBClassifier(eval_metric='logloss', random_state=46)\n",
    "\n",
    "grid_search_tree_asa = GridSearchCV(\n",
    "    estimator=tree_asa,\n",
    "    param_grid=param_grid,\n",
    "    cv=5,  # 5-fold cross-validation\n",
    "    scoring='accuracy',  # Metric to optimize\n",
    "    n_jobs=-1,  # Use all processors\n",
    "    verbose=1\n",
    ")\n",
    "\n",
    "grid_search_tree_asa.fit(X_train3, y_train3)"
   ]
  },
  {
   "cell_type": "code",
   "execution_count": 104,
   "id": "7a69ce84-74ca-4d11-abb9-44b8e815a1a1",
   "metadata": {},
   "outputs": [
    {
     "name": "stdout",
     "output_type": "stream",
     "text": [
      "Best Hyperparameters: {'learning_rate': 0.2, 'max_depth': 3, 'n_estimators': 300, 'subsample': 1}\n"
     ]
    }
   ],
   "source": [
    "print(\"Best Hyperparameters:\", grid_search_tree_asa.best_params_)\n",
    "best_tree_asa = grid_search_tree_asa.best_estimator_"
   ]
  },
  {
   "cell_type": "code",
   "execution_count": 107,
   "id": "4eb8c661-e5ed-425c-acb4-7d1795bee0e7",
   "metadata": {},
   "outputs": [
    {
     "name": "stdout",
     "output_type": "stream",
     "text": [
      "Optimal Threshold: 0.9500000000000003, F1 Score: 0.8358208955223881\n"
     ]
    }
   ],
   "source": [
    "y_pred_proba_val_tree_asa = best_tree_asa.predict_proba(X_val3)[::,1]\n",
    "thres_tree_asa, f1_tree_val_asa = optimum_threshold(y_pred_proba_val_tree_asa, y_val3)\n",
    "print(f\"Optimal Threshold: {thres_tree_asa}, F1 Score: {f1_tree_val_asa}\")"
   ]
  },
  {
   "cell_type": "code",
   "execution_count": 109,
   "id": "6680a31e-40ac-411b-a76c-512a9a623103",
   "metadata": {},
   "outputs": [],
   "source": [
    "predictions_tree_asa_test = new_predict(best_tree_asa, X_test3, thres_tree_asa)"
   ]
  },
  {
   "cell_type": "code",
   "execution_count": 111,
   "id": "905d1798-c589-4a98-945c-20e8089017b4",
   "metadata": {},
   "outputs": [
    {
     "name": "stdout",
     "output_type": "stream",
     "text": [
      "AUC: 0.9709634012462156, F1 Score: 0.859375\n"
     ]
    }
   ],
   "source": [
    "y_pred_proba_tree_asa = best_tree_asa.predict_proba(X_test3)[::,1]\n",
    "auc_tree_asa = roc_auc_score(y_test3, y_pred_proba_tree_asa)\n",
    "\n",
    "f1score_tree_a = f1_score(y_test3, predictions_tree_asa_test)\n",
    "print(f\"AUC: {auc_tree_asa}, F1 Score: {f1score_tree_a}\")"
   ]
  },
  {
   "cell_type": "code",
   "execution_count": 113,
   "id": "6c60d757-6ab8-4371-ae01-e9904715f6ac",
   "metadata": {},
   "outputs": [
    {
     "name": "stdout",
     "output_type": "stream",
     "text": [
      "Gradient Boosting with ADASYN Resampling\n",
      "\n",
      "Test Accuracy: 0.9995770577316196\n",
      "\n",
      "AUC: 0.9709634012462156\n",
      "F1 Score: 0.859375\n",
      "\n",
      "Confusion Matrix\n",
      "[[42486     5]\n",
      " [   13    55]]\n",
      "\n",
      "\n",
      "              precision    recall  f1-score   support\n",
      "\n",
      "           0       1.00      1.00      1.00     42491\n",
      "           1       0.92      0.81      0.86        68\n",
      "\n",
      "    accuracy                           1.00     42559\n",
      "   macro avg       0.96      0.90      0.93     42559\n",
      "weighted avg       1.00      1.00      1.00     42559\n",
      "\n"
     ]
    }
   ],
   "source": [
    "print('Gradient Boosting with ADASYN Resampling')\n",
    "print('\\nTest Accuracy:', accuracy_score(y_test3, predictions_tree_asa_test))\n",
    "print(f\"\\nAUC: {auc_tree_asa}\\nF1 Score: {f1score_tree_a}\")\n",
    "print('\\nConfusion Matrix')\n",
    "print(confusion_matrix(y_test3, predictions_tree_asa_test))\n",
    "print('\\n')\n",
    "print(classification_report(y_test3, predictions_tree_asa_test))"
   ]
  },
  {
   "cell_type": "code",
   "execution_count": 117,
   "id": "01f7d9e7-9e9f-441c-ae5e-7879024be1b8",
   "metadata": {},
   "outputs": [
    {
     "data": {
      "image/png": "[encoded data removed]",
      "text/plain": [
       "<Figure size 640x480 with 1 Axes>"
      ]
     },
     "metadata": {},
     "output_type": "display_data"
    }
   ],
   "source": [
    "fpr_tree_a, tpr_tree_a, _ = roc_curve(y_test3,  y_pred_proba_tree_asa)\n",
    "plt.plot(fpr_tree_a,tpr_tree_a,label=\"Decision Tree on \\nADASYN Oversampled Data, auc=\"+str(auc_tree_asa))\n",
    "plt.xlabel('False Positive Rate')\n",
    "plt.ylabel('True Positive Rate')\n",
    "plt.legend(loc=4)\n",
    "plt.savefig('../assets/ROC_CURVE_tree_ada.png')\n",
    "plt.show()"
   ]
  },
  {
   "cell_type": "code",
   "execution_count": 131,
   "id": "5bf644ac-1e13-49ad-985a-f7d988c4d985",
   "metadata": {},
   "outputs": [],
   "source": [
    "best_tree_asa.save_model(\"../assets/best_tree_asa.json\")"
   ]
  },
  {
   "cell_type": "code",
   "execution_count": 517,
   "id": "ac56eb29-c046-4a4e-ada2-5db85447c734",
   "metadata": {},
   "outputs": [
    {
     "data": {
      "image/png": "[encoded data removed]",
      "text/plain": [
       "<Figure size 1000x800 with 1 Axes>"
      ]
     },
     "metadata": {},
     "output_type": "display_data"
    }
   ],
   "source": [
    "plt.figure(figsize=(10, 8))\n",
    "plt.plot(fpr_tree, tpr_tree, color = custom_palette[0], label=\"Original Data (AUC = {:.5f})\".format(auc_tree))\n",
    "plt.plot(fpr_tree_s, tpr_tree_s, color = custom_palette[7] , label=\"SMOTE Resamplng (AUC = {:.5f})\".format(auc_tree_smote))\n",
    "plt.plot(fpr_tree_a, tpr_tree_a, color = custom_palette[9], label=\"ADASYN Resampling (AUC = {:.5f})\".format(auc_tree_asa))\n",
    "plt.plot([0, 1], [0, 1], linestyle='--', color='gray', label=\"Random Classifier\")\n",
    "\n",
    "plt.xlabel('False Positive Rate')\n",
    "plt.ylabel('True Positive Rate')\n",
    "plt.legend(loc='lower right')\n",
    "\n",
    "plt.savefig('../assets/ROC_CURVE_all_trees.png')\n",
    "plt.show()"
   ]
  },
  {
   "cell_type": "markdown",
   "id": "15afca01-4f05-4874-af59-0a460334d674",
   "metadata": {},
   "source": [
    "<br/><br/><br/><br/>\n",
    "### Neural Networks"
   ]
  },
  {
   "cell_type": "code",
   "execution_count": 386,
   "id": "cce5e49b-7322-4281-93f4-df26cfc038b5",
   "metadata": {},
   "outputs": [],
   "source": [
    "# Old Import which was not working from 23 Jan 2025 but was working in November 2024\n",
    "#import tensorflow as tf\n",
    "#from tensorflow.keras.models import Sequential\n",
    "#from tensorflow.keras.layers import Dense,Activation,Dropout\n",
    "#from tensorflow.keras.optimizers import Adam\n",
    "#from tensorflow.keras.callbacks import EarlyStopping"
   ]
  },
  {
   "cell_type": "code",
   "execution_count": 384,
   "id": "cdeb314a-06f1-4027-be41-0136c1ccc5fe",
   "metadata": {},
   "outputs": [],
   "source": [
    "# !pip install tf-keras"
   ]
  },
  {
   "cell_type": "code",
   "execution_count": 233,
   "id": "bfa25e5b-c1f2-4d2a-8cf7-44eff013f5f2",
   "metadata": {},
   "outputs": [],
   "source": [
    "import tensorflow as tf\n",
    "import tf_keras as keras\n",
    "from tf_keras.models import Sequential\n",
    "from tf_keras.layers import Dense,Activation,Dropout,BatchNormalization\n",
    "from tf_keras.optimizers import Adam\n",
    "from tf_keras.callbacks import EarlyStopping"
   ]
  },
  {
   "cell_type": "markdown",
   "id": "571f5788-161c-4cb9-89a0-37b4804b0158",
   "metadata": {},
   "source": [
    "##### Neural Network without Resampling"
   ]
  },
  {
   "cell_type": "code",
   "execution_count": 325,
   "id": "d459f0fd-b9fa-4ebe-9341-f3e3a34af2c6",
   "metadata": {},
   "outputs": [],
   "source": [
    "model = Sequential()\n",
    "model.add(Dense(units=30,activation='relu'))\n",
    "model.add(Dropout(0.2))\n",
    "\n",
    "model.add(Dense(units=15,activation='relu'))\n",
    "\n",
    "model.add(Dense(units=1,activation='sigmoid'))\n",
    "model.compile(loss='binary_crossentropy', optimizer='adam')"
   ]
  },
  {
   "cell_type": "code",
   "execution_count": 327,
   "id": "b984b7ca-de0b-4a27-8955-9df60584b389",
   "metadata": {},
   "outputs": [],
   "source": [
    "early_stop = EarlyStopping(monitor='val_loss', mode='min', verbose=1, patience=25)"
   ]
  },
  {
   "cell_type": "code",
   "execution_count": 329,
   "id": "06bb2e61-1705-43a3-b6bf-8ce5ec90a2bd",
   "metadata": {
    "scrolled": true
   },
   "outputs": [
    {
     "name": "stdout",
     "output_type": "stream",
     "text": [
      "Epoch 1/600\n",
      "6207/6207 [==============================] - 3s 445us/step - loss: 5.5485 - val_loss: 0.1627\n",
      "Epoch 2/600\n",
      "6207/6207 [==============================] - 3s 443us/step - loss: 0.3822 - val_loss: 0.0408\n",
      "Epoch 3/600\n",
      "6207/6207 [==============================] - 3s 438us/step - loss: 0.0399 - val_loss: 0.0183\n",
      "Epoch 4/600\n",
      "6207/6207 [==============================] - 3s 439us/step - loss: 0.0166 - val_loss: 0.0163\n",
      "Epoch 5/600\n",
      "6207/6207 [==============================] - 3s 435us/step - loss: 0.0190 - val_loss: 0.0182\n",
      "Epoch 6/600\n",
      "6207/6207 [==============================] - 3s 437us/step - loss: 0.0234 - val_loss: 0.0160\n",
      "Epoch 7/600\n",
      "6207/6207 [==============================] - 3s 444us/step - loss: 0.0192 - val_loss: 0.0148\n",
      "Epoch 8/600\n",
      "6207/6207 [==============================] - 3s 433us/step - loss: 0.0135 - val_loss: 0.0141\n",
      "Epoch 9/600\n",
      "6207/6207 [==============================] - 3s 434us/step - loss: 0.0142 - val_loss: 0.0143\n",
      "Epoch 10/600\n",
      "6207/6207 [==============================] - 3s 446us/step - loss: 0.0148 - val_loss: 0.0141\n",
      "Epoch 11/600\n",
      "6207/6207 [==============================] - 3s 428us/step - loss: 0.0167 - val_loss: 0.0149\n",
      "Epoch 12/600\n",
      "6207/6207 [==============================] - 3s 441us/step - loss: 0.0153 - val_loss: 0.0145\n",
      "Epoch 13/600\n",
      "6207/6207 [==============================] - 3s 456us/step - loss: 0.0133 - val_loss: 0.0139\n",
      "Epoch 14/600\n",
      "6207/6207 [==============================] - 3s 434us/step - loss: 0.0140 - val_loss: 0.0140\n",
      "Epoch 15/600\n",
      "6207/6207 [==============================] - 3s 430us/step - loss: 0.0154 - val_loss: 0.0134\n",
      "Epoch 16/600\n",
      "6207/6207 [==============================] - 3s 428us/step - loss: 0.0135 - val_loss: 0.0133\n",
      "Epoch 17/600\n",
      "6207/6207 [==============================] - 3s 440us/step - loss: 0.0159 - val_loss: 0.0133\n",
      "Epoch 18/600\n",
      "6207/6207 [==============================] - 3s 436us/step - loss: 0.0175 - val_loss: 0.0126\n",
      "Epoch 19/600\n",
      "6207/6207 [==============================] - 3s 438us/step - loss: 0.0133 - val_loss: 0.0138\n",
      "Epoch 20/600\n",
      "6207/6207 [==============================] - 3s 441us/step - loss: 0.0126 - val_loss: 0.0134\n",
      "Epoch 21/600\n",
      "6207/6207 [==============================] - 3s 439us/step - loss: 0.0166 - val_loss: 0.0133\n",
      "Epoch 22/600\n",
      "6207/6207 [==============================] - 3s 452us/step - loss: 0.0141 - val_loss: 0.0125\n",
      "Epoch 23/600\n",
      "6207/6207 [==============================] - 3s 439us/step - loss: 0.0139 - val_loss: 0.0122\n",
      "Epoch 24/600\n",
      "6207/6207 [==============================] - 3s 438us/step - loss: 0.0126 - val_loss: 0.0131\n",
      "Epoch 25/600\n",
      "6207/6207 [==============================] - 3s 436us/step - loss: 0.0155 - val_loss: 0.0121\n",
      "Epoch 26/600\n",
      "6207/6207 [==============================] - 3s 432us/step - loss: 0.0130 - val_loss: 0.0121\n",
      "Epoch 27/600\n",
      "6207/6207 [==============================] - 3s 430us/step - loss: 0.0183 - val_loss: 0.0127\n",
      "Epoch 28/600\n",
      "6207/6207 [==============================] - 3s 439us/step - loss: 0.0128 - val_loss: 0.0122\n",
      "Epoch 29/600\n",
      "6207/6207 [==============================] - 3s 432us/step - loss: 0.0160 - val_loss: 0.0121\n",
      "Epoch 30/600\n",
      "6207/6207 [==============================] - 3s 438us/step - loss: 0.0133 - val_loss: 0.0126\n",
      "Epoch 31/600\n",
      "6207/6207 [==============================] - 3s 457us/step - loss: 0.0140 - val_loss: 0.0123\n",
      "Epoch 32/600\n",
      "6207/6207 [==============================] - 3s 445us/step - loss: 0.0129 - val_loss: 0.0129\n",
      "Epoch 33/600\n",
      "6207/6207 [==============================] - 3s 444us/step - loss: 0.0144 - val_loss: 0.0120\n",
      "Epoch 34/600\n",
      "6207/6207 [==============================] - 3s 455us/step - loss: 0.0151 - val_loss: 0.0125\n",
      "Epoch 35/600\n",
      "6207/6207 [==============================] - 3s 452us/step - loss: 0.0142 - val_loss: 0.0132\n",
      "Epoch 36/600\n",
      "6207/6207 [==============================] - 3s 438us/step - loss: 0.0143 - val_loss: 0.0131\n",
      "Epoch 37/600\n",
      "6207/6207 [==============================] - 3s 437us/step - loss: 0.0141 - val_loss: 0.0124\n",
      "Epoch 38/600\n",
      "6207/6207 [==============================] - 3s 437us/step - loss: 0.0133 - val_loss: 0.0129\n",
      "Epoch 39/600\n",
      "6207/6207 [==============================] - 3s 433us/step - loss: 0.0132 - val_loss: 0.0126\n",
      "Epoch 40/600\n",
      "6207/6207 [==============================] - 3s 446us/step - loss: 0.0139 - val_loss: 0.0121\n",
      "Epoch 41/600\n",
      "6207/6207 [==============================] - 3s 438us/step - loss: 0.0132 - val_loss: 0.0131\n",
      "Epoch 42/600\n",
      "6207/6207 [==============================] - 3s 447us/step - loss: 0.0142 - val_loss: 0.0131\n",
      "Epoch 43/600\n",
      "6207/6207 [==============================] - 3s 447us/step - loss: 0.0127 - val_loss: 0.0130\n",
      "Epoch 44/600\n",
      "6207/6207 [==============================] - 3s 441us/step - loss: 0.0131 - val_loss: 0.0127\n",
      "Epoch 45/600\n",
      "6207/6207 [==============================] - 3s 434us/step - loss: 0.0141 - val_loss: 0.0121\n",
      "Epoch 46/600\n",
      "6207/6207 [==============================] - 3s 445us/step - loss: 0.0139 - val_loss: 0.0124\n",
      "Epoch 47/600\n",
      "6207/6207 [==============================] - 3s 446us/step - loss: 0.0133 - val_loss: 0.0123\n",
      "Epoch 48/600\n",
      "6207/6207 [==============================] - 3s 458us/step - loss: 0.0170 - val_loss: 0.0124\n",
      "Epoch 49/600\n",
      "6207/6207 [==============================] - 3s 443us/step - loss: 0.0153 - val_loss: 0.0125\n",
      "Epoch 50/600\n",
      "6207/6207 [==============================] - 3s 436us/step - loss: 0.0133 - val_loss: 0.0122\n",
      "Epoch 51/600\n",
      "6207/6207 [==============================] - 3s 437us/step - loss: 0.0132 - val_loss: 0.0122\n",
      "Epoch 52/600\n",
      "6207/6207 [==============================] - 3s 442us/step - loss: 0.0144 - val_loss: 0.0122\n",
      "Epoch 53/600\n",
      "6207/6207 [==============================] - 3s 437us/step - loss: 0.0136 - val_loss: 0.0123\n",
      "Epoch 54/600\n",
      "6207/6207 [==============================] - 3s 451us/step - loss: 0.0143 - val_loss: 0.0125\n",
      "Epoch 55/600\n",
      "6207/6207 [==============================] - 3s 440us/step - loss: 0.0130 - val_loss: 0.0125\n",
      "Epoch 56/600\n",
      "6207/6207 [==============================] - 3s 470us/step - loss: 0.0140 - val_loss: 0.0125\n",
      "Epoch 57/600\n",
      "6207/6207 [==============================] - 3s 454us/step - loss: 0.0154 - val_loss: 0.0127\n",
      "Epoch 58/600\n",
      "6207/6207 [==============================] - 3s 435us/step - loss: 0.0131 - val_loss: 0.0124\n",
      "Epoch 58: early stopping\n"
     ]
    },
    {
     "data": {
      "text/plain": [
       "<tf_keras.src.callbacks.History at 0x34ced5c90>"
      ]
     },
     "execution_count": 329,
     "metadata": {},
     "output_type": "execute_result"
    }
   ],
   "source": [
    "model.fit(x=X_train, \n",
    "          y=y_train, \n",
    "          epochs=600,\n",
    "          validation_data=(X_val, y_val), verbose=1,\n",
    "          callbacks=[early_stop]\n",
    "          )"
   ]
  },
  {
   "cell_type": "code",
   "execution_count": 330,
   "id": "9dd810ce-829b-489c-bbbe-93f01e1f4e8f",
   "metadata": {},
   "outputs": [
    {
     "data": {
      "image/png": "[encoded data removed]",
      "text/plain": [
       "<Figure size 640x480 with 1 Axes>"
      ]
     },
     "metadata": {},
     "output_type": "display_data"
    }
   ],
   "source": [
    "model_loss = pd.DataFrame(model.history.history)\n",
    "model_loss.plot(color = [colour1, colour2]);"
   ]
  },
  {
   "cell_type": "code",
   "execution_count": 331,
   "id": "4ff34978-af5a-454e-a574-bcb4f1673773",
   "metadata": {},
   "outputs": [
    {
     "name": "stdout",
     "output_type": "stream",
     "text": [
      "1330/1330 [==============================] - 0s 247us/step\n"
     ]
    }
   ],
   "source": [
    "predict_proba_val_nn = model.predict(X_val).astype('int32')"
   ]
  },
  {
   "cell_type": "code",
   "execution_count": 332,
   "id": "2bec1920-afe5-4c89-a186-5462b725fc47",
   "metadata": {},
   "outputs": [
    {
     "data": {
      "text/plain": [
       "0"
      ]
     },
     "execution_count": 332,
     "metadata": {},
     "output_type": "execute_result"
    }
   ],
   "source": [
    "predict_proba_val_nn.sum()"
   ]
  },
  {
   "cell_type": "code",
   "execution_count": 333,
   "id": "dcf07820-cb1a-43b4-9012-200e24a510cc",
   "metadata": {},
   "outputs": [],
   "source": [
    "thres_nn, f1_val_nn = optimum_threshold(predict_proba_val_nn, y_val)"
   ]
  },
  {
   "cell_type": "code",
   "execution_count": 334,
   "id": "d6644b5b-6763-48ea-a956-f7fcd27d80af",
   "metadata": {},
   "outputs": [
    {
     "name": "stdout",
     "output_type": "stream",
     "text": [
      "F1 Score on Validation Data: 0\n"
     ]
    }
   ],
   "source": [
    "print(f\"F1 Score on Validation Data: {f1_val_nn}\")"
   ]
  },
  {
   "cell_type": "code",
   "execution_count": 335,
   "id": "25978316-1db6-453a-890c-ecbbe91fad85",
   "metadata": {},
   "outputs": [
    {
     "name": "stdout",
     "output_type": "stream",
     "text": [
      "1330/1330 [==============================] - 0s 239us/step\n"
     ]
    }
   ],
   "source": [
    "predictions_nn_test = (model.predict(X_test) > thres_nn).astype('int32')"
   ]
  },
  {
   "cell_type": "code",
   "execution_count": 336,
   "id": "1d5635ae-55d8-4f04-9d9a-2bf5f229382a",
   "metadata": {},
   "outputs": [
    {
     "data": {
      "text/plain": [
       "array([[1],\n",
       "       [1],\n",
       "       [1],\n",
       "       ...,\n",
       "       [1],\n",
       "       [1],\n",
       "       [1]], dtype=int32)"
      ]
     },
     "execution_count": 336,
     "metadata": {},
     "output_type": "execute_result"
    }
   ],
   "source": [
    "predictions_nn_test"
   ]
  },
  {
   "cell_type": "code",
   "execution_count": 337,
   "id": "d2eb926d-8080-4cd5-aa3b-c609e772e4a4",
   "metadata": {},
   "outputs": [
    {
     "name": "stdout",
     "output_type": "stream",
     "text": [
      "Neural Network without Resampling\n",
      "[[    8 42483]\n",
      " [    0    68]]\n",
      "\n",
      "\n",
      "              precision    recall  f1-score   support\n",
      "\n",
      "           0       1.00      0.00      0.00     42491\n",
      "           1       0.00      1.00      0.00        68\n",
      "\n",
      "    accuracy                           0.00     42559\n",
      "   macro avg       0.50      0.50      0.00     42559\n",
      "weighted avg       1.00      0.00      0.00     42559\n",
      "\n"
     ]
    }
   ],
   "source": [
    "print('Neural Network without Resampling')\n",
    "print(confusion_matrix(y_test, predictions_nn_test))\n",
    "print('\\n')\n",
    "print(classification_report(y_test, predictions_nn_test))"
   ]
  },
  {
   "cell_type": "markdown",
   "id": "9059c100-3b37-49ac-98ec-e81638a29c39",
   "metadata": {},
   "source": [
    "#### Neural Network with SMOTE Resampling"
   ]
  },
  {
   "cell_type": "code",
   "execution_count": 433,
   "id": "177116ce-ad09-4008-9c15-27159f22b54e",
   "metadata": {},
   "outputs": [],
   "source": [
    "model_smote = Sequential()\n",
    "model_smote.add(Dense(units=30,activation='relu'))\n",
    "model_smote.add(Dropout(0.2))\n",
    "\n",
    "model_smote.add(Dense(units=15,activation='relu'))\n",
    "model_smote.add(Dropout(0.2))\n",
    "\n",
    "model_smote.add(Dense(units=15,activation='relu'))\n",
    "model_smote.add(Dropout(0.2))\n",
    "\n",
    "model_smote.add(Dense(units=1,activation='sigmoid'))\n",
    "model_smote.compile(loss='binary_crossentropy', optimizer='adam')"
   ]
  },
  {
   "cell_type": "code",
   "execution_count": 435,
   "id": "96386347-448b-47c4-b257-7de35c401274",
   "metadata": {},
   "outputs": [
    {
     "name": "stdout",
     "output_type": "stream",
     "text": [
      "Epoch 1/600\n",
      "12392/12392 [==============================] - 6s 477us/step - loss: 29.7687 - val_loss: 0.6877\n",
      "Epoch 2/600\n",
      "12392/12392 [==============================] - 6s 477us/step - loss: 0.6978 - val_loss: 0.6942\n",
      "Epoch 3/600\n",
      "12392/12392 [==============================] - 6s 462us/step - loss: 0.6970 - val_loss: 0.6920\n",
      "Epoch 4/600\n",
      "12392/12392 [==============================] - 6s 462us/step - loss: 0.6983 - val_loss: 0.6879\n",
      "Epoch 5/600\n",
      "12392/12392 [==============================] - 6s 460us/step - loss: 0.6956 - val_loss: 0.6915\n",
      "Epoch 6/600\n",
      "12392/12392 [==============================] - 6s 455us/step - loss: 0.6943 - val_loss: 0.6942\n",
      "Epoch 7/600\n",
      "12392/12392 [==============================] - 6s 451us/step - loss: 0.6935 - val_loss: 0.7056\n",
      "Epoch 8/600\n",
      "12392/12392 [==============================] - 6s 470us/step - loss: 0.6972 - val_loss: 0.6957\n",
      "Epoch 9/600\n",
      "12392/12392 [==============================] - 6s 467us/step - loss: 0.6949 - val_loss: 0.6924\n",
      "Epoch 10/600\n",
      "12392/12392 [==============================] - 6s 469us/step - loss: 0.6956 - val_loss: 0.6903\n",
      "Epoch 11/600\n",
      "12392/12392 [==============================] - 6s 472us/step - loss: 0.6940 - val_loss: 0.7054\n",
      "Epoch 12/600\n",
      "12392/12392 [==============================] - 6s 481us/step - loss: 0.6947 - val_loss: 0.6956\n",
      "Epoch 13/600\n",
      "12392/12392 [==============================] - 6s 486us/step - loss: 0.6935 - val_loss: 0.6997\n",
      "Epoch 14/600\n",
      "12392/12392 [==============================] - 6s 474us/step - loss: 0.6954 - val_loss: 0.6967\n",
      "Epoch 15/600\n",
      "12392/12392 [==============================] - 6s 480us/step - loss: 0.6942 - val_loss: 0.6893\n",
      "Epoch 16/600\n",
      "12392/12392 [==============================] - 6s 469us/step - loss: 0.6960 - val_loss: 0.6961\n",
      "Epoch 17/600\n",
      "12392/12392 [==============================] - 6s 469us/step - loss: 0.6943 - val_loss: 0.6940\n",
      "Epoch 18/600\n",
      "12392/12392 [==============================] - 6s 475us/step - loss: 0.6945 - val_loss: 0.6911\n",
      "Epoch 19/600\n",
      "12392/12392 [==============================] - 6s 493us/step - loss: 0.6935 - val_loss: 0.6948\n",
      "Epoch 20/600\n",
      "12392/12392 [==============================] - 6s 484us/step - loss: 0.6939 - val_loss: 0.7031\n",
      "Epoch 21/600\n",
      "12392/12392 [==============================] - 6s 470us/step - loss: 0.6950 - val_loss: 0.6996\n",
      "Epoch 22/600\n",
      "12392/12392 [==============================] - 6s 493us/step - loss: 0.6944 - val_loss: 0.6955\n",
      "Epoch 23/600\n",
      "12392/12392 [==============================] - 6s 473us/step - loss: 0.6951 - val_loss: 0.6871\n",
      "Epoch 24/600\n",
      "12392/12392 [==============================] - 6s 470us/step - loss: 0.6954 - val_loss: 0.6963\n",
      "Epoch 25/600\n",
      "12392/12392 [==============================] - 6s 470us/step - loss: 0.6949 - val_loss: 0.6940\n",
      "Epoch 26/600\n",
      "12392/12392 [==============================] - 6s 486us/step - loss: 0.6932 - val_loss: 0.6935\n",
      "Epoch 27/600\n",
      "12392/12392 [==============================] - 6s 480us/step - loss: 0.6933 - val_loss: 0.6926\n",
      "Epoch 28/600\n",
      "12392/12392 [==============================] - 6s 469us/step - loss: 0.6938 - val_loss: 0.7007\n",
      "Epoch 29/600\n",
      "12392/12392 [==============================] - 6s 478us/step - loss: 0.6936 - val_loss: 0.6960\n",
      "Epoch 30/600\n",
      "12392/12392 [==============================] - 6s 469us/step - loss: 0.6943 - val_loss: 0.6969\n",
      "Epoch 31/600\n",
      "12392/12392 [==============================] - 6s 476us/step - loss: 0.6951 - val_loss: 0.6936\n",
      "Epoch 32/600\n",
      "12392/12392 [==============================] - 6s 473us/step - loss: 0.6935 - val_loss: 0.6960\n",
      "Epoch 33/600\n",
      "12392/12392 [==============================] - 6s 497us/step - loss: 0.6945 - val_loss: 0.6995\n",
      "Epoch 34/600\n",
      "12392/12392 [==============================] - 6s 473us/step - loss: 0.6932 - val_loss: 0.7010\n",
      "Epoch 35/600\n",
      "12392/12392 [==============================] - 6s 470us/step - loss: 0.6942 - val_loss: 0.6865\n",
      "Epoch 36/600\n",
      "12392/12392 [==============================] - 6s 481us/step - loss: 0.6940 - val_loss: 0.6944\n",
      "Epoch 37/600\n",
      "12392/12392 [==============================] - 6s 469us/step - loss: 0.6965 - val_loss: 0.6865\n",
      "Epoch 38/600\n",
      "12392/12392 [==============================] - 6s 470us/step - loss: 0.6932 - val_loss: 0.6919\n",
      "Epoch 39/600\n",
      "12392/12392 [==============================] - 6s 477us/step - loss: 0.6946 - val_loss: 0.6919\n",
      "Epoch 40/600\n",
      "12392/12392 [==============================] - 6s 473us/step - loss: 0.6933 - val_loss: 0.6890\n",
      "Epoch 41/600\n",
      "12392/12392 [==============================] - 6s 471us/step - loss: 0.6924 - val_loss: 0.6794\n",
      "Epoch 42/600\n",
      "12392/12392 [==============================] - 6s 477us/step - loss: 0.6924 - val_loss: 0.6978\n",
      "Epoch 43/600\n",
      "12392/12392 [==============================] - 6s 484us/step - loss: 0.6954 - val_loss: 0.6947\n",
      "Epoch 44/600\n",
      "12392/12392 [==============================] - 6s 469us/step - loss: 0.6931 - val_loss: 0.7066\n",
      "Epoch 45/600\n",
      "12392/12392 [==============================] - 6s 479us/step - loss: 0.6936 - val_loss: 0.6878\n",
      "Epoch 46/600\n",
      "12392/12392 [==============================] - 6s 469us/step - loss: 0.6950 - val_loss: 0.6903\n",
      "Epoch 47/600\n",
      "12392/12392 [==============================] - 6s 479us/step - loss: 0.6928 - val_loss: 0.6984\n",
      "Epoch 48/600\n",
      "12392/12392 [==============================] - 6s 470us/step - loss: 0.6915 - val_loss: 0.6962\n",
      "Epoch 49/600\n",
      "12392/12392 [==============================] - 6s 471us/step - loss: 0.6924 - val_loss: 0.7006\n",
      "Epoch 50/600\n",
      "12392/12392 [==============================] - 6s 475us/step - loss: 0.6928 - val_loss: 0.7076\n",
      "Epoch 51/600\n",
      "12392/12392 [==============================] - 6s 470us/step - loss: 0.6921 - val_loss: 0.6767\n",
      "Epoch 52/600\n",
      "12392/12392 [==============================] - 6s 483us/step - loss: 0.6924 - val_loss: 0.6959\n",
      "Epoch 53/600\n",
      "12392/12392 [==============================] - 6s 488us/step - loss: 0.6920 - val_loss: 0.6892\n",
      "Epoch 54/600\n",
      "12392/12392 [==============================] - 6s 467us/step - loss: 0.6919 - val_loss: 0.7005\n",
      "Epoch 55/600\n",
      "12392/12392 [==============================] - 6s 474us/step - loss: 0.6915 - val_loss: 0.7092\n",
      "Epoch 56/600\n",
      "12392/12392 [==============================] - 6s 465us/step - loss: 0.6923 - val_loss: 0.6943\n",
      "Epoch 57/600\n",
      "12392/12392 [==============================] - 6s 466us/step - loss: 0.6926 - val_loss: 0.7018\n",
      "Epoch 58/600\n",
      "12392/12392 [==============================] - 6s 481us/step - loss: 0.6918 - val_loss: 0.6992\n",
      "Epoch 59/600\n",
      "12392/12392 [==============================] - 6s 475us/step - loss: 0.6913 - val_loss: 0.6917\n",
      "Epoch 60/600\n",
      "12392/12392 [==============================] - 6s 476us/step - loss: 0.6930 - val_loss: 0.6854\n",
      "Epoch 61/600\n",
      "12392/12392 [==============================] - 6s 471us/step - loss: 0.6907 - val_loss: 0.7558\n",
      "Epoch 62/600\n",
      "12392/12392 [==============================] - 6s 474us/step - loss: 0.6908 - val_loss: 0.7088\n",
      "Epoch 63/600\n",
      "12392/12392 [==============================] - 6s 481us/step - loss: 0.6902 - val_loss: 0.6957\n",
      "Epoch 64/600\n",
      "12392/12392 [==============================] - 6s 471us/step - loss: 0.6912 - val_loss: 0.6956\n",
      "Epoch 65/600\n",
      "12392/12392 [==============================] - 6s 477us/step - loss: 0.6907 - val_loss: 0.6896\n",
      "Epoch 66/600\n",
      "12392/12392 [==============================] - 6s 471us/step - loss: 0.6904 - val_loss: 0.6797\n",
      "Epoch 67/600\n",
      "12392/12392 [==============================] - 6s 477us/step - loss: 0.6905 - val_loss: 0.6838\n",
      "Epoch 68/600\n",
      "12392/12392 [==============================] - 6s 473us/step - loss: 0.6910 - val_loss: 0.6946\n",
      "Epoch 69/600\n",
      "12392/12392 [==============================] - 6s 477us/step - loss: 0.6902 - val_loss: 0.6962\n",
      "Epoch 70/600\n",
      "12392/12392 [==============================] - 6s 470us/step - loss: 0.6914 - val_loss: 0.7203\n",
      "Epoch 71/600\n",
      "12392/12392 [==============================] - 6s 480us/step - loss: 0.6899 - val_loss: 0.6819\n",
      "Epoch 72/600\n",
      "12392/12392 [==============================] - 6s 477us/step - loss: 0.6911 - val_loss: 0.6828\n",
      "Epoch 73/600\n",
      "12392/12392 [==============================] - 7s 526us/step - loss: 0.6897 - val_loss: 0.6971\n",
      "Epoch 74/600\n",
      "12392/12392 [==============================] - 7s 532us/step - loss: 0.6900 - val_loss: 0.6870\n",
      "Epoch 75/600\n",
      "12392/12392 [==============================] - 6s 496us/step - loss: 0.6892 - val_loss: 0.6895\n",
      "Epoch 76/600\n",
      "12392/12392 [==============================] - 7s 538us/step - loss: 0.5170 - val_loss: 0.0731\n",
      "Epoch 77/600\n",
      "12392/12392 [==============================] - 6s 482us/step - loss: 0.4588 - val_loss: 0.2344\n",
      "Epoch 78/600\n",
      "12392/12392 [==============================] - 6s 478us/step - loss: 0.5585 - val_loss: 0.6978\n",
      "Epoch 79/600\n",
      "12392/12392 [==============================] - 6s 478us/step - loss: 0.5018 - val_loss: 0.2655\n",
      "Epoch 80/600\n",
      "12392/12392 [==============================] - 6s 473us/step - loss: 0.2554 - val_loss: 0.0824\n",
      "Epoch 81/600\n",
      "12392/12392 [==============================] - 6s 485us/step - loss: 0.2119 - val_loss: 0.1575\n",
      "Epoch 82/600\n",
      "12392/12392 [==============================] - 6s 475us/step - loss: 0.2158 - val_loss: 0.1130\n",
      "Epoch 83/600\n",
      "12392/12392 [==============================] - 6s 503us/step - loss: 0.2197 - val_loss: 0.3582\n",
      "Epoch 84/600\n",
      "12392/12392 [==============================] - 6s 470us/step - loss: 0.2187 - val_loss: 0.1355\n",
      "Epoch 85/600\n",
      "12392/12392 [==============================] - 6s 476us/step - loss: 0.1840 - val_loss: 0.1710\n",
      "Epoch 86/600\n",
      "12392/12392 [==============================] - 6s 477us/step - loss: 0.1796 - val_loss: 0.0890\n",
      "Epoch 87/600\n",
      "12392/12392 [==============================] - 7s 541us/step - loss: 0.1747 - val_loss: 0.0917\n",
      "Epoch 88/600\n",
      "12392/12392 [==============================] - 6s 480us/step - loss: 0.1684 - val_loss: 0.0854\n",
      "Epoch 89/600\n",
      "12392/12392 [==============================] - 6s 479us/step - loss: 0.1631 - val_loss: 0.1111\n",
      "Epoch 90/600\n",
      "12392/12392 [==============================] - 6s 471us/step - loss: 0.1700 - val_loss: 0.0659\n",
      "Epoch 91/600\n",
      "12392/12392 [==============================] - 6s 497us/step - loss: 0.1621 - val_loss: 0.0797\n",
      "Epoch 92/600\n",
      "12392/12392 [==============================] - 6s 484us/step - loss: 0.1560 - val_loss: 0.0765\n",
      "Epoch 93/600\n",
      "12392/12392 [==============================] - 6s 523us/step - loss: 0.1538 - val_loss: 0.0653\n",
      "Epoch 94/600\n",
      "12392/12392 [==============================] - 6s 480us/step - loss: 0.1563 - val_loss: 0.1241\n",
      "Epoch 95/600\n",
      "12392/12392 [==============================] - 6s 485us/step - loss: 0.1960 - val_loss: 0.1294\n",
      "Epoch 96/600\n",
      "12392/12392 [==============================] - 6s 476us/step - loss: 0.2381 - val_loss: 0.0749\n",
      "Epoch 97/600\n",
      "12392/12392 [==============================] - 6s 475us/step - loss: 0.2285 - val_loss: 0.0670\n",
      "Epoch 98/600\n",
      "12392/12392 [==============================] - 6s 471us/step - loss: 0.2039 - val_loss: 0.1131\n",
      "Epoch 99/600\n",
      "12392/12392 [==============================] - 6s 476us/step - loss: 0.2139 - val_loss: 0.0916\n",
      "Epoch 100/600\n",
      "12392/12392 [==============================] - 6s 469us/step - loss: 0.2027 - val_loss: 0.1688\n",
      "Epoch 101/600\n",
      "12392/12392 [==============================] - 6s 477us/step - loss: 0.2096 - val_loss: 0.0643\n",
      "Epoch 102/600\n",
      "12392/12392 [==============================] - 6s 470us/step - loss: 0.2075 - val_loss: 0.0707\n",
      "Epoch 103/600\n",
      "12392/12392 [==============================] - 6s 490us/step - loss: 0.2057 - val_loss: 0.1387\n",
      "Epoch 104/600\n",
      "12392/12392 [==============================] - 6s 478us/step - loss: 0.1873 - val_loss: 0.0840\n",
      "Epoch 105/600\n",
      "12392/12392 [==============================] - 6s 475us/step - loss: 0.2558 - val_loss: 0.0755\n",
      "Epoch 106/600\n",
      "12392/12392 [==============================] - 6s 521us/step - loss: 0.2314 - val_loss: 0.1083\n",
      "Epoch 107/600\n",
      "12392/12392 [==============================] - 6s 469us/step - loss: 0.1997 - val_loss: 0.0718\n",
      "Epoch 108/600\n",
      "12392/12392 [==============================] - 6s 479us/step - loss: 0.1949 - val_loss: 0.6126\n",
      "Epoch 109/600\n",
      "12392/12392 [==============================] - 6s 470us/step - loss: 0.1883 - val_loss: 0.1161\n",
      "Epoch 110/600\n",
      "12392/12392 [==============================] - 6s 476us/step - loss: 0.1799 - val_loss: 0.0706\n",
      "Epoch 111/600\n",
      "12392/12392 [==============================] - 6s 479us/step - loss: 0.2075 - val_loss: 0.0544\n",
      "Epoch 112/600\n",
      "12392/12392 [==============================] - 6s 476us/step - loss: 0.2047 - val_loss: 0.0861\n",
      "Epoch 113/600\n",
      "12392/12392 [==============================] - 6s 498us/step - loss: 0.1773 - val_loss: 0.0579\n",
      "Epoch 114/600\n",
      "12392/12392 [==============================] - 6s 471us/step - loss: 0.1542 - val_loss: 0.4450\n",
      "Epoch 115/600\n",
      "12392/12392 [==============================] - 6s 481us/step - loss: 0.1596 - val_loss: 0.0524\n",
      "Epoch 116/600\n",
      "12392/12392 [==============================] - 6s 475us/step - loss: 0.1586 - val_loss: 0.0503\n",
      "Epoch 117/600\n",
      "12392/12392 [==============================] - 6s 471us/step - loss: 0.1611 - val_loss: 0.0943\n",
      "Epoch 118/600\n",
      "12392/12392 [==============================] - 6s 476us/step - loss: 0.1577 - val_loss: 0.0491\n",
      "Epoch 119/600\n",
      "12392/12392 [==============================] - 6s 470us/step - loss: 0.1535 - val_loss: 0.0750\n",
      "Epoch 120/600\n",
      "12392/12392 [==============================] - 6s 477us/step - loss: 0.1571 - val_loss: 0.1398\n",
      "Epoch 121/600\n",
      "12392/12392 [==============================] - 6s 482us/step - loss: 0.1566 - val_loss: 0.0971\n",
      "Epoch 122/600\n",
      "12392/12392 [==============================] - 6s 471us/step - loss: 0.1472 - val_loss: 0.0793\n",
      "Epoch 123/600\n",
      "12392/12392 [==============================] - 6s 489us/step - loss: 0.1508 - val_loss: 0.0694\n",
      "Epoch 124/600\n",
      "12392/12392 [==============================] - 6s 472us/step - loss: 0.1585 - val_loss: 0.1155\n",
      "Epoch 125/600\n",
      "12392/12392 [==============================] - 6s 479us/step - loss: 0.1454 - val_loss: 0.0845\n",
      "Epoch 126/600\n",
      "12392/12392 [==============================] - 6s 477us/step - loss: 0.1467 - val_loss: 0.0507\n",
      "Epoch 127/600\n",
      "12392/12392 [==============================] - 6s 470us/step - loss: 0.1615 - val_loss: 0.0584\n",
      "Epoch 128/600\n",
      "12392/12392 [==============================] - 6s 487us/step - loss: 0.1552 - val_loss: 0.3452\n",
      "Epoch 129/600\n",
      "12392/12392 [==============================] - 6s 479us/step - loss: 0.1491 - val_loss: 0.0679\n",
      "Epoch 130/600\n",
      "12392/12392 [==============================] - 6s 471us/step - loss: 0.1539 - val_loss: 0.1092\n",
      "Epoch 131/600\n",
      "12392/12392 [==============================] - 6s 481us/step - loss: 0.1473 - val_loss: 0.1006\n",
      "Epoch 132/600\n",
      "12392/12392 [==============================] - 6s 486us/step - loss: 0.1502 - val_loss: 0.0445\n",
      "Epoch 133/600\n",
      "12392/12392 [==============================] - 6s 484us/step - loss: 0.1458 - val_loss: 0.0907\n",
      "Epoch 134/600\n",
      "12392/12392 [==============================] - 6s 476us/step - loss: 0.1562 - val_loss: 0.0596\n",
      "Epoch 135/600\n",
      "12392/12392 [==============================] - 6s 471us/step - loss: 0.1555 - val_loss: 0.0932\n",
      "Epoch 136/600\n",
      "12392/12392 [==============================] - 6s 470us/step - loss: 0.1470 - val_loss: 0.0738\n",
      "Epoch 137/600\n",
      "12392/12392 [==============================] - 6s 481us/step - loss: 0.1501 - val_loss: 0.0490\n",
      "Epoch 138/600\n",
      "12392/12392 [==============================] - 6s 471us/step - loss: 0.1535 - val_loss: 0.0654\n",
      "Epoch 139/600\n",
      "12392/12392 [==============================] - 6s 470us/step - loss: 0.1484 - val_loss: 0.0966\n",
      "Epoch 140/600\n",
      "12392/12392 [==============================] - 6s 473us/step - loss: 0.1601 - val_loss: 0.0741\n",
      "Epoch 141/600\n",
      "12392/12392 [==============================] - 6s 471us/step - loss: 0.1752 - val_loss: 0.0668\n",
      "Epoch 142/600\n",
      "12392/12392 [==============================] - 6s 483us/step - loss: 0.1721 - val_loss: 0.0675\n",
      "Epoch 143/600\n",
      "12392/12392 [==============================] - 6s 471us/step - loss: 0.1511 - val_loss: 0.0880\n",
      "Epoch 144/600\n",
      "12392/12392 [==============================] - 6s 483us/step - loss: 0.1541 - val_loss: 0.0809\n",
      "Epoch 145/600\n",
      "12392/12392 [==============================] - 6s 473us/step - loss: 0.1615 - val_loss: 0.0915\n",
      "Epoch 146/600\n",
      "12392/12392 [==============================] - 6s 472us/step - loss: 0.1595 - val_loss: 0.0957\n",
      "Epoch 147/600\n",
      "12392/12392 [==============================] - 6s 481us/step - loss: 0.1517 - val_loss: 0.0868\n",
      "Epoch 148/600\n",
      "12392/12392 [==============================] - 6s 474us/step - loss: 0.1563 - val_loss: 0.0369\n",
      "Epoch 149/600\n",
      "12392/12392 [==============================] - 6s 476us/step - loss: 0.1552 - val_loss: 0.0810\n",
      "Epoch 150/600\n",
      "12392/12392 [==============================] - 6s 471us/step - loss: 0.1542 - val_loss: 0.0613\n",
      "Epoch 151/600\n",
      "12392/12392 [==============================] - 6s 481us/step - loss: 0.1590 - val_loss: 0.0542\n",
      "Epoch 152/600\n",
      "12392/12392 [==============================] - 6s 473us/step - loss: 0.1812 - val_loss: 0.0702\n",
      "Epoch 153/600\n",
      "12392/12392 [==============================] - 6s 476us/step - loss: 0.1404 - val_loss: 0.1548\n",
      "Epoch 154/600\n",
      "12392/12392 [==============================] - 6s 489us/step - loss: 0.1508 - val_loss: 0.0412\n",
      "Epoch 155/600\n",
      "12392/12392 [==============================] - 6s 471us/step - loss: 0.1400 - val_loss: 0.0746\n",
      "Epoch 156/600\n",
      "12392/12392 [==============================] - 6s 483us/step - loss: 0.1429 - val_loss: 0.0798\n",
      "Epoch 157/600\n",
      "12392/12392 [==============================] - 6s 471us/step - loss: 0.1356 - val_loss: 0.0949\n",
      "Epoch 158/600\n",
      "12392/12392 [==============================] - 6s 470us/step - loss: 0.1366 - val_loss: 0.0812\n",
      "Epoch 159/600\n",
      "12392/12392 [==============================] - 6s 471us/step - loss: 0.1336 - val_loss: 0.1524\n",
      "Epoch 160/600\n",
      "12392/12392 [==============================] - 6s 480us/step - loss: 0.1363 - val_loss: 0.0812\n",
      "Epoch 161/600\n",
      "12392/12392 [==============================] - 6s 471us/step - loss: 0.1370 - val_loss: 0.0570\n",
      "Epoch 162/600\n",
      "12392/12392 [==============================] - 6s 471us/step - loss: 0.1338 - val_loss: 0.0468\n",
      "Epoch 163/600\n",
      "12392/12392 [==============================] - 6s 471us/step - loss: 0.1342 - val_loss: 0.0839\n",
      "Epoch 164/600\n",
      "12392/12392 [==============================] - 6s 499us/step - loss: 0.1312 - val_loss: 0.0429\n",
      "Epoch 165/600\n",
      "12392/12392 [==============================] - 6s 473us/step - loss: 0.1310 - val_loss: 0.1032\n",
      "Epoch 166/600\n",
      "12392/12392 [==============================] - 6s 471us/step - loss: 0.1383 - val_loss: 0.1076\n",
      "Epoch 167/600\n",
      "12392/12392 [==============================] - 6s 472us/step - loss: 0.1331 - val_loss: 0.1171\n",
      "Epoch 168/600\n",
      "12392/12392 [==============================] - 6s 471us/step - loss: 0.1287 - val_loss: 0.0520\n",
      "Epoch 169/600\n",
      "12392/12392 [==============================] - 6s 484us/step - loss: 0.1357 - val_loss: 0.0681\n",
      "Epoch 170/600\n",
      "12392/12392 [==============================] - 6s 471us/step - loss: 0.1391 - val_loss: 0.0937\n",
      "Epoch 171/600\n",
      "12392/12392 [==============================] - 6s 474us/step - loss: 0.1288 - val_loss: 0.0802\n",
      "Epoch 172/600\n",
      "12392/12392 [==============================] - 6s 486us/step - loss: 0.1262 - val_loss: 0.0745\n",
      "Epoch 173/600\n",
      "12392/12392 [==============================] - 6s 495us/step - loss: 0.1289 - val_loss: 0.0640\n",
      "Epoch 173: early stopping\n"
     ]
    },
    {
     "data": {
      "text/plain": [
       "<tf_keras.src.callbacks.History at 0x3602eb610>"
      ]
     },
     "execution_count": 435,
     "metadata": {},
     "output_type": "execute_result"
    }
   ],
   "source": [
    "model_smote.fit(x=X_train2, \n",
    "                y=y_train2, \n",
    "                epochs=600,\n",
    "                validation_data=(X_val2, y_val2), verbose=1,\n",
    "                callbacks=[early_stop]\n",
    "               )"
   ]
  },
  {
   "cell_type": "code",
   "execution_count": 436,
   "id": "af154371-7d01-49ff-8071-6734e5933542",
   "metadata": {},
   "outputs": [
    {
     "data": {
      "image/png": "[encoded data removed]",
      "text/plain": [
       "<Figure size 640x480 with 1 Axes>"
      ]
     },
     "metadata": {},
     "output_type": "display_data"
    }
   ],
   "source": [
    "model_loss_smote = pd.DataFrame(model_smote.history.history)\n",
    "model_loss_smote.plot(color = [colour1, colour2]);"
   ]
  },
  {
   "cell_type": "code",
   "execution_count": 437,
   "id": "bfedac45-52a5-4a78-af55-5900a8a27e66",
   "metadata": {},
   "outputs": [
    {
     "name": "stdout",
     "output_type": "stream",
     "text": [
      "1330/1330 [==============================] - 0s 249us/step\n"
     ]
    }
   ],
   "source": [
    "predict_proba_val_nn_smote = model_smote.predict(X_val2).astype('int32')"
   ]
  },
  {
   "cell_type": "code",
   "execution_count": 438,
   "id": "f80cdc66-1032-47ef-aa8f-95519653a2b0",
   "metadata": {},
   "outputs": [],
   "source": [
    "thres_nn_s, f1_val_nn_s = optimum_threshold(predict_proba_val_nn_smote, y_val2)"
   ]
  },
  {
   "cell_type": "code",
   "execution_count": 439,
   "id": "11d7adf2-4f10-4752-bdde-a54e2420486e",
   "metadata": {},
   "outputs": [
    {
     "name": "stdout",
     "output_type": "stream",
     "text": [
      "F1 Score on Validation Data: 0, Threshold: 0\n"
     ]
    }
   ],
   "source": [
    "print(f\"F1 Score on Validation Data: {f1_val_nn_s}, Threshold: {thres_nn_s}\")"
   ]
  },
  {
   "cell_type": "code",
   "execution_count": 440,
   "id": "c2749740-6a39-407c-98d0-6ee80eb38d77",
   "metadata": {},
   "outputs": [
    {
     "name": "stdout",
     "output_type": "stream",
     "text": [
      "1330/1330 [==============================] - 0s 241us/step\n"
     ]
    }
   ],
   "source": [
    "predictions_nn_smote_test = (model_smote.predict(X_test2) > thres_nn_s).astype('int32')"
   ]
  },
  {
   "cell_type": "code",
   "execution_count": 447,
   "id": "c05d867e-fe9e-4fb9-a410-c63082911e77",
   "metadata": {},
   "outputs": [
    {
     "name": "stdout",
     "output_type": "stream",
     "text": [
      "Neural Network with SMOTE Resampling\n",
      "[[  620 41871]\n",
      " [    0    68]]\n",
      "\n",
      "\n",
      "              precision    recall  f1-score   support\n",
      "\n",
      "           0       1.00      0.01      0.03     42491\n",
      "           1       0.00      1.00      0.00        68\n",
      "\n",
      "    accuracy                           0.02     42559\n",
      "   macro avg       0.50      0.51      0.02     42559\n",
      "weighted avg       1.00      0.02      0.03     42559\n",
      "\n"
     ]
    }
   ],
   "source": [
    "print('Neural Network with SMOTE Resampling')\n",
    "print(confusion_matrix(y_test2, predictions_nn_smote_test))\n",
    "print('\\n')\n",
    "print(classification_report(y_test2, predictions_nn_smote_test))"
   ]
  },
  {
   "cell_type": "markdown",
   "id": "69f97032-00f4-4ff8-ba8f-143a8b3d9de2",
   "metadata": {},
   "source": [
    "##### Neural Network with ADASYN Resampling"
   ]
  },
  {
   "cell_type": "code",
   "execution_count": 363,
   "id": "8f374adb-2d8f-43cf-a125-0534b35191e8",
   "metadata": {},
   "outputs": [],
   "source": [
    "model_asa = Sequential()\n",
    "model_asa.add(Dense(units=30,activation='relu'))\n",
    "model_asa.add(Dropout(0.2))\n",
    "\n",
    "model_asa.add(Dense(units=15,activation='relu'))\n",
    "model_asa.add(Dropout(0.2))\n",
    "\n",
    "model_asa.add(Dense(units=1,activation='sigmoid'))\n",
    "model_asa.compile(loss='binary_crossentropy', optimizer='adam')"
   ]
  },
  {
   "cell_type": "code",
   "execution_count": 365,
   "id": "8b0cd698-ea93-4c84-8a2d-380440e8c3ba",
   "metadata": {},
   "outputs": [
    {
     "name": "stdout",
     "output_type": "stream",
     "text": [
      "Epoch 1/600\n",
      "12395/12395 [==============================] - 5s 414us/step - loss: 29.1548 - val_loss: 0.6926\n",
      "Epoch 2/600\n",
      "12395/12395 [==============================] - 5s 408us/step - loss: 0.6997 - val_loss: 0.6977\n",
      "Epoch 3/600\n",
      "12395/12395 [==============================] - 5s 420us/step - loss: 0.6942 - val_loss: 0.6987\n",
      "Epoch 4/600\n",
      "12395/12395 [==============================] - 5s 407us/step - loss: 0.6955 - val_loss: 0.6866\n",
      "Epoch 5/600\n",
      "12395/12395 [==============================] - 5s 413us/step - loss: 0.6955 - val_loss: 0.6950\n",
      "Epoch 6/600\n",
      "12395/12395 [==============================] - 5s 409us/step - loss: 0.6941 - val_loss: 0.6924\n",
      "Epoch 7/600\n",
      "12395/12395 [==============================] - 5s 408us/step - loss: 0.6934 - val_loss: 0.6832\n",
      "Epoch 8/600\n",
      "12395/12395 [==============================] - 5s 409us/step - loss: 0.6963 - val_loss: 0.6950\n",
      "Epoch 9/600\n",
      "12395/12395 [==============================] - 5s 431us/step - loss: 0.6936 - val_loss: 0.6941\n",
      "Epoch 10/600\n",
      "12395/12395 [==============================] - 5s 409us/step - loss: 0.6969 - val_loss: 0.6925\n",
      "Epoch 11/600\n",
      "12395/12395 [==============================] - 5s 411us/step - loss: 0.6937 - val_loss: 0.6917\n",
      "Epoch 12/600\n",
      "12395/12395 [==============================] - 5s 409us/step - loss: 0.6961 - val_loss: 0.6989\n",
      "Epoch 13/600\n",
      "12395/12395 [==============================] - 5s 408us/step - loss: 0.6942 - val_loss: 0.6924\n",
      "Epoch 14/600\n",
      "12395/12395 [==============================] - 5s 419us/step - loss: 0.6939 - val_loss: 0.6915\n",
      "Epoch 15/600\n",
      "12395/12395 [==============================] - 5s 409us/step - loss: 0.6953 - val_loss: 0.6962\n",
      "Epoch 16/600\n",
      "12395/12395 [==============================] - 5s 408us/step - loss: 0.6942 - val_loss: 0.6960\n",
      "Epoch 17/600\n",
      "12395/12395 [==============================] - 5s 410us/step - loss: 0.6957 - val_loss: 0.6970\n",
      "Epoch 18/600\n",
      "12395/12395 [==============================] - 5s 409us/step - loss: 0.6944 - val_loss: 0.6885\n",
      "Epoch 19/600\n",
      "12395/12395 [==============================] - 5s 413us/step - loss: 0.6950 - val_loss: 0.6970\n",
      "Epoch 20/600\n",
      "12395/12395 [==============================] - 5s 420us/step - loss: 0.6959 - val_loss: 0.7021\n",
      "Epoch 21/600\n",
      "12395/12395 [==============================] - 5s 417us/step - loss: 0.6932 - val_loss: 0.6822\n",
      "Epoch 22/600\n",
      "12395/12395 [==============================] - 5s 417us/step - loss: 0.6944 - val_loss: 0.7035\n",
      "Epoch 23/600\n",
      "12395/12395 [==============================] - 5s 409us/step - loss: 0.6946 - val_loss: 0.6894\n",
      "Epoch 24/600\n",
      "12395/12395 [==============================] - 5s 409us/step - loss: 0.6951 - val_loss: 0.6845\n",
      "Epoch 25/600\n",
      "12395/12395 [==============================] - 5s 409us/step - loss: 0.6943 - val_loss: 0.6989\n",
      "Epoch 26/600\n",
      "12395/12395 [==============================] - 5s 409us/step - loss: 0.6939 - val_loss: 0.6821\n",
      "Epoch 27/600\n",
      "12395/12395 [==============================] - 5s 408us/step - loss: 0.6940 - val_loss: 0.6878\n",
      "Epoch 28/600\n",
      "12395/12395 [==============================] - 5s 410us/step - loss: 0.6955 - val_loss: 0.6901\n",
      "Epoch 29/600\n",
      "12395/12395 [==============================] - 5s 409us/step - loss: 0.6948 - val_loss: 0.7056\n",
      "Epoch 30/600\n",
      "12395/12395 [==============================] - 5s 410us/step - loss: 0.6939 - val_loss: 0.6876\n",
      "Epoch 31/600\n",
      "12395/12395 [==============================] - 5s 410us/step - loss: 0.6945 - val_loss: 0.6922\n",
      "Epoch 32/600\n",
      "12395/12395 [==============================] - 5s 422us/step - loss: 0.6941 - val_loss: 0.6916\n",
      "Epoch 33/600\n",
      "12395/12395 [==============================] - 5s 419us/step - loss: 0.6944 - val_loss: 0.6917\n",
      "Epoch 34/600\n",
      "12395/12395 [==============================] - 5s 411us/step - loss: 0.6958 - val_loss: 0.6676\n",
      "Epoch 35/600\n",
      "12395/12395 [==============================] - 5s 410us/step - loss: 0.6946 - val_loss: 0.6974\n",
      "Epoch 36/600\n",
      "12395/12395 [==============================] - 5s 410us/step - loss: 0.6936 - val_loss: 0.6913\n",
      "Epoch 37/600\n",
      "12395/12395 [==============================] - 5s 413us/step - loss: 0.6952 - val_loss: 0.6872\n",
      "Epoch 38/600\n",
      "12395/12395 [==============================] - 5s 412us/step - loss: 0.6942 - val_loss: 0.6893\n",
      "Epoch 39/600\n",
      "12395/12395 [==============================] - 5s 411us/step - loss: 0.6935 - val_loss: 0.6841\n",
      "Epoch 40/600\n",
      "12395/12395 [==============================] - 5s 411us/step - loss: 0.6951 - val_loss: 0.6825\n",
      "Epoch 41/600\n",
      "12395/12395 [==============================] - 5s 412us/step - loss: 0.7055 - val_loss: 0.6907\n",
      "Epoch 42/600\n",
      "12395/12395 [==============================] - 5s 421us/step - loss: 0.6938 - val_loss: 0.6973\n",
      "Epoch 43/600\n",
      "12395/12395 [==============================] - 5s 414us/step - loss: 0.6966 - val_loss: 0.6757\n",
      "Epoch 44/600\n",
      "12395/12395 [==============================] - 5s 431us/step - loss: 0.6927 - val_loss: 0.6920\n",
      "Epoch 45/600\n",
      "12395/12395 [==============================] - 5s 412us/step - loss: 0.6946 - val_loss: 0.6956\n",
      "Epoch 46/600\n",
      "12395/12395 [==============================] - 5s 412us/step - loss: 0.6935 - val_loss: 0.6864\n",
      "Epoch 47/600\n",
      "12395/12395 [==============================] - 5s 412us/step - loss: 0.6945 - val_loss: 0.7002\n",
      "Epoch 48/600\n",
      "12395/12395 [==============================] - 5s 412us/step - loss: 0.6944 - val_loss: 0.6764\n",
      "Epoch 49/600\n",
      "12395/12395 [==============================] - 5s 420us/step - loss: 0.6946 - val_loss: 0.6969\n",
      "Epoch 50/600\n",
      "12395/12395 [==============================] - 5s 412us/step - loss: 0.6939 - val_loss: 0.6957\n",
      "Epoch 51/600\n",
      "12395/12395 [==============================] - 5s 412us/step - loss: 0.6939 - val_loss: 0.6958\n",
      "Epoch 52/600\n",
      "12395/12395 [==============================] - 5s 412us/step - loss: 0.6936 - val_loss: 0.6808\n",
      "Epoch 53/600\n",
      "12395/12395 [==============================] - 5s 412us/step - loss: 0.6951 - val_loss: 0.6967\n",
      "Epoch 54/600\n",
      "12395/12395 [==============================] - 5s 409us/step - loss: 0.6948 - val_loss: 0.6860\n",
      "Epoch 55/600\n",
      "12395/12395 [==============================] - 5s 409us/step - loss: 0.6929 - val_loss: 0.6968\n",
      "Epoch 56/600\n",
      "12395/12395 [==============================] - 5s 419us/step - loss: 0.6943 - val_loss: 0.6819\n",
      "Epoch 57/600\n",
      "12395/12395 [==============================] - 5s 415us/step - loss: 0.6930 - val_loss: 0.6850\n",
      "Epoch 58/600\n",
      "12395/12395 [==============================] - 5s 426us/step - loss: 0.6946 - val_loss: 0.6919\n",
      "Epoch 59/600\n",
      "12395/12395 [==============================] - 5s 411us/step - loss: 0.6935 - val_loss: 0.6919\n",
      "Epoch 59: early stopping\n"
     ]
    },
    {
     "data": {
      "text/plain": [
       "<tf_keras.src.callbacks.History at 0x35bb29dd0>"
      ]
     },
     "execution_count": 365,
     "metadata": {},
     "output_type": "execute_result"
    }
   ],
   "source": [
    "model_asa.fit(x=X_train3,\n",
    "              y=y_train3,\n",
    "              epochs=600,\n",
    "              validation_data=(X_test3, y_test3), verbose=1,\n",
    "              callbacks=[early_stop]\n",
    "             )"
   ]
  },
  {
   "cell_type": "code",
   "execution_count": 371,
   "id": "49a977e0-f9c6-45d3-82fd-81e69919dad2",
   "metadata": {},
   "outputs": [
    {
     "data": {
      "image/png": "[encoded data removed]",
      "text/plain": [
       "<Figure size 640x480 with 1 Axes>"
      ]
     },
     "metadata": {},
     "output_type": "display_data"
    }
   ],
   "source": [
    "model_loss_asa = pd.DataFrame(model_asa.history.history)\n",
    "model_loss_asa.plot(ylim=[0.6,0.75],color = [colour1, colour2]);"
   ]
  },
  {
   "cell_type": "code",
   "execution_count": 373,
   "id": "bc0cc638-40f1-4c74-bc82-4ffba7e74e26",
   "metadata": {},
   "outputs": [
    {
     "name": "stdout",
     "output_type": "stream",
     "text": [
      "1330/1330 [==============================] - 0s 247us/step\n"
     ]
    }
   ],
   "source": [
    "predict_proba_val_nn_ada = model_asa.predict(X_val3).astype('int32')"
   ]
  },
  {
   "cell_type": "code",
   "execution_count": 375,
   "id": "fff818d2-16b2-4596-81b2-a4a35f63106e",
   "metadata": {},
   "outputs": [],
   "source": [
    "thres_nn_a, f1_val_nn_a = optimum_threshold(predict_proba_val_nn_ada, y_val3)"
   ]
  },
  {
   "cell_type": "code",
   "execution_count": 377,
   "id": "cf9e90c4-bb28-48a3-8bd1-f02be15ca8b5",
   "metadata": {},
   "outputs": [
    {
     "name": "stdout",
     "output_type": "stream",
     "text": [
      "F1 Score on Validation Data: 0\n"
     ]
    }
   ],
   "source": [
    "print(f\"F1 Score on Validation Data: {f1_val_nn_a}\")"
   ]
  },
  {
   "cell_type": "code",
   "execution_count": 379,
   "id": "420fb649-d1bf-4589-8878-e73ce460521a",
   "metadata": {},
   "outputs": [
    {
     "name": "stdout",
     "output_type": "stream",
     "text": [
      "1330/1330 [==============================] - 0s 244us/step\n"
     ]
    }
   ],
   "source": [
    "predictions_nn_asa_test = (model.predict(X_test3) > thres_nn_a).astype('int32')"
   ]
  },
  {
   "cell_type": "code",
   "execution_count": 381,
   "id": "74acbb03-c8b3-4c51-8d18-60257233f72f",
   "metadata": {},
   "outputs": [
    {
     "name": "stdout",
     "output_type": "stream",
     "text": [
      "Neural Network with ADASYN Resampling\n",
      "[[    8 42483]\n",
      " [    0    68]]\n",
      "\n",
      "\n",
      "              precision    recall  f1-score   support\n",
      "\n",
      "           0       1.00      0.00      0.00     42491\n",
      "           1       0.00      1.00      0.00        68\n",
      "\n",
      "    accuracy                           0.00     42559\n",
      "   macro avg       0.50      0.50      0.00     42559\n",
      "weighted avg       1.00      0.00      0.00     42559\n",
      "\n"
     ]
    }
   ],
   "source": [
    "print('Neural Network with ADASYN Resampling')\n",
    "print(confusion_matrix(y_test3, predictions_nn_asa_test))\n",
    "print('\\n')\n",
    "print(classification_report(y_test3, predictions_nn_asa_test))"
   ]
  },
  {
   "cell_type": "code",
   "execution_count": 88,
   "id": "907747da-3f63-4cfd-b74b-ec72c181d5be",
   "metadata": {},
   "outputs": [],
   "source": [
    "model_asa.save('nn_ada.keras')"
   ]
  }
 ],
 "metadata": {
  "kernelspec": {
   "display_name": "Python 3 (ipykernel)",
   "language": "python",
   "name": "python3"
  },
  "language_info": {
   "codemirror_mode": {
    "name": "ipython",
    "version": 3
   },
   "file_extension": ".py",
   "mimetype": "text/x-python",
   "name": "python",
   "nbconvert_exporter": "python",
   "pygments_lexer": "ipython3",
   "version": "3.11.7"
  }
 },
 "nbformat": 4,
 "nbformat_minor": 5
}
