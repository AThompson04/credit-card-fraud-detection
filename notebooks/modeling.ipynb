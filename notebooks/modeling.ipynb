{
 "cells": [
  {
   "cell_type": "markdown",
   "id": "6cbb558c-2900-4a40-a2ad-544fd1271265",
   "metadata": {},
   "source": [
    "## Importing Libraries"
   ]
  },
  {
   "cell_type": "code",
   "execution_count": 1,
   "id": "a6bf1b4c-7e9e-48c1-9abe-9659dff39f5f",
   "metadata": {},
   "outputs": [],
   "source": [
    "import warnings\n",
    "warnings.simplefilter(action='ignore', category=FutureWarning)"
   ]
  },
  {
   "cell_type": "code",
   "execution_count": 116,
   "id": "7c6280d0-9e4f-4271-a977-28f25eff60ed",
   "metadata": {},
   "outputs": [],
   "source": [
    "import pandas as pd\n",
    "from sklearn.model_selection import train_test_split\n",
    "import seaborn as sns"
   ]
  },
  {
   "cell_type": "markdown",
   "id": "563e27b5-79df-48e9-88e3-1fa7ee94200f",
   "metadata": {},
   "source": [
    "## Loading the Data"
   ]
  },
  {
   "cell_type": "code",
   "execution_count": 28,
   "id": "800c9f84-1bf7-469a-a199-69a404f43056",
   "metadata": {},
   "outputs": [],
   "source": [
    "data = pd.read_csv('../data/Cleaned_data.csv', index_col=0)"
   ]
  },
  {
   "cell_type": "code",
   "execution_count": 30,
   "id": "36ce91fd-111f-4aaf-bd75-50fe6d6c9600",
   "metadata": {},
   "outputs": [
    {
     "data": {
      "text/html": [
       "<div>\n",
       "<style scoped>\n",
       "    .dataframe tbody tr th:only-of-type {\n",
       "        vertical-align: middle;\n",
       "    }\n",
       "\n",
       "    .dataframe tbody tr th {\n",
       "        vertical-align: top;\n",
       "    }\n",
       "\n",
       "    .dataframe thead th {\n",
       "        text-align: right;\n",
       "    }\n",
       "</style>\n",
       "<table border=\"1\" class=\"dataframe\">\n",
       "  <thead>\n",
       "    <tr style=\"text-align: right;\">\n",
       "      <th></th>\n",
       "      <th>Time</th>\n",
       "      <th>V1</th>\n",
       "      <th>V2</th>\n",
       "      <th>V3</th>\n",
       "      <th>V4</th>\n",
       "      <th>V5</th>\n",
       "      <th>V6</th>\n",
       "      <th>V7</th>\n",
       "      <th>V8</th>\n",
       "      <th>V9</th>\n",
       "      <th>...</th>\n",
       "      <th>V21</th>\n",
       "      <th>V22</th>\n",
       "      <th>V23</th>\n",
       "      <th>V24</th>\n",
       "      <th>V25</th>\n",
       "      <th>V26</th>\n",
       "      <th>V27</th>\n",
       "      <th>V28</th>\n",
       "      <th>Amount</th>\n",
       "      <th>Class</th>\n",
       "    </tr>\n",
       "  </thead>\n",
       "  <tbody>\n",
       "    <tr>\n",
       "      <th>0</th>\n",
       "      <td>0.0</td>\n",
       "      <td>-1.359807</td>\n",
       "      <td>-0.072781</td>\n",
       "      <td>2.536347</td>\n",
       "      <td>1.378155</td>\n",
       "      <td>-0.338321</td>\n",
       "      <td>0.462388</td>\n",
       "      <td>0.239599</td>\n",
       "      <td>0.098698</td>\n",
       "      <td>0.363787</td>\n",
       "      <td>...</td>\n",
       "      <td>-0.018307</td>\n",
       "      <td>0.277838</td>\n",
       "      <td>-0.110474</td>\n",
       "      <td>0.066928</td>\n",
       "      <td>0.128539</td>\n",
       "      <td>-0.189115</td>\n",
       "      <td>0.133558</td>\n",
       "      <td>-0.021053</td>\n",
       "      <td>149.62</td>\n",
       "      <td>0</td>\n",
       "    </tr>\n",
       "    <tr>\n",
       "      <th>1</th>\n",
       "      <td>0.0</td>\n",
       "      <td>1.191857</td>\n",
       "      <td>0.266151</td>\n",
       "      <td>0.166480</td>\n",
       "      <td>0.448154</td>\n",
       "      <td>0.060018</td>\n",
       "      <td>-0.082361</td>\n",
       "      <td>-0.078803</td>\n",
       "      <td>0.085102</td>\n",
       "      <td>-0.255425</td>\n",
       "      <td>...</td>\n",
       "      <td>-0.225775</td>\n",
       "      <td>-0.638672</td>\n",
       "      <td>0.101288</td>\n",
       "      <td>-0.339846</td>\n",
       "      <td>0.167170</td>\n",
       "      <td>0.125895</td>\n",
       "      <td>-0.008983</td>\n",
       "      <td>0.014724</td>\n",
       "      <td>2.69</td>\n",
       "      <td>0</td>\n",
       "    </tr>\n",
       "    <tr>\n",
       "      <th>2</th>\n",
       "      <td>1.0</td>\n",
       "      <td>-1.358354</td>\n",
       "      <td>-1.340163</td>\n",
       "      <td>1.773209</td>\n",
       "      <td>0.379780</td>\n",
       "      <td>-0.503198</td>\n",
       "      <td>1.800499</td>\n",
       "      <td>0.791461</td>\n",
       "      <td>0.247676</td>\n",
       "      <td>-1.514654</td>\n",
       "      <td>...</td>\n",
       "      <td>0.247998</td>\n",
       "      <td>0.771679</td>\n",
       "      <td>0.909412</td>\n",
       "      <td>-0.689281</td>\n",
       "      <td>-0.327642</td>\n",
       "      <td>-0.139097</td>\n",
       "      <td>-0.055353</td>\n",
       "      <td>-0.059752</td>\n",
       "      <td>378.66</td>\n",
       "      <td>0</td>\n",
       "    </tr>\n",
       "    <tr>\n",
       "      <th>3</th>\n",
       "      <td>1.0</td>\n",
       "      <td>-0.966272</td>\n",
       "      <td>-0.185226</td>\n",
       "      <td>1.792993</td>\n",
       "      <td>-0.863291</td>\n",
       "      <td>-0.010309</td>\n",
       "      <td>1.247203</td>\n",
       "      <td>0.237609</td>\n",
       "      <td>0.377436</td>\n",
       "      <td>-1.387024</td>\n",
       "      <td>...</td>\n",
       "      <td>-0.108300</td>\n",
       "      <td>0.005274</td>\n",
       "      <td>-0.190321</td>\n",
       "      <td>-1.175575</td>\n",
       "      <td>0.647376</td>\n",
       "      <td>-0.221929</td>\n",
       "      <td>0.062723</td>\n",
       "      <td>0.061458</td>\n",
       "      <td>123.50</td>\n",
       "      <td>0</td>\n",
       "    </tr>\n",
       "    <tr>\n",
       "      <th>4</th>\n",
       "      <td>2.0</td>\n",
       "      <td>-1.158233</td>\n",
       "      <td>0.877737</td>\n",
       "      <td>1.548718</td>\n",
       "      <td>0.403034</td>\n",
       "      <td>-0.407193</td>\n",
       "      <td>0.095921</td>\n",
       "      <td>0.592941</td>\n",
       "      <td>-0.270533</td>\n",
       "      <td>0.817739</td>\n",
       "      <td>...</td>\n",
       "      <td>-0.009431</td>\n",
       "      <td>0.798278</td>\n",
       "      <td>-0.137458</td>\n",
       "      <td>0.141267</td>\n",
       "      <td>-0.206010</td>\n",
       "      <td>0.502292</td>\n",
       "      <td>0.219422</td>\n",
       "      <td>0.215153</td>\n",
       "      <td>69.99</td>\n",
       "      <td>0</td>\n",
       "    </tr>\n",
       "  </tbody>\n",
       "</table>\n",
       "<p>5 rows × 31 columns</p>\n",
       "</div>"
      ],
      "text/plain": [
       "   Time        V1        V2        V3        V4        V5        V6        V7  \\\n",
       "0   0.0 -1.359807 -0.072781  2.536347  1.378155 -0.338321  0.462388  0.239599   \n",
       "1   0.0  1.191857  0.266151  0.166480  0.448154  0.060018 -0.082361 -0.078803   \n",
       "2   1.0 -1.358354 -1.340163  1.773209  0.379780 -0.503198  1.800499  0.791461   \n",
       "3   1.0 -0.966272 -0.185226  1.792993 -0.863291 -0.010309  1.247203  0.237609   \n",
       "4   2.0 -1.158233  0.877737  1.548718  0.403034 -0.407193  0.095921  0.592941   \n",
       "\n",
       "         V8        V9  ...       V21       V22       V23       V24       V25  \\\n",
       "0  0.098698  0.363787  ... -0.018307  0.277838 -0.110474  0.066928  0.128539   \n",
       "1  0.085102 -0.255425  ... -0.225775 -0.638672  0.101288 -0.339846  0.167170   \n",
       "2  0.247676 -1.514654  ...  0.247998  0.771679  0.909412 -0.689281 -0.327642   \n",
       "3  0.377436 -1.387024  ... -0.108300  0.005274 -0.190321 -1.175575  0.647376   \n",
       "4 -0.270533  0.817739  ... -0.009431  0.798278 -0.137458  0.141267 -0.206010   \n",
       "\n",
       "        V26       V27       V28  Amount  Class  \n",
       "0 -0.189115  0.133558 -0.021053  149.62      0  \n",
       "1  0.125895 -0.008983  0.014724    2.69      0  \n",
       "2 -0.139097 -0.055353 -0.059752  378.66      0  \n",
       "3 -0.221929  0.062723  0.061458  123.50      0  \n",
       "4  0.502292  0.219422  0.215153   69.99      0  \n",
       "\n",
       "[5 rows x 31 columns]"
      ]
     },
     "execution_count": 30,
     "metadata": {},
     "output_type": "execute_result"
    }
   ],
   "source": [
    "data.head()"
   ]
  },
  {
   "cell_type": "code",
   "execution_count": 32,
   "id": "d2463ffd-8100-4c5f-bb48-2a100f6207dd",
   "metadata": {},
   "outputs": [
    {
     "name": "stdout",
     "output_type": "stream",
     "text": [
      "<class 'pandas.core.frame.DataFrame'>\n",
      "Index: 283726 entries, 0 to 284806\n",
      "Data columns (total 31 columns):\n",
      " #   Column  Non-Null Count   Dtype  \n",
      "---  ------  --------------   -----  \n",
      " 0   Time    283726 non-null  float64\n",
      " 1   V1      283726 non-null  float64\n",
      " 2   V2      283726 non-null  float64\n",
      " 3   V3      283726 non-null  float64\n",
      " 4   V4      283726 non-null  float64\n",
      " 5   V5      283726 non-null  float64\n",
      " 6   V6      283726 non-null  float64\n",
      " 7   V7      283726 non-null  float64\n",
      " 8   V8      283726 non-null  float64\n",
      " 9   V9      283726 non-null  float64\n",
      " 10  V10     283726 non-null  float64\n",
      " 11  V11     283726 non-null  float64\n",
      " 12  V12     283726 non-null  float64\n",
      " 13  V13     283726 non-null  float64\n",
      " 14  V14     283726 non-null  float64\n",
      " 15  V15     283726 non-null  float64\n",
      " 16  V16     283726 non-null  float64\n",
      " 17  V17     283726 non-null  float64\n",
      " 18  V18     283726 non-null  float64\n",
      " 19  V19     283726 non-null  float64\n",
      " 20  V20     283726 non-null  float64\n",
      " 21  V21     283726 non-null  float64\n",
      " 22  V22     283726 non-null  float64\n",
      " 23  V23     283726 non-null  float64\n",
      " 24  V24     283726 non-null  float64\n",
      " 25  V25     283726 non-null  float64\n",
      " 26  V26     283726 non-null  float64\n",
      " 27  V27     283726 non-null  float64\n",
      " 28  V28     283726 non-null  float64\n",
      " 29  Amount  283726 non-null  float64\n",
      " 30  Class   283726 non-null  int64  \n",
      "dtypes: float64(30), int64(1)\n",
      "memory usage: 69.3 MB\n"
     ]
    }
   ],
   "source": [
    "data.info()"
   ]
  },
  {
   "cell_type": "markdown",
   "id": "1c8250df-8cc9-48c7-a6fb-7e4dda8e3945",
   "metadata": {},
   "source": [
    "## Modelling\n",
    "Each Modelling technique will be done on three samples:\n",
    "- Original Data\n",
    "- Resampling using SMOTE\n",
    "- Resampling using ADASYN"
   ]
  },
  {
   "cell_type": "markdown",
   "id": "83ddd5ca-a8ff-4660-91b6-3459d4d1a07c",
   "metadata": {},
   "source": [
    "#### Creating the Samples"
   ]
  },
  {
   "cell_type": "code",
   "execution_count": 173,
   "id": "c43b12e2-e46d-4bd4-93d9-5377a69e6aa9",
   "metadata": {},
   "outputs": [],
   "source": [
    "X = data.drop('Class',axis=1)\n",
    "y = data['Class']"
   ]
  },
  {
   "cell_type": "markdown",
   "id": "8c0fd67e-0850-4f99-9d0c-4f81ea98b282",
   "metadata": {},
   "source": [
    "##### 1) Original Data"
   ]
  },
  {
   "cell_type": "code",
   "execution_count": 176,
   "id": "a21f35f8-f43b-461c-a02e-50892e974a88",
   "metadata": {},
   "outputs": [],
   "source": [
    "X_train, X_test, y_train, y_test = train_test_split(X, y,\n",
    "                                                    test_size=0.30, \n",
    "                                                    random_state=46)"
   ]
  },
  {
   "cell_type": "markdown",
   "id": "89c3ffd9-ba32-4455-adcc-65e475da79d5",
   "metadata": {},
   "source": [
    "##### 2) Resampling using SMOTE"
   ]
  },
  {
   "cell_type": "code",
   "execution_count": 178,
   "id": "8f7890a6-18ac-49f7-a13b-3bee5a1ae889",
   "metadata": {},
   "outputs": [],
   "source": [
    "X_resampled_smote, y_resampled_smote = SMOTE().fit_resample(X, y)"
   ]
  },
  {
   "cell_type": "code",
   "execution_count": 180,
   "id": "aa4f8223-0a55-4527-a8f7-060398158594",
   "metadata": {},
   "outputs": [
    {
     "data": {
      "image/png": "[encoded data removed]",
      "text/plain": [
       "<Figure size 640x480 with 1 Axes>"
      ]
     },
     "metadata": {},
     "output_type": "display_data"
    }
   ],
   "source": [
    "sns.countplot(data=pd.DataFrame(y_resampled_smote), x='Class');"
   ]
  },
  {
   "cell_type": "code",
   "execution_count": 182,
   "id": "dfb53292-6d30-4b65-a53a-1dad13fd5d15",
   "metadata": {},
   "outputs": [
    {
     "data": {
      "text/plain": [
       "Class\n",
       "0        283253\n",
       "1        283253\n",
       "Name: count, dtype: int64"
      ]
     },
     "execution_count": 182,
     "metadata": {},
     "output_type": "execute_result"
    }
   ],
   "source": [
    "pd.DataFrame(y_resampled_smote).value_counts()"
   ]
  },
  {
   "cell_type": "code",
   "execution_count": 184,
   "id": "0444a920-f19d-4304-a6ad-490d442cbbbe",
   "metadata": {},
   "outputs": [],
   "source": [
    "X_train2, X_test2, y_train2, y_test2 = train_test_split(X_resampled_smote, y_resampled_smote,\n",
    "                                                    test_size=0.30, \n",
    "                                                    random_state=46)"
   ]
  },
  {
   "cell_type": "markdown",
   "id": "9d107e92-3766-41de-a8d8-aeec2a044428",
   "metadata": {},
   "source": [
    "##### 3) Resampling using ADASYN"
   ]
  },
  {
   "cell_type": "code",
   "execution_count": 192,
   "id": "d62afa24-ea36-49a4-8609-da5029f7692f",
   "metadata": {},
   "outputs": [],
   "source": [
    "X_resampled_ASA, y_resampled_ASA = ADASYN().fit_resample(X, y)"
   ]
  },
  {
   "cell_type": "code",
   "execution_count": 194,
   "id": "98638a5d-4de7-4766-97f0-104caacc80bb",
   "metadata": {},
   "outputs": [
    {
     "data": {
      "image/png": "[encoded data removed]",
      "text/plain": [
       "<Figure size 640x480 with 1 Axes>"
      ]
     },
     "metadata": {},
     "output_type": "display_data"
    }
   ],
   "source": [
    "sns.countplot(data=pd.DataFrame(y_resampled_ASA), x='Class');"
   ]
  },
  {
   "cell_type": "code",
   "execution_count": 196,
   "id": "4d4e5c89-0165-4cc1-b745-8dd28729f70d",
   "metadata": {},
   "outputs": [
    {
     "data": {
      "text/plain": [
       "Class\n",
       "1        283299\n",
       "0        283253\n",
       "Name: count, dtype: int64"
      ]
     },
     "execution_count": 196,
     "metadata": {},
     "output_type": "execute_result"
    }
   ],
   "source": [
    "pd.DataFrame(y_resampled_ASA).value_counts()"
   ]
  },
  {
   "cell_type": "code",
   "execution_count": 198,
   "id": "d3f1117c-5200-4125-83ce-e9ec49e0f47b",
   "metadata": {},
   "outputs": [],
   "source": [
    "X_train3, X_test3, y_train3, y_test3 = train_test_split(X_resampled_ASA, y_resampled_ASA,\n",
    "                                                    test_size=0.30, \n",
    "                                                    random_state=46)"
   ]
  },
  {
   "cell_type": "markdown",
   "id": "e8230ec9-7985-4868-b41d-3e9c226aaa26",
   "metadata": {},
   "source": [
    "### Logistic Regression"
   ]
  },
  {
   "cell_type": "code",
   "execution_count": 200,
   "id": "85c2d43f-375e-4bc6-a4e8-5122aa6a0565",
   "metadata": {},
   "outputs": [],
   "source": [
    "from sklearn.linear_model import LogisticRegression\n",
    "from imblearn.over_sampling import SMOTE, ADASYN\n",
    "from sklearn.metrics import classification_report, confusion_matrix"
   ]
  },
  {
   "cell_type": "markdown",
   "id": "2d43ba9b-1325-411d-b359-63dddb279c3f",
   "metadata": {},
   "source": [
    "#### Logistic Regression Without Resampling"
   ]
  },
  {
   "cell_type": "code",
   "execution_count": 202,
   "id": "9195486b-0cb9-420d-8dcb-f737d8f68290",
   "metadata": {},
   "outputs": [
    {
     "data": {
      "text/html": [
       "<style>#sk-container-id-4 {color: black;background-color: white;}#sk-container-id-4 pre{padding: 0;}#sk-container-id-4 div.sk-toggleable {background-color: white;}#sk-container-id-4 label.sk-toggleable__label {cursor: pointer;display: block;width: 100%;margin-bottom: 0;padding: 0.3em;box-sizing: border-box;text-align: center;}#sk-container-id-4 label.sk-toggleable__label-arrow:before {content: \"▸\";float: left;margin-right: 0.25em;color: #696969;}#sk-container-id-4 label.sk-toggleable__label-arrow:hover:before {color: black;}#sk-container-id-4 div.sk-estimator:hover label.sk-toggleable__label-arrow:before {color: black;}#sk-container-id-4 div.sk-toggleable__content {max-height: 0;max-width: 0;overflow: hidden;text-align: left;background-color: #f0f8ff;}#sk-container-id-4 div.sk-toggleable__content pre {margin: 0.2em;color: black;border-radius: 0.25em;background-color: #f0f8ff;}#sk-container-id-4 input.sk-toggleable__control:checked~div.sk-toggleable__content {max-height: 200px;max-width: 100%;overflow: auto;}#sk-container-id-4 input.sk-toggleable__control:checked~label.sk-toggleable__label-arrow:before {content: \"▾\";}#sk-container-id-4 div.sk-estimator input.sk-toggleable__control:checked~label.sk-toggleable__label {background-color: #d4ebff;}#sk-container-id-4 div.sk-label input.sk-toggleable__control:checked~label.sk-toggleable__label {background-color: #d4ebff;}#sk-container-id-4 input.sk-hidden--visually {border: 0;clip: rect(1px 1px 1px 1px);clip: rect(1px, 1px, 1px, 1px);height: 1px;margin: -1px;overflow: hidden;padding: 0;position: absolute;width: 1px;}#sk-container-id-4 div.sk-estimator {font-family: monospace;background-color: #f0f8ff;border: 1px dotted black;border-radius: 0.25em;box-sizing: border-box;margin-bottom: 0.5em;}#sk-container-id-4 div.sk-estimator:hover {background-color: #d4ebff;}#sk-container-id-4 div.sk-parallel-item::after {content: \"\";width: 100%;border-bottom: 1px solid gray;flex-grow: 1;}#sk-container-id-4 div.sk-label:hover label.sk-toggleable__label {background-color: #d4ebff;}#sk-container-id-4 div.sk-serial::before {content: \"\";position: absolute;border-left: 1px solid gray;box-sizing: border-box;top: 0;bottom: 0;left: 50%;z-index: 0;}#sk-container-id-4 div.sk-serial {display: flex;flex-direction: column;align-items: center;background-color: white;padding-right: 0.2em;padding-left: 0.2em;position: relative;}#sk-container-id-4 div.sk-item {position: relative;z-index: 1;}#sk-container-id-4 div.sk-parallel {display: flex;align-items: stretch;justify-content: center;background-color: white;position: relative;}#sk-container-id-4 div.sk-item::before, #sk-container-id-4 div.sk-parallel-item::before {content: \"\";position: absolute;border-left: 1px solid gray;box-sizing: border-box;top: 0;bottom: 0;left: 50%;z-index: -1;}#sk-container-id-4 div.sk-parallel-item {display: flex;flex-direction: column;z-index: 1;position: relative;background-color: white;}#sk-container-id-4 div.sk-parallel-item:first-child::after {align-self: flex-end;width: 50%;}#sk-container-id-4 div.sk-parallel-item:last-child::after {align-self: flex-start;width: 50%;}#sk-container-id-4 div.sk-parallel-item:only-child::after {width: 0;}#sk-container-id-4 div.sk-dashed-wrapped {border: 1px dashed gray;margin: 0 0.4em 0.5em 0.4em;box-sizing: border-box;padding-bottom: 0.4em;background-color: white;}#sk-container-id-4 div.sk-label label {font-family: monospace;font-weight: bold;display: inline-block;line-height: 1.2em;}#sk-container-id-4 div.sk-label-container {text-align: center;}#sk-container-id-4 div.sk-container {/* jupyter's `normalize.less` sets `[hidden] { display: none; }` but bootstrap.min.css set `[hidden] { display: none !important; }` so we also need the `!important` here to be able to override the default hidden behavior on the sphinx rendered scikit-learn.org. See: https://github.com/scikit-learn/scikit-learn/issues/21755 */display: inline-block !important;position: relative;}#sk-container-id-4 div.sk-text-repr-fallback {display: none;}</style><div id=\"sk-container-id-4\" class=\"sk-top-container\"><div class=\"sk-text-repr-fallback\"><pre>LogisticRegression(max_iter=10000)</pre><b>In a Jupyter environment, please rerun this cell to show the HTML representation or trust the notebook. <br />On GitHub, the HTML representation is unable to render, please try loading this page with nbviewer.org.</b></div><div class=\"sk-container\" hidden><div class=\"sk-item\"><div class=\"sk-estimator sk-toggleable\"><input class=\"sk-toggleable__control sk-hidden--visually\" id=\"sk-estimator-id-4\" type=\"checkbox\" checked><label for=\"sk-estimator-id-4\" class=\"sk-toggleable__label sk-toggleable__label-arrow\">LogisticRegression</label><div class=\"sk-toggleable__content\"><pre>LogisticRegression(max_iter=10000)</pre></div></div></div></div></div>"
      ],
      "text/plain": [
       "LogisticRegression(max_iter=10000)"
      ]
     },
     "execution_count": 202,
     "metadata": {},
     "output_type": "execute_result"
    }
   ],
   "source": [
    "logmod1 = LogisticRegression(max_iter=10000)\n",
    "logmod1.fit(X_train, y_train)"
   ]
  },
  {
   "cell_type": "code",
   "execution_count": 204,
   "id": "1718b09b-6608-4d4f-a50f-c7d25e5a55f0",
   "metadata": {},
   "outputs": [],
   "source": [
    "predictions_lgtest1 = logmod1.predict(X_test)\n",
    "predictions_lgtrain1 = logmod1.predict(X_train)"
   ]
  },
  {
   "cell_type": "code",
   "execution_count": 206,
   "id": "61b11222-19e8-47db-9ff0-4cb91dbef4dd",
   "metadata": {},
   "outputs": [
    {
     "name": "stdout",
     "output_type": "stream",
     "text": [
      "Train\n",
      "[[198233     38]\n",
      " [   131    206]]\n",
      "\n",
      "\n",
      "              precision    recall  f1-score   support\n",
      "\n",
      "           0       1.00      1.00      1.00    198271\n",
      "           1       0.84      0.61      0.71       337\n",
      "\n",
      "    accuracy                           1.00    198608\n",
      "   macro avg       0.92      0.81      0.85    198608\n",
      "weighted avg       1.00      1.00      1.00    198608\n",
      "\n",
      "\n",
      "\n",
      "Test\n",
      "[[84966    16]\n",
      " [   62    74]]\n",
      "\n",
      "\n",
      "              precision    recall  f1-score   support\n",
      "\n",
      "           0       1.00      1.00      1.00     84982\n",
      "           1       0.82      0.54      0.65       136\n",
      "\n",
      "    accuracy                           1.00     85118\n",
      "   macro avg       0.91      0.77      0.83     85118\n",
      "weighted avg       1.00      1.00      1.00     85118\n",
      "\n"
     ]
    }
   ],
   "source": [
    "print('Train')\n",
    "print(confusion_matrix(y_train, predictions_lgtrain1))\n",
    "print('\\n')\n",
    "print(classification_report(y_train, predictions_lgtrain1))\n",
    "print('\\n')\n",
    "print('Test')\n",
    "print(confusion_matrix(y_test, predictions_lgtest1))\n",
    "print('\\n')\n",
    "print(classification_report(y_test, predictions_lgtest1))"
   ]
  },
  {
   "cell_type": "markdown",
   "id": "e10ecfb3-cc35-475e-8387-a944ac2c0f58",
   "metadata": {},
   "source": [
    "#### Logistic Regression with SMOTE Resampling"
   ]
  },
  {
   "cell_type": "code",
   "execution_count": 208,
   "id": "620a3cca-54aa-4d77-8ebb-401afd5d2cfc",
   "metadata": {},
   "outputs": [
    {
     "data": {
      "text/html": [
       "<style>#sk-container-id-5 {color: black;background-color: white;}#sk-container-id-5 pre{padding: 0;}#sk-container-id-5 div.sk-toggleable {background-color: white;}#sk-container-id-5 label.sk-toggleable__label {cursor: pointer;display: block;width: 100%;margin-bottom: 0;padding: 0.3em;box-sizing: border-box;text-align: center;}#sk-container-id-5 label.sk-toggleable__label-arrow:before {content: \"▸\";float: left;margin-right: 0.25em;color: #696969;}#sk-container-id-5 label.sk-toggleable__label-arrow:hover:before {color: black;}#sk-container-id-5 div.sk-estimator:hover label.sk-toggleable__label-arrow:before {color: black;}#sk-container-id-5 div.sk-toggleable__content {max-height: 0;max-width: 0;overflow: hidden;text-align: left;background-color: #f0f8ff;}#sk-container-id-5 div.sk-toggleable__content pre {margin: 0.2em;color: black;border-radius: 0.25em;background-color: #f0f8ff;}#sk-container-id-5 input.sk-toggleable__control:checked~div.sk-toggleable__content {max-height: 200px;max-width: 100%;overflow: auto;}#sk-container-id-5 input.sk-toggleable__control:checked~label.sk-toggleable__label-arrow:before {content: \"▾\";}#sk-container-id-5 div.sk-estimator input.sk-toggleable__control:checked~label.sk-toggleable__label {background-color: #d4ebff;}#sk-container-id-5 div.sk-label input.sk-toggleable__control:checked~label.sk-toggleable__label {background-color: #d4ebff;}#sk-container-id-5 input.sk-hidden--visually {border: 0;clip: rect(1px 1px 1px 1px);clip: rect(1px, 1px, 1px, 1px);height: 1px;margin: -1px;overflow: hidden;padding: 0;position: absolute;width: 1px;}#sk-container-id-5 div.sk-estimator {font-family: monospace;background-color: #f0f8ff;border: 1px dotted black;border-radius: 0.25em;box-sizing: border-box;margin-bottom: 0.5em;}#sk-container-id-5 div.sk-estimator:hover {background-color: #d4ebff;}#sk-container-id-5 div.sk-parallel-item::after {content: \"\";width: 100%;border-bottom: 1px solid gray;flex-grow: 1;}#sk-container-id-5 div.sk-label:hover label.sk-toggleable__label {background-color: #d4ebff;}#sk-container-id-5 div.sk-serial::before {content: \"\";position: absolute;border-left: 1px solid gray;box-sizing: border-box;top: 0;bottom: 0;left: 50%;z-index: 0;}#sk-container-id-5 div.sk-serial {display: flex;flex-direction: column;align-items: center;background-color: white;padding-right: 0.2em;padding-left: 0.2em;position: relative;}#sk-container-id-5 div.sk-item {position: relative;z-index: 1;}#sk-container-id-5 div.sk-parallel {display: flex;align-items: stretch;justify-content: center;background-color: white;position: relative;}#sk-container-id-5 div.sk-item::before, #sk-container-id-5 div.sk-parallel-item::before {content: \"\";position: absolute;border-left: 1px solid gray;box-sizing: border-box;top: 0;bottom: 0;left: 50%;z-index: -1;}#sk-container-id-5 div.sk-parallel-item {display: flex;flex-direction: column;z-index: 1;position: relative;background-color: white;}#sk-container-id-5 div.sk-parallel-item:first-child::after {align-self: flex-end;width: 50%;}#sk-container-id-5 div.sk-parallel-item:last-child::after {align-self: flex-start;width: 50%;}#sk-container-id-5 div.sk-parallel-item:only-child::after {width: 0;}#sk-container-id-5 div.sk-dashed-wrapped {border: 1px dashed gray;margin: 0 0.4em 0.5em 0.4em;box-sizing: border-box;padding-bottom: 0.4em;background-color: white;}#sk-container-id-5 div.sk-label label {font-family: monospace;font-weight: bold;display: inline-block;line-height: 1.2em;}#sk-container-id-5 div.sk-label-container {text-align: center;}#sk-container-id-5 div.sk-container {/* jupyter's `normalize.less` sets `[hidden] { display: none; }` but bootstrap.min.css set `[hidden] { display: none !important; }` so we also need the `!important` here to be able to override the default hidden behavior on the sphinx rendered scikit-learn.org. See: https://github.com/scikit-learn/scikit-learn/issues/21755 */display: inline-block !important;position: relative;}#sk-container-id-5 div.sk-text-repr-fallback {display: none;}</style><div id=\"sk-container-id-5\" class=\"sk-top-container\"><div class=\"sk-text-repr-fallback\"><pre>LogisticRegression(max_iter=10000)</pre><b>In a Jupyter environment, please rerun this cell to show the HTML representation or trust the notebook. <br />On GitHub, the HTML representation is unable to render, please try loading this page with nbviewer.org.</b></div><div class=\"sk-container\" hidden><div class=\"sk-item\"><div class=\"sk-estimator sk-toggleable\"><input class=\"sk-toggleable__control sk-hidden--visually\" id=\"sk-estimator-id-5\" type=\"checkbox\" checked><label for=\"sk-estimator-id-5\" class=\"sk-toggleable__label sk-toggleable__label-arrow\">LogisticRegression</label><div class=\"sk-toggleable__content\"><pre>LogisticRegression(max_iter=10000)</pre></div></div></div></div></div>"
      ],
      "text/plain": [
       "LogisticRegression(max_iter=10000)"
      ]
     },
     "execution_count": 208,
     "metadata": {},
     "output_type": "execute_result"
    }
   ],
   "source": [
    "logmod2 = LogisticRegression(max_iter=10000)\n",
    "logmod2.fit(X_train2, y_train2)"
   ]
  },
  {
   "cell_type": "code",
   "execution_count": 209,
   "id": "030931aa-3e98-47a4-a10e-e9d0312c523f",
   "metadata": {},
   "outputs": [],
   "source": [
    "predictions_lgtest2 = logmod2.predict(X_test2)\n",
    "predictions_lgtrain2 = logmod2.predict(X_train2)"
   ]
  },
  {
   "cell_type": "code",
   "execution_count": 210,
   "id": "3849b937-586d-484d-aee9-5352ac9b2793",
   "metadata": {},
   "outputs": [
    {
     "name": "stdout",
     "output_type": "stream",
     "text": [
      "Logistic Regression using SMOTE Resampling\n",
      "Train\n",
      "[[194646   3466]\n",
      " [  7557 190885]]\n",
      "\n",
      "\n",
      "              precision    recall  f1-score   support\n",
      "\n",
      "           0       0.96      0.98      0.97    198112\n",
      "           1       0.98      0.96      0.97    198442\n",
      "\n",
      "    accuracy                           0.97    396554\n",
      "   macro avg       0.97      0.97      0.97    396554\n",
      "weighted avg       0.97      0.97      0.97    396554\n",
      "\n",
      "\n",
      "\n",
      "Test\n",
      "[[83683  1458]\n",
      " [ 3306 81505]]\n",
      "\n",
      "\n",
      "              precision    recall  f1-score   support\n",
      "\n",
      "           0       0.96      0.98      0.97     85141\n",
      "           1       0.98      0.96      0.97     84811\n",
      "\n",
      "    accuracy                           0.97    169952\n",
      "   macro avg       0.97      0.97      0.97    169952\n",
      "weighted avg       0.97      0.97      0.97    169952\n",
      "\n"
     ]
    }
   ],
   "source": [
    "print('Logistic Regression using SMOTE Resampling')\n",
    "print('Train')\n",
    "print(confusion_matrix(y_train2, predictions_lgtrain2))\n",
    "print('\\n')\n",
    "print(classification_report(y_train2, predictions_lgtrain2))\n",
    "print('\\n')\n",
    "print('Test')\n",
    "print(confusion_matrix(y_test2, predictions_lgtest2))\n",
    "print('\\n')\n",
    "print(classification_report(y_test2, predictions_lgtest2))"
   ]
  },
  {
   "cell_type": "markdown",
   "id": "51e2afe4-0d5d-4715-8e5f-fa0d48211fcc",
   "metadata": {},
   "source": [
    "#### Logistics Regression with ADASYN Resampling"
   ]
  },
  {
   "cell_type": "code",
   "execution_count": 214,
   "id": "ce26f26a-66c0-42a4-b65e-d31b5214a3d5",
   "metadata": {},
   "outputs": [
    {
     "data": {
      "text/html": [
       "<style>#sk-container-id-6 {color: black;background-color: white;}#sk-container-id-6 pre{padding: 0;}#sk-container-id-6 div.sk-toggleable {background-color: white;}#sk-container-id-6 label.sk-toggleable__label {cursor: pointer;display: block;width: 100%;margin-bottom: 0;padding: 0.3em;box-sizing: border-box;text-align: center;}#sk-container-id-6 label.sk-toggleable__label-arrow:before {content: \"▸\";float: left;margin-right: 0.25em;color: #696969;}#sk-container-id-6 label.sk-toggleable__label-arrow:hover:before {color: black;}#sk-container-id-6 div.sk-estimator:hover label.sk-toggleable__label-arrow:before {color: black;}#sk-container-id-6 div.sk-toggleable__content {max-height: 0;max-width: 0;overflow: hidden;text-align: left;background-color: #f0f8ff;}#sk-container-id-6 div.sk-toggleable__content pre {margin: 0.2em;color: black;border-radius: 0.25em;background-color: #f0f8ff;}#sk-container-id-6 input.sk-toggleable__control:checked~div.sk-toggleable__content {max-height: 200px;max-width: 100%;overflow: auto;}#sk-container-id-6 input.sk-toggleable__control:checked~label.sk-toggleable__label-arrow:before {content: \"▾\";}#sk-container-id-6 div.sk-estimator input.sk-toggleable__control:checked~label.sk-toggleable__label {background-color: #d4ebff;}#sk-container-id-6 div.sk-label input.sk-toggleable__control:checked~label.sk-toggleable__label {background-color: #d4ebff;}#sk-container-id-6 input.sk-hidden--visually {border: 0;clip: rect(1px 1px 1px 1px);clip: rect(1px, 1px, 1px, 1px);height: 1px;margin: -1px;overflow: hidden;padding: 0;position: absolute;width: 1px;}#sk-container-id-6 div.sk-estimator {font-family: monospace;background-color: #f0f8ff;border: 1px dotted black;border-radius: 0.25em;box-sizing: border-box;margin-bottom: 0.5em;}#sk-container-id-6 div.sk-estimator:hover {background-color: #d4ebff;}#sk-container-id-6 div.sk-parallel-item::after {content: \"\";width: 100%;border-bottom: 1px solid gray;flex-grow: 1;}#sk-container-id-6 div.sk-label:hover label.sk-toggleable__label {background-color: #d4ebff;}#sk-container-id-6 div.sk-serial::before {content: \"\";position: absolute;border-left: 1px solid gray;box-sizing: border-box;top: 0;bottom: 0;left: 50%;z-index: 0;}#sk-container-id-6 div.sk-serial {display: flex;flex-direction: column;align-items: center;background-color: white;padding-right: 0.2em;padding-left: 0.2em;position: relative;}#sk-container-id-6 div.sk-item {position: relative;z-index: 1;}#sk-container-id-6 div.sk-parallel {display: flex;align-items: stretch;justify-content: center;background-color: white;position: relative;}#sk-container-id-6 div.sk-item::before, #sk-container-id-6 div.sk-parallel-item::before {content: \"\";position: absolute;border-left: 1px solid gray;box-sizing: border-box;top: 0;bottom: 0;left: 50%;z-index: -1;}#sk-container-id-6 div.sk-parallel-item {display: flex;flex-direction: column;z-index: 1;position: relative;background-color: white;}#sk-container-id-6 div.sk-parallel-item:first-child::after {align-self: flex-end;width: 50%;}#sk-container-id-6 div.sk-parallel-item:last-child::after {align-self: flex-start;width: 50%;}#sk-container-id-6 div.sk-parallel-item:only-child::after {width: 0;}#sk-container-id-6 div.sk-dashed-wrapped {border: 1px dashed gray;margin: 0 0.4em 0.5em 0.4em;box-sizing: border-box;padding-bottom: 0.4em;background-color: white;}#sk-container-id-6 div.sk-label label {font-family: monospace;font-weight: bold;display: inline-block;line-height: 1.2em;}#sk-container-id-6 div.sk-label-container {text-align: center;}#sk-container-id-6 div.sk-container {/* jupyter's `normalize.less` sets `[hidden] { display: none; }` but bootstrap.min.css set `[hidden] { display: none !important; }` so we also need the `!important` here to be able to override the default hidden behavior on the sphinx rendered scikit-learn.org. See: https://github.com/scikit-learn/scikit-learn/issues/21755 */display: inline-block !important;position: relative;}#sk-container-id-6 div.sk-text-repr-fallback {display: none;}</style><div id=\"sk-container-id-6\" class=\"sk-top-container\"><div class=\"sk-text-repr-fallback\"><pre>LogisticRegression(max_iter=10000)</pre><b>In a Jupyter environment, please rerun this cell to show the HTML representation or trust the notebook. <br />On GitHub, the HTML representation is unable to render, please try loading this page with nbviewer.org.</b></div><div class=\"sk-container\" hidden><div class=\"sk-item\"><div class=\"sk-estimator sk-toggleable\"><input class=\"sk-toggleable__control sk-hidden--visually\" id=\"sk-estimator-id-6\" type=\"checkbox\" checked><label for=\"sk-estimator-id-6\" class=\"sk-toggleable__label sk-toggleable__label-arrow\">LogisticRegression</label><div class=\"sk-toggleable__content\"><pre>LogisticRegression(max_iter=10000)</pre></div></div></div></div></div>"
      ],
      "text/plain": [
       "LogisticRegression(max_iter=10000)"
      ]
     },
     "execution_count": 214,
     "metadata": {},
     "output_type": "execute_result"
    }
   ],
   "source": [
    "logmod3 = LogisticRegression(max_iter=10000)\n",
    "logmod3.fit(X_train3, y_train3)"
   ]
  },
  {
   "cell_type": "code",
   "execution_count": 215,
   "id": "e85b181d-87a4-44fa-b8b9-72a1c6a8386c",
   "metadata": {},
   "outputs": [],
   "source": [
    "predictions_lgtest3 = logmod2.predict(X_test3)\n",
    "predictions_lgtrain3 = logmod2.predict(X_train3)"
   ]
  },
  {
   "cell_type": "code",
   "execution_count": 218,
   "id": "37fe79b6-aa8a-411b-a299-19d6464465d6",
   "metadata": {},
   "outputs": [
    {
     "name": "stdout",
     "output_type": "stream",
     "text": [
      "Logistic Regression using ADASYN Resampling\n",
      "Train\n",
      "[[194498   3452]\n",
      " [  7851 190785]]\n",
      "\n",
      "\n",
      "              precision    recall  f1-score   support\n",
      "\n",
      "           0       0.96      0.98      0.97    197950\n",
      "           1       0.98      0.96      0.97    198636\n",
      "\n",
      "    accuracy                           0.97    396586\n",
      "   macro avg       0.97      0.97      0.97    396586\n",
      "weighted avg       0.97      0.97      0.97    396586\n",
      "\n",
      "\n",
      "\n",
      "Test\n",
      "[[83831  1472]\n",
      " [ 3487 81176]]\n",
      "\n",
      "\n",
      "              precision    recall  f1-score   support\n",
      "\n",
      "           0       0.96      0.98      0.97     85303\n",
      "           1       0.98      0.96      0.97     84663\n",
      "\n",
      "    accuracy                           0.97    169966\n",
      "   macro avg       0.97      0.97      0.97    169966\n",
      "weighted avg       0.97      0.97      0.97    169966\n",
      "\n"
     ]
    }
   ],
   "source": [
    "print('Logistic Regression using ADASYN Resampling')\n",
    "print('Train')\n",
    "print(confusion_matrix(y_train3, predictions_lgtrain3))\n",
    "print('\\n')\n",
    "print(classification_report(y_train3, predictions_lgtrain3))\n",
    "print('\\n')\n",
    "print('Test')\n",
    "print(confusion_matrix(y_test3, predictions_lgtest3))\n",
    "print('\\n')\n",
    "print(classification_report(y_test3, predictions_lgtest3))"
   ]
  },
  {
   "cell_type": "markdown",
   "id": "a9ed34b6-98f4-472c-bf95-15e068fcd8b0",
   "metadata": {},
   "source": [
    "### Trees\n",
    "\n",
    "\"Boosting algorithms play a crucial role in dealing with bias variance trade-off.  Unlike bagging algorithms, which only controls for high variance in a model, boosting controls both the aspects (bias & variance), and is considered to be more effective.\" https://www.analyticsvidhya.com/blog/2016/02/complete-guide-parameter-tuning-gradient-boosting-gbm-python/"
   ]
  },
  {
   "cell_type": "code",
   "execution_count": 227,
   "id": "33f4a60b-b255-47a4-ace0-8d195c39ec2e",
   "metadata": {},
   "outputs": [],
   "source": [
    "from sklearn.ensemble import GradientBoostingClassifier\n",
    "from sklearn.model_selection import GridSearchCV\n",
    "from sklearn.metrics import accuracy_score"
   ]
  },
  {
   "cell_type": "code",
   "execution_count": 231,
   "id": "ee500085-91a9-46c9-b367-1f4e435206c9",
   "metadata": {},
   "outputs": [
    {
     "name": "stdout",
     "output_type": "stream",
     "text": [
      "Fitting 5 folds for each of 24 candidates, totalling 120 fits\n"
     ]
    },
    {
     "ename": "KeyboardInterrupt",
     "evalue": "",
     "output_type": "error",
     "traceback": [
      "\u001b[0;31m---------------------------------------------------------------------------\u001b[0m",
      "\u001b[0;31mKeyboardInterrupt\u001b[0m                         Traceback (most recent call last)",
      "Cell \u001b[0;32mIn[231], line 20\u001b[0m\n\u001b[1;32m      3\u001b[0m param_grid \u001b[38;5;241m=\u001b[39m { \u001b[38;5;66;03m# This will be used for all samples\u001b[39;00m\n\u001b[1;32m      4\u001b[0m     \u001b[38;5;124m'\u001b[39m\u001b[38;5;124mn_estimators\u001b[39m\u001b[38;5;124m'\u001b[39m: [\u001b[38;5;241m100\u001b[39m, \u001b[38;5;241m200\u001b[39m], \u001b[38;5;66;03m# number of sequential trees to be modeled\u001b[39;00m\n\u001b[1;32m      5\u001b[0m     \u001b[38;5;124m'\u001b[39m\u001b[38;5;124mmax_depth\u001b[39m\u001b[38;5;124m'\u001b[39m: [\u001b[38;5;241m10\u001b[39m, \u001b[38;5;241m15\u001b[39m], \u001b[38;5;66;03m# maximum depth of the individual regression estimators\u001b[39;00m\n\u001b[0;32m   (...)\u001b[0m\n\u001b[1;32m      8\u001b[0m     \u001b[38;5;124m'\u001b[39m\u001b[38;5;124mmax_features\u001b[39m\u001b[38;5;124m'\u001b[39m: [\u001b[38;5;241m5\u001b[39m, \u001b[38;5;241m10\u001b[39m, \u001b[38;5;241m15\u001b[39m]\n\u001b[1;32m      9\u001b[0m }\n\u001b[1;32m     11\u001b[0m grid_search_tree \u001b[38;5;241m=\u001b[39m GridSearchCV(\n\u001b[1;32m     12\u001b[0m     estimator\u001b[38;5;241m=\u001b[39mtree,\n\u001b[1;32m     13\u001b[0m     param_grid\u001b[38;5;241m=\u001b[39mparam_grid,\n\u001b[0;32m   (...)\u001b[0m\n\u001b[1;32m     17\u001b[0m     verbose\u001b[38;5;241m=\u001b[39m\u001b[38;5;241m1\u001b[39m\n\u001b[1;32m     18\u001b[0m )\n\u001b[0;32m---> 20\u001b[0m grid_search_tree\u001b[38;5;241m.\u001b[39mfit(X_train, y_train)\n",
      "File \u001b[0;32m/opt/anaconda3/lib/python3.11/site-packages/sklearn/model_selection/_search.py:874\u001b[0m, in \u001b[0;36mBaseSearchCV.fit\u001b[0;34m(self, X, y, groups, **fit_params)\u001b[0m\n\u001b[1;32m    868\u001b[0m     results \u001b[38;5;241m=\u001b[39m \u001b[38;5;28mself\u001b[39m\u001b[38;5;241m.\u001b[39m_format_results(\n\u001b[1;32m    869\u001b[0m         all_candidate_params, n_splits, all_out, all_more_results\n\u001b[1;32m    870\u001b[0m     )\n\u001b[1;32m    872\u001b[0m     \u001b[38;5;28;01mreturn\u001b[39;00m results\n\u001b[0;32m--> 874\u001b[0m \u001b[38;5;28mself\u001b[39m\u001b[38;5;241m.\u001b[39m_run_search(evaluate_candidates)\n\u001b[1;32m    876\u001b[0m \u001b[38;5;66;03m# multimetric is determined here because in the case of a callable\u001b[39;00m\n\u001b[1;32m    877\u001b[0m \u001b[38;5;66;03m# self.scoring the return type is only known after calling\u001b[39;00m\n\u001b[1;32m    878\u001b[0m first_test_score \u001b[38;5;241m=\u001b[39m all_out[\u001b[38;5;241m0\u001b[39m][\u001b[38;5;124m\"\u001b[39m\u001b[38;5;124mtest_scores\u001b[39m\u001b[38;5;124m\"\u001b[39m]\n",
      "File \u001b[0;32m/opt/anaconda3/lib/python3.11/site-packages/sklearn/model_selection/_search.py:1388\u001b[0m, in \u001b[0;36mGridSearchCV._run_search\u001b[0;34m(self, evaluate_candidates)\u001b[0m\n\u001b[1;32m   1386\u001b[0m \u001b[38;5;28;01mdef\u001b[39;00m \u001b[38;5;21m_run_search\u001b[39m(\u001b[38;5;28mself\u001b[39m, evaluate_candidates):\n\u001b[1;32m   1387\u001b[0m \u001b[38;5;250m    \u001b[39m\u001b[38;5;124;03m\"\"\"Search all candidates in param_grid\"\"\"\u001b[39;00m\n\u001b[0;32m-> 1388\u001b[0m     evaluate_candidates(ParameterGrid(\u001b[38;5;28mself\u001b[39m\u001b[38;5;241m.\u001b[39mparam_grid))\n",
      "File \u001b[0;32m/opt/anaconda3/lib/python3.11/site-packages/sklearn/model_selection/_search.py:821\u001b[0m, in \u001b[0;36mBaseSearchCV.fit.<locals>.evaluate_candidates\u001b[0;34m(candidate_params, cv, more_results)\u001b[0m\n\u001b[1;32m    813\u001b[0m \u001b[38;5;28;01mif\u001b[39;00m \u001b[38;5;28mself\u001b[39m\u001b[38;5;241m.\u001b[39mverbose \u001b[38;5;241m>\u001b[39m \u001b[38;5;241m0\u001b[39m:\n\u001b[1;32m    814\u001b[0m     \u001b[38;5;28mprint\u001b[39m(\n\u001b[1;32m    815\u001b[0m         \u001b[38;5;124m\"\u001b[39m\u001b[38;5;124mFitting \u001b[39m\u001b[38;5;132;01m{0}\u001b[39;00m\u001b[38;5;124m folds for each of \u001b[39m\u001b[38;5;132;01m{1}\u001b[39;00m\u001b[38;5;124m candidates,\u001b[39m\u001b[38;5;124m\"\u001b[39m\n\u001b[1;32m    816\u001b[0m         \u001b[38;5;124m\"\u001b[39m\u001b[38;5;124m totalling \u001b[39m\u001b[38;5;132;01m{2}\u001b[39;00m\u001b[38;5;124m fits\u001b[39m\u001b[38;5;124m\"\u001b[39m\u001b[38;5;241m.\u001b[39mformat(\n\u001b[1;32m    817\u001b[0m             n_splits, n_candidates, n_candidates \u001b[38;5;241m*\u001b[39m n_splits\n\u001b[1;32m    818\u001b[0m         )\n\u001b[1;32m    819\u001b[0m     )\n\u001b[0;32m--> 821\u001b[0m out \u001b[38;5;241m=\u001b[39m parallel(\n\u001b[1;32m    822\u001b[0m     delayed(_fit_and_score)(\n\u001b[1;32m    823\u001b[0m         clone(base_estimator),\n\u001b[1;32m    824\u001b[0m         X,\n\u001b[1;32m    825\u001b[0m         y,\n\u001b[1;32m    826\u001b[0m         train\u001b[38;5;241m=\u001b[39mtrain,\n\u001b[1;32m    827\u001b[0m         test\u001b[38;5;241m=\u001b[39mtest,\n\u001b[1;32m    828\u001b[0m         parameters\u001b[38;5;241m=\u001b[39mparameters,\n\u001b[1;32m    829\u001b[0m         split_progress\u001b[38;5;241m=\u001b[39m(split_idx, n_splits),\n\u001b[1;32m    830\u001b[0m         candidate_progress\u001b[38;5;241m=\u001b[39m(cand_idx, n_candidates),\n\u001b[1;32m    831\u001b[0m         \u001b[38;5;241m*\u001b[39m\u001b[38;5;241m*\u001b[39mfit_and_score_kwargs,\n\u001b[1;32m    832\u001b[0m     )\n\u001b[1;32m    833\u001b[0m     \u001b[38;5;28;01mfor\u001b[39;00m (cand_idx, parameters), (split_idx, (train, test)) \u001b[38;5;129;01min\u001b[39;00m product(\n\u001b[1;32m    834\u001b[0m         \u001b[38;5;28menumerate\u001b[39m(candidate_params), \u001b[38;5;28menumerate\u001b[39m(cv\u001b[38;5;241m.\u001b[39msplit(X, y, groups))\n\u001b[1;32m    835\u001b[0m     )\n\u001b[1;32m    836\u001b[0m )\n\u001b[1;32m    838\u001b[0m \u001b[38;5;28;01mif\u001b[39;00m \u001b[38;5;28mlen\u001b[39m(out) \u001b[38;5;241m<\u001b[39m \u001b[38;5;241m1\u001b[39m:\n\u001b[1;32m    839\u001b[0m     \u001b[38;5;28;01mraise\u001b[39;00m \u001b[38;5;167;01mValueError\u001b[39;00m(\n\u001b[1;32m    840\u001b[0m         \u001b[38;5;124m\"\u001b[39m\u001b[38;5;124mNo fits were performed. \u001b[39m\u001b[38;5;124m\"\u001b[39m\n\u001b[1;32m    841\u001b[0m         \u001b[38;5;124m\"\u001b[39m\u001b[38;5;124mWas the CV iterator empty? \u001b[39m\u001b[38;5;124m\"\u001b[39m\n\u001b[1;32m    842\u001b[0m         \u001b[38;5;124m\"\u001b[39m\u001b[38;5;124mWere there no candidates?\u001b[39m\u001b[38;5;124m\"\u001b[39m\n\u001b[1;32m    843\u001b[0m     )\n",
      "File \u001b[0;32m/opt/anaconda3/lib/python3.11/site-packages/sklearn/utils/parallel.py:63\u001b[0m, in \u001b[0;36mParallel.__call__\u001b[0;34m(self, iterable)\u001b[0m\n\u001b[1;32m     58\u001b[0m config \u001b[38;5;241m=\u001b[39m get_config()\n\u001b[1;32m     59\u001b[0m iterable_with_config \u001b[38;5;241m=\u001b[39m (\n\u001b[1;32m     60\u001b[0m     (_with_config(delayed_func, config), args, kwargs)\n\u001b[1;32m     61\u001b[0m     \u001b[38;5;28;01mfor\u001b[39;00m delayed_func, args, kwargs \u001b[38;5;129;01min\u001b[39;00m iterable\n\u001b[1;32m     62\u001b[0m )\n\u001b[0;32m---> 63\u001b[0m \u001b[38;5;28;01mreturn\u001b[39;00m \u001b[38;5;28msuper\u001b[39m()\u001b[38;5;241m.\u001b[39m\u001b[38;5;21m__call__\u001b[39m(iterable_with_config)\n",
      "File \u001b[0;32m/opt/anaconda3/lib/python3.11/site-packages/joblib/parallel.py:1098\u001b[0m, in \u001b[0;36mParallel.__call__\u001b[0;34m(self, iterable)\u001b[0m\n\u001b[1;32m   1095\u001b[0m     \u001b[38;5;28mself\u001b[39m\u001b[38;5;241m.\u001b[39m_iterating \u001b[38;5;241m=\u001b[39m \u001b[38;5;28;01mFalse\u001b[39;00m\n\u001b[1;32m   1097\u001b[0m \u001b[38;5;28;01mwith\u001b[39;00m \u001b[38;5;28mself\u001b[39m\u001b[38;5;241m.\u001b[39m_backend\u001b[38;5;241m.\u001b[39mretrieval_context():\n\u001b[0;32m-> 1098\u001b[0m     \u001b[38;5;28mself\u001b[39m\u001b[38;5;241m.\u001b[39mretrieve()\n\u001b[1;32m   1099\u001b[0m \u001b[38;5;66;03m# Make sure that we get a last message telling us we are done\u001b[39;00m\n\u001b[1;32m   1100\u001b[0m elapsed_time \u001b[38;5;241m=\u001b[39m time\u001b[38;5;241m.\u001b[39mtime() \u001b[38;5;241m-\u001b[39m \u001b[38;5;28mself\u001b[39m\u001b[38;5;241m.\u001b[39m_start_time\n",
      "File \u001b[0;32m/opt/anaconda3/lib/python3.11/site-packages/joblib/parallel.py:975\u001b[0m, in \u001b[0;36mParallel.retrieve\u001b[0;34m(self)\u001b[0m\n\u001b[1;32m    973\u001b[0m \u001b[38;5;28;01mtry\u001b[39;00m:\n\u001b[1;32m    974\u001b[0m     \u001b[38;5;28;01mif\u001b[39;00m \u001b[38;5;28mgetattr\u001b[39m(\u001b[38;5;28mself\u001b[39m\u001b[38;5;241m.\u001b[39m_backend, \u001b[38;5;124m'\u001b[39m\u001b[38;5;124msupports_timeout\u001b[39m\u001b[38;5;124m'\u001b[39m, \u001b[38;5;28;01mFalse\u001b[39;00m):\n\u001b[0;32m--> 975\u001b[0m         \u001b[38;5;28mself\u001b[39m\u001b[38;5;241m.\u001b[39m_output\u001b[38;5;241m.\u001b[39mextend(job\u001b[38;5;241m.\u001b[39mget(timeout\u001b[38;5;241m=\u001b[39m\u001b[38;5;28mself\u001b[39m\u001b[38;5;241m.\u001b[39mtimeout))\n\u001b[1;32m    976\u001b[0m     \u001b[38;5;28;01melse\u001b[39;00m:\n\u001b[1;32m    977\u001b[0m         \u001b[38;5;28mself\u001b[39m\u001b[38;5;241m.\u001b[39m_output\u001b[38;5;241m.\u001b[39mextend(job\u001b[38;5;241m.\u001b[39mget())\n",
      "File \u001b[0;32m/opt/anaconda3/lib/python3.11/site-packages/joblib/_parallel_backends.py:567\u001b[0m, in \u001b[0;36mLokyBackend.wrap_future_result\u001b[0;34m(future, timeout)\u001b[0m\n\u001b[1;32m    564\u001b[0m \u001b[38;5;250m\u001b[39m\u001b[38;5;124;03m\"\"\"Wrapper for Future.result to implement the same behaviour as\u001b[39;00m\n\u001b[1;32m    565\u001b[0m \u001b[38;5;124;03mAsyncResults.get from multiprocessing.\"\"\"\u001b[39;00m\n\u001b[1;32m    566\u001b[0m \u001b[38;5;28;01mtry\u001b[39;00m:\n\u001b[0;32m--> 567\u001b[0m     \u001b[38;5;28;01mreturn\u001b[39;00m future\u001b[38;5;241m.\u001b[39mresult(timeout\u001b[38;5;241m=\u001b[39mtimeout)\n\u001b[1;32m    568\u001b[0m \u001b[38;5;28;01mexcept\u001b[39;00m CfTimeoutError \u001b[38;5;28;01mas\u001b[39;00m e:\n\u001b[1;32m    569\u001b[0m     \u001b[38;5;28;01mraise\u001b[39;00m \u001b[38;5;167;01mTimeoutError\u001b[39;00m \u001b[38;5;28;01mfrom\u001b[39;00m \u001b[38;5;21;01me\u001b[39;00m\n",
      "File \u001b[0;32m/opt/anaconda3/lib/python3.11/concurrent/futures/_base.py:451\u001b[0m, in \u001b[0;36mFuture.result\u001b[0;34m(self, timeout)\u001b[0m\n\u001b[1;32m    448\u001b[0m \u001b[38;5;28;01melif\u001b[39;00m \u001b[38;5;28mself\u001b[39m\u001b[38;5;241m.\u001b[39m_state \u001b[38;5;241m==\u001b[39m FINISHED:\n\u001b[1;32m    449\u001b[0m     \u001b[38;5;28;01mreturn\u001b[39;00m \u001b[38;5;28mself\u001b[39m\u001b[38;5;241m.\u001b[39m__get_result()\n\u001b[0;32m--> 451\u001b[0m \u001b[38;5;28mself\u001b[39m\u001b[38;5;241m.\u001b[39m_condition\u001b[38;5;241m.\u001b[39mwait(timeout)\n\u001b[1;32m    453\u001b[0m \u001b[38;5;28;01mif\u001b[39;00m \u001b[38;5;28mself\u001b[39m\u001b[38;5;241m.\u001b[39m_state \u001b[38;5;129;01min\u001b[39;00m [CANCELLED, CANCELLED_AND_NOTIFIED]:\n\u001b[1;32m    454\u001b[0m     \u001b[38;5;28;01mraise\u001b[39;00m CancelledError()\n",
      "File \u001b[0;32m/opt/anaconda3/lib/python3.11/threading.py:327\u001b[0m, in \u001b[0;36mCondition.wait\u001b[0;34m(self, timeout)\u001b[0m\n\u001b[1;32m    325\u001b[0m \u001b[38;5;28;01mtry\u001b[39;00m:    \u001b[38;5;66;03m# restore state no matter what (e.g., KeyboardInterrupt)\u001b[39;00m\n\u001b[1;32m    326\u001b[0m     \u001b[38;5;28;01mif\u001b[39;00m timeout \u001b[38;5;129;01mis\u001b[39;00m \u001b[38;5;28;01mNone\u001b[39;00m:\n\u001b[0;32m--> 327\u001b[0m         waiter\u001b[38;5;241m.\u001b[39macquire()\n\u001b[1;32m    328\u001b[0m         gotit \u001b[38;5;241m=\u001b[39m \u001b[38;5;28;01mTrue\u001b[39;00m\n\u001b[1;32m    329\u001b[0m     \u001b[38;5;28;01melse\u001b[39;00m:\n",
      "\u001b[0;31mKeyboardInterrupt\u001b[0m: "
     ]
    }
   ],
   "source": [
    "tree = GradientBoostingClassifier(random_state=46)\n",
    "\n",
    "param_grid = { # This will be used for all samples\n",
    "    'n_estimators': [100, 200], # number of sequential trees to be modeled\n",
    "    'max_depth': [10, 15], # maximum depth of the individual regression estimators\n",
    "    'learning_rate': [0.01, 0.1],\n",
    "    #'min_samples_split': [2, 5],\n",
    "    'max_features': [5, 10, 15]\n",
    "}\n",
    "\n",
    "grid_search_tree = GridSearchCV(\n",
    "    estimator=tree,\n",
    "    param_grid=param_grid,\n",
    "    cv=5,  # 5-fold cross-validation\n",
    "    scoring='accuracy',  # Metric to optimize\n",
    "    n_jobs=-1,  # Use all processors\n",
    "    verbose=1\n",
    ")\n",
    "\n",
    "grid_search_tree.fit(X_train, y_train)"
   ]
  },
  {
   "cell_type": "code",
   "execution_count": null,
   "id": "f4bc9b27-f02d-47fa-a8e9-674a990c1f4f",
   "metadata": {},
   "outputs": [],
   "source": [
    "print(\"Best Hyperparameters:\", grid_search_tree.best_params_)\n",
    "best_tree = grid_search_tree.best_estimator_"
   ]
  },
  {
   "cell_type": "code",
   "execution_count": null,
   "id": "82f85f44-d625-4361-bc78-d1f072994fad",
   "metadata": {},
   "outputs": [],
   "source": [
    "predictions_tree_train = best_tree.predict(X_train)\n",
    "print('Train Accuracy:', accuracy_score(y_train, predictions_tree_train))\n",
    "\n",
    "predictions_tree_test = best_tree.predict(X_test)\n",
    "print(\"Test Accuracy:\", accuracy_score(y_test, predictions_tree_test))"
   ]
  },
  {
   "cell_type": "code",
   "execution_count": null,
   "id": "a79e3f10-02c7-4bc7-b19d-dd00d21b6356",
   "metadata": {},
   "outputs": [],
   "source": [
    "print('Gradient Boosting')\n",
    "print('Train')\n",
    "print(confusion_matrix(y_train, predictions_tree_train))\n",
    "print('\\n')\n",
    "print(classification_report(y_train, predictions_tree_train))\n",
    "print('\\n')\n",
    "print('Test')\n",
    "print(confusion_matrix(y_test, predictions_tree_test))\n",
    "print('\\n')\n",
    "print(classification_report(y_test, predictions_tree_test))"
   ]
  },
  {
   "cell_type": "markdown",
   "id": "370888f4-f55a-4724-93e0-7e401c0e2a08",
   "metadata": {},
   "source": [
    "##### With SMOTE Resampling"
   ]
  },
  {
   "cell_type": "code",
   "execution_count": null,
   "id": "2ebe0c61-2dd3-4a29-898f-33a52abe9916",
   "metadata": {},
   "outputs": [],
   "source": [
    "tree_smote = GradientBoostingClassifier(random_state=46)\n",
    "\n",
    "grid_search_tree_smote = GridSearchCV(\n",
    "    estimator=tree_smote,\n",
    "    param_grid=param_grid,\n",
    "    cv=5,  # 5-fold cross-validation\n",
    "    scoring='accuracy',  # Metric to optimize\n",
    "    n_jobs=-1,  # Use all processors\n",
    "    verbose=1\n",
    ")\n",
    "\n",
    "grid_search_tree_smote.fit(X_train2, y_train2)"
   ]
  },
  {
   "cell_type": "code",
   "execution_count": null,
   "id": "b552d1de-4533-4943-9503-4d69d417b84b",
   "metadata": {},
   "outputs": [],
   "source": [
    "print(\"Best Hyperparameters:\", grid_search_tree_smote.best_params_)\n",
    "best_tree_smote = grid_search_tree_smote.best_estimator_"
   ]
  },
  {
   "cell_type": "code",
   "execution_count": null,
   "id": "98344aab-6f71-4563-a16b-b48e7103aa47",
   "metadata": {},
   "outputs": [],
   "source": [
    "predictions_tree_smote_train = best_tree_smote.predict(X_train2)\n",
    "print('Train Accuracy:', accuracy_score(y_train2, predictions_tree_smote_train))\n",
    "\n",
    "predictions_tree_smote_test = best_tree_smote.predict(X_test2)\n",
    "print(\"Test Accuracy:\", accuracy_score(y_test, predictions_tree_test))"
   ]
  },
  {
   "cell_type": "code",
   "execution_count": null,
   "id": "ece71e27-5f33-4320-aa21-7d8f79bdaef8",
   "metadata": {},
   "outputs": [],
   "source": [
    "print('Gradient Boosting with SMOTE Resampling')\n",
    "print('Train')\n",
    "print(confusion_matrix(y_train2, predictions_tree_smote_train))\n",
    "print('\\n')\n",
    "print(classification_report(y_train2, predictions_tree_smote_train))\n",
    "print('\\n')\n",
    "print('Test')\n",
    "print(confusion_matrix(y_test2, predictions_tree_smote_test))\n",
    "print('\\n')\n",
    "print(classification_report(y_test2, predictions_tree_smote_test))"
   ]
  },
  {
   "cell_type": "markdown",
   "id": "3a81cc12-7524-4b44-beef-a5940fbfd4ae",
   "metadata": {},
   "source": [
    "##### With ASADYN Resampling"
   ]
  },
  {
   "cell_type": "code",
   "execution_count": null,
   "id": "004e3fa8-56ff-4b10-8c00-528111c054f3",
   "metadata": {},
   "outputs": [],
   "source": [
    "tree_asa = GradientBoostingClassifier(random_state=46)\n",
    "\n",
    "grid_search_tree_asa = GridSearchCV(\n",
    "    estimator=tree_asa,\n",
    "    param_grid=param_grid,\n",
    "    cv=5,  # 5-fold cross-validation\n",
    "    scoring='accuracy',  # Metric to optimize\n",
    "    n_jobs=-1,  # Use all processors\n",
    "    verbose=1\n",
    ")\n",
    "\n",
    "grid_search_tree_asa.fit(X_train3, y_train3)"
   ]
  },
  {
   "cell_type": "code",
   "execution_count": null,
   "id": "7a69ce84-74ca-4d11-abb9-44b8e815a1a1",
   "metadata": {},
   "outputs": [],
   "source": [
    "print(\"Best Hyperparameters:\", grid_search_tree_asa.best_params_)\n",
    "best_tree_asa = grid_search_tree_asa.best_estimator_"
   ]
  },
  {
   "cell_type": "code",
   "execution_count": null,
   "id": "97178956-5497-49aa-ac42-8999066b09c8",
   "metadata": {},
   "outputs": [],
   "source": [
    "predictions_tree_asa_train = best_tree_asa.predict(X_train3)\n",
    "print('Train Accuracy:', accuracy_score(y_train3, predictions_tree_asa_train))\n",
    "\n",
    "predictions_tree_asa_test = best_tree_asa.predict(X_test3)\n",
    "print(\"Test Accuracy:\", accuracy_score(y_test3, predictions_tree_asa_test))"
   ]
  },
  {
   "cell_type": "code",
   "execution_count": null,
   "id": "6c60d757-6ab8-4371-ae01-e9904715f6ac",
   "metadata": {},
   "outputs": [],
   "source": [
    "print('Gradient Boosting with ASADYN Resampling')\n",
    "print('Train')\n",
    "print(confusion_matrix(y_train3, predictions_tree_asa_train))\n",
    "print('\\n')\n",
    "print(classification_report(y_train3, predictions_tree_asa_train))\n",
    "print('\\n')\n",
    "print('Test')\n",
    "print(confusion_matrix(y_test3, predictions_tree_asa_test))\n",
    "print('\\n')\n",
    "print(classification_report(y_test3, predictions_tree_asa_test))"
   ]
  },
  {
   "cell_type": "markdown",
   "id": "15afca01-4f05-4874-af59-0a460334d674",
   "metadata": {},
   "source": [
    "### Neural Networks"
   ]
  },
  {
   "cell_type": "code",
   "execution_count": 244,
   "id": "cce5e49b-7322-4281-93f4-df26cfc038b5",
   "metadata": {},
   "outputs": [],
   "source": [
    "import tensorflow as tf\n",
    "from tensorflow.keras.models import Sequential\n",
    "from tensorflow.keras.layers import Dense,Activation,Dropout\n",
    "from tensorflow.keras.optimizers import Adam\n",
    "from tensorflow.keras.callbacks import EarlyStopping"
   ]
  },
  {
   "cell_type": "markdown",
   "id": "571f5788-161c-4cb9-89a0-37b4804b0158",
   "metadata": {},
   "source": [
    "##### Neural Network without Resampling"
   ]
  },
  {
   "cell_type": "code",
   "execution_count": 260,
   "id": "d459f0fd-b9fa-4ebe-9341-f3e3a34af2c6",
   "metadata": {},
   "outputs": [],
   "source": [
    "model = Sequential()\n",
    "model.add(Dense(units=29,activation='relu'))\n",
    "model.add(Dropout(0.2))\n",
    "\n",
    "model.add(Dense(units=15,activation='relu'))\n",
    "model.add(Dropout(0.2))\n",
    "\n",
    "model.add(Dense(units=1,activation='sigmoid'))\n",
    "model.compile(loss='binary_crossentropy', optimizer='adam')"
   ]
  },
  {
   "cell_type": "code",
   "execution_count": 262,
   "id": "b984b7ca-de0b-4a27-8955-9df60584b389",
   "metadata": {},
   "outputs": [],
   "source": [
    "early_stop = EarlyStopping(monitor='val_loss', mode='min', verbose=1, patience=25)"
   ]
  },
  {
   "cell_type": "code",
   "execution_count": 264,
   "id": "06bb2e61-1705-43a3-b6bf-8ce5ec90a2bd",
   "metadata": {},
   "outputs": [
    {
     "name": "stdout",
     "output_type": "stream",
     "text": [
      "Epoch 1/600\n",
      "\u001b[1m6207/6207\u001b[0m \u001b[32m━━━━━━━━━━━━━━━━━━━━\u001b[0m\u001b[37m\u001b[0m \u001b[1m4s\u001b[0m 591us/step - loss: 21.1605 - val_loss: 0.0358\n",
      "Epoch 2/600\n",
      "\u001b[1m6207/6207\u001b[0m \u001b[32m━━━━━━━━━━━━━━━━━━━━\u001b[0m\u001b[37m\u001b[0m \u001b[1m4s\u001b[0m 609us/step - loss: 0.0562 - val_loss: 0.0122\n",
      "Epoch 3/600\n",
      "\u001b[1m6207/6207\u001b[0m \u001b[32m━━━━━━━━━━━━━━━━━━━━\u001b[0m\u001b[37m\u001b[0m \u001b[1m3s\u001b[0m 554us/step - loss: 0.0224 - val_loss: 0.0120\n",
      "Epoch 4/600\n",
      "\u001b[1m6207/6207\u001b[0m \u001b[32m━━━━━━━━━━━━━━━━━━━━\u001b[0m\u001b[37m\u001b[0m \u001b[1m4s\u001b[0m 563us/step - loss: 0.0243 - val_loss: 0.0122\n",
      "Epoch 5/600\n",
      "\u001b[1m6207/6207\u001b[0m \u001b[32m━━━━━━━━━━━━━━━━━━━━\u001b[0m\u001b[37m\u001b[0m \u001b[1m3s\u001b[0m 560us/step - loss: 0.0202 - val_loss: 0.0123\n",
      "Epoch 6/600\n",
      "\u001b[1m6207/6207\u001b[0m \u001b[32m━━━━━━━━━━━━━━━━━━━━\u001b[0m\u001b[37m\u001b[0m \u001b[1m4s\u001b[0m 611us/step - loss: 0.0339 - val_loss: 0.0124\n",
      "Epoch 7/600\n",
      "\u001b[1m6207/6207\u001b[0m \u001b[32m━━━━━━━━━━━━━━━━━━━━\u001b[0m\u001b[37m\u001b[0m \u001b[1m4s\u001b[0m 634us/step - loss: 0.0140 - val_loss: 0.0124\n",
      "Epoch 8/600\n",
      "\u001b[1m6207/6207\u001b[0m \u001b[32m━━━━━━━━━━━━━━━━━━━━\u001b[0m\u001b[37m\u001b[0m \u001b[1m4s\u001b[0m 562us/step - loss: 0.0173 - val_loss: 0.0123\n",
      "Epoch 9/600\n",
      "\u001b[1m6207/6207\u001b[0m \u001b[32m━━━━━━━━━━━━━━━━━━━━\u001b[0m\u001b[37m\u001b[0m \u001b[1m4s\u001b[0m 561us/step - loss: 0.0231 - val_loss: 0.0125\n",
      "Epoch 10/600\n",
      "\u001b[1m6207/6207\u001b[0m \u001b[32m━━━━━━━━━━━━━━━━━━━━\u001b[0m\u001b[37m\u001b[0m \u001b[1m4s\u001b[0m 577us/step - loss: 0.0269 - val_loss: 0.0127\n",
      "Epoch 11/600\n",
      "\u001b[1m6207/6207\u001b[0m \u001b[32m━━━━━━━━━━━━━━━━━━━━\u001b[0m\u001b[37m\u001b[0m \u001b[1m4s\u001b[0m 567us/step - loss: 0.0412 - val_loss: 0.0125\n",
      "Epoch 12/600\n",
      "\u001b[1m6207/6207\u001b[0m \u001b[32m━━━━━━━━━━━━━━━━━━━━\u001b[0m\u001b[37m\u001b[0m \u001b[1m4s\u001b[0m 589us/step - loss: 0.0161 - val_loss: 0.0129\n",
      "Epoch 13/600\n",
      "\u001b[1m6207/6207\u001b[0m \u001b[32m━━━━━━━━━━━━━━━━━━━━\u001b[0m\u001b[37m\u001b[0m \u001b[1m3s\u001b[0m 560us/step - loss: 0.0249 - val_loss: 0.0124\n",
      "Epoch 14/600\n",
      "\u001b[1m6207/6207\u001b[0m \u001b[32m━━━━━━━━━━━━━━━━━━━━\u001b[0m\u001b[37m\u001b[0m \u001b[1m3s\u001b[0m 557us/step - loss: 0.0152 - val_loss: 0.0125\n",
      "Epoch 15/600\n",
      "\u001b[1m6207/6207\u001b[0m \u001b[32m━━━━━━━━━━━━━━━━━━━━\u001b[0m\u001b[37m\u001b[0m \u001b[1m4s\u001b[0m 592us/step - loss: 0.0173 - val_loss: 0.0130\n",
      "Epoch 16/600\n",
      "\u001b[1m6207/6207\u001b[0m \u001b[32m━━━━━━━━━━━━━━━━━━━━\u001b[0m\u001b[37m\u001b[0m \u001b[1m4s\u001b[0m 589us/step - loss: 0.0235 - val_loss: 0.0129\n",
      "Epoch 17/600\n",
      "\u001b[1m6207/6207\u001b[0m \u001b[32m━━━━━━━━━━━━━━━━━━━━\u001b[0m\u001b[37m\u001b[0m \u001b[1m3s\u001b[0m 560us/step - loss: 0.0144 - val_loss: 0.0128\n",
      "Epoch 18/600\n",
      "\u001b[1m6207/6207\u001b[0m \u001b[32m━━━━━━━━━━━━━━━━━━━━\u001b[0m\u001b[37m\u001b[0m \u001b[1m4s\u001b[0m 581us/step - loss: 0.0152 - val_loss: 0.0132\n",
      "Epoch 19/600\n",
      "\u001b[1m6207/6207\u001b[0m \u001b[32m━━━━━━━━━━━━━━━━━━━━\u001b[0m\u001b[37m\u001b[0m \u001b[1m4s\u001b[0m 582us/step - loss: 0.0192 - val_loss: 0.1061\n",
      "Epoch 20/600\n",
      "\u001b[1m6207/6207\u001b[0m \u001b[32m━━━━━━━━━━━━━━━━━━━━\u001b[0m\u001b[37m\u001b[0m \u001b[1m4s\u001b[0m 597us/step - loss: 0.0527 - val_loss: 0.0126\n",
      "Epoch 21/600\n",
      "\u001b[1m6207/6207\u001b[0m \u001b[32m━━━━━━━━━━━━━━━━━━━━\u001b[0m\u001b[37m\u001b[0m \u001b[1m4s\u001b[0m 562us/step - loss: 0.0135 - val_loss: 0.0127\n",
      "Epoch 22/600\n",
      "\u001b[1m6207/6207\u001b[0m \u001b[32m━━━━━━━━━━━━━━━━━━━━\u001b[0m\u001b[37m\u001b[0m \u001b[1m4s\u001b[0m 563us/step - loss: 0.0134 - val_loss: 0.0129\n",
      "Epoch 23/600\n",
      "\u001b[1m6207/6207\u001b[0m \u001b[32m━━━━━━━━━━━━━━━━━━━━\u001b[0m\u001b[37m\u001b[0m \u001b[1m4s\u001b[0m 588us/step - loss: 0.0199 - val_loss: 0.0126\n",
      "Epoch 24/600\n",
      "\u001b[1m6207/6207\u001b[0m \u001b[32m━━━━━━━━━━━━━━━━━━━━\u001b[0m\u001b[37m\u001b[0m \u001b[1m4s\u001b[0m 569us/step - loss: 0.0408 - val_loss: 0.0129\n",
      "Epoch 25/600\n",
      "\u001b[1m6207/6207\u001b[0m \u001b[32m━━━━━━━━━━━━━━━━━━━━\u001b[0m\u001b[37m\u001b[0m \u001b[1m4s\u001b[0m 562us/step - loss: 0.0132 - val_loss: 0.0139\n",
      "Epoch 26/600\n",
      "\u001b[1m6207/6207\u001b[0m \u001b[32m━━━━━━━━━━━━━━━━━━━━\u001b[0m\u001b[37m\u001b[0m \u001b[1m4s\u001b[0m 584us/step - loss: 0.0789 - val_loss: 0.0138\n",
      "Epoch 27/600\n",
      "\u001b[1m6207/6207\u001b[0m \u001b[32m━━━━━━━━━━━━━━━━━━━━\u001b[0m\u001b[37m\u001b[0m \u001b[1m4s\u001b[0m 563us/step - loss: 0.0243 - val_loss: 0.0139\n",
      "Epoch 28/600\n",
      "\u001b[1m6207/6207\u001b[0m \u001b[32m━━━━━━━━━━━━━━━━━━━━\u001b[0m\u001b[37m\u001b[0m \u001b[1m4s\u001b[0m 666us/step - loss: 0.0228 - val_loss: 0.0144\n",
      "Epoch 28: early stopping\n"
     ]
    },
    {
     "data": {
      "text/plain": [
       "<keras.src.callbacks.history.History at 0x35fa62390>"
      ]
     },
     "execution_count": 264,
     "metadata": {},
     "output_type": "execute_result"
    }
   ],
   "source": [
    "model.fit(x=X_train, \n",
    "          y=y_train, \n",
    "          epochs=600,\n",
    "          validation_data=(X_test, y_test), verbose=1,\n",
    "          callbacks=[early_stop]\n",
    "          )"
   ]
  },
  {
   "cell_type": "code",
   "execution_count": 282,
   "id": "9dd810ce-829b-489c-bbbe-93f01e1f4e8f",
   "metadata": {},
   "outputs": [
    {
     "data": {
      "image/png": "[encoded data removed]",
      "text/plain": [
       "<Figure size 640x480 with 1 Axes>"
      ]
     },
     "metadata": {},
     "output_type": "display_data"
    }
   ],
   "source": [
    "model_loss = pd.DataFrame(model.history.history)\n",
    "model_loss.plot(ylim=[0,0.2]);"
   ]
  },
  {
   "cell_type": "code",
   "execution_count": 284,
   "id": "25978316-1db6-453a-890c-ecbbe91fad85",
   "metadata": {},
   "outputs": [
    {
     "name": "stdout",
     "output_type": "stream",
     "text": [
      "\u001b[1m6207/6207\u001b[0m \u001b[32m━━━━━━━━━━━━━━━━━━━━\u001b[0m\u001b[37m\u001b[0m \u001b[1m2s\u001b[0m 355us/step\n",
      "\u001b[1m2660/2660\u001b[0m \u001b[32m━━━━━━━━━━━━━━━━━━━━\u001b[0m\u001b[37m\u001b[0m \u001b[1m1s\u001b[0m 316us/step\n"
     ]
    }
   ],
   "source": [
    "predictions_nn_train = (model.predict(X_train) > 0.5).astype('int32')\n",
    "predictions_nn_test = (model.predict(X_test) > 0.5).astype('int32')"
   ]
  },
  {
   "cell_type": "code",
   "execution_count": 286,
   "id": "1d5635ae-55d8-4f04-9d9a-2bf5f229382a",
   "metadata": {},
   "outputs": [
    {
     "data": {
      "text/plain": [
       "array([[0],\n",
       "       [0],\n",
       "       [0],\n",
       "       ...,\n",
       "       [0],\n",
       "       [0],\n",
       "       [0]], dtype=int32)"
      ]
     },
     "execution_count": 286,
     "metadata": {},
     "output_type": "execute_result"
    }
   ],
   "source": [
    "predictions_nn_test"
   ]
  },
  {
   "cell_type": "code",
   "execution_count": 288,
   "id": "d2eb926d-8080-4cd5-aa3b-c609e772e4a4",
   "metadata": {},
   "outputs": [
    {
     "name": "stdout",
     "output_type": "stream",
     "text": [
      "Neural Network without Resampling\n",
      "Train\n",
      "[[198265      6]\n",
      " [   337      0]]\n",
      "\n",
      "\n",
      "              precision    recall  f1-score   support\n",
      "\n",
      "           0       1.00      1.00      1.00    198271\n",
      "           1       0.00      0.00      0.00       337\n",
      "\n",
      "    accuracy                           1.00    198608\n",
      "   macro avg       0.50      0.50      0.50    198608\n",
      "weighted avg       1.00      1.00      1.00    198608\n",
      "\n",
      "\n",
      "\n",
      "Test\n",
      "[[84981     1]\n",
      " [  136     0]]\n",
      "\n",
      "\n",
      "              precision    recall  f1-score   support\n",
      "\n",
      "           0       1.00      1.00      1.00     84982\n",
      "           1       0.00      0.00      0.00       136\n",
      "\n",
      "    accuracy                           1.00     85118\n",
      "   macro avg       0.50      0.50      0.50     85118\n",
      "weighted avg       1.00      1.00      1.00     85118\n",
      "\n"
     ]
    }
   ],
   "source": [
    "print('Neural Network without Resampling')\n",
    "print('Train')\n",
    "print(confusion_matrix(y_train, predictions_nn_train))\n",
    "print('\\n')\n",
    "print(classification_report(y_train, predictions_nn_train))\n",
    "print('\\n')\n",
    "print('Test')\n",
    "print(confusion_matrix(y_test, predictions_nn_test))\n",
    "print('\\n')\n",
    "print(classification_report(y_test, predictions_nn_test))"
   ]
  },
  {
   "cell_type": "markdown",
   "id": "9059c100-3b37-49ac-98ec-e81638a29c39",
   "metadata": {},
   "source": [
    "#### Neural Network with SMOTE Resampling"
   ]
  },
  {
   "cell_type": "code",
   "execution_count": 349,
   "id": "177116ce-ad09-4008-9c15-27159f22b54e",
   "metadata": {},
   "outputs": [],
   "source": [
    "model_smote = Sequential()\n",
    "model_smote.add(Dense(units=29,activation='relu'))\n",
    "model_smote.add(Dropout(0.2))\n",
    "\n",
    "model_smote.add(Dense(units=15,activation='relu'))\n",
    "model_smote.add(Dropout(0.2))\n",
    "\n",
    "model_smote.add(Dense(units=1,activation='sigmoid'))\n",
    "model_smote.compile(loss='binary_crossentropy', optimizer='adam')"
   ]
  },
  {
   "cell_type": "code",
   "execution_count": 351,
   "id": "96386347-448b-47c4-b257-7de35c401274",
   "metadata": {},
   "outputs": [
    {
     "name": "stdout",
     "output_type": "stream",
     "text": [
      "Epoch 1/600\n",
      "\u001b[1m12393/12393\u001b[0m \u001b[32m━━━━━━━━━━━━━━━━━━━━\u001b[0m\u001b[37m\u001b[0m \u001b[1m8s\u001b[0m 573us/step - loss: 197.4973 - val_loss: 0.6931\n",
      "Epoch 2/600\n",
      "\u001b[1m12393/12393\u001b[0m \u001b[32m━━━━━━━━━━━━━━━━━━━━\u001b[0m\u001b[37m\u001b[0m \u001b[1m7s\u001b[0m 565us/step - loss: 0.7097 - val_loss: 0.6931\n",
      "Epoch 3/600\n",
      "\u001b[1m12393/12393\u001b[0m \u001b[32m━━━━━━━━━━━━━━━━━━━━\u001b[0m\u001b[37m\u001b[0m \u001b[1m7s\u001b[0m 554us/step - loss: 0.6933 - val_loss: 0.6930\n",
      "Epoch 4/600\n",
      "\u001b[1m12393/12393\u001b[0m \u001b[32m━━━━━━━━━━━━━━━━━━━━\u001b[0m\u001b[37m\u001b[0m \u001b[1m7s\u001b[0m 560us/step - loss: 0.6936 - val_loss: 0.6931\n",
      "Epoch 5/600\n",
      "\u001b[1m12393/12393\u001b[0m \u001b[32m━━━━━━━━━━━━━━━━━━━━\u001b[0m\u001b[37m\u001b[0m \u001b[1m7s\u001b[0m 548us/step - loss: 0.6941 - val_loss: 0.6931\n",
      "Epoch 6/600\n",
      "\u001b[1m12393/12393\u001b[0m \u001b[32m━━━━━━━━━━━━━━━━━━━━\u001b[0m\u001b[37m\u001b[0m \u001b[1m7s\u001b[0m 595us/step - loss: 0.6937 - val_loss: 0.6930\n",
      "Epoch 7/600\n",
      "\u001b[1m12393/12393\u001b[0m \u001b[32m━━━━━━━━━━━━━━━━━━━━\u001b[0m\u001b[37m\u001b[0m \u001b[1m7s\u001b[0m 577us/step - loss: 0.6937 - val_loss: 0.6930\n",
      "Epoch 8/600\n",
      "\u001b[1m12393/12393\u001b[0m \u001b[32m━━━━━━━━━━━━━━━━━━━━\u001b[0m\u001b[37m\u001b[0m \u001b[1m7s\u001b[0m 564us/step - loss: 0.6931 - val_loss: 0.6929\n",
      "Epoch 9/600\n",
      "\u001b[1m12393/12393\u001b[0m \u001b[32m━━━━━━━━━━━━━━━━━━━━\u001b[0m\u001b[37m\u001b[0m \u001b[1m7s\u001b[0m 563us/step - loss: 0.6936 - val_loss: 0.6928\n",
      "Epoch 10/600\n",
      "\u001b[1m12393/12393\u001b[0m \u001b[32m━━━━━━━━━━━━━━━━━━━━\u001b[0m\u001b[37m\u001b[0m \u001b[1m7s\u001b[0m 584us/step - loss: 0.6942 - val_loss: 0.6929\n",
      "Epoch 11/600\n",
      "\u001b[1m12393/12393\u001b[0m \u001b[32m━━━━━━━━━━━━━━━━━━━━\u001b[0m\u001b[37m\u001b[0m \u001b[1m7s\u001b[0m 553us/step - loss: 0.6937 - val_loss: 0.6927\n",
      "Epoch 12/600\n",
      "\u001b[1m12393/12393\u001b[0m \u001b[32m━━━━━━━━━━━━━━━━━━━━\u001b[0m\u001b[37m\u001b[0m \u001b[1m7s\u001b[0m 578us/step - loss: 0.6932 - val_loss: 0.6926\n",
      "Epoch 13/600\n",
      "\u001b[1m12393/12393\u001b[0m \u001b[32m━━━━━━━━━━━━━━━━━━━━\u001b[0m\u001b[37m\u001b[0m \u001b[1m7s\u001b[0m 560us/step - loss: 0.6928 - val_loss: 0.6924\n",
      "Epoch 14/600\n",
      "\u001b[1m12393/12393\u001b[0m \u001b[32m━━━━━━━━━━━━━━━━━━━━\u001b[0m\u001b[37m\u001b[0m \u001b[1m7s\u001b[0m 561us/step - loss: 0.6931 - val_loss: 0.6922\n",
      "Epoch 15/600\n",
      "\u001b[1m12393/12393\u001b[0m \u001b[32m━━━━━━━━━━━━━━━━━━━━\u001b[0m\u001b[37m\u001b[0m \u001b[1m7s\u001b[0m 583us/step - loss: 0.6979 - val_loss: 0.6924\n",
      "Epoch 16/600\n",
      "\u001b[1m12393/12393\u001b[0m \u001b[32m━━━━━━━━━━━━━━━━━━━━\u001b[0m\u001b[37m\u001b[0m \u001b[1m7s\u001b[0m 552us/step - loss: 0.6932 - val_loss: 0.6921\n",
      "Epoch 17/600\n",
      "\u001b[1m12393/12393\u001b[0m \u001b[32m━━━━━━━━━━━━━━━━━━━━\u001b[0m\u001b[37m\u001b[0m \u001b[1m7s\u001b[0m 580us/step - loss: 0.6929 - val_loss: 0.6920\n",
      "Epoch 18/600\n",
      "\u001b[1m12393/12393\u001b[0m \u001b[32m━━━━━━━━━━━━━━━━━━━━\u001b[0m\u001b[37m\u001b[0m \u001b[1m7s\u001b[0m 570us/step - loss: 0.6928 - val_loss: 0.6919\n",
      "Epoch 19/600\n",
      "\u001b[1m12393/12393\u001b[0m \u001b[32m━━━━━━━━━━━━━━━━━━━━\u001b[0m\u001b[37m\u001b[0m \u001b[1m8s\u001b[0m 624us/step - loss: 0.7065 - val_loss: 0.6923\n",
      "Epoch 20/600\n",
      "\u001b[1m12393/12393\u001b[0m \u001b[32m━━━━━━━━━━━━━━━━━━━━\u001b[0m\u001b[37m\u001b[0m \u001b[1m7s\u001b[0m 571us/step - loss: 0.6950 - val_loss: 0.6918\n",
      "Epoch 21/600\n",
      "\u001b[1m12393/12393\u001b[0m \u001b[32m━━━━━━━━━━━━━━━━━━━━\u001b[0m\u001b[37m\u001b[0m \u001b[1m7s\u001b[0m 556us/step - loss: 0.6927 - val_loss: 0.6130\n",
      "Epoch 22/600\n",
      "\u001b[1m12393/12393\u001b[0m \u001b[32m━━━━━━━━━━━━━━━━━━━━\u001b[0m\u001b[37m\u001b[0m \u001b[1m8s\u001b[0m 618us/step - loss: 0.5181 - val_loss: 0.2793\n",
      "Epoch 23/600\n",
      "\u001b[1m12393/12393\u001b[0m \u001b[32m━━━━━━━━━━━━━━━━━━━━\u001b[0m\u001b[37m\u001b[0m \u001b[1m7s\u001b[0m 563us/step - loss: 0.3781 - val_loss: 0.1761\n",
      "Epoch 24/600\n",
      "\u001b[1m12393/12393\u001b[0m \u001b[32m━━━━━━━━━━━━━━━━━━━━\u001b[0m\u001b[37m\u001b[0m \u001b[1m7s\u001b[0m 581us/step - loss: 0.3354 - val_loss: 0.2398\n",
      "Epoch 25/600\n",
      "\u001b[1m12393/12393\u001b[0m \u001b[32m━━━━━━━━━━━━━━━━━━━━\u001b[0m\u001b[37m\u001b[0m \u001b[1m7s\u001b[0m 574us/step - loss: 0.3355 - val_loss: 0.1806\n",
      "Epoch 25: early stopping\n"
     ]
    },
    {
     "data": {
      "text/plain": [
       "<keras.src.callbacks.history.History at 0x3aea82e90>"
      ]
     },
     "execution_count": 351,
     "metadata": {},
     "output_type": "execute_result"
    }
   ],
   "source": [
    "model_smote.fit(x=X_train2, \n",
    "                y=y_train2, \n",
    "                epochs=600,\n",
    "                validation_data=(X_test2, y_test2), verbose=1,\n",
    "                callbacks=[early_stop]\n",
    "               )"
   ]
  },
  {
   "cell_type": "code",
   "execution_count": 352,
   "id": "af154371-7d01-49ff-8071-6734e5933542",
   "metadata": {},
   "outputs": [
    {
     "data": {
      "image/png": "[encoded data removed]",
      "text/plain": [
       "<Figure size 640x480 with 1 Axes>"
      ]
     },
     "metadata": {},
     "output_type": "display_data"
    }
   ],
   "source": [
    "model_loss_smote = pd.DataFrame(model_smote.history.history)\n",
    "model_loss_smote.plot();"
   ]
  },
  {
   "cell_type": "code",
   "execution_count": 353,
   "id": "b8b3c52d-8d19-43e2-9fe0-f7916fd50a19",
   "metadata": {},
   "outputs": [
    {
     "name": "stdout",
     "output_type": "stream",
     "text": [
      "\u001b[1m12393/12393\u001b[0m \u001b[32m━━━━━━━━━━━━━━━━━━━━\u001b[0m\u001b[37m\u001b[0m \u001b[1m4s\u001b[0m 320us/step\n",
      "\u001b[1m5311/5311\u001b[0m \u001b[32m━━━━━━━━━━━━━━━━━━━━\u001b[0m\u001b[37m\u001b[0m \u001b[1m2s\u001b[0m 320us/step\n"
     ]
    }
   ],
   "source": [
    "predictions_nn_smote_train = (model_smote.predict(X_train2) > 0.5).astype('int32')\n",
    "predictions_nn_smote_test = (model_smote.predict(X_test2) > 0.5).astype('int32')"
   ]
  },
  {
   "cell_type": "code",
   "execution_count": 354,
   "id": "c05d867e-fe9e-4fb9-a410-c63082911e77",
   "metadata": {},
   "outputs": [
    {
     "name": "stdout",
     "output_type": "stream",
     "text": [
      "Neural Network with SMOTE Resampling\n",
      "Train\n",
      "[[197099   1013]\n",
      " [ 15809 182633]]\n",
      "\n",
      "\n",
      "              precision    recall  f1-score   support\n",
      "\n",
      "           0       0.93      0.99      0.96    198112\n",
      "           1       0.99      0.92      0.96    198442\n",
      "\n",
      "    accuracy                           0.96    396554\n",
      "   macro avg       0.96      0.96      0.96    396554\n",
      "weighted avg       0.96      0.96      0.96    396554\n",
      "\n",
      "\n",
      "\n",
      "Test\n",
      "[[84716   425]\n",
      " [ 6776 78035]]\n",
      "\n",
      "\n",
      "              precision    recall  f1-score   support\n",
      "\n",
      "           0       0.93      1.00      0.96     85141\n",
      "           1       0.99      0.92      0.96     84811\n",
      "\n",
      "    accuracy                           0.96    169952\n",
      "   macro avg       0.96      0.96      0.96    169952\n",
      "weighted avg       0.96      0.96      0.96    169952\n",
      "\n"
     ]
    }
   ],
   "source": [
    "print('Neural Network with SMOTE Resampling')\n",
    "print('Train')\n",
    "print(confusion_matrix(y_train2, predictions_nn_smote_train))\n",
    "print('\\n')\n",
    "print(classification_report(y_train2, predictions_nn_smote_train))\n",
    "print('\\n')\n",
    "print('Test')\n",
    "print(confusion_matrix(y_test2, predictions_nn_smote_test))\n",
    "print('\\n')\n",
    "print(classification_report(y_test2, predictions_nn_smote_test))"
   ]
  },
  {
   "cell_type": "markdown",
   "id": "69f97032-00f4-4ff8-ba8f-143a8b3d9de2",
   "metadata": {},
   "source": [
    "##### Neural Network with ASADYN Resampling"
   ]
  },
  {
   "cell_type": "code",
   "execution_count": 306,
   "id": "8f374adb-2d8f-43cf-a125-0534b35191e8",
   "metadata": {},
   "outputs": [],
   "source": [
    "model_asa = Sequential()\n",
    "model_asa.add(Dense(units=29,activation='relu'))\n",
    "model_asa.add(Dropout(0.2))\n",
    "\n",
    "model_asa.add(Dense(units=15,activation='relu'))\n",
    "model_asa.add(Dropout(0.2))\n",
    "\n",
    "model_asa.add(Dense(units=1,activation='sigmoid'))\n",
    "model_asa.compile(loss='binary_crossentropy', optimizer='adam')"
   ]
  },
  {
   "cell_type": "code",
   "execution_count": 308,
   "id": "8b0cd698-ea93-4c84-8a2d-380440e8c3ba",
   "metadata": {},
   "outputs": [
    {
     "name": "stdout",
     "output_type": "stream",
     "text": [
      "Epoch 1/600\n",
      "\u001b[1m12394/12394\u001b[0m \u001b[32m━━━━━━━━━━━━━━━━━━━━\u001b[0m\u001b[37m\u001b[0m \u001b[1m8s\u001b[0m 562us/step - loss: 67.4330 - val_loss: 0.6931\n",
      "Epoch 2/600\n",
      "\u001b[1m12394/12394\u001b[0m \u001b[32m━━━━━━━━━━━━━━━━━━━━\u001b[0m\u001b[37m\u001b[0m \u001b[1m7s\u001b[0m 580us/step - loss: 0.6943 - val_loss: 0.6932\n",
      "Epoch 3/600\n",
      "\u001b[1m12394/12394\u001b[0m \u001b[32m━━━━━━━━━━━━━━━━━━━━\u001b[0m\u001b[37m\u001b[0m \u001b[1m7s\u001b[0m 565us/step - loss: 0.6932 - val_loss: 0.6932\n",
      "Epoch 4/600\n",
      "\u001b[1m12394/12394\u001b[0m \u001b[32m━━━━━━━━━━━━━━━━━━━━\u001b[0m\u001b[37m\u001b[0m \u001b[1m7s\u001b[0m 568us/step - loss: 0.6937 - val_loss: 0.6932\n",
      "Epoch 5/600\n",
      "\u001b[1m12394/12394\u001b[0m \u001b[32m━━━━━━━━━━━━━━━━━━━━\u001b[0m\u001b[37m\u001b[0m \u001b[1m7s\u001b[0m 561us/step - loss: 0.6935 - val_loss: 0.6931\n",
      "Epoch 6/600\n",
      "\u001b[1m12394/12394\u001b[0m \u001b[32m━━━━━━━━━━━━━━━━━━━━\u001b[0m\u001b[37m\u001b[0m \u001b[1m7s\u001b[0m 561us/step - loss: 0.6932 - val_loss: 0.6933\n",
      "Epoch 7/600\n",
      "\u001b[1m12394/12394\u001b[0m \u001b[32m━━━━━━━━━━━━━━━━━━━━\u001b[0m\u001b[37m\u001b[0m \u001b[1m7s\u001b[0m 562us/step - loss: 0.6944 - val_loss: 0.6931\n",
      "Epoch 8/600\n",
      "\u001b[1m12394/12394\u001b[0m \u001b[32m━━━━━━━━━━━━━━━━━━━━\u001b[0m\u001b[37m\u001b[0m \u001b[1m7s\u001b[0m 579us/step - loss: 0.6940 - val_loss: 0.6932\n",
      "Epoch 9/600\n",
      "\u001b[1m12394/12394\u001b[0m \u001b[32m━━━━━━━━━━━━━━━━━━━━\u001b[0m\u001b[37m\u001b[0m \u001b[1m7s\u001b[0m 552us/step - loss: 0.6969 - val_loss: 0.6932\n",
      "Epoch 10/600\n",
      "\u001b[1m12394/12394\u001b[0m \u001b[32m━━━━━━━━━━━━━━━━━━━━\u001b[0m\u001b[37m\u001b[0m \u001b[1m7s\u001b[0m 587us/step - loss: 0.6934 - val_loss: 0.6932\n",
      "Epoch 11/600\n",
      "\u001b[1m12394/12394\u001b[0m \u001b[32m━━━━━━━━━━━━━━━━━━━━\u001b[0m\u001b[37m\u001b[0m \u001b[1m7s\u001b[0m 585us/step - loss: 0.6932 - val_loss: 0.6931\n",
      "Epoch 12/600\n",
      "\u001b[1m12394/12394\u001b[0m \u001b[32m━━━━━━━━━━━━━━━━━━━━\u001b[0m\u001b[37m\u001b[0m \u001b[1m7s\u001b[0m 563us/step - loss: 0.6932 - val_loss: 0.6932\n",
      "Epoch 13/600\n",
      "\u001b[1m12394/12394\u001b[0m \u001b[32m━━━━━━━━━━━━━━━━━━━━\u001b[0m\u001b[37m\u001b[0m \u001b[1m7s\u001b[0m 555us/step - loss: 0.6932 - val_loss: 0.6931\n",
      "Epoch 14/600\n",
      "\u001b[1m12394/12394\u001b[0m \u001b[32m━━━━━━━━━━━━━━━━━━━━\u001b[0m\u001b[37m\u001b[0m \u001b[1m7s\u001b[0m 574us/step - loss: 0.6932 - val_loss: 0.6931\n",
      "Epoch 15/600\n",
      "\u001b[1m12394/12394\u001b[0m \u001b[32m━━━━━━━━━━━━━━━━━━━━\u001b[0m\u001b[37m\u001b[0m \u001b[1m7s\u001b[0m 568us/step - loss: 0.6932 - val_loss: 0.6932\n",
      "Epoch 16/600\n",
      "\u001b[1m12394/12394\u001b[0m \u001b[32m━━━━━━━━━━━━━━━━━━━━\u001b[0m\u001b[37m\u001b[0m \u001b[1m7s\u001b[0m 584us/step - loss: 0.6932 - val_loss: 0.6931\n",
      "Epoch 17/600\n",
      "\u001b[1m12394/12394\u001b[0m \u001b[32m━━━━━━━━━━━━━━━━━━━━\u001b[0m\u001b[37m\u001b[0m \u001b[1m7s\u001b[0m 555us/step - loss: 0.6932 - val_loss: 0.6932\n",
      "Epoch 18/600\n",
      "\u001b[1m12394/12394\u001b[0m \u001b[32m━━━━━━━━━━━━━━━━━━━━\u001b[0m\u001b[37m\u001b[0m \u001b[1m7s\u001b[0m 574us/step - loss: 0.6932 - val_loss: 0.6932\n",
      "Epoch 19/600\n",
      "\u001b[1m12394/12394\u001b[0m \u001b[32m━━━━━━━━━━━━━━━━━━━━\u001b[0m\u001b[37m\u001b[0m \u001b[1m7s\u001b[0m 553us/step - loss: 0.6935 - val_loss: 0.6932\n",
      "Epoch 20/600\n",
      "\u001b[1m12394/12394\u001b[0m \u001b[32m━━━━━━━━━━━━━━━━━━━━\u001b[0m\u001b[37m\u001b[0m \u001b[1m7s\u001b[0m 582us/step - loss: 0.6932 - val_loss: 0.6931\n",
      "Epoch 21/600\n",
      "\u001b[1m12394/12394\u001b[0m \u001b[32m━━━━━━━━━━━━━━━━━━━━\u001b[0m\u001b[37m\u001b[0m \u001b[1m7s\u001b[0m 577us/step - loss: 0.6932 - val_loss: 0.6931\n",
      "Epoch 22/600\n",
      "\u001b[1m12394/12394\u001b[0m \u001b[32m━━━━━━━━━━━━━━━━━━━━\u001b[0m\u001b[37m\u001b[0m \u001b[1m7s\u001b[0m 585us/step - loss: 0.6932 - val_loss: 0.6933\n",
      "Epoch 23/600\n",
      "\u001b[1m12394/12394\u001b[0m \u001b[32m━━━━━━━━━━━━━━━━━━━━\u001b[0m\u001b[37m\u001b[0m \u001b[1m7s\u001b[0m 590us/step - loss: 0.6932 - val_loss: 0.6931\n",
      "Epoch 24/600\n",
      "\u001b[1m12394/12394\u001b[0m \u001b[32m━━━━━━━━━━━━━━━━━━━━\u001b[0m\u001b[37m\u001b[0m \u001b[1m7s\u001b[0m 581us/step - loss: 0.6932 - val_loss: 0.6932\n",
      "Epoch 25/600\n",
      "\u001b[1m12394/12394\u001b[0m \u001b[32m━━━━━━━━━━━━━━━━━━━━\u001b[0m\u001b[37m\u001b[0m \u001b[1m7s\u001b[0m 564us/step - loss: 0.6932 - val_loss: 0.6932\n",
      "Epoch 25: early stopping\n"
     ]
    },
    {
     "data": {
      "text/plain": [
       "<keras.src.callbacks.history.History at 0x3731996d0>"
      ]
     },
     "execution_count": 308,
     "metadata": {},
     "output_type": "execute_result"
    }
   ],
   "source": [
    "model_asa.fit(x=X_train3,\n",
    "              y=y_train3,\n",
    "              epochs=600,\n",
    "              validation_data=(X_test3, y_test3), verbose=1,\n",
    "              callbacks=[early_stop]\n",
    "             )"
   ]
  },
  {
   "cell_type": "code",
   "execution_count": 315,
   "id": "49a977e0-f9c6-45d3-82fd-81e69919dad2",
   "metadata": {},
   "outputs": [
    {
     "data": {
      "image/png": "[encoded data removed]",
      "text/plain": [
       "<Figure size 640x480 with 1 Axes>"
      ]
     },
     "metadata": {},
     "output_type": "display_data"
    }
   ],
   "source": [
    "model_loss_asa = pd.DataFrame(model_asa.history.history)\n",
    "model_loss_asa.plot(ylim=[0,1]);"
   ]
  },
  {
   "cell_type": "code",
   "execution_count": 317,
   "id": "ca2912ce-c49c-49d1-8617-57b12b96dcc5",
   "metadata": {},
   "outputs": [
    {
     "name": "stdout",
     "output_type": "stream",
     "text": [
      "\u001b[1m12394/12394\u001b[0m \u001b[32m━━━━━━━━━━━━━━━━━━━━\u001b[0m\u001b[37m\u001b[0m \u001b[1m4s\u001b[0m 355us/step\n",
      "\u001b[1m5312/5312\u001b[0m \u001b[32m━━━━━━━━━━━━━━━━━━━━\u001b[0m\u001b[37m\u001b[0m \u001b[1m2s\u001b[0m 351us/step\n"
     ]
    }
   ],
   "source": [
    "predictions_nn_asa_train = (model_asa.predict(X_train3) > 0.5).astype('int32')\n",
    "predictions_nn_asa_test = (model_asa.predict(X_test3) > 0.5).astype('int32')"
   ]
  },
  {
   "cell_type": "code",
   "execution_count": 318,
   "id": "74acbb03-c8b3-4c51-8d18-60257233f72f",
   "metadata": {},
   "outputs": [
    {
     "name": "stdout",
     "output_type": "stream",
     "text": [
      "Neural Network with ASADYN Resampling\n",
      "Train\n",
      "[[     0 197950]\n",
      " [     0 198636]]\n",
      "\n",
      "\n"
     ]
    },
    {
     "name": "stderr",
     "output_type": "stream",
     "text": [
      "/opt/anaconda3/lib/python3.11/site-packages/sklearn/metrics/_classification.py:1344: UndefinedMetricWarning: Precision and F-score are ill-defined and being set to 0.0 in labels with no predicted samples. Use `zero_division` parameter to control this behavior.\n",
      "  _warn_prf(average, modifier, msg_start, len(result))\n",
      "/opt/anaconda3/lib/python3.11/site-packages/sklearn/metrics/_classification.py:1344: UndefinedMetricWarning: Precision and F-score are ill-defined and being set to 0.0 in labels with no predicted samples. Use `zero_division` parameter to control this behavior.\n",
      "  _warn_prf(average, modifier, msg_start, len(result))\n",
      "/opt/anaconda3/lib/python3.11/site-packages/sklearn/metrics/_classification.py:1344: UndefinedMetricWarning: Precision and F-score are ill-defined and being set to 0.0 in labels with no predicted samples. Use `zero_division` parameter to control this behavior.\n",
      "  _warn_prf(average, modifier, msg_start, len(result))\n"
     ]
    },
    {
     "name": "stdout",
     "output_type": "stream",
     "text": [
      "              precision    recall  f1-score   support\n",
      "\n",
      "           0       0.00      0.00      0.00    197950\n",
      "           1       0.50      1.00      0.67    198636\n",
      "\n",
      "    accuracy                           0.50    396586\n",
      "   macro avg       0.25      0.50      0.33    396586\n",
      "weighted avg       0.25      0.50      0.33    396586\n",
      "\n",
      "\n",
      "\n",
      "Test\n",
      "[[    0 85303]\n",
      " [    0 84663]]\n",
      "\n",
      "\n",
      "              precision    recall  f1-score   support\n",
      "\n",
      "           0       0.00      0.00      0.00     85303\n",
      "           1       0.50      1.00      0.66     84663\n",
      "\n",
      "    accuracy                           0.50    169966\n",
      "   macro avg       0.25      0.50      0.33    169966\n",
      "weighted avg       0.25      0.50      0.33    169966\n",
      "\n"
     ]
    },
    {
     "name": "stderr",
     "output_type": "stream",
     "text": [
      "/opt/anaconda3/lib/python3.11/site-packages/sklearn/metrics/_classification.py:1344: UndefinedMetricWarning: Precision and F-score are ill-defined and being set to 0.0 in labels with no predicted samples. Use `zero_division` parameter to control this behavior.\n",
      "  _warn_prf(average, modifier, msg_start, len(result))\n",
      "/opt/anaconda3/lib/python3.11/site-packages/sklearn/metrics/_classification.py:1344: UndefinedMetricWarning: Precision and F-score are ill-defined and being set to 0.0 in labels with no predicted samples. Use `zero_division` parameter to control this behavior.\n",
      "  _warn_prf(average, modifier, msg_start, len(result))\n",
      "/opt/anaconda3/lib/python3.11/site-packages/sklearn/metrics/_classification.py:1344: UndefinedMetricWarning: Precision and F-score are ill-defined and being set to 0.0 in labels with no predicted samples. Use `zero_division` parameter to control this behavior.\n",
      "  _warn_prf(average, modifier, msg_start, len(result))\n"
     ]
    }
   ],
   "source": [
    "print('Neural Network with ASADYN Resampling')\n",
    "print('Train')\n",
    "print(confusion_matrix(y_train3, predictions_nn_asa_train))\n",
    "print('\\n')\n",
    "print(classification_report(y_train3, predictions_nn_asa_train))\n",
    "print('\\n')\n",
    "print('Test')\n",
    "print(confusion_matrix(y_test3, predictions_nn_asa_test))\n",
    "print('\\n')\n",
    "print(classification_report(y_test3, predictions_nn_asa_test))"
   ]
  }
 ],
 "metadata": {
  "kernelspec": {
   "display_name": "Python 3 (ipykernel)",
   "language": "python",
   "name": "python3"
  },
  "language_info": {
   "codemirror_mode": {
    "name": "ipython",
    "version": 3
   },
   "file_extension": ".py",
   "mimetype": "text/x-python",
   "name": "python",
   "nbconvert_exporter": "python",
   "pygments_lexer": "ipython3",
   "version": "3.11.7"
  }
 },
 "nbformat": 4,
 "nbformat_minor": 5
}
