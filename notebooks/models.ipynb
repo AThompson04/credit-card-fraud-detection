{
 "cells": [
  {
   "cell_type": "markdown",
   "id": "6cbb558c-2900-4a40-a2ad-544fd1271265",
   "metadata": {},
   "source": [
    "## Importing Libraries"
   ]
  },
  {
   "cell_type": "code",
   "execution_count": 10,
   "id": "a6bf1b4c-7e9e-48c1-9abe-9659dff39f5f",
   "metadata": {},
   "outputs": [],
   "source": [
    "import warnings\n",
    "warnings.simplefilter(action='ignore', category=FutureWarning)"
   ]
  },
  {
   "cell_type": "code",
   "execution_count": 84,
   "id": "7c6280d0-9e4f-4271-a977-28f25eff60ed",
   "metadata": {},
   "outputs": [],
   "source": [
    "import pandas as pd\n",
    "from sklearn.model_selection import train_test_split\n",
    "import seaborn as sns\n",
    "from imblearn.over_sampling import SMOTE, ADASYN\n",
    "import matplotlib.pyplot as plt"
   ]
  },
  {
   "cell_type": "markdown",
   "id": "6fe36c23-4168-4eb1-a914-ebfa773d4652",
   "metadata": {},
   "source": [
    "## Loading the Data"
   ]
  },
  {
   "cell_type": "code",
   "execution_count": 16,
   "id": "800c9f84-1bf7-469a-a199-69a404f43056",
   "metadata": {},
   "outputs": [],
   "source": [
    "data = pd.read_csv('../data/Cleaned_data.csv', index_col=0)"
   ]
  },
  {
   "cell_type": "code",
   "execution_count": 18,
   "id": "36ce91fd-111f-4aaf-bd75-50fe6d6c9600",
   "metadata": {},
   "outputs": [
    {
     "data": {
      "text/html": [
       "<div>\n",
       "<style scoped>\n",
       "    .dataframe tbody tr th:only-of-type {\n",
       "        vertical-align: middle;\n",
       "    }\n",
       "\n",
       "    .dataframe tbody tr th {\n",
       "        vertical-align: top;\n",
       "    }\n",
       "\n",
       "    .dataframe thead th {\n",
       "        text-align: right;\n",
       "    }\n",
       "</style>\n",
       "<table border=\"1\" class=\"dataframe\">\n",
       "  <thead>\n",
       "    <tr style=\"text-align: right;\">\n",
       "      <th></th>\n",
       "      <th>Time</th>\n",
       "      <th>V1</th>\n",
       "      <th>V2</th>\n",
       "      <th>V3</th>\n",
       "      <th>V4</th>\n",
       "      <th>V5</th>\n",
       "      <th>V6</th>\n",
       "      <th>V7</th>\n",
       "      <th>V8</th>\n",
       "      <th>V9</th>\n",
       "      <th>...</th>\n",
       "      <th>V21</th>\n",
       "      <th>V22</th>\n",
       "      <th>V23</th>\n",
       "      <th>V24</th>\n",
       "      <th>V25</th>\n",
       "      <th>V26</th>\n",
       "      <th>V27</th>\n",
       "      <th>V28</th>\n",
       "      <th>Amount</th>\n",
       "      <th>Class</th>\n",
       "    </tr>\n",
       "  </thead>\n",
       "  <tbody>\n",
       "    <tr>\n",
       "      <th>0</th>\n",
       "      <td>0.0</td>\n",
       "      <td>-1.359807</td>\n",
       "      <td>-0.072781</td>\n",
       "      <td>2.536347</td>\n",
       "      <td>1.378155</td>\n",
       "      <td>-0.338321</td>\n",
       "      <td>0.462388</td>\n",
       "      <td>0.239599</td>\n",
       "      <td>0.098698</td>\n",
       "      <td>0.363787</td>\n",
       "      <td>...</td>\n",
       "      <td>-0.018307</td>\n",
       "      <td>0.277838</td>\n",
       "      <td>-0.110474</td>\n",
       "      <td>0.066928</td>\n",
       "      <td>0.128539</td>\n",
       "      <td>-0.189115</td>\n",
       "      <td>0.133558</td>\n",
       "      <td>-0.021053</td>\n",
       "      <td>149.62</td>\n",
       "      <td>0</td>\n",
       "    </tr>\n",
       "    <tr>\n",
       "      <th>1</th>\n",
       "      <td>0.0</td>\n",
       "      <td>1.191857</td>\n",
       "      <td>0.266151</td>\n",
       "      <td>0.166480</td>\n",
       "      <td>0.448154</td>\n",
       "      <td>0.060018</td>\n",
       "      <td>-0.082361</td>\n",
       "      <td>-0.078803</td>\n",
       "      <td>0.085102</td>\n",
       "      <td>-0.255425</td>\n",
       "      <td>...</td>\n",
       "      <td>-0.225775</td>\n",
       "      <td>-0.638672</td>\n",
       "      <td>0.101288</td>\n",
       "      <td>-0.339846</td>\n",
       "      <td>0.167170</td>\n",
       "      <td>0.125895</td>\n",
       "      <td>-0.008983</td>\n",
       "      <td>0.014724</td>\n",
       "      <td>2.69</td>\n",
       "      <td>0</td>\n",
       "    </tr>\n",
       "    <tr>\n",
       "      <th>2</th>\n",
       "      <td>1.0</td>\n",
       "      <td>-1.358354</td>\n",
       "      <td>-1.340163</td>\n",
       "      <td>1.773209</td>\n",
       "      <td>0.379780</td>\n",
       "      <td>-0.503198</td>\n",
       "      <td>1.800499</td>\n",
       "      <td>0.791461</td>\n",
       "      <td>0.247676</td>\n",
       "      <td>-1.514654</td>\n",
       "      <td>...</td>\n",
       "      <td>0.247998</td>\n",
       "      <td>0.771679</td>\n",
       "      <td>0.909412</td>\n",
       "      <td>-0.689281</td>\n",
       "      <td>-0.327642</td>\n",
       "      <td>-0.139097</td>\n",
       "      <td>-0.055353</td>\n",
       "      <td>-0.059752</td>\n",
       "      <td>378.66</td>\n",
       "      <td>0</td>\n",
       "    </tr>\n",
       "    <tr>\n",
       "      <th>3</th>\n",
       "      <td>1.0</td>\n",
       "      <td>-0.966272</td>\n",
       "      <td>-0.185226</td>\n",
       "      <td>1.792993</td>\n",
       "      <td>-0.863291</td>\n",
       "      <td>-0.010309</td>\n",
       "      <td>1.247203</td>\n",
       "      <td>0.237609</td>\n",
       "      <td>0.377436</td>\n",
       "      <td>-1.387024</td>\n",
       "      <td>...</td>\n",
       "      <td>-0.108300</td>\n",
       "      <td>0.005274</td>\n",
       "      <td>-0.190321</td>\n",
       "      <td>-1.175575</td>\n",
       "      <td>0.647376</td>\n",
       "      <td>-0.221929</td>\n",
       "      <td>0.062723</td>\n",
       "      <td>0.061458</td>\n",
       "      <td>123.50</td>\n",
       "      <td>0</td>\n",
       "    </tr>\n",
       "    <tr>\n",
       "      <th>4</th>\n",
       "      <td>2.0</td>\n",
       "      <td>-1.158233</td>\n",
       "      <td>0.877737</td>\n",
       "      <td>1.548718</td>\n",
       "      <td>0.403034</td>\n",
       "      <td>-0.407193</td>\n",
       "      <td>0.095921</td>\n",
       "      <td>0.592941</td>\n",
       "      <td>-0.270533</td>\n",
       "      <td>0.817739</td>\n",
       "      <td>...</td>\n",
       "      <td>-0.009431</td>\n",
       "      <td>0.798278</td>\n",
       "      <td>-0.137458</td>\n",
       "      <td>0.141267</td>\n",
       "      <td>-0.206010</td>\n",
       "      <td>0.502292</td>\n",
       "      <td>0.219422</td>\n",
       "      <td>0.215153</td>\n",
       "      <td>69.99</td>\n",
       "      <td>0</td>\n",
       "    </tr>\n",
       "  </tbody>\n",
       "</table>\n",
       "<p>5 rows × 31 columns</p>\n",
       "</div>"
      ],
      "text/plain": [
       "   Time        V1        V2        V3        V4        V5        V6        V7  \\\n",
       "0   0.0 -1.359807 -0.072781  2.536347  1.378155 -0.338321  0.462388  0.239599   \n",
       "1   0.0  1.191857  0.266151  0.166480  0.448154  0.060018 -0.082361 -0.078803   \n",
       "2   1.0 -1.358354 -1.340163  1.773209  0.379780 -0.503198  1.800499  0.791461   \n",
       "3   1.0 -0.966272 -0.185226  1.792993 -0.863291 -0.010309  1.247203  0.237609   \n",
       "4   2.0 -1.158233  0.877737  1.548718  0.403034 -0.407193  0.095921  0.592941   \n",
       "\n",
       "         V8        V9  ...       V21       V22       V23       V24       V25  \\\n",
       "0  0.098698  0.363787  ... -0.018307  0.277838 -0.110474  0.066928  0.128539   \n",
       "1  0.085102 -0.255425  ... -0.225775 -0.638672  0.101288 -0.339846  0.167170   \n",
       "2  0.247676 -1.514654  ...  0.247998  0.771679  0.909412 -0.689281 -0.327642   \n",
       "3  0.377436 -1.387024  ... -0.108300  0.005274 -0.190321 -1.175575  0.647376   \n",
       "4 -0.270533  0.817739  ... -0.009431  0.798278 -0.137458  0.141267 -0.206010   \n",
       "\n",
       "        V26       V27       V28  Amount  Class  \n",
       "0 -0.189115  0.133558 -0.021053  149.62      0  \n",
       "1  0.125895 -0.008983  0.014724    2.69      0  \n",
       "2 -0.139097 -0.055353 -0.059752  378.66      0  \n",
       "3 -0.221929  0.062723  0.061458  123.50      0  \n",
       "4  0.502292  0.219422  0.215153   69.99      0  \n",
       "\n",
       "[5 rows x 31 columns]"
      ]
     },
     "execution_count": 18,
     "metadata": {},
     "output_type": "execute_result"
    }
   ],
   "source": [
    "data.head()"
   ]
  },
  {
   "cell_type": "code",
   "execution_count": 20,
   "id": "d2463ffd-8100-4c5f-bb48-2a100f6207dd",
   "metadata": {},
   "outputs": [
    {
     "name": "stdout",
     "output_type": "stream",
     "text": [
      "<class 'pandas.core.frame.DataFrame'>\n",
      "Index: 283726 entries, 0 to 284806\n",
      "Data columns (total 31 columns):\n",
      " #   Column  Non-Null Count   Dtype  \n",
      "---  ------  --------------   -----  \n",
      " 0   Time    283726 non-null  float64\n",
      " 1   V1      283726 non-null  float64\n",
      " 2   V2      283726 non-null  float64\n",
      " 3   V3      283726 non-null  float64\n",
      " 4   V4      283726 non-null  float64\n",
      " 5   V5      283726 non-null  float64\n",
      " 6   V6      283726 non-null  float64\n",
      " 7   V7      283726 non-null  float64\n",
      " 8   V8      283726 non-null  float64\n",
      " 9   V9      283726 non-null  float64\n",
      " 10  V10     283726 non-null  float64\n",
      " 11  V11     283726 non-null  float64\n",
      " 12  V12     283726 non-null  float64\n",
      " 13  V13     283726 non-null  float64\n",
      " 14  V14     283726 non-null  float64\n",
      " 15  V15     283726 non-null  float64\n",
      " 16  V16     283726 non-null  float64\n",
      " 17  V17     283726 non-null  float64\n",
      " 18  V18     283726 non-null  float64\n",
      " 19  V19     283726 non-null  float64\n",
      " 20  V20     283726 non-null  float64\n",
      " 21  V21     283726 non-null  float64\n",
      " 22  V22     283726 non-null  float64\n",
      " 23  V23     283726 non-null  float64\n",
      " 24  V24     283726 non-null  float64\n",
      " 25  V25     283726 non-null  float64\n",
      " 26  V26     283726 non-null  float64\n",
      " 27  V27     283726 non-null  float64\n",
      " 28  V28     283726 non-null  float64\n",
      " 29  Amount  283726 non-null  float64\n",
      " 30  Class   283726 non-null  int64  \n",
      "dtypes: float64(30), int64(1)\n",
      "memory usage: 69.3 MB\n"
     ]
    }
   ],
   "source": [
    "data.info()"
   ]
  },
  {
   "cell_type": "markdown",
   "id": "1c8250df-8cc9-48c7-a6fb-7e4dda8e3945",
   "metadata": {},
   "source": [
    "## Fitting the Data\n",
    "In this section the data will be fitted to three types of models:\n",
    "1. Logistic Regression\n",
    "2. Decision Trees\n",
    "3. Neural Network\n",
    "\n",
    "Based on the findings from the data analysis that the classes are imbalanced, each technique will be fitted to three data samples:\n",
    "1. The original data\n",
    "2. Resampling using Synthetic Minority Oversampling Technique (SMOTE)\n",
    "3. Resampling using Adaptive Synthetic (ADASYN)\n",
    "\n",
    "Both the SMOTE and the ADASYN oversampling methods are used to address the problem of imbalanced class - where the one class significantly outnumbers the other. These oversampling methods aim to balance the class distribution."
   ]
  },
  {
   "cell_type": "markdown",
   "id": "83ddd5ca-a8ff-4660-91b6-3459d4d1a07c",
   "metadata": {},
   "source": [
    "#### Creating the Samples"
   ]
  },
  {
   "cell_type": "code",
   "execution_count": 22,
   "id": "c43b12e2-e46d-4bd4-93d9-5377a69e6aa9",
   "metadata": {},
   "outputs": [],
   "source": [
    "X = data.drop('Class',axis=1)\n",
    "y = data['Class']"
   ]
  },
  {
   "cell_type": "markdown",
   "id": "8c0fd67e-0850-4f99-9d0c-4f81ea98b282",
   "metadata": {},
   "source": [
    "##### 1) Original Data"
   ]
  },
  {
   "cell_type": "code",
   "execution_count": 24,
   "id": "a21f35f8-f43b-461c-a02e-50892e974a88",
   "metadata": {},
   "outputs": [],
   "source": [
    "X_train, X_test, y_train, y_test = train_test_split(X, y,\n",
    "                                                    test_size=0.30, \n",
    "                                                    random_state=46)"
   ]
  },
  {
   "cell_type": "markdown",
   "id": "89c3ffd9-ba32-4455-adcc-65e475da79d5",
   "metadata": {},
   "source": [
    "##### 2) Resampling using SMOTE"
   ]
  },
  {
   "cell_type": "code",
   "execution_count": 30,
   "id": "8f7890a6-18ac-49f7-a13b-3bee5a1ae889",
   "metadata": {},
   "outputs": [],
   "source": [
    "X_resampled_smote, y_resampled_smote = SMOTE().fit_resample(X, y)"
   ]
  },
  {
   "cell_type": "code",
   "execution_count": 32,
   "id": "584a80ff-f64f-4742-bc9f-6d07c4c7d593",
   "metadata": {},
   "outputs": [],
   "source": [
    "sns.set_style('whitegrid')\n",
    "sns.set_palette('RdBu_r')\n",
    "custom_palette = sns.color_palette('RdBu_r', n_colors=10)\n",
    "colour1, colour2 = custom_palette[2], custom_palette[8]"
   ]
  },
  {
   "cell_type": "code",
   "execution_count": 36,
   "id": "aa4f8223-0a55-4527-a8f7-060398158594",
   "metadata": {},
   "outputs": [
    {
     "data": {
      "image/png": "[encoded data removed]",
      "text/plain": [
       "<Figure size 640x480 with 1 Axes>"
      ]
     },
     "metadata": {},
     "output_type": "display_data"
    }
   ],
   "source": [
    "g = sns.countplot(data=pd.DataFrame(y_resampled_smote), x='Class', palette=[colour1, colour2])\n",
    "g.set_ylabel('Count')\n",
    "g.set_xlabel('Transactions')\n",
    "g.set_xticklabels(['Non-Fraudulent','Fraudulent'], fontsize=10);"
   ]
  },
  {
   "cell_type": "code",
   "execution_count": 40,
   "id": "27b3d677-313b-4d32-8719-5e5e770c6899",
   "metadata": {},
   "outputs": [],
   "source": [
    "g.figure.savefig('../assets/cnt_plt_classes_SMOTE', dpi=300, bbox_inches='tight')"
   ]
  },
  {
   "cell_type": "code",
   "execution_count": 42,
   "id": "dfb53292-6d30-4b65-a53a-1dad13fd5d15",
   "metadata": {},
   "outputs": [
    {
     "data": {
      "text/plain": [
       "Class\n",
       "0        283253\n",
       "1        283253\n",
       "Name: count, dtype: int64"
      ]
     },
     "execution_count": 42,
     "metadata": {},
     "output_type": "execute_result"
    }
   ],
   "source": [
    "pd.DataFrame(y_resampled_smote).value_counts()"
   ]
  },
  {
   "cell_type": "code",
   "execution_count": 44,
   "id": "0444a920-f19d-4304-a6ad-490d442cbbbe",
   "metadata": {},
   "outputs": [],
   "source": [
    "X_train2, X_test2, y_train2, y_test2 = train_test_split(X_resampled_smote, y_resampled_smote,\n",
    "                                                    test_size=0.30, \n",
    "                                                    random_state=46)"
   ]
  },
  {
   "cell_type": "markdown",
   "id": "9d107e92-3766-41de-a8d8-aeec2a044428",
   "metadata": {},
   "source": [
    "##### 3) Resampling using ADASYN"
   ]
  },
  {
   "cell_type": "code",
   "execution_count": 46,
   "id": "d62afa24-ea36-49a4-8609-da5029f7692f",
   "metadata": {},
   "outputs": [],
   "source": [
    "X_resampled_ASA, y_resampled_ASA = ADASYN().fit_resample(X, y)"
   ]
  },
  {
   "cell_type": "code",
   "execution_count": 48,
   "id": "98638a5d-4de7-4766-97f0-104caacc80bb",
   "metadata": {},
   "outputs": [
    {
     "data": {
      "image/png": "[encoded data removed]",
      "text/plain": [
       "<Figure size 640x480 with 1 Axes>"
      ]
     },
     "metadata": {},
     "output_type": "display_data"
    }
   ],
   "source": [
    "f = sns.countplot(data=pd.DataFrame(y_resampled_ASA), x='Class', palette=[colour1, colour2])\n",
    "f.set_ylabel('Count')\n",
    "f.set_xlabel('Transactions')\n",
    "f.set_xticklabels(['Non-Fraudulent','Fraudulent'], fontsize=10);"
   ]
  },
  {
   "cell_type": "code",
   "execution_count": 50,
   "id": "09d439b6-0019-4d21-8191-10c580bae697",
   "metadata": {},
   "outputs": [],
   "source": [
    "f.figure.savefig('../assets/cnt_plt_classes_ADASYN', dpi=300, bbox_inches='tight')"
   ]
  },
  {
   "cell_type": "code",
   "execution_count": 52,
   "id": "4d4e5c89-0165-4cc1-b745-8dd28729f70d",
   "metadata": {},
   "outputs": [
    {
     "data": {
      "text/plain": [
       "Class\n",
       "1        283299\n",
       "0        283253\n",
       "Name: count, dtype: int64"
      ]
     },
     "execution_count": 52,
     "metadata": {},
     "output_type": "execute_result"
    }
   ],
   "source": [
    "pd.DataFrame(y_resampled_ASA).value_counts()"
   ]
  },
  {
   "cell_type": "code",
   "execution_count": 54,
   "id": "d3f1117c-5200-4125-83ce-e9ec49e0f47b",
   "metadata": {},
   "outputs": [],
   "source": [
    "X_train3, X_test3, y_train3, y_test3 = train_test_split(X_resampled_ASA, y_resampled_ASA,\n",
    "                                                    test_size=0.30, \n",
    "                                                    random_state=46)"
   ]
  },
  {
   "cell_type": "markdown",
   "id": "e8230ec9-7985-4868-b41d-3e9c226aaa26",
   "metadata": {},
   "source": [
    "<br/><br/><br/><br/>\n",
    "### Logistic Regression"
   ]
  },
  {
   "cell_type": "code",
   "execution_count": 108,
   "id": "85c2d43f-375e-4bc6-a4e8-5122aa6a0565",
   "metadata": {},
   "outputs": [],
   "source": [
    "from sklearn.linear_model import LogisticRegression\n",
    "from sklearn.metrics import classification_report, confusion_matrix, roc_auc_score, roc_curve\n",
    "import statsmodels.api as sm"
   ]
  },
  {
   "cell_type": "markdown",
   "id": "2d43ba9b-1325-411d-b359-63dddb279c3f",
   "metadata": {},
   "source": [
    "#### Logistic Regression Without Resampling"
   ]
  },
  {
   "cell_type": "code",
   "execution_count": 110,
   "id": "881c9c70-8d93-4459-ba3d-5af7bd894537",
   "metadata": {},
   "outputs": [
    {
     "name": "stdout",
     "output_type": "stream",
     "text": [
      "Optimization terminated successfully.\n",
      "         Current function value: 0.009701\n",
      "         Iterations 15\n",
      "                          Results: Logit\n",
      "==================================================================\n",
      "Model:              Logit            Method:           MLE        \n",
      "Dependent Variable: Class            Pseudo R-squared: 0.225      \n",
      "Date:               2025-01-22 12:29 AIC:              3913.3004  \n",
      "No. Observations:   198608           BIC:              4219.2730  \n",
      "Df Model:           29               Log-Likelihood:   -1926.7    \n",
      "Df Residuals:       198578           LL-Null:          -2486.4    \n",
      "Converged:          1.0000           LLR p-value:      4.2890e-217\n",
      "No. Iterations:     15.0000          Scale:            1.0000     \n",
      "--------------------------------------------------------------------\n",
      "           Coef.    Std.Err.      z       P>|z|     [0.025    0.975]\n",
      "--------------------------------------------------------------------\n",
      "Time      -0.0001     0.0000   -45.6826   0.0000   -0.0001   -0.0001\n",
      "V1         0.5319     0.0402    13.2348   0.0000    0.4531    0.6107\n",
      "V2        -1.4340     0.0495   -28.9894   0.0000   -1.5310   -1.3371\n",
      "V3        -1.5586     0.0415   -37.5979   0.0000   -1.6399   -1.4774\n",
      "V4         0.3815     0.0364    10.4693   0.0000    0.3101    0.4530\n",
      "V5        -1.0156     0.0730   -13.9178   0.0000   -1.1587   -0.8726\n",
      "V6         0.5415     0.0552     9.8080   0.0000    0.4333    0.6497\n",
      "V7         1.6901     0.0825    20.4956   0.0000    1.5285    1.8517\n",
      "V8        -0.4881     0.0298   -16.3988   0.0000   -0.5464   -0.4297\n",
      "V9        -0.8016     0.0650   -12.3290   0.0000   -0.9290   -0.6741\n",
      "V10       -0.9509     0.0777   -12.2432   0.0000   -1.1031   -0.7987\n",
      "V11       -0.5513     0.0496   -11.1164   0.0000   -0.6485   -0.4541\n",
      "V12       -0.0961     0.0510    -1.8842   0.0595   -0.1961    0.0039\n",
      "V13       -0.3776     0.0497    -7.5998   0.0000   -0.4750   -0.2802\n",
      "V14       -0.5084     0.0462   -10.9979   0.0000   -0.5990   -0.4178\n",
      "V15       -0.9507     0.0579   -16.4321   0.0000   -1.0641   -0.8373\n",
      "V16       -0.5162     0.0628    -8.2171   0.0000   -0.6393   -0.3931\n",
      "V17       -0.5737     0.0488   -11.7588   0.0000   -0.6694   -0.4781\n",
      "V18        0.4704     0.0691     6.8030   0.0000    0.3349    0.6059\n",
      "V19       -0.3076     0.0704    -4.3684   0.0000   -0.4456   -0.1696\n",
      "V20        2.4248     0.1861    13.0278   0.0000    2.0600    2.7896\n",
      "V21        1.4542     0.0757    19.1994   0.0000    1.3058    1.6027\n",
      "V22        0.8938     0.0958     9.3322   0.0000    0.7061    1.0816\n",
      "V23        1.1124     0.1201     9.2653   0.0000    0.8771    1.3477\n",
      "V24       -0.0934     0.0813    -1.1479   0.2510   -0.2527    0.0660\n",
      "V25       -1.4133     0.1048   -13.4888   0.0000   -1.6187   -1.2080\n",
      "V26        0.2897     0.1047     2.7674   0.0057    0.0845    0.4949\n",
      "V27       -1.1422     0.1613    -7.0790   0.0000   -1.4584   -0.8259\n",
      "V28        0.5792     0.1239     4.6735   0.0000    0.3363    0.8222\n",
      "Amount    -0.0246     0.0011   -22.6498   0.0000   -0.0268   -0.0225\n",
      "==================================================================\n",
      "\n"
     ]
    }
   ],
   "source": [
    "logit_model = sm.Logit(y_train,X_train)\n",
    "result = logit_model.fit()\n",
    "print(result.summary2())"
   ]
  },
  {
   "cell_type": "code",
   "execution_count": 112,
   "id": "eb9545f5-8fb9-4b2f-917b-d2f4e8ca4ce5",
   "metadata": {},
   "outputs": [
    {
     "name": "stdout",
     "output_type": "stream",
     "text": [
      "Optimization terminated successfully.\n",
      "         Current function value: 0.009713\n",
      "         Iterations 21\n",
      "                          Results: Logit\n",
      "==================================================================\n",
      "Model:              Logit            Method:           MLE        \n",
      "Dependent Variable: Class            Pseudo R-squared: 0.224      \n",
      "Date:               2025-01-22 12:31 AIC:              3914.1768  \n",
      "No. Observations:   198608           BIC:              4199.7513  \n",
      "Df Model:           27               Log-Likelihood:   -1929.1    \n",
      "Df Residuals:       198580           LL-Null:          -2486.4    \n",
      "Converged:          1.0000           LLR p-value:      1.1198e-217\n",
      "No. Iterations:     21.0000          Scale:            1.0000     \n",
      "--------------------------------------------------------------------\n",
      "           Coef.    Std.Err.      z       P>|z|     [0.025    0.975]\n",
      "--------------------------------------------------------------------\n",
      "Time      -0.0001     0.0000   -46.3833   0.0000   -0.0001   -0.0001\n",
      "V1         0.5447     0.0397    13.7069   0.0000    0.4668    0.6226\n",
      "V2        -1.4210     0.0490   -28.9894   0.0000   -1.5170   -1.3249\n",
      "V3        -1.5725     0.0410   -38.3829   0.0000   -1.6528   -1.4922\n",
      "V4         0.3830     0.0366    10.4658   0.0000    0.3113    0.4547\n",
      "V5        -0.9931     0.0717   -13.8502   0.0000   -1.1336   -0.8526\n",
      "V6         0.5160     0.0533     9.6721   0.0000    0.4114    0.6206\n",
      "V7         1.6630     0.0812    20.4890   0.0000    1.5039    1.8221\n",
      "V8        -0.4869     0.0293   -16.5979   0.0000   -0.5444   -0.4294\n",
      "V9        -0.8080     0.0660   -12.2451   0.0000   -0.9373   -0.6786\n",
      "V10       -0.9568     0.0783   -12.2274   0.0000   -1.1102   -0.8034\n",
      "V11       -0.5604     0.0496   -11.3034   0.0000   -0.6576   -0.4633\n",
      "V13       -0.3836     0.0507    -7.5712   0.0000   -0.4829   -0.2843\n",
      "V14       -0.5332     0.0455   -11.7125   0.0000   -0.6225   -0.4440\n",
      "V15       -0.9544     0.0579   -16.4753   0.0000   -1.0679   -0.8409\n",
      "V16       -0.5094     0.0626    -8.1421   0.0000   -0.6320   -0.3867\n",
      "V17       -0.5965     0.0480   -12.4241   0.0000   -0.6906   -0.5024\n",
      "V18        0.4709     0.0690     6.8245   0.0000    0.3357    0.6061\n",
      "V19       -0.2914     0.0700    -4.1615   0.0000   -0.4287   -0.1542\n",
      "V20        2.3743     0.1844    12.8776   0.0000    2.0129    2.7357\n",
      "V21        1.4450     0.0758    19.0521   0.0000    1.2964    1.5937\n",
      "V22        0.8930     0.0954     9.3615   0.0000    0.7060    1.0800\n",
      "V23        1.1027     0.1208     9.1278   0.0000    0.8660    1.3395\n",
      "V25       -1.4407     0.1030   -13.9926   0.0000   -1.6425   -1.2389\n",
      "V26        0.2882     0.1042     2.7652   0.0057    0.0839    0.4924\n",
      "V27       -1.1629     0.1616    -7.1944   0.0000   -1.4797   -0.8461\n",
      "V28        0.5595     0.1233     4.5385   0.0000    0.3179    0.8011\n",
      "Amount    -0.0243     0.0011   -22.6279   0.0000   -0.0264   -0.0222\n",
      "==================================================================\n",
      "\n"
     ]
    }
   ],
   "source": [
    "logit_model2 = sm.Logit(y_train,X_train.drop(['V12','V24'],axis=1))\n",
    "result2 = logit_model2.fit()\n",
    "print(result2.summary2())"
   ]
  },
  {
   "cell_type": "code",
   "execution_count": 114,
   "id": "9195486b-0cb9-420d-8dcb-f737d8f68290",
   "metadata": {},
   "outputs": [
    {
     "data": {
      "text/html": [
       "<style>#sk-container-id-3 {color: black;background-color: white;}#sk-container-id-3 pre{padding: 0;}#sk-container-id-3 div.sk-toggleable {background-color: white;}#sk-container-id-3 label.sk-toggleable__label {cursor: pointer;display: block;width: 100%;margin-bottom: 0;padding: 0.3em;box-sizing: border-box;text-align: center;}#sk-container-id-3 label.sk-toggleable__label-arrow:before {content: \"▸\";float: left;margin-right: 0.25em;color: #696969;}#sk-container-id-3 label.sk-toggleable__label-arrow:hover:before {color: black;}#sk-container-id-3 div.sk-estimator:hover label.sk-toggleable__label-arrow:before {color: black;}#sk-container-id-3 div.sk-toggleable__content {max-height: 0;max-width: 0;overflow: hidden;text-align: left;background-color: #f0f8ff;}#sk-container-id-3 div.sk-toggleable__content pre {margin: 0.2em;color: black;border-radius: 0.25em;background-color: #f0f8ff;}#sk-container-id-3 input.sk-toggleable__control:checked~div.sk-toggleable__content {max-height: 200px;max-width: 100%;overflow: auto;}#sk-container-id-3 input.sk-toggleable__control:checked~label.sk-toggleable__label-arrow:before {content: \"▾\";}#sk-container-id-3 div.sk-estimator input.sk-toggleable__control:checked~label.sk-toggleable__label {background-color: #d4ebff;}#sk-container-id-3 div.sk-label input.sk-toggleable__control:checked~label.sk-toggleable__label {background-color: #d4ebff;}#sk-container-id-3 input.sk-hidden--visually {border: 0;clip: rect(1px 1px 1px 1px);clip: rect(1px, 1px, 1px, 1px);height: 1px;margin: -1px;overflow: hidden;padding: 0;position: absolute;width: 1px;}#sk-container-id-3 div.sk-estimator {font-family: monospace;background-color: #f0f8ff;border: 1px dotted black;border-radius: 0.25em;box-sizing: border-box;margin-bottom: 0.5em;}#sk-container-id-3 div.sk-estimator:hover {background-color: #d4ebff;}#sk-container-id-3 div.sk-parallel-item::after {content: \"\";width: 100%;border-bottom: 1px solid gray;flex-grow: 1;}#sk-container-id-3 div.sk-label:hover label.sk-toggleable__label {background-color: #d4ebff;}#sk-container-id-3 div.sk-serial::before {content: \"\";position: absolute;border-left: 1px solid gray;box-sizing: border-box;top: 0;bottom: 0;left: 50%;z-index: 0;}#sk-container-id-3 div.sk-serial {display: flex;flex-direction: column;align-items: center;background-color: white;padding-right: 0.2em;padding-left: 0.2em;position: relative;}#sk-container-id-3 div.sk-item {position: relative;z-index: 1;}#sk-container-id-3 div.sk-parallel {display: flex;align-items: stretch;justify-content: center;background-color: white;position: relative;}#sk-container-id-3 div.sk-item::before, #sk-container-id-3 div.sk-parallel-item::before {content: \"\";position: absolute;border-left: 1px solid gray;box-sizing: border-box;top: 0;bottom: 0;left: 50%;z-index: -1;}#sk-container-id-3 div.sk-parallel-item {display: flex;flex-direction: column;z-index: 1;position: relative;background-color: white;}#sk-container-id-3 div.sk-parallel-item:first-child::after {align-self: flex-end;width: 50%;}#sk-container-id-3 div.sk-parallel-item:last-child::after {align-self: flex-start;width: 50%;}#sk-container-id-3 div.sk-parallel-item:only-child::after {width: 0;}#sk-container-id-3 div.sk-dashed-wrapped {border: 1px dashed gray;margin: 0 0.4em 0.5em 0.4em;box-sizing: border-box;padding-bottom: 0.4em;background-color: white;}#sk-container-id-3 div.sk-label label {font-family: monospace;font-weight: bold;display: inline-block;line-height: 1.2em;}#sk-container-id-3 div.sk-label-container {text-align: center;}#sk-container-id-3 div.sk-container {/* jupyter's `normalize.less` sets `[hidden] { display: none; }` but bootstrap.min.css set `[hidden] { display: none !important; }` so we also need the `!important` here to be able to override the default hidden behavior on the sphinx rendered scikit-learn.org. See: https://github.com/scikit-learn/scikit-learn/issues/21755 */display: inline-block !important;position: relative;}#sk-container-id-3 div.sk-text-repr-fallback {display: none;}</style><div id=\"sk-container-id-3\" class=\"sk-top-container\"><div class=\"sk-text-repr-fallback\"><pre>LogisticRegression(max_iter=10000)</pre><b>In a Jupyter environment, please rerun this cell to show the HTML representation or trust the notebook. <br />On GitHub, the HTML representation is unable to render, please try loading this page with nbviewer.org.</b></div><div class=\"sk-container\" hidden><div class=\"sk-item\"><div class=\"sk-estimator sk-toggleable\"><input class=\"sk-toggleable__control sk-hidden--visually\" id=\"sk-estimator-id-3\" type=\"checkbox\" checked><label for=\"sk-estimator-id-3\" class=\"sk-toggleable__label sk-toggleable__label-arrow\">LogisticRegression</label><div class=\"sk-toggleable__content\"><pre>LogisticRegression(max_iter=10000)</pre></div></div></div></div></div>"
      ],
      "text/plain": [
       "LogisticRegression(max_iter=10000)"
      ]
     },
     "execution_count": 114,
     "metadata": {},
     "output_type": "execute_result"
    }
   ],
   "source": [
    "logmod1 = LogisticRegression(max_iter=10000)\n",
    "logmod1.fit(X_train.drop(['V12','V24'],axis=1), y_train)"
   ]
  },
  {
   "cell_type": "code",
   "execution_count": 116,
   "id": "1718b09b-6608-4d4f-a50f-c7d25e5a55f0",
   "metadata": {},
   "outputs": [],
   "source": [
    "predictions_lgtest1 = logmod1.predict(X_test.drop(['V12','V24'],axis=1))"
   ]
  },
  {
   "cell_type": "code",
   "execution_count": 118,
   "id": "61b11222-19e8-47db-9ff0-4cb91dbef4dd",
   "metadata": {},
   "outputs": [
    {
     "name": "stdout",
     "output_type": "stream",
     "text": [
      "Logistic Regression\n",
      "\n",
      "\n",
      "[[84966    16]\n",
      " [   55    81]]\n",
      "\n",
      "\n",
      "              precision    recall  f1-score   support\n",
      "\n",
      "           0       1.00      1.00      1.00     84982\n",
      "           1       0.84      0.60      0.70       136\n",
      "\n",
      "    accuracy                           1.00     85118\n",
      "   macro avg       0.92      0.80      0.85     85118\n",
      "weighted avg       1.00      1.00      1.00     85118\n",
      "\n"
     ]
    }
   ],
   "source": [
    "print('Logistic Regression')\n",
    "print('\\n')\n",
    "print(confusion_matrix(y_test, predictions_lgtest1))\n",
    "print('\\n')\n",
    "print(classification_report(y_test, predictions_lgtest1))"
   ]
  },
  {
   "cell_type": "code",
   "execution_count": 122,
   "id": "79809d3c-ba95-4a1d-a824-ff29266b9b06",
   "metadata": {},
   "outputs": [
    {
     "data": {
      "image/png": "[encoded data removed]",
      "text/plain": [
       "<Figure size 640x480 with 1 Axes>"
      ]
     },
     "metadata": {},
     "output_type": "display_data"
    }
   ],
   "source": [
    "y_pred_proba = logmod1.predict_proba(X_test.drop(['V12','V24'],axis=1))[::,1]\n",
    "fpr, tpr, _ = roc_curve(y_test,  y_pred_proba)\n",
    "auc = roc_auc_score(y_test, y_pred_proba)\n",
    "plt.plot(fpr,tpr,label=\"Logistic Regression on Original Data, auc=\"+str(auc))\n",
    "plt.xlabel('False Positive Rate')\n",
    "plt.ylabel('True Positive Rate')\n",
    "plt.legend(loc=4)\n",
    "plt.savefig('../assets/ROC_CURVE_logmod1.png')\n",
    "plt.show()"
   ]
  },
  {
   "cell_type": "markdown",
   "id": "e10ecfb3-cc35-475e-8387-a944ac2c0f58",
   "metadata": {},
   "source": [
    "#### Logistic Regression with SMOTE Resampling"
   ]
  },
  {
   "cell_type": "code",
   "execution_count": 106,
   "id": "620a3cca-54aa-4d77-8ebb-401afd5d2cfc",
   "metadata": {},
   "outputs": [
    {
     "data": {
      "text/html": [
       "<style>#sk-container-id-2 {color: black;background-color: white;}#sk-container-id-2 pre{padding: 0;}#sk-container-id-2 div.sk-toggleable {background-color: white;}#sk-container-id-2 label.sk-toggleable__label {cursor: pointer;display: block;width: 100%;margin-bottom: 0;padding: 0.3em;box-sizing: border-box;text-align: center;}#sk-container-id-2 label.sk-toggleable__label-arrow:before {content: \"▸\";float: left;margin-right: 0.25em;color: #696969;}#sk-container-id-2 label.sk-toggleable__label-arrow:hover:before {color: black;}#sk-container-id-2 div.sk-estimator:hover label.sk-toggleable__label-arrow:before {color: black;}#sk-container-id-2 div.sk-toggleable__content {max-height: 0;max-width: 0;overflow: hidden;text-align: left;background-color: #f0f8ff;}#sk-container-id-2 div.sk-toggleable__content pre {margin: 0.2em;color: black;border-radius: 0.25em;background-color: #f0f8ff;}#sk-container-id-2 input.sk-toggleable__control:checked~div.sk-toggleable__content {max-height: 200px;max-width: 100%;overflow: auto;}#sk-container-id-2 input.sk-toggleable__control:checked~label.sk-toggleable__label-arrow:before {content: \"▾\";}#sk-container-id-2 div.sk-estimator input.sk-toggleable__control:checked~label.sk-toggleable__label {background-color: #d4ebff;}#sk-container-id-2 div.sk-label input.sk-toggleable__control:checked~label.sk-toggleable__label {background-color: #d4ebff;}#sk-container-id-2 input.sk-hidden--visually {border: 0;clip: rect(1px 1px 1px 1px);clip: rect(1px, 1px, 1px, 1px);height: 1px;margin: -1px;overflow: hidden;padding: 0;position: absolute;width: 1px;}#sk-container-id-2 div.sk-estimator {font-family: monospace;background-color: #f0f8ff;border: 1px dotted black;border-radius: 0.25em;box-sizing: border-box;margin-bottom: 0.5em;}#sk-container-id-2 div.sk-estimator:hover {background-color: #d4ebff;}#sk-container-id-2 div.sk-parallel-item::after {content: \"\";width: 100%;border-bottom: 1px solid gray;flex-grow: 1;}#sk-container-id-2 div.sk-label:hover label.sk-toggleable__label {background-color: #d4ebff;}#sk-container-id-2 div.sk-serial::before {content: \"\";position: absolute;border-left: 1px solid gray;box-sizing: border-box;top: 0;bottom: 0;left: 50%;z-index: 0;}#sk-container-id-2 div.sk-serial {display: flex;flex-direction: column;align-items: center;background-color: white;padding-right: 0.2em;padding-left: 0.2em;position: relative;}#sk-container-id-2 div.sk-item {position: relative;z-index: 1;}#sk-container-id-2 div.sk-parallel {display: flex;align-items: stretch;justify-content: center;background-color: white;position: relative;}#sk-container-id-2 div.sk-item::before, #sk-container-id-2 div.sk-parallel-item::before {content: \"\";position: absolute;border-left: 1px solid gray;box-sizing: border-box;top: 0;bottom: 0;left: 50%;z-index: -1;}#sk-container-id-2 div.sk-parallel-item {display: flex;flex-direction: column;z-index: 1;position: relative;background-color: white;}#sk-container-id-2 div.sk-parallel-item:first-child::after {align-self: flex-end;width: 50%;}#sk-container-id-2 div.sk-parallel-item:last-child::after {align-self: flex-start;width: 50%;}#sk-container-id-2 div.sk-parallel-item:only-child::after {width: 0;}#sk-container-id-2 div.sk-dashed-wrapped {border: 1px dashed gray;margin: 0 0.4em 0.5em 0.4em;box-sizing: border-box;padding-bottom: 0.4em;background-color: white;}#sk-container-id-2 div.sk-label label {font-family: monospace;font-weight: bold;display: inline-block;line-height: 1.2em;}#sk-container-id-2 div.sk-label-container {text-align: center;}#sk-container-id-2 div.sk-container {/* jupyter's `normalize.less` sets `[hidden] { display: none; }` but bootstrap.min.css set `[hidden] { display: none !important; }` so we also need the `!important` here to be able to override the default hidden behavior on the sphinx rendered scikit-learn.org. See: https://github.com/scikit-learn/scikit-learn/issues/21755 */display: inline-block !important;position: relative;}#sk-container-id-2 div.sk-text-repr-fallback {display: none;}</style><div id=\"sk-container-id-2\" class=\"sk-top-container\"><div class=\"sk-text-repr-fallback\"><pre>LogisticRegression(max_iter=10000)</pre><b>In a Jupyter environment, please rerun this cell to show the HTML representation or trust the notebook. <br />On GitHub, the HTML representation is unable to render, please try loading this page with nbviewer.org.</b></div><div class=\"sk-container\" hidden><div class=\"sk-item\"><div class=\"sk-estimator sk-toggleable\"><input class=\"sk-toggleable__control sk-hidden--visually\" id=\"sk-estimator-id-2\" type=\"checkbox\" checked><label for=\"sk-estimator-id-2\" class=\"sk-toggleable__label sk-toggleable__label-arrow\">LogisticRegression</label><div class=\"sk-toggleable__content\"><pre>LogisticRegression(max_iter=10000)</pre></div></div></div></div></div>"
      ],
      "text/plain": [
       "LogisticRegression(max_iter=10000)"
      ]
     },
     "execution_count": 106,
     "metadata": {},
     "output_type": "execute_result"
    }
   ],
   "source": [
    "logmod2 = LogisticRegression(max_iter=10000)\n",
    "logmod2.fit(X_train2, y_train2)"
   ]
  },
  {
   "cell_type": "code",
   "execution_count": 209,
   "id": "030931aa-3e98-47a4-a10e-e9d0312c523f",
   "metadata": {},
   "outputs": [],
   "source": [
    "predictions_lgtest2 = logmod2.predict(X_test2)\n",
    "predictions_lgtrain2 = logmod2.predict(X_train2)"
   ]
  },
  {
   "cell_type": "code",
   "execution_count": 210,
   "id": "3849b937-586d-484d-aee9-5352ac9b2793",
   "metadata": {},
   "outputs": [
    {
     "name": "stdout",
     "output_type": "stream",
     "text": [
      "Logistic Regression using SMOTE Resampling\n",
      "Train\n",
      "[[194646   3466]\n",
      " [  7557 190885]]\n",
      "\n",
      "\n",
      "              precision    recall  f1-score   support\n",
      "\n",
      "           0       0.96      0.98      0.97    198112\n",
      "           1       0.98      0.96      0.97    198442\n",
      "\n",
      "    accuracy                           0.97    396554\n",
      "   macro avg       0.97      0.97      0.97    396554\n",
      "weighted avg       0.97      0.97      0.97    396554\n",
      "\n",
      "\n",
      "\n",
      "Test\n",
      "[[83683  1458]\n",
      " [ 3306 81505]]\n",
      "\n",
      "\n",
      "              precision    recall  f1-score   support\n",
      "\n",
      "           0       0.96      0.98      0.97     85141\n",
      "           1       0.98      0.96      0.97     84811\n",
      "\n",
      "    accuracy                           0.97    169952\n",
      "   macro avg       0.97      0.97      0.97    169952\n",
      "weighted avg       0.97      0.97      0.97    169952\n",
      "\n"
     ]
    }
   ],
   "source": [
    "print('Logistic Regression using SMOTE Resampling')\n",
    "print(confusion_matrix(y_test2, predictions_lgtest2))\n",
    "print('\\n')\n",
    "print(classification_report(y_test2, predictions_lgtest2))"
   ]
  },
  {
   "cell_type": "markdown",
   "id": "51e2afe4-0d5d-4715-8e5f-fa0d48211fcc",
   "metadata": {},
   "source": [
    "#### Logistics Regression with ADASYN Resampling"
   ]
  },
  {
   "cell_type": "code",
   "execution_count": 214,
   "id": "ce26f26a-66c0-42a4-b65e-d31b5214a3d5",
   "metadata": {},
   "outputs": [
    {
     "data": {
      "text/html": [
       "<style>#sk-container-id-6 {color: black;background-color: white;}#sk-container-id-6 pre{padding: 0;}#sk-container-id-6 div.sk-toggleable {background-color: white;}#sk-container-id-6 label.sk-toggleable__label {cursor: pointer;display: block;width: 100%;margin-bottom: 0;padding: 0.3em;box-sizing: border-box;text-align: center;}#sk-container-id-6 label.sk-toggleable__label-arrow:before {content: \"▸\";float: left;margin-right: 0.25em;color: #696969;}#sk-container-id-6 label.sk-toggleable__label-arrow:hover:before {color: black;}#sk-container-id-6 div.sk-estimator:hover label.sk-toggleable__label-arrow:before {color: black;}#sk-container-id-6 div.sk-toggleable__content {max-height: 0;max-width: 0;overflow: hidden;text-align: left;background-color: #f0f8ff;}#sk-container-id-6 div.sk-toggleable__content pre {margin: 0.2em;color: black;border-radius: 0.25em;background-color: #f0f8ff;}#sk-container-id-6 input.sk-toggleable__control:checked~div.sk-toggleable__content {max-height: 200px;max-width: 100%;overflow: auto;}#sk-container-id-6 input.sk-toggleable__control:checked~label.sk-toggleable__label-arrow:before {content: \"▾\";}#sk-container-id-6 div.sk-estimator input.sk-toggleable__control:checked~label.sk-toggleable__label {background-color: #d4ebff;}#sk-container-id-6 div.sk-label input.sk-toggleable__control:checked~label.sk-toggleable__label {background-color: #d4ebff;}#sk-container-id-6 input.sk-hidden--visually {border: 0;clip: rect(1px 1px 1px 1px);clip: rect(1px, 1px, 1px, 1px);height: 1px;margin: -1px;overflow: hidden;padding: 0;position: absolute;width: 1px;}#sk-container-id-6 div.sk-estimator {font-family: monospace;background-color: #f0f8ff;border: 1px dotted black;border-radius: 0.25em;box-sizing: border-box;margin-bottom: 0.5em;}#sk-container-id-6 div.sk-estimator:hover {background-color: #d4ebff;}#sk-container-id-6 div.sk-parallel-item::after {content: \"\";width: 100%;border-bottom: 1px solid gray;flex-grow: 1;}#sk-container-id-6 div.sk-label:hover label.sk-toggleable__label {background-color: #d4ebff;}#sk-container-id-6 div.sk-serial::before {content: \"\";position: absolute;border-left: 1px solid gray;box-sizing: border-box;top: 0;bottom: 0;left: 50%;z-index: 0;}#sk-container-id-6 div.sk-serial {display: flex;flex-direction: column;align-items: center;background-color: white;padding-right: 0.2em;padding-left: 0.2em;position: relative;}#sk-container-id-6 div.sk-item {position: relative;z-index: 1;}#sk-container-id-6 div.sk-parallel {display: flex;align-items: stretch;justify-content: center;background-color: white;position: relative;}#sk-container-id-6 div.sk-item::before, #sk-container-id-6 div.sk-parallel-item::before {content: \"\";position: absolute;border-left: 1px solid gray;box-sizing: border-box;top: 0;bottom: 0;left: 50%;z-index: -1;}#sk-container-id-6 div.sk-parallel-item {display: flex;flex-direction: column;z-index: 1;position: relative;background-color: white;}#sk-container-id-6 div.sk-parallel-item:first-child::after {align-self: flex-end;width: 50%;}#sk-container-id-6 div.sk-parallel-item:last-child::after {align-self: flex-start;width: 50%;}#sk-container-id-6 div.sk-parallel-item:only-child::after {width: 0;}#sk-container-id-6 div.sk-dashed-wrapped {border: 1px dashed gray;margin: 0 0.4em 0.5em 0.4em;box-sizing: border-box;padding-bottom: 0.4em;background-color: white;}#sk-container-id-6 div.sk-label label {font-family: monospace;font-weight: bold;display: inline-block;line-height: 1.2em;}#sk-container-id-6 div.sk-label-container {text-align: center;}#sk-container-id-6 div.sk-container {/* jupyter's `normalize.less` sets `[hidden] { display: none; }` but bootstrap.min.css set `[hidden] { display: none !important; }` so we also need the `!important` here to be able to override the default hidden behavior on the sphinx rendered scikit-learn.org. See: https://github.com/scikit-learn/scikit-learn/issues/21755 */display: inline-block !important;position: relative;}#sk-container-id-6 div.sk-text-repr-fallback {display: none;}</style><div id=\"sk-container-id-6\" class=\"sk-top-container\"><div class=\"sk-text-repr-fallback\"><pre>LogisticRegression(max_iter=10000)</pre><b>In a Jupyter environment, please rerun this cell to show the HTML representation or trust the notebook. <br />On GitHub, the HTML representation is unable to render, please try loading this page with nbviewer.org.</b></div><div class=\"sk-container\" hidden><div class=\"sk-item\"><div class=\"sk-estimator sk-toggleable\"><input class=\"sk-toggleable__control sk-hidden--visually\" id=\"sk-estimator-id-6\" type=\"checkbox\" checked><label for=\"sk-estimator-id-6\" class=\"sk-toggleable__label sk-toggleable__label-arrow\">LogisticRegression</label><div class=\"sk-toggleable__content\"><pre>LogisticRegression(max_iter=10000)</pre></div></div></div></div></div>"
      ],
      "text/plain": [
       "LogisticRegression(max_iter=10000)"
      ]
     },
     "execution_count": 214,
     "metadata": {},
     "output_type": "execute_result"
    }
   ],
   "source": [
    "logmod3 = LogisticRegression(max_iter=10000)\n",
    "logmod3.fit(X_train3, y_train3)"
   ]
  },
  {
   "cell_type": "code",
   "execution_count": 215,
   "id": "e85b181d-87a4-44fa-b8b9-72a1c6a8386c",
   "metadata": {},
   "outputs": [],
   "source": [
    "predictions_lgtest3 = logmod2.predict(X_test3)\n",
    "predictions_lgtrain3 = logmod2.predict(X_train3)"
   ]
  },
  {
   "cell_type": "code",
   "execution_count": 218,
   "id": "37fe79b6-aa8a-411b-a299-19d6464465d6",
   "metadata": {},
   "outputs": [
    {
     "name": "stdout",
     "output_type": "stream",
     "text": [
      "Logistic Regression using ADASYN Resampling\n",
      "Train\n",
      "[[194498   3452]\n",
      " [  7851 190785]]\n",
      "\n",
      "\n",
      "              precision    recall  f1-score   support\n",
      "\n",
      "           0       0.96      0.98      0.97    197950\n",
      "           1       0.98      0.96      0.97    198636\n",
      "\n",
      "    accuracy                           0.97    396586\n",
      "   macro avg       0.97      0.97      0.97    396586\n",
      "weighted avg       0.97      0.97      0.97    396586\n",
      "\n",
      "\n",
      "\n",
      "Test\n",
      "[[83831  1472]\n",
      " [ 3487 81176]]\n",
      "\n",
      "\n",
      "              precision    recall  f1-score   support\n",
      "\n",
      "           0       0.96      0.98      0.97     85303\n",
      "           1       0.98      0.96      0.97     84663\n",
      "\n",
      "    accuracy                           0.97    169966\n",
      "   macro avg       0.97      0.97      0.97    169966\n",
      "weighted avg       0.97      0.97      0.97    169966\n",
      "\n"
     ]
    }
   ],
   "source": [
    "print('Logistic Regression using ADASYN Resampling')\n",
    "print(confusion_matrix(y_test3, predictions_lgtest3))\n",
    "print('\\n')\n",
    "print(classification_report(y_test3, predictions_lgtest3))"
   ]
  },
  {
   "cell_type": "markdown",
   "id": "a9ed34b6-98f4-472c-bf95-15e068fcd8b0",
   "metadata": {},
   "source": [
    "<br/><br/><br/><br/>\n",
    "### Decision Trees\n",
    "Decision trees that use boosting algorithms were used when fitting the data as they deal with bias variance trade-off, unliking bagging/ensembling algorithms which controls high variance in a model. However, a disadvantage of boosting algorithms is that they are prone to overfitting.\n",
    "\n",
    "When fitting the data a grid search was performed to prevent overfitting by controlling model complexity."
   ]
  },
  {
   "cell_type": "code",
   "execution_count": 384,
   "id": "33f4a60b-b255-47a4-ace0-8d195c39ec2e",
   "metadata": {},
   "outputs": [],
   "source": [
    "from xgboost import XGBClassifier\n",
    "from sklearn.model_selection import GridSearchCV\n",
    "from sklearn.metrics import accuracy_score"
   ]
  },
  {
   "cell_type": "code",
   "execution_count": 404,
   "id": "ee500085-91a9-46c9-b367-1f4e435206c9",
   "metadata": {},
   "outputs": [
    {
     "name": "stdout",
     "output_type": "stream",
     "text": [
      "Fitting 5 folds for each of 18 candidates, totalling 90 fits\n"
     ]
    },
    {
     "data": {
      "text/html": [
       "<style>#sk-container-id-12 {color: black;background-color: white;}#sk-container-id-12 pre{padding: 0;}#sk-container-id-12 div.sk-toggleable {background-color: white;}#sk-container-id-12 label.sk-toggleable__label {cursor: pointer;display: block;width: 100%;margin-bottom: 0;padding: 0.3em;box-sizing: border-box;text-align: center;}#sk-container-id-12 label.sk-toggleable__label-arrow:before {content: \"▸\";float: left;margin-right: 0.25em;color: #696969;}#sk-container-id-12 label.sk-toggleable__label-arrow:hover:before {color: black;}#sk-container-id-12 div.sk-estimator:hover label.sk-toggleable__label-arrow:before {color: black;}#sk-container-id-12 div.sk-toggleable__content {max-height: 0;max-width: 0;overflow: hidden;text-align: left;background-color: #f0f8ff;}#sk-container-id-12 div.sk-toggleable__content pre {margin: 0.2em;color: black;border-radius: 0.25em;background-color: #f0f8ff;}#sk-container-id-12 input.sk-toggleable__control:checked~div.sk-toggleable__content {max-height: 200px;max-width: 100%;overflow: auto;}#sk-container-id-12 input.sk-toggleable__control:checked~label.sk-toggleable__label-arrow:before {content: \"▾\";}#sk-container-id-12 div.sk-estimator input.sk-toggleable__control:checked~label.sk-toggleable__label {background-color: #d4ebff;}#sk-container-id-12 div.sk-label input.sk-toggleable__control:checked~label.sk-toggleable__label {background-color: #d4ebff;}#sk-container-id-12 input.sk-hidden--visually {border: 0;clip: rect(1px 1px 1px 1px);clip: rect(1px, 1px, 1px, 1px);height: 1px;margin: -1px;overflow: hidden;padding: 0;position: absolute;width: 1px;}#sk-container-id-12 div.sk-estimator {font-family: monospace;background-color: #f0f8ff;border: 1px dotted black;border-radius: 0.25em;box-sizing: border-box;margin-bottom: 0.5em;}#sk-container-id-12 div.sk-estimator:hover {background-color: #d4ebff;}#sk-container-id-12 div.sk-parallel-item::after {content: \"\";width: 100%;border-bottom: 1px solid gray;flex-grow: 1;}#sk-container-id-12 div.sk-label:hover label.sk-toggleable__label {background-color: #d4ebff;}#sk-container-id-12 div.sk-serial::before {content: \"\";position: absolute;border-left: 1px solid gray;box-sizing: border-box;top: 0;bottom: 0;left: 50%;z-index: 0;}#sk-container-id-12 div.sk-serial {display: flex;flex-direction: column;align-items: center;background-color: white;padding-right: 0.2em;padding-left: 0.2em;position: relative;}#sk-container-id-12 div.sk-item {position: relative;z-index: 1;}#sk-container-id-12 div.sk-parallel {display: flex;align-items: stretch;justify-content: center;background-color: white;position: relative;}#sk-container-id-12 div.sk-item::before, #sk-container-id-12 div.sk-parallel-item::before {content: \"\";position: absolute;border-left: 1px solid gray;box-sizing: border-box;top: 0;bottom: 0;left: 50%;z-index: -1;}#sk-container-id-12 div.sk-parallel-item {display: flex;flex-direction: column;z-index: 1;position: relative;background-color: white;}#sk-container-id-12 div.sk-parallel-item:first-child::after {align-self: flex-end;width: 50%;}#sk-container-id-12 div.sk-parallel-item:last-child::after {align-self: flex-start;width: 50%;}#sk-container-id-12 div.sk-parallel-item:only-child::after {width: 0;}#sk-container-id-12 div.sk-dashed-wrapped {border: 1px dashed gray;margin: 0 0.4em 0.5em 0.4em;box-sizing: border-box;padding-bottom: 0.4em;background-color: white;}#sk-container-id-12 div.sk-label label {font-family: monospace;font-weight: bold;display: inline-block;line-height: 1.2em;}#sk-container-id-12 div.sk-label-container {text-align: center;}#sk-container-id-12 div.sk-container {/* jupyter's `normalize.less` sets `[hidden] { display: none; }` but bootstrap.min.css set `[hidden] { display: none !important; }` so we also need the `!important` here to be able to override the default hidden behavior on the sphinx rendered scikit-learn.org. See: https://github.com/scikit-learn/scikit-learn/issues/21755 */display: inline-block !important;position: relative;}#sk-container-id-12 div.sk-text-repr-fallback {display: none;}</style><div id=\"sk-container-id-12\" class=\"sk-top-container\"><div class=\"sk-text-repr-fallback\"><pre>GridSearchCV(cv=5,\n",
       "             estimator=XGBClassifier(base_score=None, booster=None,\n",
       "                                     callbacks=None, colsample_bylevel=None,\n",
       "                                     colsample_bynode=None,\n",
       "                                     colsample_bytree=None, device=None,\n",
       "                                     early_stopping_rounds=None,\n",
       "                                     enable_categorical=False,\n",
       "                                     eval_metric=&#x27;logloss&#x27;, feature_types=None,\n",
       "                                     gamma=None, grow_policy=None,\n",
       "                                     importance_type=None,\n",
       "                                     interaction_constraints=None,\n",
       "                                     learning_rate=...\n",
       "                                     max_cat_to_onehot=None,\n",
       "                                     max_delta_step=None, max_depth=None,\n",
       "                                     max_leaves=None, min_child_weight=None,\n",
       "                                     missing=nan, monotone_constraints=None,\n",
       "                                     multi_strategy=None, n_estimators=None,\n",
       "                                     n_jobs=None, num_parallel_tree=None,\n",
       "                                     random_state=46, ...),\n",
       "             n_jobs=-1,\n",
       "             param_grid={&#x27;learning_rate&#x27;: [0.01, 0.1],\n",
       "                         &#x27;max_depth&#x27;: [10, 15, 20],\n",
       "                         &#x27;n_estimators&#x27;: [100, 200, 300]},\n",
       "             scoring=&#x27;accuracy&#x27;, verbose=1)</pre><b>In a Jupyter environment, please rerun this cell to show the HTML representation or trust the notebook. <br />On GitHub, the HTML representation is unable to render, please try loading this page with nbviewer.org.</b></div><div class=\"sk-container\" hidden><div class=\"sk-item sk-dashed-wrapped\"><div class=\"sk-label-container\"><div class=\"sk-label sk-toggleable\"><input class=\"sk-toggleable__control sk-hidden--visually\" id=\"sk-estimator-id-22\" type=\"checkbox\" ><label for=\"sk-estimator-id-22\" class=\"sk-toggleable__label sk-toggleable__label-arrow\">GridSearchCV</label><div class=\"sk-toggleable__content\"><pre>GridSearchCV(cv=5,\n",
       "             estimator=XGBClassifier(base_score=None, booster=None,\n",
       "                                     callbacks=None, colsample_bylevel=None,\n",
       "                                     colsample_bynode=None,\n",
       "                                     colsample_bytree=None, device=None,\n",
       "                                     early_stopping_rounds=None,\n",
       "                                     enable_categorical=False,\n",
       "                                     eval_metric=&#x27;logloss&#x27;, feature_types=None,\n",
       "                                     gamma=None, grow_policy=None,\n",
       "                                     importance_type=None,\n",
       "                                     interaction_constraints=None,\n",
       "                                     learning_rate=...\n",
       "                                     max_cat_to_onehot=None,\n",
       "                                     max_delta_step=None, max_depth=None,\n",
       "                                     max_leaves=None, min_child_weight=None,\n",
       "                                     missing=nan, monotone_constraints=None,\n",
       "                                     multi_strategy=None, n_estimators=None,\n",
       "                                     n_jobs=None, num_parallel_tree=None,\n",
       "                                     random_state=46, ...),\n",
       "             n_jobs=-1,\n",
       "             param_grid={&#x27;learning_rate&#x27;: [0.01, 0.1],\n",
       "                         &#x27;max_depth&#x27;: [10, 15, 20],\n",
       "                         &#x27;n_estimators&#x27;: [100, 200, 300]},\n",
       "             scoring=&#x27;accuracy&#x27;, verbose=1)</pre></div></div></div><div class=\"sk-parallel\"><div class=\"sk-parallel-item\"><div class=\"sk-item\"><div class=\"sk-label-container\"><div class=\"sk-label sk-toggleable\"><input class=\"sk-toggleable__control sk-hidden--visually\" id=\"sk-estimator-id-23\" type=\"checkbox\" ><label for=\"sk-estimator-id-23\" class=\"sk-toggleable__label sk-toggleable__label-arrow\">estimator: XGBClassifier</label><div class=\"sk-toggleable__content\"><pre>XGBClassifier(base_score=None, booster=None, callbacks=None,\n",
       "              colsample_bylevel=None, colsample_bynode=None,\n",
       "              colsample_bytree=None, device=None, early_stopping_rounds=None,\n",
       "              enable_categorical=False, eval_metric=&#x27;logloss&#x27;,\n",
       "              feature_types=None, gamma=None, grow_policy=None,\n",
       "              importance_type=None, interaction_constraints=None,\n",
       "              learning_rate=None, max_bin=None, max_cat_threshold=None,\n",
       "              max_cat_to_onehot=None, max_delta_step=None, max_depth=None,\n",
       "              max_leaves=None, min_child_weight=None, missing=nan,\n",
       "              monotone_constraints=None, multi_strategy=None, n_estimators=None,\n",
       "              n_jobs=None, num_parallel_tree=None, random_state=46, ...)</pre></div></div></div><div class=\"sk-serial\"><div class=\"sk-item\"><div class=\"sk-estimator sk-toggleable\"><input class=\"sk-toggleable__control sk-hidden--visually\" id=\"sk-estimator-id-24\" type=\"checkbox\" ><label for=\"sk-estimator-id-24\" class=\"sk-toggleable__label sk-toggleable__label-arrow\">XGBClassifier</label><div class=\"sk-toggleable__content\"><pre>XGBClassifier(base_score=None, booster=None, callbacks=None,\n",
       "              colsample_bylevel=None, colsample_bynode=None,\n",
       "              colsample_bytree=None, device=None, early_stopping_rounds=None,\n",
       "              enable_categorical=False, eval_metric=&#x27;logloss&#x27;,\n",
       "              feature_types=None, gamma=None, grow_policy=None,\n",
       "              importance_type=None, interaction_constraints=None,\n",
       "              learning_rate=None, max_bin=None, max_cat_threshold=None,\n",
       "              max_cat_to_onehot=None, max_delta_step=None, max_depth=None,\n",
       "              max_leaves=None, min_child_weight=None, missing=nan,\n",
       "              monotone_constraints=None, multi_strategy=None, n_estimators=None,\n",
       "              n_jobs=None, num_parallel_tree=None, random_state=46, ...)</pre></div></div></div></div></div></div></div></div></div></div>"
      ],
      "text/plain": [
       "GridSearchCV(cv=5,\n",
       "             estimator=XGBClassifier(base_score=None, booster=None,\n",
       "                                     callbacks=None, colsample_bylevel=None,\n",
       "                                     colsample_bynode=None,\n",
       "                                     colsample_bytree=None, device=None,\n",
       "                                     early_stopping_rounds=None,\n",
       "                                     enable_categorical=False,\n",
       "                                     eval_metric='logloss', feature_types=None,\n",
       "                                     gamma=None, grow_policy=None,\n",
       "                                     importance_type=None,\n",
       "                                     interaction_constraints=None,\n",
       "                                     learning_rate=...\n",
       "                                     max_cat_to_onehot=None,\n",
       "                                     max_delta_step=None, max_depth=None,\n",
       "                                     max_leaves=None, min_child_weight=None,\n",
       "                                     missing=nan, monotone_constraints=None,\n",
       "                                     multi_strategy=None, n_estimators=None,\n",
       "                                     n_jobs=None, num_parallel_tree=None,\n",
       "                                     random_state=46, ...),\n",
       "             n_jobs=-1,\n",
       "             param_grid={'learning_rate': [0.01, 0.1],\n",
       "                         'max_depth': [10, 15, 20],\n",
       "                         'n_estimators': [100, 200, 300]},\n",
       "             scoring='accuracy', verbose=1)"
      ]
     },
     "execution_count": 404,
     "metadata": {},
     "output_type": "execute_result"
    }
   ],
   "source": [
    "tree = XGBClassifier(eval_metric='logloss', random_state=46)\n",
    "\n",
    "param_grid = { # This will be used for all samples\n",
    "    'n_estimators': [100, 200, 300], # number of sequential trees to be modeled\n",
    "    'max_depth': [10, 15, 20], # maximum depth of the individual regression estimators\n",
    "    'learning_rate': [0.01, 0.1]\n",
    "}\n",
    "\n",
    "grid_search_tree = GridSearchCV(\n",
    "    estimator=tree,\n",
    "    param_grid=param_grid,\n",
    "    cv=5,  # 5-fold cross-validation\n",
    "    scoring='accuracy',  # Metric to optimize\n",
    "    n_jobs=-1,  # Use all processors\n",
    "    verbose=1\n",
    ")\n",
    "\n",
    "grid_search_tree.fit(X_train, y_train)"
   ]
  },
  {
   "cell_type": "code",
   "execution_count": 405,
   "id": "f4bc9b27-f02d-47fa-a8e9-674a990c1f4f",
   "metadata": {},
   "outputs": [
    {
     "name": "stdout",
     "output_type": "stream",
     "text": [
      "Best Hyperparameters: {'learning_rate': 0.1, 'max_depth': 10, 'n_estimators': 300}\n"
     ]
    }
   ],
   "source": [
    "print(\"Best Hyperparameters:\", grid_search_tree.best_params_)\n",
    "best_tree = grid_search_tree.best_estimator_"
   ]
  },
  {
   "cell_type": "code",
   "execution_count": 406,
   "id": "82f85f44-d625-4361-bc78-d1f072994fad",
   "metadata": {},
   "outputs": [
    {
     "name": "stdout",
     "output_type": "stream",
     "text": [
      "Train Accuracy: 1.0\n",
      "Test Accuracy: 0.999530064146244\n"
     ]
    }
   ],
   "source": [
    "predictions_tree_train = best_tree.predict(X_train)\n",
    "print('Train Accuracy:', accuracy_score(y_train, predictions_tree_train))\n",
    "\n",
    "predictions_tree_test = best_tree.predict(X_test)\n",
    "print(\"Test Accuracy:\", accuracy_score(y_test, predictions_tree_test))"
   ]
  },
  {
   "cell_type": "code",
   "execution_count": 407,
   "id": "a79e3f10-02c7-4bc7-b19d-dd00d21b6356",
   "metadata": {},
   "outputs": [
    {
     "name": "stdout",
     "output_type": "stream",
     "text": [
      "Gradient Boosting without Resampling\n",
      "Train\n",
      "[[198271      0]\n",
      " [     0    337]]\n",
      "\n",
      "\n",
      "              precision    recall  f1-score   support\n",
      "\n",
      "           0       1.00      1.00      1.00    198271\n",
      "           1       1.00      1.00      1.00       337\n",
      "\n",
      "    accuracy                           1.00    198608\n",
      "   macro avg       1.00      1.00      1.00    198608\n",
      "weighted avg       1.00      1.00      1.00    198608\n",
      "\n",
      "\n",
      "\n",
      "Test\n",
      "[[84972    10]\n",
      " [   30   106]]\n",
      "\n",
      "\n",
      "              precision    recall  f1-score   support\n",
      "\n",
      "           0       1.00      1.00      1.00     84982\n",
      "           1       0.91      0.78      0.84       136\n",
      "\n",
      "    accuracy                           1.00     85118\n",
      "   macro avg       0.96      0.89      0.92     85118\n",
      "weighted avg       1.00      1.00      1.00     85118\n",
      "\n"
     ]
    }
   ],
   "source": [
    "print('Gradient Boosting without Resampling')\n",
    "print(confusion_matrix(y_test, predictions_tree_test))\n",
    "print('\\n')\n",
    "print(classification_report(y_test, predictions_tree_test))"
   ]
  },
  {
   "cell_type": "markdown",
   "id": "370888f4-f55a-4724-93e0-7e401c0e2a08",
   "metadata": {},
   "source": [
    "##### With SMOTE Resampling"
   ]
  },
  {
   "cell_type": "code",
   "execution_count": 412,
   "id": "2ebe0c61-2dd3-4a29-898f-33a52abe9916",
   "metadata": {},
   "outputs": [
    {
     "name": "stdout",
     "output_type": "stream",
     "text": [
      "Fitting 5 folds for each of 18 candidates, totalling 90 fits\n"
     ]
    },
    {
     "data": {
      "text/html": [
       "<style>#sk-container-id-13 {color: black;background-color: white;}#sk-container-id-13 pre{padding: 0;}#sk-container-id-13 div.sk-toggleable {background-color: white;}#sk-container-id-13 label.sk-toggleable__label {cursor: pointer;display: block;width: 100%;margin-bottom: 0;padding: 0.3em;box-sizing: border-box;text-align: center;}#sk-container-id-13 label.sk-toggleable__label-arrow:before {content: \"▸\";float: left;margin-right: 0.25em;color: #696969;}#sk-container-id-13 label.sk-toggleable__label-arrow:hover:before {color: black;}#sk-container-id-13 div.sk-estimator:hover label.sk-toggleable__label-arrow:before {color: black;}#sk-container-id-13 div.sk-toggleable__content {max-height: 0;max-width: 0;overflow: hidden;text-align: left;background-color: #f0f8ff;}#sk-container-id-13 div.sk-toggleable__content pre {margin: 0.2em;color: black;border-radius: 0.25em;background-color: #f0f8ff;}#sk-container-id-13 input.sk-toggleable__control:checked~div.sk-toggleable__content {max-height: 200px;max-width: 100%;overflow: auto;}#sk-container-id-13 input.sk-toggleable__control:checked~label.sk-toggleable__label-arrow:before {content: \"▾\";}#sk-container-id-13 div.sk-estimator input.sk-toggleable__control:checked~label.sk-toggleable__label {background-color: #d4ebff;}#sk-container-id-13 div.sk-label input.sk-toggleable__control:checked~label.sk-toggleable__label {background-color: #d4ebff;}#sk-container-id-13 input.sk-hidden--visually {border: 0;clip: rect(1px 1px 1px 1px);clip: rect(1px, 1px, 1px, 1px);height: 1px;margin: -1px;overflow: hidden;padding: 0;position: absolute;width: 1px;}#sk-container-id-13 div.sk-estimator {font-family: monospace;background-color: #f0f8ff;border: 1px dotted black;border-radius: 0.25em;box-sizing: border-box;margin-bottom: 0.5em;}#sk-container-id-13 div.sk-estimator:hover {background-color: #d4ebff;}#sk-container-id-13 div.sk-parallel-item::after {content: \"\";width: 100%;border-bottom: 1px solid gray;flex-grow: 1;}#sk-container-id-13 div.sk-label:hover label.sk-toggleable__label {background-color: #d4ebff;}#sk-container-id-13 div.sk-serial::before {content: \"\";position: absolute;border-left: 1px solid gray;box-sizing: border-box;top: 0;bottom: 0;left: 50%;z-index: 0;}#sk-container-id-13 div.sk-serial {display: flex;flex-direction: column;align-items: center;background-color: white;padding-right: 0.2em;padding-left: 0.2em;position: relative;}#sk-container-id-13 div.sk-item {position: relative;z-index: 1;}#sk-container-id-13 div.sk-parallel {display: flex;align-items: stretch;justify-content: center;background-color: white;position: relative;}#sk-container-id-13 div.sk-item::before, #sk-container-id-13 div.sk-parallel-item::before {content: \"\";position: absolute;border-left: 1px solid gray;box-sizing: border-box;top: 0;bottom: 0;left: 50%;z-index: -1;}#sk-container-id-13 div.sk-parallel-item {display: flex;flex-direction: column;z-index: 1;position: relative;background-color: white;}#sk-container-id-13 div.sk-parallel-item:first-child::after {align-self: flex-end;width: 50%;}#sk-container-id-13 div.sk-parallel-item:last-child::after {align-self: flex-start;width: 50%;}#sk-container-id-13 div.sk-parallel-item:only-child::after {width: 0;}#sk-container-id-13 div.sk-dashed-wrapped {border: 1px dashed gray;margin: 0 0.4em 0.5em 0.4em;box-sizing: border-box;padding-bottom: 0.4em;background-color: white;}#sk-container-id-13 div.sk-label label {font-family: monospace;font-weight: bold;display: inline-block;line-height: 1.2em;}#sk-container-id-13 div.sk-label-container {text-align: center;}#sk-container-id-13 div.sk-container {/* jupyter's `normalize.less` sets `[hidden] { display: none; }` but bootstrap.min.css set `[hidden] { display: none !important; }` so we also need the `!important` here to be able to override the default hidden behavior on the sphinx rendered scikit-learn.org. See: https://github.com/scikit-learn/scikit-learn/issues/21755 */display: inline-block !important;position: relative;}#sk-container-id-13 div.sk-text-repr-fallback {display: none;}</style><div id=\"sk-container-id-13\" class=\"sk-top-container\"><div class=\"sk-text-repr-fallback\"><pre>GridSearchCV(cv=5,\n",
       "             estimator=XGBClassifier(base_score=None, booster=None,\n",
       "                                     callbacks=None, colsample_bylevel=None,\n",
       "                                     colsample_bynode=None,\n",
       "                                     colsample_bytree=None, device=None,\n",
       "                                     early_stopping_rounds=None,\n",
       "                                     enable_categorical=False,\n",
       "                                     eval_metric=&#x27;logloss&#x27;, feature_types=None,\n",
       "                                     gamma=None, grow_policy=None,\n",
       "                                     importance_type=None,\n",
       "                                     interaction_constraints=None,\n",
       "                                     learning_rate=...\n",
       "                                     max_cat_to_onehot=None,\n",
       "                                     max_delta_step=None, max_depth=None,\n",
       "                                     max_leaves=None, min_child_weight=None,\n",
       "                                     missing=nan, monotone_constraints=None,\n",
       "                                     multi_strategy=None, n_estimators=None,\n",
       "                                     n_jobs=None, num_parallel_tree=None,\n",
       "                                     random_state=46, ...),\n",
       "             n_jobs=-1,\n",
       "             param_grid={&#x27;learning_rate&#x27;: [0.01, 0.1],\n",
       "                         &#x27;max_depth&#x27;: [10, 15, 20],\n",
       "                         &#x27;n_estimators&#x27;: [100, 200, 300]},\n",
       "             scoring=&#x27;accuracy&#x27;, verbose=1)</pre><b>In a Jupyter environment, please rerun this cell to show the HTML representation or trust the notebook. <br />On GitHub, the HTML representation is unable to render, please try loading this page with nbviewer.org.</b></div><div class=\"sk-container\" hidden><div class=\"sk-item sk-dashed-wrapped\"><div class=\"sk-label-container\"><div class=\"sk-label sk-toggleable\"><input class=\"sk-toggleable__control sk-hidden--visually\" id=\"sk-estimator-id-25\" type=\"checkbox\" ><label for=\"sk-estimator-id-25\" class=\"sk-toggleable__label sk-toggleable__label-arrow\">GridSearchCV</label><div class=\"sk-toggleable__content\"><pre>GridSearchCV(cv=5,\n",
       "             estimator=XGBClassifier(base_score=None, booster=None,\n",
       "                                     callbacks=None, colsample_bylevel=None,\n",
       "                                     colsample_bynode=None,\n",
       "                                     colsample_bytree=None, device=None,\n",
       "                                     early_stopping_rounds=None,\n",
       "                                     enable_categorical=False,\n",
       "                                     eval_metric=&#x27;logloss&#x27;, feature_types=None,\n",
       "                                     gamma=None, grow_policy=None,\n",
       "                                     importance_type=None,\n",
       "                                     interaction_constraints=None,\n",
       "                                     learning_rate=...\n",
       "                                     max_cat_to_onehot=None,\n",
       "                                     max_delta_step=None, max_depth=None,\n",
       "                                     max_leaves=None, min_child_weight=None,\n",
       "                                     missing=nan, monotone_constraints=None,\n",
       "                                     multi_strategy=None, n_estimators=None,\n",
       "                                     n_jobs=None, num_parallel_tree=None,\n",
       "                                     random_state=46, ...),\n",
       "             n_jobs=-1,\n",
       "             param_grid={&#x27;learning_rate&#x27;: [0.01, 0.1],\n",
       "                         &#x27;max_depth&#x27;: [10, 15, 20],\n",
       "                         &#x27;n_estimators&#x27;: [100, 200, 300]},\n",
       "             scoring=&#x27;accuracy&#x27;, verbose=1)</pre></div></div></div><div class=\"sk-parallel\"><div class=\"sk-parallel-item\"><div class=\"sk-item\"><div class=\"sk-label-container\"><div class=\"sk-label sk-toggleable\"><input class=\"sk-toggleable__control sk-hidden--visually\" id=\"sk-estimator-id-26\" type=\"checkbox\" ><label for=\"sk-estimator-id-26\" class=\"sk-toggleable__label sk-toggleable__label-arrow\">estimator: XGBClassifier</label><div class=\"sk-toggleable__content\"><pre>XGBClassifier(base_score=None, booster=None, callbacks=None,\n",
       "              colsample_bylevel=None, colsample_bynode=None,\n",
       "              colsample_bytree=None, device=None, early_stopping_rounds=None,\n",
       "              enable_categorical=False, eval_metric=&#x27;logloss&#x27;,\n",
       "              feature_types=None, gamma=None, grow_policy=None,\n",
       "              importance_type=None, interaction_constraints=None,\n",
       "              learning_rate=None, max_bin=None, max_cat_threshold=None,\n",
       "              max_cat_to_onehot=None, max_delta_step=None, max_depth=None,\n",
       "              max_leaves=None, min_child_weight=None, missing=nan,\n",
       "              monotone_constraints=None, multi_strategy=None, n_estimators=None,\n",
       "              n_jobs=None, num_parallel_tree=None, random_state=46, ...)</pre></div></div></div><div class=\"sk-serial\"><div class=\"sk-item\"><div class=\"sk-estimator sk-toggleable\"><input class=\"sk-toggleable__control sk-hidden--visually\" id=\"sk-estimator-id-27\" type=\"checkbox\" ><label for=\"sk-estimator-id-27\" class=\"sk-toggleable__label sk-toggleable__label-arrow\">XGBClassifier</label><div class=\"sk-toggleable__content\"><pre>XGBClassifier(base_score=None, booster=None, callbacks=None,\n",
       "              colsample_bylevel=None, colsample_bynode=None,\n",
       "              colsample_bytree=None, device=None, early_stopping_rounds=None,\n",
       "              enable_categorical=False, eval_metric=&#x27;logloss&#x27;,\n",
       "              feature_types=None, gamma=None, grow_policy=None,\n",
       "              importance_type=None, interaction_constraints=None,\n",
       "              learning_rate=None, max_bin=None, max_cat_threshold=None,\n",
       "              max_cat_to_onehot=None, max_delta_step=None, max_depth=None,\n",
       "              max_leaves=None, min_child_weight=None, missing=nan,\n",
       "              monotone_constraints=None, multi_strategy=None, n_estimators=None,\n",
       "              n_jobs=None, num_parallel_tree=None, random_state=46, ...)</pre></div></div></div></div></div></div></div></div></div></div>"
      ],
      "text/plain": [
       "GridSearchCV(cv=5,\n",
       "             estimator=XGBClassifier(base_score=None, booster=None,\n",
       "                                     callbacks=None, colsample_bylevel=None,\n",
       "                                     colsample_bynode=None,\n",
       "                                     colsample_bytree=None, device=None,\n",
       "                                     early_stopping_rounds=None,\n",
       "                                     enable_categorical=False,\n",
       "                                     eval_metric='logloss', feature_types=None,\n",
       "                                     gamma=None, grow_policy=None,\n",
       "                                     importance_type=None,\n",
       "                                     interaction_constraints=None,\n",
       "                                     learning_rate=...\n",
       "                                     max_cat_to_onehot=None,\n",
       "                                     max_delta_step=None, max_depth=None,\n",
       "                                     max_leaves=None, min_child_weight=None,\n",
       "                                     missing=nan, monotone_constraints=None,\n",
       "                                     multi_strategy=None, n_estimators=None,\n",
       "                                     n_jobs=None, num_parallel_tree=None,\n",
       "                                     random_state=46, ...),\n",
       "             n_jobs=-1,\n",
       "             param_grid={'learning_rate': [0.01, 0.1],\n",
       "                         'max_depth': [10, 15, 20],\n",
       "                         'n_estimators': [100, 200, 300]},\n",
       "             scoring='accuracy', verbose=1)"
      ]
     },
     "execution_count": 412,
     "metadata": {},
     "output_type": "execute_result"
    }
   ],
   "source": [
    "tree_smote = XGBClassifier(eval_metric='logloss', random_state=46)\n",
    "\n",
    "grid_search_tree_smote = GridSearchCV(\n",
    "    estimator=tree_smote,\n",
    "    param_grid=param_grid,\n",
    "    cv=5,  # 5-fold cross-validation\n",
    "    scoring='accuracy',  # Metric to optimize\n",
    "    n_jobs=-1,  # Use all processors\n",
    "    verbose=1\n",
    ")\n",
    "\n",
    "grid_search_tree_smote.fit(X_train2, y_train2)"
   ]
  },
  {
   "cell_type": "code",
   "execution_count": 413,
   "id": "b552d1de-4533-4943-9503-4d69d417b84b",
   "metadata": {},
   "outputs": [
    {
     "name": "stdout",
     "output_type": "stream",
     "text": [
      "Best Hyperparameters: {'learning_rate': 0.1, 'max_depth': 10, 'n_estimators': 300}\n"
     ]
    }
   ],
   "source": [
    "print(\"Best Hyperparameters:\", grid_search_tree_smote.best_params_)\n",
    "best_tree_smote = grid_search_tree_smote.best_estimator_"
   ]
  },
  {
   "cell_type": "code",
   "execution_count": 414,
   "id": "98344aab-6f71-4563-a16b-b48e7103aa47",
   "metadata": {},
   "outputs": [
    {
     "name": "stdout",
     "output_type": "stream",
     "text": [
      "Train Accuracy: 1.0\n",
      "Test Accuracy: 0.999530064146244\n"
     ]
    }
   ],
   "source": [
    "predictions_tree_smote_train = best_tree_smote.predict(X_train2)\n",
    "print('Train Accuracy:', accuracy_score(y_train2, predictions_tree_smote_train))\n",
    "\n",
    "predictions_tree_smote_test = best_tree_smote.predict(X_test2)\n",
    "print(\"Test Accuracy:\", accuracy_score(y_test, predictions_tree_test))"
   ]
  },
  {
   "cell_type": "code",
   "execution_count": 415,
   "id": "ece71e27-5f33-4320-aa21-7d8f79bdaef8",
   "metadata": {},
   "outputs": [
    {
     "name": "stdout",
     "output_type": "stream",
     "text": [
      "Gradient Boosting with SMOTE Resampling\n",
      "Train\n",
      "[[198112      0]\n",
      " [     0 198442]]\n",
      "\n",
      "\n",
      "              precision    recall  f1-score   support\n",
      "\n",
      "           0       1.00      1.00      1.00    198112\n",
      "           1       1.00      1.00      1.00    198442\n",
      "\n",
      "    accuracy                           1.00    396554\n",
      "   macro avg       1.00      1.00      1.00    396554\n",
      "weighted avg       1.00      1.00      1.00    396554\n",
      "\n",
      "\n",
      "\n",
      "Test\n",
      "[[85119    22]\n",
      " [    0 84811]]\n",
      "\n",
      "\n",
      "              precision    recall  f1-score   support\n",
      "\n",
      "           0       1.00      1.00      1.00     85141\n",
      "           1       1.00      1.00      1.00     84811\n",
      "\n",
      "    accuracy                           1.00    169952\n",
      "   macro avg       1.00      1.00      1.00    169952\n",
      "weighted avg       1.00      1.00      1.00    169952\n",
      "\n"
     ]
    }
   ],
   "source": [
    "print('Gradient Boosting with SMOTE Resampling')\n",
    "print(confusion_matrix(y_test2, predictions_tree_smote_test))\n",
    "print('\\n')\n",
    "print(classification_report(y_test2, predictions_tree_smote_test))"
   ]
  },
  {
   "cell_type": "markdown",
   "id": "3a81cc12-7524-4b44-beef-a5940fbfd4ae",
   "metadata": {},
   "source": [
    "##### With ADASYN Resampling"
   ]
  },
  {
   "cell_type": "code",
   "execution_count": 416,
   "id": "004e3fa8-56ff-4b10-8c00-528111c054f3",
   "metadata": {},
   "outputs": [
    {
     "name": "stdout",
     "output_type": "stream",
     "text": [
      "Fitting 5 folds for each of 18 candidates, totalling 90 fits\n"
     ]
    },
    {
     "data": {
      "text/html": [
       "<style>#sk-container-id-14 {color: black;background-color: white;}#sk-container-id-14 pre{padding: 0;}#sk-container-id-14 div.sk-toggleable {background-color: white;}#sk-container-id-14 label.sk-toggleable__label {cursor: pointer;display: block;width: 100%;margin-bottom: 0;padding: 0.3em;box-sizing: border-box;text-align: center;}#sk-container-id-14 label.sk-toggleable__label-arrow:before {content: \"▸\";float: left;margin-right: 0.25em;color: #696969;}#sk-container-id-14 label.sk-toggleable__label-arrow:hover:before {color: black;}#sk-container-id-14 div.sk-estimator:hover label.sk-toggleable__label-arrow:before {color: black;}#sk-container-id-14 div.sk-toggleable__content {max-height: 0;max-width: 0;overflow: hidden;text-align: left;background-color: #f0f8ff;}#sk-container-id-14 div.sk-toggleable__content pre {margin: 0.2em;color: black;border-radius: 0.25em;background-color: #f0f8ff;}#sk-container-id-14 input.sk-toggleable__control:checked~div.sk-toggleable__content {max-height: 200px;max-width: 100%;overflow: auto;}#sk-container-id-14 input.sk-toggleable__control:checked~label.sk-toggleable__label-arrow:before {content: \"▾\";}#sk-container-id-14 div.sk-estimator input.sk-toggleable__control:checked~label.sk-toggleable__label {background-color: #d4ebff;}#sk-container-id-14 div.sk-label input.sk-toggleable__control:checked~label.sk-toggleable__label {background-color: #d4ebff;}#sk-container-id-14 input.sk-hidden--visually {border: 0;clip: rect(1px 1px 1px 1px);clip: rect(1px, 1px, 1px, 1px);height: 1px;margin: -1px;overflow: hidden;padding: 0;position: absolute;width: 1px;}#sk-container-id-14 div.sk-estimator {font-family: monospace;background-color: #f0f8ff;border: 1px dotted black;border-radius: 0.25em;box-sizing: border-box;margin-bottom: 0.5em;}#sk-container-id-14 div.sk-estimator:hover {background-color: #d4ebff;}#sk-container-id-14 div.sk-parallel-item::after {content: \"\";width: 100%;border-bottom: 1px solid gray;flex-grow: 1;}#sk-container-id-14 div.sk-label:hover label.sk-toggleable__label {background-color: #d4ebff;}#sk-container-id-14 div.sk-serial::before {content: \"\";position: absolute;border-left: 1px solid gray;box-sizing: border-box;top: 0;bottom: 0;left: 50%;z-index: 0;}#sk-container-id-14 div.sk-serial {display: flex;flex-direction: column;align-items: center;background-color: white;padding-right: 0.2em;padding-left: 0.2em;position: relative;}#sk-container-id-14 div.sk-item {position: relative;z-index: 1;}#sk-container-id-14 div.sk-parallel {display: flex;align-items: stretch;justify-content: center;background-color: white;position: relative;}#sk-container-id-14 div.sk-item::before, #sk-container-id-14 div.sk-parallel-item::before {content: \"\";position: absolute;border-left: 1px solid gray;box-sizing: border-box;top: 0;bottom: 0;left: 50%;z-index: -1;}#sk-container-id-14 div.sk-parallel-item {display: flex;flex-direction: column;z-index: 1;position: relative;background-color: white;}#sk-container-id-14 div.sk-parallel-item:first-child::after {align-self: flex-end;width: 50%;}#sk-container-id-14 div.sk-parallel-item:last-child::after {align-self: flex-start;width: 50%;}#sk-container-id-14 div.sk-parallel-item:only-child::after {width: 0;}#sk-container-id-14 div.sk-dashed-wrapped {border: 1px dashed gray;margin: 0 0.4em 0.5em 0.4em;box-sizing: border-box;padding-bottom: 0.4em;background-color: white;}#sk-container-id-14 div.sk-label label {font-family: monospace;font-weight: bold;display: inline-block;line-height: 1.2em;}#sk-container-id-14 div.sk-label-container {text-align: center;}#sk-container-id-14 div.sk-container {/* jupyter's `normalize.less` sets `[hidden] { display: none; }` but bootstrap.min.css set `[hidden] { display: none !important; }` so we also need the `!important` here to be able to override the default hidden behavior on the sphinx rendered scikit-learn.org. See: https://github.com/scikit-learn/scikit-learn/issues/21755 */display: inline-block !important;position: relative;}#sk-container-id-14 div.sk-text-repr-fallback {display: none;}</style><div id=\"sk-container-id-14\" class=\"sk-top-container\"><div class=\"sk-text-repr-fallback\"><pre>GridSearchCV(cv=5,\n",
       "             estimator=XGBClassifier(base_score=None, booster=None,\n",
       "                                     callbacks=None, colsample_bylevel=None,\n",
       "                                     colsample_bynode=None,\n",
       "                                     colsample_bytree=None, device=None,\n",
       "                                     early_stopping_rounds=None,\n",
       "                                     enable_categorical=False,\n",
       "                                     eval_metric=&#x27;logloss&#x27;, feature_types=None,\n",
       "                                     gamma=None, grow_policy=None,\n",
       "                                     importance_type=None,\n",
       "                                     interaction_constraints=None,\n",
       "                                     learning_rate=...\n",
       "                                     max_cat_to_onehot=None,\n",
       "                                     max_delta_step=None, max_depth=None,\n",
       "                                     max_leaves=None, min_child_weight=None,\n",
       "                                     missing=nan, monotone_constraints=None,\n",
       "                                     multi_strategy=None, n_estimators=None,\n",
       "                                     n_jobs=None, num_parallel_tree=None,\n",
       "                                     random_state=46, ...),\n",
       "             n_jobs=-1,\n",
       "             param_grid={&#x27;learning_rate&#x27;: [0.01, 0.1],\n",
       "                         &#x27;max_depth&#x27;: [10, 15, 20],\n",
       "                         &#x27;n_estimators&#x27;: [100, 200, 300]},\n",
       "             scoring=&#x27;accuracy&#x27;, verbose=1)</pre><b>In a Jupyter environment, please rerun this cell to show the HTML representation or trust the notebook. <br />On GitHub, the HTML representation is unable to render, please try loading this page with nbviewer.org.</b></div><div class=\"sk-container\" hidden><div class=\"sk-item sk-dashed-wrapped\"><div class=\"sk-label-container\"><div class=\"sk-label sk-toggleable\"><input class=\"sk-toggleable__control sk-hidden--visually\" id=\"sk-estimator-id-28\" type=\"checkbox\" ><label for=\"sk-estimator-id-28\" class=\"sk-toggleable__label sk-toggleable__label-arrow\">GridSearchCV</label><div class=\"sk-toggleable__content\"><pre>GridSearchCV(cv=5,\n",
       "             estimator=XGBClassifier(base_score=None, booster=None,\n",
       "                                     callbacks=None, colsample_bylevel=None,\n",
       "                                     colsample_bynode=None,\n",
       "                                     colsample_bytree=None, device=None,\n",
       "                                     early_stopping_rounds=None,\n",
       "                                     enable_categorical=False,\n",
       "                                     eval_metric=&#x27;logloss&#x27;, feature_types=None,\n",
       "                                     gamma=None, grow_policy=None,\n",
       "                                     importance_type=None,\n",
       "                                     interaction_constraints=None,\n",
       "                                     learning_rate=...\n",
       "                                     max_cat_to_onehot=None,\n",
       "                                     max_delta_step=None, max_depth=None,\n",
       "                                     max_leaves=None, min_child_weight=None,\n",
       "                                     missing=nan, monotone_constraints=None,\n",
       "                                     multi_strategy=None, n_estimators=None,\n",
       "                                     n_jobs=None, num_parallel_tree=None,\n",
       "                                     random_state=46, ...),\n",
       "             n_jobs=-1,\n",
       "             param_grid={&#x27;learning_rate&#x27;: [0.01, 0.1],\n",
       "                         &#x27;max_depth&#x27;: [10, 15, 20],\n",
       "                         &#x27;n_estimators&#x27;: [100, 200, 300]},\n",
       "             scoring=&#x27;accuracy&#x27;, verbose=1)</pre></div></div></div><div class=\"sk-parallel\"><div class=\"sk-parallel-item\"><div class=\"sk-item\"><div class=\"sk-label-container\"><div class=\"sk-label sk-toggleable\"><input class=\"sk-toggleable__control sk-hidden--visually\" id=\"sk-estimator-id-29\" type=\"checkbox\" ><label for=\"sk-estimator-id-29\" class=\"sk-toggleable__label sk-toggleable__label-arrow\">estimator: XGBClassifier</label><div class=\"sk-toggleable__content\"><pre>XGBClassifier(base_score=None, booster=None, callbacks=None,\n",
       "              colsample_bylevel=None, colsample_bynode=None,\n",
       "              colsample_bytree=None, device=None, early_stopping_rounds=None,\n",
       "              enable_categorical=False, eval_metric=&#x27;logloss&#x27;,\n",
       "              feature_types=None, gamma=None, grow_policy=None,\n",
       "              importance_type=None, interaction_constraints=None,\n",
       "              learning_rate=None, max_bin=None, max_cat_threshold=None,\n",
       "              max_cat_to_onehot=None, max_delta_step=None, max_depth=None,\n",
       "              max_leaves=None, min_child_weight=None, missing=nan,\n",
       "              monotone_constraints=None, multi_strategy=None, n_estimators=None,\n",
       "              n_jobs=None, num_parallel_tree=None, random_state=46, ...)</pre></div></div></div><div class=\"sk-serial\"><div class=\"sk-item\"><div class=\"sk-estimator sk-toggleable\"><input class=\"sk-toggleable__control sk-hidden--visually\" id=\"sk-estimator-id-30\" type=\"checkbox\" ><label for=\"sk-estimator-id-30\" class=\"sk-toggleable__label sk-toggleable__label-arrow\">XGBClassifier</label><div class=\"sk-toggleable__content\"><pre>XGBClassifier(base_score=None, booster=None, callbacks=None,\n",
       "              colsample_bylevel=None, colsample_bynode=None,\n",
       "              colsample_bytree=None, device=None, early_stopping_rounds=None,\n",
       "              enable_categorical=False, eval_metric=&#x27;logloss&#x27;,\n",
       "              feature_types=None, gamma=None, grow_policy=None,\n",
       "              importance_type=None, interaction_constraints=None,\n",
       "              learning_rate=None, max_bin=None, max_cat_threshold=None,\n",
       "              max_cat_to_onehot=None, max_delta_step=None, max_depth=None,\n",
       "              max_leaves=None, min_child_weight=None, missing=nan,\n",
       "              monotone_constraints=None, multi_strategy=None, n_estimators=None,\n",
       "              n_jobs=None, num_parallel_tree=None, random_state=46, ...)</pre></div></div></div></div></div></div></div></div></div></div>"
      ],
      "text/plain": [
       "GridSearchCV(cv=5,\n",
       "             estimator=XGBClassifier(base_score=None, booster=None,\n",
       "                                     callbacks=None, colsample_bylevel=None,\n",
       "                                     colsample_bynode=None,\n",
       "                                     colsample_bytree=None, device=None,\n",
       "                                     early_stopping_rounds=None,\n",
       "                                     enable_categorical=False,\n",
       "                                     eval_metric='logloss', feature_types=None,\n",
       "                                     gamma=None, grow_policy=None,\n",
       "                                     importance_type=None,\n",
       "                                     interaction_constraints=None,\n",
       "                                     learning_rate=...\n",
       "                                     max_cat_to_onehot=None,\n",
       "                                     max_delta_step=None, max_depth=None,\n",
       "                                     max_leaves=None, min_child_weight=None,\n",
       "                                     missing=nan, monotone_constraints=None,\n",
       "                                     multi_strategy=None, n_estimators=None,\n",
       "                                     n_jobs=None, num_parallel_tree=None,\n",
       "                                     random_state=46, ...),\n",
       "             n_jobs=-1,\n",
       "             param_grid={'learning_rate': [0.01, 0.1],\n",
       "                         'max_depth': [10, 15, 20],\n",
       "                         'n_estimators': [100, 200, 300]},\n",
       "             scoring='accuracy', verbose=1)"
      ]
     },
     "execution_count": 416,
     "metadata": {},
     "output_type": "execute_result"
    }
   ],
   "source": [
    "tree_asa = XGBClassifier(eval_metric='logloss', random_state=46)\n",
    "\n",
    "grid_search_tree_asa = GridSearchCV(\n",
    "    estimator=tree_asa,\n",
    "    param_grid=param_grid,\n",
    "    cv=5,  # 5-fold cross-validation\n",
    "    scoring='accuracy',  # Metric to optimize\n",
    "    n_jobs=-1,  # Use all processors\n",
    "    verbose=1\n",
    ")\n",
    "\n",
    "grid_search_tree_asa.fit(X_train3, y_train3)"
   ]
  },
  {
   "cell_type": "code",
   "execution_count": 417,
   "id": "7a69ce84-74ca-4d11-abb9-44b8e815a1a1",
   "metadata": {},
   "outputs": [
    {
     "name": "stdout",
     "output_type": "stream",
     "text": [
      "Best Hyperparameters: {'learning_rate': 0.1, 'max_depth': 10, 'n_estimators': 300}\n"
     ]
    }
   ],
   "source": [
    "print(\"Best Hyperparameters:\", grid_search_tree_asa.best_params_)\n",
    "best_tree_asa = grid_search_tree_asa.best_estimator_"
   ]
  },
  {
   "cell_type": "code",
   "execution_count": 418,
   "id": "97178956-5497-49aa-ac42-8999066b09c8",
   "metadata": {},
   "outputs": [
    {
     "name": "stdout",
     "output_type": "stream",
     "text": [
      "Train Accuracy: 1.0\n",
      "Test Accuracy: 0.9998411446995281\n"
     ]
    }
   ],
   "source": [
    "predictions_tree_asa_train = best_tree_asa.predict(X_train3)\n",
    "print('Train Accuracy:', accuracy_score(y_train3, predictions_tree_asa_train))\n",
    "\n",
    "predictions_tree_asa_test = best_tree_asa.predict(X_test3)\n",
    "print(\"Test Accuracy:\", accuracy_score(y_test3, predictions_tree_asa_test))"
   ]
  },
  {
   "cell_type": "code",
   "execution_count": 462,
   "id": "6c60d757-6ab8-4371-ae01-e9904715f6ac",
   "metadata": {},
   "outputs": [
    {
     "name": "stdout",
     "output_type": "stream",
     "text": [
      "Gradient Boosting with ADASYN Resampling\n",
      "Train\n",
      "[[197950      0]\n",
      " [     0 198636]]\n",
      "\n",
      "\n",
      "              precision    recall  f1-score   support\n",
      "\n",
      "           0       1.00      1.00      1.00    197950\n",
      "           1       1.00      1.00      1.00    198636\n",
      "\n",
      "    accuracy                           1.00    396586\n",
      "   macro avg       1.00      1.00      1.00    396586\n",
      "weighted avg       1.00      1.00      1.00    396586\n",
      "\n",
      "\n",
      "\n",
      "Test\n",
      "[[85276    27]\n",
      " [    0 84663]]\n",
      "\n",
      "\n",
      "              precision    recall  f1-score   support\n",
      "\n",
      "           0       1.00      1.00      1.00     85303\n",
      "           1       1.00      1.00      1.00     84663\n",
      "\n",
      "    accuracy                           1.00    169966\n",
      "   macro avg       1.00      1.00      1.00    169966\n",
      "weighted avg       1.00      1.00      1.00    169966\n",
      "\n"
     ]
    }
   ],
   "source": [
    "print('Gradient Boosting with ADASYN Resampling')\n",
    "print(confusion_matrix(y_test3, predictions_tree_asa_test))\n",
    "print('\\n')\n",
    "print(classification_report(y_test3, predictions_tree_asa_test))"
   ]
  },
  {
   "cell_type": "markdown",
   "id": "15afca01-4f05-4874-af59-0a460334d674",
   "metadata": {},
   "source": [
    "<br/><br/><br/><br/>\n",
    "### Neural Networks"
   ]
  },
  {
   "cell_type": "code",
   "execution_count": 32,
   "id": "cce5e49b-7322-4281-93f4-df26cfc038b5",
   "metadata": {},
   "outputs": [],
   "source": [
    "import tensorflow as tf\n",
    "from tensorflow.keras.models import Sequential\n",
    "from tensorflow.keras.layers import Dense,Activation,Dropout\n",
    "from tensorflow.keras.optimizers import Adam\n",
    "from tensorflow.keras.callbacks import EarlyStopping"
   ]
  },
  {
   "cell_type": "markdown",
   "id": "571f5788-161c-4cb9-89a0-37b4804b0158",
   "metadata": {},
   "source": [
    "##### Neural Network without Resampling"
   ]
  },
  {
   "cell_type": "code",
   "execution_count": 34,
   "id": "d459f0fd-b9fa-4ebe-9341-f3e3a34af2c6",
   "metadata": {},
   "outputs": [],
   "source": [
    "model = Sequential()\n",
    "model.add(Dense(units=30,activation='relu'))\n",
    "model.add(Dropout(0.2))\n",
    "\n",
    "model.add(Dense(units=15,activation='relu'))\n",
    "model.add(Dropout(0.2))\n",
    "\n",
    "model.add(Dense(units=1,activation='sigmoid'))\n",
    "model.compile(loss='binary_crossentropy', optimizer='adam')"
   ]
  },
  {
   "cell_type": "code",
   "execution_count": 36,
   "id": "b984b7ca-de0b-4a27-8955-9df60584b389",
   "metadata": {},
   "outputs": [],
   "source": [
    "early_stop = EarlyStopping(monitor='val_loss', mode='min', verbose=1, patience=25)"
   ]
  },
  {
   "cell_type": "code",
   "execution_count": 38,
   "id": "06bb2e61-1705-43a3-b6bf-8ce5ec90a2bd",
   "metadata": {},
   "outputs": [
    {
     "name": "stdout",
     "output_type": "stream",
     "text": [
      "Epoch 1/600\n",
      "\u001b[1m6207/6207\u001b[0m \u001b[32m━━━━━━━━━━━━━━━━━━━━\u001b[0m\u001b[37m\u001b[0m \u001b[1m4s\u001b[0m 608us/step - loss: 28.6502 - val_loss: 0.0317\n",
      "Epoch 2/600\n",
      "\u001b[1m6207/6207\u001b[0m \u001b[32m━━━━━━━━━━━━━━━━━━━━\u001b[0m\u001b[37m\u001b[0m \u001b[1m4s\u001b[0m 569us/step - loss: 0.0656 - val_loss: 0.0126\n",
      "Epoch 3/600\n",
      "\u001b[1m6207/6207\u001b[0m \u001b[32m━━━━━━━━━━━━━━━━━━━━\u001b[0m\u001b[37m\u001b[0m \u001b[1m4s\u001b[0m 578us/step - loss: 0.0378 - val_loss: 0.0121\n",
      "Epoch 4/600\n",
      "\u001b[1m6207/6207\u001b[0m \u001b[32m━━━━━━━━━━━━━━━━━━━━\u001b[0m\u001b[37m\u001b[0m \u001b[1m4s\u001b[0m 581us/step - loss: 0.0166 - val_loss: 0.0122\n",
      "Epoch 5/600\n",
      "\u001b[1m6207/6207\u001b[0m \u001b[32m━━━━━━━━━━━━━━━━━━━━\u001b[0m\u001b[37m\u001b[0m \u001b[1m4s\u001b[0m 567us/step - loss: 0.0219 - val_loss: 0.0128\n",
      "Epoch 6/600\n",
      "\u001b[1m6207/6207\u001b[0m \u001b[32m━━━━━━━━━━━━━━━━━━━━\u001b[0m\u001b[37m\u001b[0m \u001b[1m4s\u001b[0m 579us/step - loss: 0.0763 - val_loss: 0.0129\n",
      "Epoch 7/600\n",
      "\u001b[1m6207/6207\u001b[0m \u001b[32m━━━━━━━━━━━━━━━━━━━━\u001b[0m\u001b[37m\u001b[0m \u001b[1m4s\u001b[0m 587us/step - loss: 0.0415 - val_loss: 0.0132\n",
      "Epoch 8/600\n",
      "\u001b[1m6207/6207\u001b[0m \u001b[32m━━━━━━━━━━━━━━━━━━━━\u001b[0m\u001b[37m\u001b[0m \u001b[1m4s\u001b[0m 572us/step - loss: 0.0213 - val_loss: 0.0137\n",
      "Epoch 9/600\n",
      "\u001b[1m6207/6207\u001b[0m \u001b[32m━━━━━━━━━━━━━━━━━━━━\u001b[0m\u001b[37m\u001b[0m \u001b[1m4s\u001b[0m 561us/step - loss: 0.0168 - val_loss: 0.0141\n",
      "Epoch 10/600\n",
      "\u001b[1m6207/6207\u001b[0m \u001b[32m━━━━━━━━━━━━━━━━━━━━\u001b[0m\u001b[37m\u001b[0m \u001b[1m4s\u001b[0m 571us/step - loss: 0.0157 - val_loss: 0.0147\n",
      "Epoch 11/600\n",
      "\u001b[1m6207/6207\u001b[0m \u001b[32m━━━━━━━━━━━━━━━━━━━━\u001b[0m\u001b[37m\u001b[0m \u001b[1m4s\u001b[0m 578us/step - loss: 0.0373 - val_loss: 0.0160\n",
      "Epoch 12/600\n",
      "\u001b[1m6207/6207\u001b[0m \u001b[32m━━━━━━━━━━━━━━━━━━━━\u001b[0m\u001b[37m\u001b[0m \u001b[1m4s\u001b[0m 563us/step - loss: 0.0257 - val_loss: 0.0191\n",
      "Epoch 13/600\n",
      "\u001b[1m6207/6207\u001b[0m \u001b[32m━━━━━━━━━━━━━━━━━━━━\u001b[0m\u001b[37m\u001b[0m \u001b[1m4s\u001b[0m 569us/step - loss: 0.0546 - val_loss: 0.0181\n",
      "Epoch 14/600\n",
      "\u001b[1m6207/6207\u001b[0m \u001b[32m━━━━━━━━━━━━━━━━━━━━\u001b[0m\u001b[37m\u001b[0m \u001b[1m4s\u001b[0m 572us/step - loss: 0.0336 - val_loss: 0.0171\n",
      "Epoch 15/600\n",
      "\u001b[1m6207/6207\u001b[0m \u001b[32m━━━━━━━━━━━━━━━━━━━━\u001b[0m\u001b[37m\u001b[0m \u001b[1m4s\u001b[0m 576us/step - loss: 0.0398 - val_loss: 0.0186\n",
      "Epoch 16/600\n",
      "\u001b[1m6207/6207\u001b[0m \u001b[32m━━━━━━━━━━━━━━━━━━━━\u001b[0m\u001b[37m\u001b[0m \u001b[1m5s\u001b[0m 574us/step - loss: 0.1241 - val_loss: 0.0196\n",
      "Epoch 17/600\n",
      "\u001b[1m6207/6207\u001b[0m \u001b[32m━━━━━━━━━━━━━━━━━━━━\u001b[0m\u001b[37m\u001b[0m \u001b[1m4s\u001b[0m 598us/step - loss: 0.0240 - val_loss: 0.0189\n",
      "Epoch 18/600\n",
      "\u001b[1m6207/6207\u001b[0m \u001b[32m━━━━━━━━━━━━━━━━━━━━\u001b[0m\u001b[37m\u001b[0m \u001b[1m4s\u001b[0m 599us/step - loss: 0.0518 - val_loss: 0.0169\n",
      "Epoch 19/600\n",
      "\u001b[1m6207/6207\u001b[0m \u001b[32m━━━━━━━━━━━━━━━━━━━━\u001b[0m\u001b[37m\u001b[0m \u001b[1m4s\u001b[0m 583us/step - loss: 0.0245 - val_loss: 0.0174\n",
      "Epoch 20/600\n",
      "\u001b[1m6207/6207\u001b[0m \u001b[32m━━━━━━━━━━━━━━━━━━━━\u001b[0m\u001b[37m\u001b[0m \u001b[1m4s\u001b[0m 582us/step - loss: 0.0433 - val_loss: 0.0176\n",
      "Epoch 21/600\n",
      "\u001b[1m6207/6207\u001b[0m \u001b[32m━━━━━━━━━━━━━━━━━━━━\u001b[0m\u001b[37m\u001b[0m \u001b[1m4s\u001b[0m 577us/step - loss: 0.0346 - val_loss: 0.0171\n",
      "Epoch 22/600\n",
      "\u001b[1m6207/6207\u001b[0m \u001b[32m━━━━━━━━━━━━━━━━━━━━\u001b[0m\u001b[37m\u001b[0m \u001b[1m4s\u001b[0m 589us/step - loss: 0.0535 - val_loss: 0.0188\n",
      "Epoch 23/600\n",
      "\u001b[1m6207/6207\u001b[0m \u001b[32m━━━━━━━━━━━━━━━━━━━━\u001b[0m\u001b[37m\u001b[0m \u001b[1m4s\u001b[0m 578us/step - loss: 0.0372 - val_loss: 0.0149\n",
      "Epoch 24/600\n",
      "\u001b[1m6207/6207\u001b[0m \u001b[32m━━━━━━━━━━━━━━━━━━━━\u001b[0m\u001b[37m\u001b[0m \u001b[1m4s\u001b[0m 630us/step - loss: 0.0410 - val_loss: 0.0140\n",
      "Epoch 25/600\n",
      "\u001b[1m6207/6207\u001b[0m \u001b[32m━━━━━━━━━━━━━━━━━━━━\u001b[0m\u001b[37m\u001b[0m \u001b[1m4s\u001b[0m 576us/step - loss: 0.0122 - val_loss: 0.0140\n",
      "Epoch 26/600\n",
      "\u001b[1m6207/6207\u001b[0m \u001b[32m━━━━━━━━━━━━━━━━━━━━\u001b[0m\u001b[37m\u001b[0m \u001b[1m4s\u001b[0m 589us/step - loss: 0.0186 - val_loss: 0.0135\n",
      "Epoch 27/600\n",
      "\u001b[1m6207/6207\u001b[0m \u001b[32m━━━━━━━━━━━━━━━━━━━━\u001b[0m\u001b[37m\u001b[0m \u001b[1m4s\u001b[0m 584us/step - loss: 0.0140 - val_loss: 0.0152\n",
      "Epoch 28/600\n",
      "\u001b[1m6207/6207\u001b[0m \u001b[32m━━━━━━━━━━━━━━━━━━━━\u001b[0m\u001b[37m\u001b[0m \u001b[1m4s\u001b[0m 600us/step - loss: 0.1965 - val_loss: 0.0151\n",
      "Epoch 28: early stopping\n"
     ]
    },
    {
     "data": {
      "text/plain": [
       "<keras.src.callbacks.history.History at 0x354db8b10>"
      ]
     },
     "execution_count": 38,
     "metadata": {},
     "output_type": "execute_result"
    }
   ],
   "source": [
    "model.fit(x=X_train, \n",
    "          y=y_train, \n",
    "          epochs=600,\n",
    "          validation_data=(X_test, y_test), verbose=1,\n",
    "          callbacks=[early_stop]\n",
    "          )"
   ]
  },
  {
   "cell_type": "code",
   "execution_count": 52,
   "id": "9dd810ce-829b-489c-bbbe-93f01e1f4e8f",
   "metadata": {},
   "outputs": [
    {
     "data": {
      "image/png": "[encoded data removed]",
      "text/plain": [
       "<Figure size 640x480 with 1 Axes>"
      ]
     },
     "metadata": {},
     "output_type": "display_data"
    }
   ],
   "source": [
    "model_loss = pd.DataFrame(model.history.history)\n",
    "model_loss.plot(ylim = [0,0.5], color = [colour1, colour2]);"
   ]
  },
  {
   "cell_type": "code",
   "execution_count": 54,
   "id": "25978316-1db6-453a-890c-ecbbe91fad85",
   "metadata": {},
   "outputs": [
    {
     "name": "stdout",
     "output_type": "stream",
     "text": [
      "\u001b[1m6207/6207\u001b[0m \u001b[32m━━━━━━━━━━━━━━━━━━━━\u001b[0m\u001b[37m\u001b[0m \u001b[1m2s\u001b[0m 329us/step\n",
      "\u001b[1m2660/2660\u001b[0m \u001b[32m━━━━━━━━━━━━━━━━━━━━\u001b[0m\u001b[37m\u001b[0m \u001b[1m1s\u001b[0m 321us/step\n"
     ]
    }
   ],
   "source": [
    "predictions_nn_train = (model.predict(X_train) > 0.5).astype('int32')\n",
    "predictions_nn_test = (model.predict(X_test) > 0.5).astype('int32')"
   ]
  },
  {
   "cell_type": "code",
   "execution_count": 56,
   "id": "1d5635ae-55d8-4f04-9d9a-2bf5f229382a",
   "metadata": {},
   "outputs": [
    {
     "data": {
      "text/plain": [
       "array([[0],\n",
       "       [0],\n",
       "       [0],\n",
       "       ...,\n",
       "       [0],\n",
       "       [0],\n",
       "       [0]], dtype=int32)"
      ]
     },
     "execution_count": 56,
     "metadata": {},
     "output_type": "execute_result"
    }
   ],
   "source": [
    "predictions_nn_test"
   ]
  },
  {
   "cell_type": "code",
   "execution_count": 58,
   "id": "d2eb926d-8080-4cd5-aa3b-c609e772e4a4",
   "metadata": {},
   "outputs": [
    {
     "name": "stdout",
     "output_type": "stream",
     "text": [
      "Neural Network without Resampling\n",
      "Train\n",
      "[[198271      0]\n",
      " [   337      0]]\n",
      "\n",
      "\n"
     ]
    },
    {
     "name": "stderr",
     "output_type": "stream",
     "text": [
      "/opt/anaconda3/lib/python3.11/site-packages/sklearn/metrics/_classification.py:1344: UndefinedMetricWarning: Precision and F-score are ill-defined and being set to 0.0 in labels with no predicted samples. Use `zero_division` parameter to control this behavior.\n",
      "  _warn_prf(average, modifier, msg_start, len(result))\n",
      "/opt/anaconda3/lib/python3.11/site-packages/sklearn/metrics/_classification.py:1344: UndefinedMetricWarning: Precision and F-score are ill-defined and being set to 0.0 in labels with no predicted samples. Use `zero_division` parameter to control this behavior.\n",
      "  _warn_prf(average, modifier, msg_start, len(result))\n",
      "/opt/anaconda3/lib/python3.11/site-packages/sklearn/metrics/_classification.py:1344: UndefinedMetricWarning: Precision and F-score are ill-defined and being set to 0.0 in labels with no predicted samples. Use `zero_division` parameter to control this behavior.\n",
      "  _warn_prf(average, modifier, msg_start, len(result))\n",
      "/opt/anaconda3/lib/python3.11/site-packages/sklearn/metrics/_classification.py:1344: UndefinedMetricWarning: Precision and F-score are ill-defined and being set to 0.0 in labels with no predicted samples. Use `zero_division` parameter to control this behavior.\n",
      "  _warn_prf(average, modifier, msg_start, len(result))\n",
      "/opt/anaconda3/lib/python3.11/site-packages/sklearn/metrics/_classification.py:1344: UndefinedMetricWarning: Precision and F-score are ill-defined and being set to 0.0 in labels with no predicted samples. Use `zero_division` parameter to control this behavior.\n",
      "  _warn_prf(average, modifier, msg_start, len(result))\n"
     ]
    },
    {
     "name": "stdout",
     "output_type": "stream",
     "text": [
      "              precision    recall  f1-score   support\n",
      "\n",
      "           0       1.00      1.00      1.00    198271\n",
      "           1       0.00      0.00      0.00       337\n",
      "\n",
      "    accuracy                           1.00    198608\n",
      "   macro avg       0.50      0.50      0.50    198608\n",
      "weighted avg       1.00      1.00      1.00    198608\n",
      "\n",
      "\n",
      "\n",
      "Test\n",
      "[[84982     0]\n",
      " [  136     0]]\n",
      "\n",
      "\n",
      "              precision    recall  f1-score   support\n",
      "\n",
      "           0       1.00      1.00      1.00     84982\n",
      "           1       0.00      0.00      0.00       136\n",
      "\n",
      "    accuracy                           1.00     85118\n",
      "   macro avg       0.50      0.50      0.50     85118\n",
      "weighted avg       1.00      1.00      1.00     85118\n",
      "\n"
     ]
    },
    {
     "name": "stderr",
     "output_type": "stream",
     "text": [
      "/opt/anaconda3/lib/python3.11/site-packages/sklearn/metrics/_classification.py:1344: UndefinedMetricWarning: Precision and F-score are ill-defined and being set to 0.0 in labels with no predicted samples. Use `zero_division` parameter to control this behavior.\n",
      "  _warn_prf(average, modifier, msg_start, len(result))\n"
     ]
    }
   ],
   "source": [
    "print('Neural Network without Resampling')\n",
    "print(confusion_matrix(y_test, predictions_nn_test))\n",
    "print('\\n')\n",
    "print(classification_report(y_test, predictions_nn_test))"
   ]
  },
  {
   "cell_type": "markdown",
   "id": "9059c100-3b37-49ac-98ec-e81638a29c39",
   "metadata": {},
   "source": [
    "#### Neural Network with SMOTE Resampling"
   ]
  },
  {
   "cell_type": "code",
   "execution_count": 66,
   "id": "177116ce-ad09-4008-9c15-27159f22b54e",
   "metadata": {},
   "outputs": [],
   "source": [
    "model_smote = Sequential()\n",
    "model_smote.add(Dense(units=30,activation='relu'))\n",
    "model_smote.add(Dropout(0.2))\n",
    "\n",
    "model_smote.add(Dense(units=15,activation='relu'))\n",
    "model_smote.add(Dropout(0.2))\n",
    "\n",
    "model_smote.add(Dense(units=1,activation='sigmoid'))\n",
    "model_smote.compile(loss='binary_crossentropy', optimizer='adam')"
   ]
  },
  {
   "cell_type": "code",
   "execution_count": 68,
   "id": "96386347-448b-47c4-b257-7de35c401274",
   "metadata": {},
   "outputs": [
    {
     "name": "stdout",
     "output_type": "stream",
     "text": [
      "Epoch 1/600\n",
      "\u001b[1m12393/12393\u001b[0m \u001b[32m━━━━━━━━━━━━━━━━━━━━\u001b[0m\u001b[37m\u001b[0m \u001b[1m8s\u001b[0m 579us/step - loss: 77.7124 - val_loss: 0.6931\n",
      "Epoch 2/600\n",
      "\u001b[1m12393/12393\u001b[0m \u001b[32m━━━━━━━━━━━━━━━━━━━━\u001b[0m\u001b[37m\u001b[0m \u001b[1m7s\u001b[0m 562us/step - loss: 0.6998 - val_loss: 0.6931\n",
      "Epoch 3/600\n",
      "\u001b[1m12393/12393\u001b[0m \u001b[32m━━━━━━━━━━━━━━━━━━━━\u001b[0m\u001b[37m\u001b[0m \u001b[1m7s\u001b[0m 562us/step - loss: 0.6940 - val_loss: 0.6934\n",
      "Epoch 4/600\n",
      "\u001b[1m12393/12393\u001b[0m \u001b[32m━━━━━━━━━━━━━━━━━━━━\u001b[0m\u001b[37m\u001b[0m \u001b[1m7s\u001b[0m 569us/step - loss: 0.6935 - val_loss: 0.6931\n",
      "Epoch 5/600\n",
      "\u001b[1m12393/12393\u001b[0m \u001b[32m━━━━━━━━━━━━━━━━━━━━\u001b[0m\u001b[37m\u001b[0m \u001b[1m7s\u001b[0m 554us/step - loss: 0.6936 - val_loss: 0.6930\n",
      "Epoch 6/600\n",
      "\u001b[1m12393/12393\u001b[0m \u001b[32m━━━━━━━━━━━━━━━━━━━━\u001b[0m\u001b[37m\u001b[0m \u001b[1m7s\u001b[0m 557us/step - loss: 0.6936 - val_loss: 0.6931\n",
      "Epoch 7/600\n",
      "\u001b[1m12393/12393\u001b[0m \u001b[32m━━━━━━━━━━━━━━━━━━━━\u001b[0m\u001b[37m\u001b[0m \u001b[1m7s\u001b[0m 560us/step - loss: 0.6944 - val_loss: 0.6930\n",
      "Epoch 8/600\n",
      "\u001b[1m12393/12393\u001b[0m \u001b[32m━━━━━━━━━━━━━━━━━━━━\u001b[0m\u001b[37m\u001b[0m \u001b[1m7s\u001b[0m 561us/step - loss: 0.6942 - val_loss: 0.6930\n",
      "Epoch 9/600\n",
      "\u001b[1m12393/12393\u001b[0m \u001b[32m━━━━━━━━━━━━━━━━━━━━\u001b[0m\u001b[37m\u001b[0m \u001b[1m7s\u001b[0m 560us/step - loss: 0.6942 - val_loss: 0.6930\n",
      "Epoch 10/600\n",
      "\u001b[1m12393/12393\u001b[0m \u001b[32m━━━━━━━━━━━━━━━━━━━━\u001b[0m\u001b[37m\u001b[0m \u001b[1m7s\u001b[0m 577us/step - loss: 0.6934 - val_loss: 0.6929\n",
      "Epoch 11/600\n",
      "\u001b[1m12393/12393\u001b[0m \u001b[32m━━━━━━━━━━━━━━━━━━━━\u001b[0m\u001b[37m\u001b[0m \u001b[1m7s\u001b[0m 569us/step - loss: 0.6976 - val_loss: 0.6929\n",
      "Epoch 12/600\n",
      "\u001b[1m12393/12393\u001b[0m \u001b[32m━━━━━━━━━━━━━━━━━━━━\u001b[0m\u001b[37m\u001b[0m \u001b[1m7s\u001b[0m 564us/step - loss: 0.6939 - val_loss: 0.6929\n",
      "Epoch 13/600\n",
      "\u001b[1m12393/12393\u001b[0m \u001b[32m━━━━━━━━━━━━━━━━━━━━\u001b[0m\u001b[37m\u001b[0m \u001b[1m7s\u001b[0m 590us/step - loss: 0.6939 - val_loss: 0.6927\n",
      "Epoch 14/600\n",
      "\u001b[1m12393/12393\u001b[0m \u001b[32m━━━━━━━━━━━━━━━━━━━━\u001b[0m\u001b[37m\u001b[0m \u001b[1m7s\u001b[0m 567us/step - loss: 0.6941 - val_loss: 0.6925\n",
      "Epoch 15/600\n",
      "\u001b[1m12393/12393\u001b[0m \u001b[32m━━━━━━━━━━━━━━━━━━━━\u001b[0m\u001b[37m\u001b[0m \u001b[1m7s\u001b[0m 570us/step - loss: 0.6932 - val_loss: 0.6925\n",
      "Epoch 16/600\n",
      "\u001b[1m12393/12393\u001b[0m \u001b[32m━━━━━━━━━━━━━━━━━━━━\u001b[0m\u001b[37m\u001b[0m \u001b[1m7s\u001b[0m 587us/step - loss: 0.6935 - val_loss: 0.6923\n",
      "Epoch 17/600\n",
      "\u001b[1m12393/12393\u001b[0m \u001b[32m━━━━━━━━━━━━━━━━━━━━\u001b[0m\u001b[37m\u001b[0m \u001b[1m7s\u001b[0m 566us/step - loss: 0.6935 - val_loss: 0.6921\n",
      "Epoch 18/600\n",
      "\u001b[1m12393/12393\u001b[0m \u001b[32m━━━━━━━━━━━━━━━━━━━━\u001b[0m\u001b[37m\u001b[0m \u001b[1m7s\u001b[0m 566us/step - loss: 0.6932 - val_loss: 0.6922\n",
      "Epoch 19/600\n",
      "\u001b[1m12393/12393\u001b[0m \u001b[32m━━━━━━━━━━━━━━━━━━━━\u001b[0m\u001b[37m\u001b[0m \u001b[1m7s\u001b[0m 566us/step - loss: 0.6952 - val_loss: 0.6921\n",
      "Epoch 20/600\n",
      "\u001b[1m12393/12393\u001b[0m \u001b[32m━━━━━━━━━━━━━━━━━━━━\u001b[0m\u001b[37m\u001b[0m \u001b[1m7s\u001b[0m 570us/step - loss: 0.6934 - val_loss: 0.6925\n",
      "Epoch 21/600\n",
      "\u001b[1m12393/12393\u001b[0m \u001b[32m━━━━━━━━━━━━━━━━━━━━\u001b[0m\u001b[37m\u001b[0m \u001b[1m7s\u001b[0m 569us/step - loss: 0.6933 - val_loss: 0.6923\n",
      "Epoch 22/600\n",
      "\u001b[1m12393/12393\u001b[0m \u001b[32m━━━━━━━━━━━━━━━━━━━━\u001b[0m\u001b[37m\u001b[0m \u001b[1m7s\u001b[0m 572us/step - loss: 0.6929 - val_loss: 0.6920\n",
      "Epoch 23/600\n",
      "\u001b[1m12393/12393\u001b[0m \u001b[32m━━━━━━━━━━━━━━━━━━━━\u001b[0m\u001b[37m\u001b[0m \u001b[1m7s\u001b[0m 562us/step - loss: 0.6936 - val_loss: 0.6917\n",
      "Epoch 24/600\n",
      "\u001b[1m12393/12393\u001b[0m \u001b[32m━━━━━━━━━━━━━━━━━━━━\u001b[0m\u001b[37m\u001b[0m \u001b[1m7s\u001b[0m 576us/step - loss: 0.6934 - val_loss: 0.6912\n",
      "Epoch 25/600\n",
      "\u001b[1m12393/12393\u001b[0m \u001b[32m━━━━━━━━━━━━━━━━━━━━\u001b[0m\u001b[37m\u001b[0m \u001b[1m7s\u001b[0m 565us/step - loss: 0.6953 - val_loss: 0.6916\n",
      "Epoch 25: early stopping\n"
     ]
    },
    {
     "data": {
      "text/plain": [
       "<keras.src.callbacks.history.History at 0x364867dd0>"
      ]
     },
     "execution_count": 68,
     "metadata": {},
     "output_type": "execute_result"
    }
   ],
   "source": [
    "model_smote.fit(x=X_train2, \n",
    "                y=y_train2, \n",
    "                epochs=600,\n",
    "                validation_data=(X_test2, y_test2), verbose=1,\n",
    "                callbacks=[early_stop]\n",
    "               )"
   ]
  },
  {
   "cell_type": "code",
   "execution_count": 70,
   "id": "af154371-7d01-49ff-8071-6734e5933542",
   "metadata": {},
   "outputs": [
    {
     "data": {
      "image/png": "[encoded data removed]",
      "text/plain": [
       "<Figure size 640x480 with 1 Axes>"
      ]
     },
     "metadata": {},
     "output_type": "display_data"
    }
   ],
   "source": [
    "model_loss_smote = pd.DataFrame(model_smote.history.history)\n",
    "model_loss_smote.plot(color = [colour1, colour2]);"
   ]
  },
  {
   "cell_type": "code",
   "execution_count": 72,
   "id": "b8b3c52d-8d19-43e2-9fe0-f7916fd50a19",
   "metadata": {},
   "outputs": [
    {
     "name": "stdout",
     "output_type": "stream",
     "text": [
      "\u001b[1m12393/12393\u001b[0m \u001b[32m━━━━━━━━━━━━━━━━━━━━\u001b[0m\u001b[37m\u001b[0m \u001b[1m4s\u001b[0m 315us/step\n",
      "\u001b[1m5311/5311\u001b[0m \u001b[32m━━━━━━━━━━━━━━━━━━━━\u001b[0m\u001b[37m\u001b[0m \u001b[1m2s\u001b[0m 316us/step\n"
     ]
    }
   ],
   "source": [
    "predictions_nn_smote_train = (model_smote.predict(X_train2) > 0.5).astype('int32')\n",
    "predictions_nn_smote_test = (model_smote.predict(X_test2) > 0.5).astype('int32')"
   ]
  },
  {
   "cell_type": "code",
   "execution_count": 74,
   "id": "c05d867e-fe9e-4fb9-a410-c63082911e77",
   "metadata": {},
   "outputs": [
    {
     "name": "stdout",
     "output_type": "stream",
     "text": [
      "Neural Network with SMOTE Resampling\n",
      "Train\n",
      "[[  1014 197098]\n",
      " [     0 198442]]\n",
      "\n",
      "\n",
      "              precision    recall  f1-score   support\n",
      "\n",
      "           0       1.00      0.01      0.01    198112\n",
      "           1       0.50      1.00      0.67    198442\n",
      "\n",
      "    accuracy                           0.50    396554\n",
      "   macro avg       0.75      0.50      0.34    396554\n",
      "weighted avg       0.75      0.50      0.34    396554\n",
      "\n",
      "\n",
      "\n",
      "Test\n",
      "[[  417 84724]\n",
      " [    0 84811]]\n",
      "\n",
      "\n",
      "              precision    recall  f1-score   support\n",
      "\n",
      "           0       1.00      0.00      0.01     85141\n",
      "           1       0.50      1.00      0.67     84811\n",
      "\n",
      "    accuracy                           0.50    169952\n",
      "   macro avg       0.75      0.50      0.34    169952\n",
      "weighted avg       0.75      0.50      0.34    169952\n",
      "\n"
     ]
    }
   ],
   "source": [
    "print('Neural Network with SMOTE Resampling')\n",
    "print(confusion_matrix(y_test2, predictions_nn_smote_test))\n",
    "print('\\n')\n",
    "print(classification_report(y_test2, predictions_nn_smote_test))"
   ]
  },
  {
   "cell_type": "markdown",
   "id": "69f97032-00f4-4ff8-ba8f-143a8b3d9de2",
   "metadata": {},
   "source": [
    "##### Neural Network with ADASYN Resampling"
   ]
  },
  {
   "cell_type": "code",
   "execution_count": 76,
   "id": "8f374adb-2d8f-43cf-a125-0534b35191e8",
   "metadata": {},
   "outputs": [],
   "source": [
    "model_asa = Sequential()\n",
    "model_asa.add(Dense(units=30,activation='relu'))\n",
    "model_asa.add(Dropout(0.2))\n",
    "\n",
    "model_asa.add(Dense(units=15,activation='relu'))\n",
    "model_asa.add(Dropout(0.2))\n",
    "\n",
    "model_asa.add(Dense(units=1,activation='sigmoid'))\n",
    "model_asa.compile(loss='binary_crossentropy', optimizer='adam')"
   ]
  },
  {
   "cell_type": "code",
   "execution_count": 78,
   "id": "8b0cd698-ea93-4c84-8a2d-380440e8c3ba",
   "metadata": {},
   "outputs": [
    {
     "name": "stdout",
     "output_type": "stream",
     "text": [
      "Epoch 1/600\n",
      "\u001b[1m12394/12394\u001b[0m \u001b[32m━━━━━━━━━━━━━━━━━━━━\u001b[0m\u001b[37m\u001b[0m \u001b[1m8s\u001b[0m 564us/step - loss: 443.3140 - val_loss: 0.6933\n",
      "Epoch 2/600\n",
      "\u001b[1m12394/12394\u001b[0m \u001b[32m━━━━━━━━━━━━━━━━━━━━\u001b[0m\u001b[37m\u001b[0m \u001b[1m7s\u001b[0m 555us/step - loss: 0.7043 - val_loss: 0.6931\n",
      "Epoch 3/600\n",
      "\u001b[1m12394/12394\u001b[0m \u001b[32m━━━━━━━━━━━━━━━━━━━━\u001b[0m\u001b[37m\u001b[0m \u001b[1m7s\u001b[0m 571us/step - loss: 0.6962 - val_loss: 0.6932\n",
      "Epoch 4/600\n",
      "\u001b[1m12394/12394\u001b[0m \u001b[32m━━━━━━━━━━━━━━━━━━━━\u001b[0m\u001b[37m\u001b[0m \u001b[1m7s\u001b[0m 560us/step - loss: 0.6975 - val_loss: 0.6931\n",
      "Epoch 5/600\n",
      "\u001b[1m12394/12394\u001b[0m \u001b[32m━━━━━━━━━━━━━━━━━━━━\u001b[0m\u001b[37m\u001b[0m \u001b[1m7s\u001b[0m 561us/step - loss: 0.6935 - val_loss: 0.6931\n",
      "Epoch 6/600\n",
      "\u001b[1m12394/12394\u001b[0m \u001b[32m━━━━━━━━━━━━━━━━━━━━\u001b[0m\u001b[37m\u001b[0m \u001b[1m7s\u001b[0m 574us/step - loss: 0.6939 - val_loss: 0.6930\n",
      "Epoch 7/600\n",
      "\u001b[1m12394/12394\u001b[0m \u001b[32m━━━━━━━━━━━━━━━━━━━━\u001b[0m\u001b[37m\u001b[0m \u001b[1m7s\u001b[0m 558us/step - loss: 0.6983 - val_loss: 0.6930\n",
      "Epoch 8/600\n",
      "\u001b[1m12394/12394\u001b[0m \u001b[32m━━━━━━━━━━━━━━━━━━━━\u001b[0m\u001b[37m\u001b[0m \u001b[1m7s\u001b[0m 590us/step - loss: 0.6942 - val_loss: 0.6930\n",
      "Epoch 9/600\n",
      "\u001b[1m12394/12394\u001b[0m \u001b[32m━━━━━━━━━━━━━━━━━━━━\u001b[0m\u001b[37m\u001b[0m \u001b[1m7s\u001b[0m 560us/step - loss: 0.6936 - val_loss: 0.6930\n",
      "Epoch 10/600\n",
      "\u001b[1m12394/12394\u001b[0m \u001b[32m━━━━━━━━━━━━━━━━━━━━\u001b[0m\u001b[37m\u001b[0m \u001b[1m8s\u001b[0m 608us/step - loss: 0.6959 - val_loss: 0.6930\n",
      "Epoch 11/600\n",
      "\u001b[1m12394/12394\u001b[0m \u001b[32m━━━━━━━━━━━━━━━━━━━━\u001b[0m\u001b[37m\u001b[0m \u001b[1m7s\u001b[0m 562us/step - loss: 0.6947 - val_loss: 0.6928\n",
      "Epoch 12/600\n",
      "\u001b[1m12394/12394\u001b[0m \u001b[32m━━━━━━━━━━━━━━━━━━━━\u001b[0m\u001b[37m\u001b[0m \u001b[1m7s\u001b[0m 570us/step - loss: 0.6943 - val_loss: 0.6927\n",
      "Epoch 13/600\n",
      "\u001b[1m12394/12394\u001b[0m \u001b[32m━━━━━━━━━━━━━━━━━━━━\u001b[0m\u001b[37m\u001b[0m \u001b[1m11s\u001b[0m 896us/step - loss: 0.6932 - val_loss: 0.6927\n",
      "Epoch 14/600\n",
      "\u001b[1m12394/12394\u001b[0m \u001b[32m━━━━━━━━━━━━━━━━━━━━\u001b[0m\u001b[37m\u001b[0m \u001b[1m8s\u001b[0m 613us/step - loss: 0.6945 - val_loss: 0.6926\n",
      "Epoch 15/600\n",
      "\u001b[1m12394/12394\u001b[0m \u001b[32m━━━━━━━━━━━━━━━━━━━━\u001b[0m\u001b[37m\u001b[0m \u001b[1m7s\u001b[0m 587us/step - loss: 0.6927 - val_loss: 0.6925\n",
      "Epoch 16/600\n",
      "\u001b[1m12394/12394\u001b[0m \u001b[32m━━━━━━━━━━━━━━━━━━━━\u001b[0m\u001b[37m\u001b[0m \u001b[1m9s\u001b[0m 713us/step - loss: 0.6946 - val_loss: 0.6924\n",
      "Epoch 17/600\n",
      "\u001b[1m12394/12394\u001b[0m \u001b[32m━━━━━━━━━━━━━━━━━━━━\u001b[0m\u001b[37m\u001b[0m \u001b[1m7s\u001b[0m 594us/step - loss: 0.6930 - val_loss: 0.6921\n",
      "Epoch 18/600\n",
      "\u001b[1m12394/12394\u001b[0m \u001b[32m━━━━━━━━━━━━━━━━━━━━\u001b[0m\u001b[37m\u001b[0m \u001b[1m8s\u001b[0m 608us/step - loss: 0.6932 - val_loss: 0.6921\n",
      "Epoch 19/600\n",
      "\u001b[1m12394/12394\u001b[0m \u001b[32m━━━━━━━━━━━━━━━━━━━━\u001b[0m\u001b[37m\u001b[0m \u001b[1m8s\u001b[0m 614us/step - loss: 0.6934 - val_loss: 0.6923\n",
      "Epoch 20/600\n",
      "\u001b[1m12394/12394\u001b[0m \u001b[32m━━━━━━━━━━━━━━━━━━━━\u001b[0m\u001b[37m\u001b[0m \u001b[1m8s\u001b[0m 616us/step - loss: 0.6931 - val_loss: 0.6922\n",
      "Epoch 21/600\n",
      "\u001b[1m12394/12394\u001b[0m \u001b[32m━━━━━━━━━━━━━━━━━━━━\u001b[0m\u001b[37m\u001b[0m \u001b[1m8s\u001b[0m 607us/step - loss: 0.6935 - val_loss: 0.6915\n",
      "Epoch 22/600\n",
      "\u001b[1m12394/12394\u001b[0m \u001b[32m━━━━━━━━━━━━━━━━━━━━\u001b[0m\u001b[37m\u001b[0m \u001b[1m8s\u001b[0m 624us/step - loss: 0.6940 - val_loss: 0.6920\n",
      "Epoch 23/600\n",
      "\u001b[1m12394/12394\u001b[0m \u001b[32m━━━━━━━━━━━━━━━━━━━━\u001b[0m\u001b[37m\u001b[0m \u001b[1m7s\u001b[0m 602us/step - loss: 0.6933 - val_loss: 0.6920\n",
      "Epoch 24/600\n",
      "\u001b[1m12394/12394\u001b[0m \u001b[32m━━━━━━━━━━━━━━━━━━━━\u001b[0m\u001b[37m\u001b[0m \u001b[1m8s\u001b[0m 658us/step - loss: 0.6922 - val_loss: 0.3400\n",
      "Epoch 25/600\n",
      "\u001b[1m12394/12394\u001b[0m \u001b[32m━━━━━━━━━━━━━━━━━━━━\u001b[0m\u001b[37m\u001b[0m \u001b[1m8s\u001b[0m 611us/step - loss: 0.4569 - val_loss: 0.2013\n",
      "Epoch 25: early stopping\n"
     ]
    },
    {
     "data": {
      "text/plain": [
       "<keras.src.callbacks.history.History at 0x361c90550>"
      ]
     },
     "execution_count": 78,
     "metadata": {},
     "output_type": "execute_result"
    }
   ],
   "source": [
    "model_asa.fit(x=X_train3,\n",
    "              y=y_train3,\n",
    "              epochs=600,\n",
    "              validation_data=(X_test3, y_test3), verbose=1,\n",
    "              callbacks=[early_stop]\n",
    "             )"
   ]
  },
  {
   "cell_type": "code",
   "execution_count": 82,
   "id": "49a977e0-f9c6-45d3-82fd-81e69919dad2",
   "metadata": {},
   "outputs": [
    {
     "data": {
      "image/png": "[encoded data removed]",
      "text/plain": [
       "<Figure size 640x480 with 1 Axes>"
      ]
     },
     "metadata": {},
     "output_type": "display_data"
    }
   ],
   "source": [
    "model_loss_asa = pd.DataFrame(model_asa.history.history)\n",
    "model_loss_asa.plot(ylim=[0,1],color = [colour1, colour2]);"
   ]
  },
  {
   "cell_type": "code",
   "execution_count": 84,
   "id": "ca2912ce-c49c-49d1-8617-57b12b96dcc5",
   "metadata": {},
   "outputs": [
    {
     "name": "stdout",
     "output_type": "stream",
     "text": [
      "\u001b[1m12394/12394\u001b[0m \u001b[32m━━━━━━━━━━━━━━━━━━━━\u001b[0m\u001b[37m\u001b[0m \u001b[1m4s\u001b[0m 316us/step\n",
      "\u001b[1m5312/5312\u001b[0m \u001b[32m━━━━━━━━━━━━━━━━━━━━\u001b[0m\u001b[37m\u001b[0m \u001b[1m2s\u001b[0m 351us/step\n"
     ]
    }
   ],
   "source": [
    "predictions_nn_asa_train = (model_asa.predict(X_train3) > 0.5).astype('int32')\n",
    "predictions_nn_asa_test = (model_asa.predict(X_test3) > 0.5).astype('int32')"
   ]
  },
  {
   "cell_type": "code",
   "execution_count": 85,
   "id": "74acbb03-c8b3-4c51-8d18-60257233f72f",
   "metadata": {},
   "outputs": [
    {
     "name": "stdout",
     "output_type": "stream",
     "text": [
      "Neural Network with ADASYN Resampling\n",
      "Train\n",
      "[[184983  12967]\n",
      " [  4044 194592]]\n",
      "\n",
      "\n",
      "              precision    recall  f1-score   support\n",
      "\n",
      "           0       0.98      0.93      0.96    197950\n",
      "           1       0.94      0.98      0.96    198636\n",
      "\n",
      "    accuracy                           0.96    396586\n",
      "   macro avg       0.96      0.96      0.96    396586\n",
      "weighted avg       0.96      0.96      0.96    396586\n",
      "\n",
      "\n",
      "\n",
      "Test\n",
      "[[79687  5616]\n",
      " [ 1732 82931]]\n",
      "\n",
      "\n",
      "              precision    recall  f1-score   support\n",
      "\n",
      "           0       0.98      0.93      0.96     85303\n",
      "           1       0.94      0.98      0.96     84663\n",
      "\n",
      "    accuracy                           0.96    169966\n",
      "   macro avg       0.96      0.96      0.96    169966\n",
      "weighted avg       0.96      0.96      0.96    169966\n",
      "\n"
     ]
    }
   ],
   "source": [
    "print('Neural Network with ADASYN Resampling')\n",
    "print(confusion_matrix(y_test3, predictions_nn_asa_test))\n",
    "print('\\n')\n",
    "print(classification_report(y_test3, predictions_nn_asa_test))"
   ]
  },
  {
   "cell_type": "code",
   "execution_count": 88,
   "id": "907747da-3f63-4cfd-b74b-ec72c181d5be",
   "metadata": {},
   "outputs": [],
   "source": [
    "model_asa.save('nn_ada.keras')"
   ]
  }
 ],
 "metadata": {
  "kernelspec": {
   "display_name": "Python 3 (ipykernel)",
   "language": "python",
   "name": "python3"
  },
  "language_info": {
   "codemirror_mode": {
    "name": "ipython",
    "version": 3
   },
   "file_extension": ".py",
   "mimetype": "text/x-python",
   "name": "python",
   "nbconvert_exporter": "python",
   "pygments_lexer": "ipython3",
   "version": "3.11.7"
  }
 },
 "nbformat": 4,
 "nbformat_minor": 5
}
